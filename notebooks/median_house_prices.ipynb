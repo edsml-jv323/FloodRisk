{
 "cells": [
  {
   "cell_type": "code",
   "execution_count": 263,
   "id": "initial_id",
   "metadata": {
    "collapsed": true,
    "ExecuteTime": {
     "end_time": "2023-11-22T19:04:59.787873Z",
     "start_time": "2023-11-22T19:04:59.477414Z"
    }
   },
   "outputs": [
    {
     "name": "stdout",
     "output_type": "stream",
     "text": [
      "The autoreload extension is already loaded. To reload it, use:\n",
      "  %reload_ext autoreload\n"
     ]
    }
   ],
   "source": [
    "from sklearn.linear_model import LinearRegression\n",
    "\n",
    "from flood_tool.tool import Tool\n",
    "from flood_tool.models import median_price_predictor\n",
    "from flood_tool.data_processor import DataProcessor\n",
    "%load_ext autoreload\n",
    "%autoreload 2\n"
   ]
  },
  {
   "cell_type": "code",
   "execution_count": 264,
   "outputs": [],
   "source": [
    "tool = Tool()"
   ],
   "metadata": {
    "collapsed": false,
    "ExecuteTime": {
     "end_time": "2023-11-22T19:04:59.787951Z",
     "start_time": "2023-11-22T19:04:59.504186Z"
    }
   },
   "id": "cda6a6b29deb164a"
  },
  {
   "cell_type": "code",
   "execution_count": 265,
   "outputs": [],
   "source": [
    "import pandas as pd\n",
    "\n",
    "df = pd.read_csv(tool.labelled_unit_data)"
   ],
   "metadata": {
    "collapsed": false,
    "ExecuteTime": {
     "end_time": "2023-11-22T19:04:59.787979Z",
     "start_time": "2023-11-22T19:04:59.555140Z"
    }
   },
   "id": "2bdf32af16b6beaf"
  },
  {
   "cell_type": "code",
   "execution_count": 266,
   "outputs": [],
   "source": [
    "data_processor = DataProcessor(resource_path='../flood_tool/resources/', postcodes_path='../flood_tool/resources/postcodes_labelled.csv')"
   ],
   "metadata": {
    "collapsed": false,
    "ExecuteTime": {
     "end_time": "2023-11-22T19:04:59.837052Z",
     "start_time": "2023-11-22T19:04:59.588050Z"
    }
   },
   "id": "ac8d289157211f10"
  },
  {
   "cell_type": "code",
   "execution_count": 267,
   "outputs": [],
   "source": [
    "df = data_processor.human_data()"
   ],
   "metadata": {
    "collapsed": false,
    "ExecuteTime": {
     "end_time": "2023-11-22T19:05:00.166216Z",
     "start_time": "2023-11-22T19:04:59.828178Z"
    }
   },
   "id": "b803b521d571e2f4"
  },
  {
   "cell_type": "code",
   "execution_count": 283,
   "outputs": [
    {
     "data": {
      "text/plain": "       postcode          soilType  elevation       localAuthority  riskLabel  \\\n56     WV13 2LR  Unsurveyed/Urban      130.0              Walsall        1.0   \n57     WV13 2EH  Unsurveyed/Urban      130.0              Walsall        1.0   \n58     WV13 2HP  Unsurveyed/Urban      130.0              Walsall        1.0   \n59     WV13 2HW  Unsurveyed/Urban      130.0              Walsall        1.0   \n60     WV13 2LW  Unsurveyed/Urban      130.0              Walsall        1.0   \n...         ...               ...        ...                  ...        ...   \n29914  WV10 7EE        Stagnosols      120.0  South Staffordshire        1.0   \n29915  WV10 7WE        Stagnosols      130.0  South Staffordshire        1.0   \n29916  WV10 7BN         Cambisols      100.0  South Staffordshire        1.0   \n29917  WV10 7AW        Stagnosols      120.0  South Staffordshire        1.0   \n29919  WV10 8QZ          Luvisols      150.0  South Staffordshire        1.0   \n\n       medianPrice historicallyFlooded   latitude  longitude  \\\n56         84200.0               False  52.580546  -2.051506   \n57        184100.0               False  52.584989  -2.046582   \n58        171000.0               False  52.584190  -2.045297   \n59        128100.0               False  52.584082  -2.044278   \n60        171100.0               False  52.580467  -2.048318   \n...            ...                 ...        ...        ...   \n29914     301300.0               False  52.644651  -2.107536   \n29915     250200.0               False  52.645418  -2.092596   \n29916     286200.0               False  52.669410  -2.132293   \n29917     221600.0               False  52.642925  -2.096832   \n29919     164600.0               False  52.621004  -2.090934   \n\n       nearest_latitude  ...  minOnRecord typicalRangeHigh typicalRangeLow  \\\n56            52.558696  ...        0.144             2.16           0.203   \n57            52.558696  ...        0.144             2.16           0.203   \n58            52.558696  ...        0.144             2.16           0.203   \n59            52.558696  ...        0.144             2.16           0.203   \n60            52.558696  ...        0.144             2.16           0.203   \n...                 ...  ...          ...              ...             ...   \n29914         52.671341  ...        0.113             0.91           0.186   \n29915         52.671341  ...        0.113             0.91           0.186   \n29916         52.662979  ...        0.166             1.33           0.229   \n29917         52.671341  ...        0.113             0.91           0.186   \n29919         52.671341  ...        0.113             0.91           0.186   \n\n       postcodeDistrict  catsPerHousehold  dogsPerHousehold  postcodeSector  \\\n56                 WV13          0.152259          0.174614          WV13 2   \n57                 WV13          0.152259          0.174614          WV13 2   \n58                 WV13          0.152259          0.174614          WV13 2   \n59                 WV13          0.152259          0.174614          WV13 2   \n60                 WV13          0.152259          0.174614          WV13 2   \n...                 ...               ...               ...             ...   \n29914              WV10          0.164938          0.189154          WV10 7   \n29915              WV10          0.164938          0.189154          WV10 7   \n29916              WV10          0.164938          0.189154          WV10 7   \n29917              WV10          0.164938          0.189154          WV10 7   \n29919              WV10          0.164938          0.189154          WV10 8   \n\n       households  numberOfPostcodeUnits headcount  \n56         2987.0                  221.0    7031.0  \n57         2987.0                  221.0    7031.0  \n58         2987.0                  221.0    7031.0  \n59         2987.0                  221.0    7031.0  \n60         2987.0                  221.0    7031.0  \n...           ...                    ...       ...  \n29914      2651.0                  250.0    9375.0  \n29915      2651.0                  250.0    9375.0  \n29916      2651.0                  250.0    9375.0  \n29917      2651.0                  250.0    9375.0  \n29919      4910.0                  266.0   11947.0  \n\n[3447 rows x 26 columns]",
      "text/html": "<div>\n<style scoped>\n    .dataframe tbody tr th:only-of-type {\n        vertical-align: middle;\n    }\n\n    .dataframe tbody tr th {\n        vertical-align: top;\n    }\n\n    .dataframe thead th {\n        text-align: right;\n    }\n</style>\n<table border=\"1\" class=\"dataframe\">\n  <thead>\n    <tr style=\"text-align: right;\">\n      <th></th>\n      <th>postcode</th>\n      <th>soilType</th>\n      <th>elevation</th>\n      <th>localAuthority</th>\n      <th>riskLabel</th>\n      <th>medianPrice</th>\n      <th>historicallyFlooded</th>\n      <th>latitude</th>\n      <th>longitude</th>\n      <th>nearest_latitude</th>\n      <th>...</th>\n      <th>minOnRecord</th>\n      <th>typicalRangeHigh</th>\n      <th>typicalRangeLow</th>\n      <th>postcodeDistrict</th>\n      <th>catsPerHousehold</th>\n      <th>dogsPerHousehold</th>\n      <th>postcodeSector</th>\n      <th>households</th>\n      <th>numberOfPostcodeUnits</th>\n      <th>headcount</th>\n    </tr>\n  </thead>\n  <tbody>\n    <tr>\n      <th>56</th>\n      <td>WV13 2LR</td>\n      <td>Unsurveyed/Urban</td>\n      <td>130.0</td>\n      <td>Walsall</td>\n      <td>1.0</td>\n      <td>84200.0</td>\n      <td>False</td>\n      <td>52.580546</td>\n      <td>-2.051506</td>\n      <td>52.558696</td>\n      <td>...</td>\n      <td>0.144</td>\n      <td>2.16</td>\n      <td>0.203</td>\n      <td>WV13</td>\n      <td>0.152259</td>\n      <td>0.174614</td>\n      <td>WV13 2</td>\n      <td>2987.0</td>\n      <td>221.0</td>\n      <td>7031.0</td>\n    </tr>\n    <tr>\n      <th>57</th>\n      <td>WV13 2EH</td>\n      <td>Unsurveyed/Urban</td>\n      <td>130.0</td>\n      <td>Walsall</td>\n      <td>1.0</td>\n      <td>184100.0</td>\n      <td>False</td>\n      <td>52.584989</td>\n      <td>-2.046582</td>\n      <td>52.558696</td>\n      <td>...</td>\n      <td>0.144</td>\n      <td>2.16</td>\n      <td>0.203</td>\n      <td>WV13</td>\n      <td>0.152259</td>\n      <td>0.174614</td>\n      <td>WV13 2</td>\n      <td>2987.0</td>\n      <td>221.0</td>\n      <td>7031.0</td>\n    </tr>\n    <tr>\n      <th>58</th>\n      <td>WV13 2HP</td>\n      <td>Unsurveyed/Urban</td>\n      <td>130.0</td>\n      <td>Walsall</td>\n      <td>1.0</td>\n      <td>171000.0</td>\n      <td>False</td>\n      <td>52.584190</td>\n      <td>-2.045297</td>\n      <td>52.558696</td>\n      <td>...</td>\n      <td>0.144</td>\n      <td>2.16</td>\n      <td>0.203</td>\n      <td>WV13</td>\n      <td>0.152259</td>\n      <td>0.174614</td>\n      <td>WV13 2</td>\n      <td>2987.0</td>\n      <td>221.0</td>\n      <td>7031.0</td>\n    </tr>\n    <tr>\n      <th>59</th>\n      <td>WV13 2HW</td>\n      <td>Unsurveyed/Urban</td>\n      <td>130.0</td>\n      <td>Walsall</td>\n      <td>1.0</td>\n      <td>128100.0</td>\n      <td>False</td>\n      <td>52.584082</td>\n      <td>-2.044278</td>\n      <td>52.558696</td>\n      <td>...</td>\n      <td>0.144</td>\n      <td>2.16</td>\n      <td>0.203</td>\n      <td>WV13</td>\n      <td>0.152259</td>\n      <td>0.174614</td>\n      <td>WV13 2</td>\n      <td>2987.0</td>\n      <td>221.0</td>\n      <td>7031.0</td>\n    </tr>\n    <tr>\n      <th>60</th>\n      <td>WV13 2LW</td>\n      <td>Unsurveyed/Urban</td>\n      <td>130.0</td>\n      <td>Walsall</td>\n      <td>1.0</td>\n      <td>171100.0</td>\n      <td>False</td>\n      <td>52.580467</td>\n      <td>-2.048318</td>\n      <td>52.558696</td>\n      <td>...</td>\n      <td>0.144</td>\n      <td>2.16</td>\n      <td>0.203</td>\n      <td>WV13</td>\n      <td>0.152259</td>\n      <td>0.174614</td>\n      <td>WV13 2</td>\n      <td>2987.0</td>\n      <td>221.0</td>\n      <td>7031.0</td>\n    </tr>\n    <tr>\n      <th>...</th>\n      <td>...</td>\n      <td>...</td>\n      <td>...</td>\n      <td>...</td>\n      <td>...</td>\n      <td>...</td>\n      <td>...</td>\n      <td>...</td>\n      <td>...</td>\n      <td>...</td>\n      <td>...</td>\n      <td>...</td>\n      <td>...</td>\n      <td>...</td>\n      <td>...</td>\n      <td>...</td>\n      <td>...</td>\n      <td>...</td>\n      <td>...</td>\n      <td>...</td>\n      <td>...</td>\n    </tr>\n    <tr>\n      <th>29914</th>\n      <td>WV10 7EE</td>\n      <td>Stagnosols</td>\n      <td>120.0</td>\n      <td>South Staffordshire</td>\n      <td>1.0</td>\n      <td>301300.0</td>\n      <td>False</td>\n      <td>52.644651</td>\n      <td>-2.107536</td>\n      <td>52.671341</td>\n      <td>...</td>\n      <td>0.113</td>\n      <td>0.91</td>\n      <td>0.186</td>\n      <td>WV10</td>\n      <td>0.164938</td>\n      <td>0.189154</td>\n      <td>WV10 7</td>\n      <td>2651.0</td>\n      <td>250.0</td>\n      <td>9375.0</td>\n    </tr>\n    <tr>\n      <th>29915</th>\n      <td>WV10 7WE</td>\n      <td>Stagnosols</td>\n      <td>130.0</td>\n      <td>South Staffordshire</td>\n      <td>1.0</td>\n      <td>250200.0</td>\n      <td>False</td>\n      <td>52.645418</td>\n      <td>-2.092596</td>\n      <td>52.671341</td>\n      <td>...</td>\n      <td>0.113</td>\n      <td>0.91</td>\n      <td>0.186</td>\n      <td>WV10</td>\n      <td>0.164938</td>\n      <td>0.189154</td>\n      <td>WV10 7</td>\n      <td>2651.0</td>\n      <td>250.0</td>\n      <td>9375.0</td>\n    </tr>\n    <tr>\n      <th>29916</th>\n      <td>WV10 7BN</td>\n      <td>Cambisols</td>\n      <td>100.0</td>\n      <td>South Staffordshire</td>\n      <td>1.0</td>\n      <td>286200.0</td>\n      <td>False</td>\n      <td>52.669410</td>\n      <td>-2.132293</td>\n      <td>52.662979</td>\n      <td>...</td>\n      <td>0.166</td>\n      <td>1.33</td>\n      <td>0.229</td>\n      <td>WV10</td>\n      <td>0.164938</td>\n      <td>0.189154</td>\n      <td>WV10 7</td>\n      <td>2651.0</td>\n      <td>250.0</td>\n      <td>9375.0</td>\n    </tr>\n    <tr>\n      <th>29917</th>\n      <td>WV10 7AW</td>\n      <td>Stagnosols</td>\n      <td>120.0</td>\n      <td>South Staffordshire</td>\n      <td>1.0</td>\n      <td>221600.0</td>\n      <td>False</td>\n      <td>52.642925</td>\n      <td>-2.096832</td>\n      <td>52.671341</td>\n      <td>...</td>\n      <td>0.113</td>\n      <td>0.91</td>\n      <td>0.186</td>\n      <td>WV10</td>\n      <td>0.164938</td>\n      <td>0.189154</td>\n      <td>WV10 7</td>\n      <td>2651.0</td>\n      <td>250.0</td>\n      <td>9375.0</td>\n    </tr>\n    <tr>\n      <th>29919</th>\n      <td>WV10 8QZ</td>\n      <td>Luvisols</td>\n      <td>150.0</td>\n      <td>South Staffordshire</td>\n      <td>1.0</td>\n      <td>164600.0</td>\n      <td>False</td>\n      <td>52.621004</td>\n      <td>-2.090934</td>\n      <td>52.671341</td>\n      <td>...</td>\n      <td>0.113</td>\n      <td>0.91</td>\n      <td>0.186</td>\n      <td>WV10</td>\n      <td>0.164938</td>\n      <td>0.189154</td>\n      <td>WV10 8</td>\n      <td>4910.0</td>\n      <td>266.0</td>\n      <td>11947.0</td>\n    </tr>\n  </tbody>\n</table>\n<p>3447 rows × 26 columns</p>\n</div>"
     },
     "execution_count": 283,
     "metadata": {},
     "output_type": "execute_result"
    }
   ],
   "source": [
    "df"
   ],
   "metadata": {
    "collapsed": false,
    "ExecuteTime": {
     "end_time": "2023-11-22T19:05:43.345751Z",
     "start_time": "2023-11-22T19:05:43.319095Z"
    }
   },
   "id": "75e431ecd69dff9f"
  },
  {
   "cell_type": "code",
   "execution_count": 268,
   "outputs": [],
   "source": [
    "# tool.predict_median_house_price(df.postcode, method='linear_regression')"
   ],
   "metadata": {
    "collapsed": false,
    "ExecuteTime": {
     "end_time": "2023-11-22T19:05:00.178597Z",
     "start_time": "2023-11-22T19:05:00.166284Z"
    }
   },
   "id": "b12b7b0aa6f3ebe3"
  },
  {
   "cell_type": "code",
   "execution_count": 269,
   "outputs": [
    {
     "data": {
      "text/plain": "<Axes: >"
     },
     "execution_count": 269,
     "metadata": {},
     "output_type": "execute_result"
    },
    {
     "data": {
      "text/plain": "<Figure size 640x480 with 1 Axes>",
      "image/png": "[encoded data removed]"
     },
     "metadata": {},
     "output_type": "display_data"
    }
   ],
   "source": [
    "df.medianPrice.hist(bins=100)"
   ],
   "metadata": {
    "collapsed": false,
    "ExecuteTime": {
     "end_time": "2023-11-22T19:05:00.308254Z",
     "start_time": "2023-11-22T19:05:00.178869Z"
    }
   },
   "id": "9b6582a6b8bc03bd"
  },
  {
   "cell_type": "code",
   "execution_count": 270,
   "outputs": [
    {
     "data": {
      "text/plain": "<Axes: >"
     },
     "execution_count": 270,
     "metadata": {},
     "output_type": "execute_result"
    },
    {
     "data": {
      "text/plain": "<Figure size 640x480 with 1 Axes>",
      "image/png": "[encoded data removed]"
     },
     "metadata": {},
     "output_type": "display_data"
    }
   ],
   "source": [
    "import numpy as np\n",
    "\n",
    "np.log(df.medianPrice).hist(bins=100)"
   ],
   "metadata": {
    "collapsed": false,
    "ExecuteTime": {
     "end_time": "2023-11-22T19:05:00.554200Z",
     "start_time": "2023-11-22T19:05:00.304456Z"
    }
   },
   "id": "218ef7e2295f1fbb"
  },
  {
   "cell_type": "code",
   "execution_count": 271,
   "outputs": [],
   "source": [
    "df.dropna(inplace=True)"
   ],
   "metadata": {
    "collapsed": false,
    "ExecuteTime": {
     "end_time": "2023-11-22T19:05:00.655555Z",
     "start_time": "2023-11-22T19:05:00.545637Z"
    }
   },
   "id": "24167abe29f0591b"
  },
  {
   "cell_type": "code",
   "execution_count": 272,
   "outputs": [],
   "source": [
    "from utils.utils import binning\n",
    "from flood_tool.models.constant import RDS\n",
    "from sklearn.model_selection import train_test_split\n",
    "y = np.log(df.medianPrice) \n",
    "X = df.drop(columns=['medianPrice'])\n",
    "\n",
    "X_train, X_test, y_train, y_test = train_test_split(X, y, test_size=0.2, random_state=RDS, stratify=binning(y))"
   ],
   "metadata": {
    "collapsed": false,
    "ExecuteTime": {
     "end_time": "2023-11-22T19:05:00.655888Z",
     "start_time": "2023-11-22T19:05:00.602779Z"
    }
   },
   "id": "a29e4f3242326992"
  },
  {
   "cell_type": "code",
   "execution_count": 272,
   "outputs": [],
   "source": [],
   "metadata": {
    "collapsed": false,
    "ExecuteTime": {
     "end_time": "2023-11-22T19:05:00.656019Z",
     "start_time": "2023-11-22T19:05:00.629522Z"
    }
   },
   "id": "5bba38fccd9eb4f"
  },
  {
   "cell_type": "code",
   "execution_count": 273,
   "outputs": [
    {
     "data": {
      "text/plain": "Index(['postcode', 'soilType', 'elevation', 'localAuthority', 'riskLabel',\n       'historicallyFlooded', 'latitude', 'longitude', 'nearest_latitude',\n       'nearest_longitude', 'stationReference', 'stationName', 'latitude',\n       'longitude', 'maxOnRecord', 'minOnRecord', 'typicalRangeHigh',\n       'typicalRangeLow', 'postcodeDistrict', 'catsPerHousehold',\n       'dogsPerHousehold', 'postcodeSector', 'households',\n       'numberOfPostcodeUnits', 'headcount'],\n      dtype='object')"
     },
     "execution_count": 273,
     "metadata": {},
     "output_type": "execute_result"
    }
   ],
   "source": [
    "X_train.columns"
   ],
   "metadata": {
    "collapsed": false,
    "ExecuteTime": {
     "end_time": "2023-11-22T19:05:00.684857Z",
     "start_time": "2023-11-22T19:05:00.634673Z"
    }
   },
   "id": "f8965289dbbcb9f0"
  },
  {
   "cell_type": "code",
   "execution_count": 274,
   "outputs": [],
   "source": [
    "from sklearn.compose import ColumnTransformer\n",
    "from sklearn.preprocessing import StandardScaler, OneHotEncoder\n",
    "from sklearn.impute import SimpleImputer\n",
    "from sklearn.pipeline import Pipeline\n",
    "\n",
    "# num_cols = ['elevation', 'nearest_latitude', 'nearest_longitude', 'dogsPerHousehold']\n",
    "num_cols = ['elevation']\n",
    "# num_cols = ['nearest_latitude', 'nearest_longitude']\n",
    "cat_cols = ['soilType']\n",
    "\n",
    "num_pipe = Pipeline(\n",
    "    steps=[\n",
    "        ('imputer', SimpleImputer(strategy='median')),\n",
    "        ('scaler', StandardScaler())\n",
    "    ]\n",
    ")\n",
    "\n",
    "cat_pipe = Pipeline(\n",
    "    steps=[\n",
    "        ('imputer', SimpleImputer(strategy='most_frequent')),\n",
    "        ('ohe', OneHotEncoder(handle_unknown='ignore', sparse_output=False))\n",
    "    ]\n",
    ")\n",
    "\n",
    "preprocessor = ColumnTransformer(\n",
    "    transformers=[\n",
    "        ('num', num_pipe, num_cols),\n",
    "        ('cat', cat_pipe, cat_cols),\n",
    "    ]\n",
    ")\n"
   ],
   "metadata": {
    "collapsed": false,
    "ExecuteTime": {
     "end_time": "2023-11-22T19:05:00.704684Z",
     "start_time": "2023-11-22T19:05:00.664554Z"
    }
   },
   "id": "d452f3e02ebbc603"
  },
  {
   "cell_type": "code",
   "execution_count": 275,
   "outputs": [],
   "source": [
    "\n",
    "\n",
    "from sklearn.neighbors import KNeighborsRegressor\n",
    "model = KNeighborsRegressor(n_neighbors=5, n_jobs=-1)\n",
    "\n",
    "model_pipe = Pipeline(\n",
    "    steps=[\n",
    "        ('preprocessor', preprocessor),\n",
    "        ('model', model),\n",
    "    ]\n",
    ")"
   ],
   "metadata": {
    "collapsed": false,
    "ExecuteTime": {
     "end_time": "2023-11-22T19:05:00.729709Z",
     "start_time": "2023-11-22T19:05:00.691049Z"
    }
   },
   "id": "27c887e412eccbdd"
  },
  {
   "cell_type": "code",
   "execution_count": 276,
   "outputs": [
    {
     "data": {
      "text/plain": "{'memory': None,\n 'steps': [('preprocessor',\n   ColumnTransformer(transformers=[('num',\n                                    Pipeline(steps=[('imputer',\n                                                     SimpleImputer(strategy='median')),\n                                                    ('scaler', StandardScaler())]),\n                                    ['elevation']),\n                                   ('cat',\n                                    Pipeline(steps=[('imputer',\n                                                     SimpleImputer(strategy='most_frequent')),\n                                                    ('ohe',\n                                                     OneHotEncoder(handle_unknown='ignore',\n                                                                   sparse_output=False))]),\n                                    ['soilType'])])),\n  ('model', KNeighborsRegressor(n_jobs=-1))],\n 'verbose': False,\n 'preprocessor': ColumnTransformer(transformers=[('num',\n                                  Pipeline(steps=[('imputer',\n                                                   SimpleImputer(strategy='median')),\n                                                  ('scaler', StandardScaler())]),\n                                  ['elevation']),\n                                 ('cat',\n                                  Pipeline(steps=[('imputer',\n                                                   SimpleImputer(strategy='most_frequent')),\n                                                  ('ohe',\n                                                   OneHotEncoder(handle_unknown='ignore',\n                                                                 sparse_output=False))]),\n                                  ['soilType'])]),\n 'model': KNeighborsRegressor(n_jobs=-1),\n 'preprocessor__n_jobs': None,\n 'preprocessor__remainder': 'drop',\n 'preprocessor__sparse_threshold': 0.3,\n 'preprocessor__transformer_weights': None,\n 'preprocessor__transformers': [('num',\n   Pipeline(steps=[('imputer', SimpleImputer(strategy='median')),\n                   ('scaler', StandardScaler())]),\n   ['elevation']),\n  ('cat',\n   Pipeline(steps=[('imputer', SimpleImputer(strategy='most_frequent')),\n                   ('ohe',\n                    OneHotEncoder(handle_unknown='ignore', sparse_output=False))]),\n   ['soilType'])],\n 'preprocessor__verbose': False,\n 'preprocessor__verbose_feature_names_out': True,\n 'preprocessor__num': Pipeline(steps=[('imputer', SimpleImputer(strategy='median')),\n                 ('scaler', StandardScaler())]),\n 'preprocessor__cat': Pipeline(steps=[('imputer', SimpleImputer(strategy='most_frequent')),\n                 ('ohe',\n                  OneHotEncoder(handle_unknown='ignore', sparse_output=False))]),\n 'preprocessor__num__memory': None,\n 'preprocessor__num__steps': [('imputer', SimpleImputer(strategy='median')),\n  ('scaler', StandardScaler())],\n 'preprocessor__num__verbose': False,\n 'preprocessor__num__imputer': SimpleImputer(strategy='median'),\n 'preprocessor__num__scaler': StandardScaler(),\n 'preprocessor__num__imputer__add_indicator': False,\n 'preprocessor__num__imputer__copy': True,\n 'preprocessor__num__imputer__fill_value': None,\n 'preprocessor__num__imputer__keep_empty_features': False,\n 'preprocessor__num__imputer__missing_values': nan,\n 'preprocessor__num__imputer__strategy': 'median',\n 'preprocessor__num__scaler__copy': True,\n 'preprocessor__num__scaler__with_mean': True,\n 'preprocessor__num__scaler__with_std': True,\n 'preprocessor__cat__memory': None,\n 'preprocessor__cat__steps': [('imputer',\n   SimpleImputer(strategy='most_frequent')),\n  ('ohe', OneHotEncoder(handle_unknown='ignore', sparse_output=False))],\n 'preprocessor__cat__verbose': False,\n 'preprocessor__cat__imputer': SimpleImputer(strategy='most_frequent'),\n 'preprocessor__cat__ohe': OneHotEncoder(handle_unknown='ignore', sparse_output=False),\n 'preprocessor__cat__imputer__add_indicator': False,\n 'preprocessor__cat__imputer__copy': True,\n 'preprocessor__cat__imputer__fill_value': None,\n 'preprocessor__cat__imputer__keep_empty_features': False,\n 'preprocessor__cat__imputer__missing_values': nan,\n 'preprocessor__cat__imputer__strategy': 'most_frequent',\n 'preprocessor__cat__ohe__categories': 'auto',\n 'preprocessor__cat__ohe__drop': None,\n 'preprocessor__cat__ohe__dtype': numpy.float64,\n 'preprocessor__cat__ohe__feature_name_combiner': 'concat',\n 'preprocessor__cat__ohe__handle_unknown': 'ignore',\n 'preprocessor__cat__ohe__max_categories': None,\n 'preprocessor__cat__ohe__min_frequency': None,\n 'preprocessor__cat__ohe__sparse': 'deprecated',\n 'preprocessor__cat__ohe__sparse_output': False,\n 'model__algorithm': 'auto',\n 'model__leaf_size': 30,\n 'model__metric': 'minkowski',\n 'model__metric_params': None,\n 'model__n_jobs': -1,\n 'model__n_neighbors': 5,\n 'model__p': 2,\n 'model__weights': 'uniform'}"
     },
     "execution_count": 276,
     "metadata": {},
     "output_type": "execute_result"
    }
   ],
   "source": [
    "model_pipe.get_params()"
   ],
   "metadata": {
    "collapsed": false,
    "ExecuteTime": {
     "end_time": "2023-11-22T19:05:00.750963Z",
     "start_time": "2023-11-22T19:05:00.710054Z"
    }
   },
   "id": "d77f98a0be779aa"
  },
  {
   "cell_type": "code",
   "execution_count": 277,
   "outputs": [
    {
     "data": {
      "text/plain": "Pipeline(steps=[('preprocessor',\n                 ColumnTransformer(transformers=[('num',\n                                                  Pipeline(steps=[('imputer',\n                                                                   SimpleImputer(strategy='median')),\n                                                                  ('scaler',\n                                                                   StandardScaler())]),\n                                                  ['elevation']),\n                                                 ('cat',\n                                                  Pipeline(steps=[('imputer',\n                                                                   SimpleImputer(strategy='most_frequent')),\n                                                                  ('ohe',\n                                                                   OneHotEncoder(handle_unknown='ignore',\n                                                                                 sparse_output=False))]),\n                                                  ['soilType'])])),\n                ('model', KNeighborsRegressor(n_jobs=-1))])",
      "text/html": "<style>#sk-container-id-11 {color: black;}#sk-container-id-11 pre{padding: 0;}#sk-container-id-11 div.sk-toggleable {background-color: white;}#sk-container-id-11 label.sk-toggleable__label {cursor: pointer;display: block;width: 100%;margin-bottom: 0;padding: 0.3em;box-sizing: border-box;text-align: center;}#sk-container-id-11 label.sk-toggleable__label-arrow:before {content: \"▸\";float: left;margin-right: 0.25em;color: #696969;}#sk-container-id-11 label.sk-toggleable__label-arrow:hover:before {color: black;}#sk-container-id-11 div.sk-estimator:hover label.sk-toggleable__label-arrow:before {color: black;}#sk-container-id-11 div.sk-toggleable__content {max-height: 0;max-width: 0;overflow: hidden;text-align: left;background-color: #f0f8ff;}#sk-container-id-11 div.sk-toggleable__content pre {margin: 0.2em;color: black;border-radius: 0.25em;background-color: #f0f8ff;}#sk-container-id-11 input.sk-toggleable__control:checked~div.sk-toggleable__content {max-height: 200px;max-width: 100%;overflow: auto;}#sk-container-id-11 input.sk-toggleable__control:checked~label.sk-toggleable__label-arrow:before {content: \"▾\";}#sk-container-id-11 div.sk-estimator input.sk-toggleable__control:checked~label.sk-toggleable__label {background-color: #d4ebff;}#sk-container-id-11 div.sk-label input.sk-toggleable__control:checked~label.sk-toggleable__label {background-color: #d4ebff;}#sk-container-id-11 input.sk-hidden--visually {border: 0;clip: rect(1px 1px 1px 1px);clip: rect(1px, 1px, 1px, 1px);height: 1px;margin: -1px;overflow: hidden;padding: 0;position: absolute;width: 1px;}#sk-container-id-11 div.sk-estimator {font-family: monospace;background-color: #f0f8ff;border: 1px dotted black;border-radius: 0.25em;box-sizing: border-box;margin-bottom: 0.5em;}#sk-container-id-11 div.sk-estimator:hover {background-color: #d4ebff;}#sk-container-id-11 div.sk-parallel-item::after {content: \"\";width: 100%;border-bottom: 1px solid gray;flex-grow: 1;}#sk-container-id-11 div.sk-label:hover label.sk-toggleable__label {background-color: #d4ebff;}#sk-container-id-11 div.sk-serial::before {content: \"\";position: absolute;border-left: 1px solid gray;box-sizing: border-box;top: 0;bottom: 0;left: 50%;z-index: 0;}#sk-container-id-11 div.sk-serial {display: flex;flex-direction: column;align-items: center;background-color: white;padding-right: 0.2em;padding-left: 0.2em;position: relative;}#sk-container-id-11 div.sk-item {position: relative;z-index: 1;}#sk-container-id-11 div.sk-parallel {display: flex;align-items: stretch;justify-content: center;background-color: white;position: relative;}#sk-container-id-11 div.sk-item::before, #sk-container-id-11 div.sk-parallel-item::before {content: \"\";position: absolute;border-left: 1px solid gray;box-sizing: border-box;top: 0;bottom: 0;left: 50%;z-index: -1;}#sk-container-id-11 div.sk-parallel-item {display: flex;flex-direction: column;z-index: 1;position: relative;background-color: white;}#sk-container-id-11 div.sk-parallel-item:first-child::after {align-self: flex-end;width: 50%;}#sk-container-id-11 div.sk-parallel-item:last-child::after {align-self: flex-start;width: 50%;}#sk-container-id-11 div.sk-parallel-item:only-child::after {width: 0;}#sk-container-id-11 div.sk-dashed-wrapped {border: 1px dashed gray;margin: 0 0.4em 0.5em 0.4em;box-sizing: border-box;padding-bottom: 0.4em;background-color: white;}#sk-container-id-11 div.sk-label label {font-family: monospace;font-weight: bold;display: inline-block;line-height: 1.2em;}#sk-container-id-11 div.sk-label-container {text-align: center;}#sk-container-id-11 div.sk-container {/* jupyter's `normalize.less` sets `[hidden] { display: none; }` but bootstrap.min.css set `[hidden] { display: none !important; }` so we also need the `!important` here to be able to override the default hidden behavior on the sphinx rendered scikit-learn.org. See: https://github.com/scikit-learn/scikit-learn/issues/21755 */display: inline-block !important;position: relative;}#sk-container-id-11 div.sk-text-repr-fallback {display: none;}</style><div id=\"sk-container-id-11\" class=\"sk-top-container\"><div class=\"sk-text-repr-fallback\"><pre>Pipeline(steps=[(&#x27;preprocessor&#x27;,\n                 ColumnTransformer(transformers=[(&#x27;num&#x27;,\n                                                  Pipeline(steps=[(&#x27;imputer&#x27;,\n                                                                   SimpleImputer(strategy=&#x27;median&#x27;)),\n                                                                  (&#x27;scaler&#x27;,\n                                                                   StandardScaler())]),\n                                                  [&#x27;elevation&#x27;]),\n                                                 (&#x27;cat&#x27;,\n                                                  Pipeline(steps=[(&#x27;imputer&#x27;,\n                                                                   SimpleImputer(strategy=&#x27;most_frequent&#x27;)),\n                                                                  (&#x27;ohe&#x27;,\n                                                                   OneHotEncoder(handle_unknown=&#x27;ignore&#x27;,\n                                                                                 sparse_output=False))]),\n                                                  [&#x27;soilType&#x27;])])),\n                (&#x27;model&#x27;, KNeighborsRegressor(n_jobs=-1))])</pre><b>In a Jupyter environment, please rerun this cell to show the HTML representation or trust the notebook. <br />On GitHub, the HTML representation is unable to render, please try loading this page with nbviewer.org.</b></div><div class=\"sk-container\" hidden><div class=\"sk-item sk-dashed-wrapped\"><div class=\"sk-label-container\"><div class=\"sk-label sk-toggleable\"><input class=\"sk-toggleable__control sk-hidden--visually\" id=\"sk-estimator-id-91\" type=\"checkbox\" ><label for=\"sk-estimator-id-91\" class=\"sk-toggleable__label sk-toggleable__label-arrow\">Pipeline</label><div class=\"sk-toggleable__content\"><pre>Pipeline(steps=[(&#x27;preprocessor&#x27;,\n                 ColumnTransformer(transformers=[(&#x27;num&#x27;,\n                                                  Pipeline(steps=[(&#x27;imputer&#x27;,\n                                                                   SimpleImputer(strategy=&#x27;median&#x27;)),\n                                                                  (&#x27;scaler&#x27;,\n                                                                   StandardScaler())]),\n                                                  [&#x27;elevation&#x27;]),\n                                                 (&#x27;cat&#x27;,\n                                                  Pipeline(steps=[(&#x27;imputer&#x27;,\n                                                                   SimpleImputer(strategy=&#x27;most_frequent&#x27;)),\n                                                                  (&#x27;ohe&#x27;,\n                                                                   OneHotEncoder(handle_unknown=&#x27;ignore&#x27;,\n                                                                                 sparse_output=False))]),\n                                                  [&#x27;soilType&#x27;])])),\n                (&#x27;model&#x27;, KNeighborsRegressor(n_jobs=-1))])</pre></div></div></div><div class=\"sk-serial\"><div class=\"sk-item sk-dashed-wrapped\"><div class=\"sk-label-container\"><div class=\"sk-label sk-toggleable\"><input class=\"sk-toggleable__control sk-hidden--visually\" id=\"sk-estimator-id-92\" type=\"checkbox\" ><label for=\"sk-estimator-id-92\" class=\"sk-toggleable__label sk-toggleable__label-arrow\">preprocessor: ColumnTransformer</label><div class=\"sk-toggleable__content\"><pre>ColumnTransformer(transformers=[(&#x27;num&#x27;,\n                                 Pipeline(steps=[(&#x27;imputer&#x27;,\n                                                  SimpleImputer(strategy=&#x27;median&#x27;)),\n                                                 (&#x27;scaler&#x27;, StandardScaler())]),\n                                 [&#x27;elevation&#x27;]),\n                                (&#x27;cat&#x27;,\n                                 Pipeline(steps=[(&#x27;imputer&#x27;,\n                                                  SimpleImputer(strategy=&#x27;most_frequent&#x27;)),\n                                                 (&#x27;ohe&#x27;,\n                                                  OneHotEncoder(handle_unknown=&#x27;ignore&#x27;,\n                                                                sparse_output=False))]),\n                                 [&#x27;soilType&#x27;])])</pre></div></div></div><div class=\"sk-parallel\"><div class=\"sk-parallel-item\"><div class=\"sk-item\"><div class=\"sk-label-container\"><div class=\"sk-label sk-toggleable\"><input class=\"sk-toggleable__control sk-hidden--visually\" id=\"sk-estimator-id-93\" type=\"checkbox\" ><label for=\"sk-estimator-id-93\" class=\"sk-toggleable__label sk-toggleable__label-arrow\">num</label><div class=\"sk-toggleable__content\"><pre>[&#x27;elevation&#x27;]</pre></div></div></div><div class=\"sk-serial\"><div class=\"sk-item\"><div class=\"sk-serial\"><div class=\"sk-item\"><div class=\"sk-estimator sk-toggleable\"><input class=\"sk-toggleable__control sk-hidden--visually\" id=\"sk-estimator-id-94\" type=\"checkbox\" ><label for=\"sk-estimator-id-94\" class=\"sk-toggleable__label sk-toggleable__label-arrow\">SimpleImputer</label><div class=\"sk-toggleable__content\"><pre>SimpleImputer(strategy=&#x27;median&#x27;)</pre></div></div></div><div class=\"sk-item\"><div class=\"sk-estimator sk-toggleable\"><input class=\"sk-toggleable__control sk-hidden--visually\" id=\"sk-estimator-id-95\" type=\"checkbox\" ><label for=\"sk-estimator-id-95\" class=\"sk-toggleable__label sk-toggleable__label-arrow\">StandardScaler</label><div class=\"sk-toggleable__content\"><pre>StandardScaler()</pre></div></div></div></div></div></div></div></div><div class=\"sk-parallel-item\"><div class=\"sk-item\"><div class=\"sk-label-container\"><div class=\"sk-label sk-toggleable\"><input class=\"sk-toggleable__control sk-hidden--visually\" id=\"sk-estimator-id-96\" type=\"checkbox\" ><label for=\"sk-estimator-id-96\" class=\"sk-toggleable__label sk-toggleable__label-arrow\">cat</label><div class=\"sk-toggleable__content\"><pre>[&#x27;soilType&#x27;]</pre></div></div></div><div class=\"sk-serial\"><div class=\"sk-item\"><div class=\"sk-serial\"><div class=\"sk-item\"><div class=\"sk-estimator sk-toggleable\"><input class=\"sk-toggleable__control sk-hidden--visually\" id=\"sk-estimator-id-97\" type=\"checkbox\" ><label for=\"sk-estimator-id-97\" class=\"sk-toggleable__label sk-toggleable__label-arrow\">SimpleImputer</label><div class=\"sk-toggleable__content\"><pre>SimpleImputer(strategy=&#x27;most_frequent&#x27;)</pre></div></div></div><div class=\"sk-item\"><div class=\"sk-estimator sk-toggleable\"><input class=\"sk-toggleable__control sk-hidden--visually\" id=\"sk-estimator-id-98\" type=\"checkbox\" ><label for=\"sk-estimator-id-98\" class=\"sk-toggleable__label sk-toggleable__label-arrow\">OneHotEncoder</label><div class=\"sk-toggleable__content\"><pre>OneHotEncoder(handle_unknown=&#x27;ignore&#x27;, sparse_output=False)</pre></div></div></div></div></div></div></div></div></div></div><div class=\"sk-item\"><div class=\"sk-estimator sk-toggleable\"><input class=\"sk-toggleable__control sk-hidden--visually\" id=\"sk-estimator-id-99\" type=\"checkbox\" ><label for=\"sk-estimator-id-99\" class=\"sk-toggleable__label sk-toggleable__label-arrow\">KNeighborsRegressor</label><div class=\"sk-toggleable__content\"><pre>KNeighborsRegressor(n_jobs=-1)</pre></div></div></div></div></div></div></div>"
     },
     "execution_count": 277,
     "metadata": {},
     "output_type": "execute_result"
    }
   ],
   "source": [
    "model_pipe.fit(X_train, y_train)"
   ],
   "metadata": {
    "collapsed": false,
    "ExecuteTime": {
     "end_time": "2023-11-22T19:05:00.839315Z",
     "start_time": "2023-11-22T19:05:00.742293Z"
    }
   },
   "id": "2bb8d8dfb13d8bb3"
  },
  {
   "cell_type": "code",
   "execution_count": 278,
   "outputs": [],
   "source": [
    "y_preds = model_pipe.predict(X_test)"
   ],
   "metadata": {
    "collapsed": false,
    "ExecuteTime": {
     "end_time": "2023-11-22T19:05:00.873178Z",
     "start_time": "2023-11-22T19:05:00.806285Z"
    }
   },
   "id": "6a067bc463669495"
  },
  {
   "cell_type": "code",
   "execution_count": 279,
   "outputs": [],
   "source": [
    "# exponentiate\n",
    "y_test = np.exp(y_test)\n",
    "y_preds = np.exp(y_preds)"
   ],
   "metadata": {
    "collapsed": false,
    "ExecuteTime": {
     "end_time": "2023-11-22T19:05:00.887283Z",
     "start_time": "2023-11-22T19:05:00.855866Z"
    }
   },
   "id": "3f23758338de55d1"
  },
  {
   "cell_type": "code",
   "execution_count": 280,
   "outputs": [
    {
     "name": "stderr",
     "output_type": "stream",
     "text": [
      "2023-11-22 19:05:00,894 [utils.utils] INFO: mae: 87669.84910395215\n",
      "2023-11-22 19:05:00,894 [utils.utils] INFO: mse: 27198987249.18709\n",
      "2023-11-22 19:05:00,897 [utils.utils] INFO: rmse: 164921.15464423323\n",
      "2023-11-22 19:05:00,898 [utils.utils] INFO: r2: 0.07954277322385961\n"
     ]
    }
   ],
   "source": [
    "from utils.utils import compute_metrics\n",
    "scores = compute_metrics(y_test, y_preds, regression=True)"
   ],
   "metadata": {
    "collapsed": false,
    "ExecuteTime": {
     "end_time": "2023-11-22T19:05:00.921302Z",
     "start_time": "2023-11-22T19:05:00.881736Z"
    }
   },
   "id": "c2787858b7c8ab0"
  },
  {
   "cell_type": "code",
   "execution_count": 281,
   "outputs": [
    {
     "data": {
      "text/plain": "251796.95652173914"
     },
     "execution_count": 281,
     "metadata": {},
     "output_type": "execute_result"
    }
   ],
   "source": [
    "y_test.mean()"
   ],
   "metadata": {
    "collapsed": false,
    "ExecuteTime": {
     "end_time": "2023-11-22T19:05:00.956936Z",
     "start_time": "2023-11-22T19:05:00.906114Z"
    }
   },
   "id": "71c7083f160ccc0f"
  },
  {
   "cell_type": "code",
   "execution_count": 282,
   "outputs": [
    {
     "data": {
      "text/plain": "240220.4098135283"
     },
     "execution_count": 282,
     "metadata": {},
     "output_type": "execute_result"
    }
   ],
   "source": [
    "y_preds.mean()"
   ],
   "metadata": {
    "collapsed": false,
    "ExecuteTime": {
     "end_time": "2023-11-22T19:05:21.460736Z",
     "start_time": "2023-11-22T19:05:21.405980Z"
    }
   },
   "id": "a01a0a1e23caf504"
  },
  {
   "cell_type": "code",
   "execution_count": null,
   "outputs": [],
   "source": [],
   "metadata": {
    "collapsed": false
   },
   "id": "575de3a66a650860"
  }
 ],
 "metadata": {
  "kernelspec": {
   "display_name": "Python 3",
   "language": "python",
   "name": "python3"
  },
  "language_info": {
   "codemirror_mode": {
    "name": "ipython",
    "version": 2
   },
   "file_extension": ".py",
   "mimetype": "text/x-python",
   "name": "python",
   "nbconvert_exporter": "python",
   "pygments_lexer": "ipython2",
   "version": "2.7.6"
  }
 },
 "nbformat": 4,
 "nbformat_minor": 5
}
