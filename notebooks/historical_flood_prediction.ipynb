{
 "cells": [
  {
   "cell_type": "code",
   "execution_count": 1,
   "id": "initial_id",
   "metadata": {
    "collapsed": true,
    "ExecuteTime": {
     "end_time": "2023-11-23T09:30:17.334307Z",
     "start_time": "2023-11-23T09:30:15.439044Z"
    }
   },
   "outputs": [],
   "source": [
    "import pandas as pd\n",
    "import numpy as np\n",
    "import matplotlib.pyplot as plt\n",
    "from sklearn.preprocessing import LabelEncoder\n",
    "from sklearn.neighbors import KNeighborsClassifier\n",
    "\n",
    "from sklearn.model_selection import cross_val_score\n",
    "from sklearn.model_selection import StratifiedKFold\n",
    "\n",
    "from flood_tool.geo import get_gps_lat_long_from_easting_northing\n",
    "from utils.utils import init_logging, compute_metrics, tune_decision_boundary\n",
    "from flood_tool.data_processor import DataProcessor\n",
    "\n",
    "\n",
    "from imblearn.over_sampling import SMOTE, ADASYN\n",
    "from imblearn.pipeline import make_pipeline as make_pipeline_imblearn\n",
    "from imblearn.pipeline import Pipeline as imblearnPipeline\n",
    "from sklearn.ensemble import RandomForestClassifier\n",
    "\n",
    "\n",
    "init_logging()\n",
    "\n",
    "%load_ext autoreload\n",
    "%autoreload 2\n",
    "\n",
    "rds = 42"
   ]
  },
  {
   "cell_type": "code",
   "execution_count": 3,
   "outputs": [
    {
     "name": "stderr",
     "output_type": "stream",
     "text": [
      "2023-11-23 09:30:21,381 [flood_tool.data_processor] INFO: Data loaded successfully loaded.\n"
     ]
    }
   ],
   "source": [
    "dp = DataProcessor(postcodes_path='../flood_tool/resources/postcodes_labelled.csv', resource_path='../flood_tool/resources/')"
   ],
   "metadata": {
    "collapsed": false,
    "ExecuteTime": {
     "end_time": "2023-11-23T09:30:21.386926Z",
     "start_time": "2023-11-23T09:30:21.136051Z"
    }
   },
   "id": "4580c2ddc0237b42"
  },
  {
   "cell_type": "code",
   "execution_count": 4,
   "outputs": [
    {
     "name": "stderr",
     "output_type": "stream",
     "text": [
      "2023-11-23 09:30:22,912 [flood_tool.data_processor] INFO: Data successfully merged.\n"
     ]
    }
   ],
   "source": [
    "# data = dp.df_postcodes  # normal labelled\n",
    "df_rainfall = dp.get_rainfall_dataframe()\n",
    "data = dp.get_combined_dataframe()"
   ],
   "metadata": {
    "collapsed": false,
    "ExecuteTime": {
     "end_time": "2023-11-23T09:30:22.918871Z",
     "start_time": "2023-11-23T09:30:21.793404Z"
    }
   },
   "id": "1fc42369e6dd7e90"
  },
  {
   "cell_type": "code",
   "execution_count": 5,
   "outputs": [
    {
     "name": "stderr",
     "output_type": "stream",
     "text": [
      "2023-11-23 09:30:25,104 [flood_tool.data_processor] INFO: Data loaded successfully loaded.\n",
      "2023-11-23 09:30:25,662 [flood_tool.data_processor] INFO: Data successfully merged.\n",
      "2023-11-23 09:31:11,182 [flood_tool.models.predictor] INFO: Model successfully fit.\n",
      "2023-11-23 09:31:11,183 [flood_tool.tool] INFO: rf_classifier: {'accuracy': 0.9818333333333333, 'precision': 0.7919463087248322, 'recall': 0.6020408163265306, 'f1': 0.6840579710144928}\n"
     ]
    },
    {
     "data": {
      "text/plain": "postcode\nOL9 7NS    0\nOL9 7DX    0\nOL9 7AZ    0\nOL9 7LY    0\nOL9 7DF    0\n          ..\nS96 5XX    1\nCB6 1EH    0\nCW9 6NF    0\nCW9 6LZ    0\nB62 0QH    0\nName: predictions, Length: 30000, dtype: int64"
     },
     "execution_count": 5,
     "metadata": {},
     "output_type": "execute_result"
    }
   ],
   "source": [
    "from flood_tool.tool import Tool\n",
    "tool = Tool()\n",
    "tool.predict_historic_flooding(postcodes=data.postcode.tolist(), method='rf_classifier')\n"
   ],
   "metadata": {
    "collapsed": false,
    "ExecuteTime": {
     "end_time": "2023-11-23T09:31:12.457157Z",
     "start_time": "2023-11-23T09:30:23.442979Z"
    }
   },
   "id": "b1e23819fe2c9c2e"
  },
  {
   "cell_type": "code",
   "execution_count": null,
   "outputs": [],
   "source": [
    "print(data.isna().sum())"
   ],
   "metadata": {
    "collapsed": false,
    "ExecuteTime": {
     "start_time": "2023-11-23T09:29:42.627657Z"
    }
   },
   "id": "ee1b6bd5b513c839"
  },
  {
   "cell_type": "code",
   "execution_count": null,
   "outputs": [],
   "source": [
    "data.columns"
   ],
   "metadata": {
    "collapsed": false,
    "ExecuteTime": {
     "end_time": "2023-11-23T09:29:42.632126Z",
     "start_time": "2023-11-23T09:29:42.628857Z"
    }
   },
   "id": "ce85e84f586dd957"
  },
  {
   "cell_type": "code",
   "execution_count": null,
   "outputs": [],
   "source": [
    "feats = ['latitude', 'longitude', 'soilType', 'elevation', 'typical_average_rainfall_per_hour', 'wet_average_rainfall_per_hour', 'postcodeSector']"
   ],
   "metadata": {
    "collapsed": false,
    "ExecuteTime": {
     "start_time": "2023-11-23T09:29:42.630211Z"
    }
   },
   "id": "5b6a1d0acd4308af"
  },
  {
   "cell_type": "code",
   "execution_count": null,
   "outputs": [],
   "source": [
    "X = data[feats]"
   ],
   "metadata": {
    "collapsed": false,
    "ExecuteTime": {
     "start_time": "2023-11-23T09:29:42.631613Z"
    }
   },
   "id": "cdcfd1d18bac3813"
  },
  {
   "cell_type": "code",
   "execution_count": null,
   "outputs": [],
   "source": [
    "y = data.historicallyFlooded.astype(int)"
   ],
   "metadata": {
    "collapsed": false,
    "ExecuteTime": {
     "start_time": "2023-11-23T09:29:42.633179Z"
    }
   },
   "id": "47c4d018bf572864"
  },
  {
   "cell_type": "code",
   "execution_count": null,
   "outputs": [],
   "source": [
    "from flood_tool.models.constant import RDS\n",
    "from sklearn.model_selection import train_test_split\n",
    "\n",
    "X_train, X_test, y_train, y_test = train_test_split(X, y, test_size=0.2, random_state=RDS, stratify=y)"
   ],
   "metadata": {
    "collapsed": false,
    "ExecuteTime": {
     "start_time": "2023-11-23T09:29:42.634469Z"
    }
   },
   "id": "ddf3e7a1abf5b7ab"
  },
  {
   "cell_type": "code",
   "execution_count": null,
   "outputs": [],
   "source": [
    "from xgboost import XGBClassifier\n",
    "from sklearn.compose import ColumnTransformer\n",
    "from sklearn.preprocessing import StandardScaler, OneHotEncoder\n",
    "from sklearn.impute import SimpleImputer\n",
    "from sklearn.pipeline import Pipeline\n",
    "\n",
    "num_cols = X_train.select_dtypes(include=np.number).columns\n",
    "cat_cols = X_train.select_dtypes(exclude=np.number).columns\n",
    "\n",
    "num_pipe = Pipeline(\n",
    "    steps=[\n",
    "        (\"imputer\", SimpleImputer(strategy=\"median\")),\n",
    "        (\"scaler\", StandardScaler()),\n",
    "    ]\n",
    ")\n",
    "\n",
    "cat_pipe = Pipeline(\n",
    "    steps=[\n",
    "        (\"imputer\", SimpleImputer(strategy=\"most_frequent\")),\n",
    "        (\"ohe\", OneHotEncoder(handle_unknown=\"ignore\", sparse_output=False)),\n",
    "    ]\n",
    ")\n",
    "\n",
    "preprocessor = ColumnTransformer(\n",
    "    transformers=[\n",
    "        (\"num\", num_pipe, num_cols),\n",
    "        (\"cat\", cat_pipe, cat_cols),\n",
    "    ]\n",
    ")\n",
    "\n",
    "model_pipe = imblearnPipeline([\n",
    "    ('preprocessor', preprocessor),\n",
    "    ('model', RandomForestClassifier(\n",
    "        n_jobs=-1,\n",
    "        random_state=RDS, \n",
    "        class_weight='balanced_subsample', \n",
    "        max_depth=33,\n",
    "        min_samples_leaf=3, \n",
    "        n_estimators=761\n",
    "    )\n",
    "     ),\n",
    "])\n"
   ],
   "metadata": {
    "collapsed": false,
    "ExecuteTime": {
     "start_time": "2023-11-23T09:29:42.635479Z"
    }
   },
   "id": "dc4d7fd7c394c4b"
  },
  {
   "cell_type": "code",
   "execution_count": null,
   "outputs": [],
   "source": [
    "model_pipe.get_params()"
   ],
   "metadata": {
    "collapsed": false,
    "ExecuteTime": {
     "start_time": "2023-11-23T09:29:42.636541Z"
    }
   },
   "id": "114575f4018ccd03"
  },
  {
   "cell_type": "code",
   "execution_count": null,
   "outputs": [],
   "source": [
    "model_pipe.fit(X_train, y_train)"
   ],
   "metadata": {
    "collapsed": false,
    "ExecuteTime": {
     "start_time": "2023-11-23T09:29:42.637723Z"
    }
   },
   "id": "affca59b0f2aa684"
  },
  {
   "cell_type": "code",
   "execution_count": null,
   "outputs": [],
   "source": [
    "y_hat = model_pipe.predict(X_test)"
   ],
   "metadata": {
    "collapsed": false,
    "ExecuteTime": {
     "start_time": "2023-11-23T09:29:42.638744Z"
    }
   },
   "id": "89f0405cd866d4b6"
  },
  {
   "cell_type": "code",
   "execution_count": null,
   "outputs": [],
   "source": [
    "compute_metrics(y_test, y_hat, regression=False);  # no smote"
   ],
   "metadata": {
    "collapsed": false,
    "ExecuteTime": {
     "start_time": "2023-11-23T09:29:42.639795Z"
    }
   },
   "id": "5ee1581275f60d20"
  },
  {
   "cell_type": "code",
   "execution_count": null,
   "outputs": [],
   "source": [
    "import scipy.stats as stats\n",
    "param_distribution = {\n",
    "    'model__class_weight': ['balanced', 'balanced_subsample'],\n",
    "    'model__max_depth': stats.randint(10, 100),\n",
    "    'model__n_estimators': stats.randint(100, 1000),\n",
    "    'model__min_samples_leaf': stats.randint(1, 20),\n",
    "}"
   ],
   "metadata": {
    "collapsed": false,
    "ExecuteTime": {
     "start_time": "2023-11-23T09:29:42.640824Z"
    }
   },
   "id": "cb8f3a248b766125"
  },
  {
   "cell_type": "code",
   "execution_count": null,
   "outputs": [],
   "source": [
    "from sklearn.model_selection import RandomizedSearchCV\n",
    "\n",
    "rand_cv = RandomizedSearchCV(\n",
    "    estimator=model_pipe, \n",
    "    param_distributions=param_distribution, \n",
    "    cv=StratifiedKFold(n_splits=5).split(X_train, y=y_train), \n",
    "    n_iter=25,\n",
    "    n_jobs=-1, \n",
    "    random_state=RDS,\n",
    "    scoring='average_precision',\n",
    "    verbose=1,\n",
    ")\n"
   ],
   "metadata": {
    "collapsed": false,
    "ExecuteTime": {
     "start_time": "2023-11-23T09:29:42.641808Z"
    }
   },
   "id": "3ca1d5985083b42e"
  },
  {
   "cell_type": "code",
   "execution_count": null,
   "outputs": [],
   "source": [
    "rand_cv.fit(X_train, y_train)"
   ],
   "metadata": {
    "collapsed": false,
    "ExecuteTime": {
     "start_time": "2023-11-23T09:29:42.642750Z"
    }
   },
   "id": "f85b2335ff47a972"
  },
  {
   "cell_type": "code",
   "execution_count": null,
   "outputs": [],
   "source": [
    "rand_cv.best_score_"
   ],
   "metadata": {
    "collapsed": false,
    "ExecuteTime": {
     "start_time": "2023-11-23T09:29:42.643658Z"
    }
   },
   "id": "25f6a27b32aabee"
  },
  {
   "cell_type": "code",
   "execution_count": null,
   "outputs": [],
   "source": [
    "rand_cv.best_params_"
   ],
   "metadata": {
    "collapsed": false,
    "ExecuteTime": {
     "start_time": "2023-11-23T09:29:42.644446Z"
    }
   },
   "id": "c43b2ef2e08385cb"
  },
  {
   "cell_type": "code",
   "execution_count": null,
   "outputs": [],
   "source": [
    "best_model = rand_cv.best_estimator_"
   ],
   "metadata": {
    "collapsed": false,
    "ExecuteTime": {
     "start_time": "2023-11-23T09:29:42.645129Z"
    }
   },
   "id": "150a550503c7ec4c"
  },
  {
   "cell_type": "code",
   "execution_count": null,
   "outputs": [],
   "source": [
    "best_model.fit(X_train, y_train)"
   ],
   "metadata": {
    "collapsed": false,
    "ExecuteTime": {
     "start_time": "2023-11-23T09:29:42.645822Z"
    }
   },
   "id": "de9d92fb6e57e082"
  },
  {
   "cell_type": "code",
   "execution_count": null,
   "outputs": [],
   "source": [
    "y_hat = best_model.predict(X_test)\n",
    "y_hat_pp = best_model.predict_proba(X_test)"
   ],
   "metadata": {
    "collapsed": false,
    "ExecuteTime": {
     "start_time": "2023-11-23T09:29:42.646601Z"
    }
   },
   "id": "59a589b61d20c92b"
  },
  {
   "cell_type": "code",
   "execution_count": null,
   "outputs": [],
   "source": [
    "from utils.utils import compute_metrics\n",
    "compute_metrics(y_test, y_hat, regression=False, y_pp=y_hat_pp[:, 1]);"
   ],
   "metadata": {
    "collapsed": false,
    "ExecuteTime": {
     "start_time": "2023-11-23T09:29:42.647438Z"
    }
   },
   "id": "6c67c4a572fac752"
  },
  {
   "cell_type": "code",
   "execution_count": null,
   "outputs": [],
   "source": [
    "model_pipe = imblearnPipeline([\n",
    "    ('preprocessor', preprocessor),\n",
    "    ('oversample', SMOTE(random_state=42)),  \n",
    "    ('model', RandomForestClassifier(\n",
    "        class_weight='balanced_subsample', \n",
    "        random_state=42, \n",
    "        max_depth=33,\n",
    "        min_samples_leaf=3, \n",
    "        n_estimators=761)\n",
    "     )\n",
    "])"
   ],
   "metadata": {
    "collapsed": false,
    "ExecuteTime": {
     "start_time": "2023-11-23T09:29:42.648271Z"
    }
   },
   "id": "3b17c87a03dcf7f6"
  },
  {
   "cell_type": "code",
   "execution_count": null,
   "outputs": [],
   "source": [
    "model_pipe.fit(X_train, y_train)"
   ],
   "metadata": {
    "collapsed": false,
    "ExecuteTime": {
     "start_time": "2023-11-23T09:29:42.648949Z"
    }
   },
   "id": "8e571ee36a8c94c6"
  },
  {
   "cell_type": "code",
   "execution_count": null,
   "outputs": [],
   "source": [
    "y_hat = model_pipe.predict(X_test)\n",
    "y_hat_pp = model_pipe.predict_proba(X_test)"
   ],
   "metadata": {
    "collapsed": false,
    "ExecuteTime": {
     "start_time": "2023-11-23T09:29:42.649606Z"
    }
   },
   "id": "2fd5f819490c9e33"
  },
  {
   "cell_type": "code",
   "execution_count": null,
   "outputs": [],
   "source": [
    "from utils.utils import compute_metrics\n",
    "compute_metrics(y_test, y_hat, regression=False, y_pp=y_hat_pp[:, 1]);"
   ],
   "metadata": {
    "collapsed": false,
    "ExecuteTime": {
     "start_time": "2023-11-23T09:29:42.650387Z"
    }
   },
   "id": "993353222cadb80"
  },
  {
   "cell_type": "code",
   "execution_count": null,
   "outputs": [],
   "source": [
    "from utils.utils import tune_decision_boundary\n",
    "thold, thold_idx = tune_decision_boundary(model=model_pipe, tune_metric='recall', X=X_train, y=y_train, upper_qty=0.95, return_preds=False)"
   ],
   "metadata": {
    "collapsed": false,
    "ExecuteTime": {
     "start_time": "2023-11-23T09:29:42.651475Z"
    }
   },
   "id": "b5b6d480d3ce5ccb"
  },
  {
   "cell_type": "code",
   "execution_count": null,
   "outputs": [],
   "source": [
    "thold"
   ],
   "metadata": {
    "collapsed": false,
    "ExecuteTime": {
     "start_time": "2023-11-23T09:29:42.652218Z"
    }
   },
   "id": "730b2942cca4dbcd"
  },
  {
   "cell_type": "code",
   "execution_count": null,
   "outputs": [],
   "source": [
    "compute_metrics(y_test, y_hat_pp[:, 1] > 0.2, regression=False);"
   ],
   "metadata": {
    "collapsed": false,
    "ExecuteTime": {
     "start_time": "2023-11-23T09:29:42.653093Z"
    }
   },
   "id": "66b67faef632e7ab"
  },
  {
   "cell_type": "code",
   "execution_count": null,
   "outputs": [],
   "source": [
    "compute_metrics(y_test, y_hat_pp[:, 1] > 0.2, regression=False);"
   ],
   "metadata": {
    "collapsed": false,
    "ExecuteTime": {
     "start_time": "2023-11-23T09:29:42.654040Z"
    }
   },
   "id": "f072a18a351c680e"
  },
  {
   "cell_type": "code",
   "execution_count": null,
   "outputs": [],
   "source": [
    "from flood_tool.tool import Tool\n",
    "\n",
    "tool = Tool()"
   ],
   "metadata": {
    "collapsed": false,
    "ExecuteTime": {
     "start_time": "2023-11-23T09:29:42.654926Z"
    }
   },
   "id": "ab8ea9721c1e3dae"
  },
  {
   "cell_type": "code",
   "execution_count": null,
   "outputs": [],
   "source": [
    "data"
   ],
   "metadata": {
    "collapsed": false,
    "ExecuteTime": {
     "start_time": "2023-11-23T09:29:42.655842Z"
    }
   },
   "id": "d2ba8c1bb2aa0e39"
  },
  {
   "cell_type": "code",
   "execution_count": 162,
   "outputs": [
    {
     "name": "stderr",
     "output_type": "stream",
     "text": [
      "2023-11-22 21:51:29,681 [flood_tool.models.predictor] INFO: Model successfully fit.\n"
     ]
    },
    {
     "data": {
      "text/plain": "postcode\nOL9 7NS     0\nWV13 2LR    0\nLS12 1LZ    0\nSK15 1TS    0\nTS17 9NN    0\n           ..\nLS16 0BP    0\nSK8 4PG     0\nHD7 4PA     0\nNE16 5YT    0\nB8 2RQ      0\nName: predictions, Length: 30000, dtype: int64"
     },
     "execution_count": 162,
     "metadata": {},
     "output_type": "execute_result"
    }
   ],
   "source": [
    "tool.predict_historic_flooding(postcodes=data.postcode.tolist(), method='rf_classifier')"
   ],
   "metadata": {
    "collapsed": false,
    "ExecuteTime": {
     "end_time": "2023-11-22T21:51:29.893911Z",
     "start_time": "2023-11-22T21:51:27.148474Z"
    }
   },
   "id": "9a285852a428856a"
  },
  {
   "cell_type": "code",
   "execution_count": 254,
   "outputs": [
    {
     "name": "stderr",
     "output_type": "stream",
     "text": [
      "2023-11-23 08:05:41,423 [flood_tool.data_processor] INFO: Data loaded successfully loaded.\n",
      "2023-11-23 08:05:41,625 [flood_tool.data_processor] INFO: Data loaded successfully loaded.\n",
      "2023-11-23 08:05:42,174 [flood_tool.data_processor] INFO: Data successfully merged.\n",
      "2023-11-23 08:05:42,446 [flood_tool.data_processor] INFO: Data successfully merged.\n"
     ]
    }
   ],
   "source": [
    "tool = Tool()"
   ],
   "metadata": {
    "collapsed": false,
    "ExecuteTime": {
     "end_time": "2023-11-23T08:05:42.464193Z",
     "start_time": "2023-11-23T08:05:40.436559Z"
    }
   },
   "id": "600cd94b9d696c5b"
  },
  {
   "cell_type": "code",
   "execution_count": 257,
   "outputs": [
    {
     "data": {
      "text/plain": "486"
     },
     "execution_count": 257,
     "metadata": {},
     "output_type": "execute_result"
    }
   ],
   "source": [],
   "metadata": {
    "collapsed": false,
    "ExecuteTime": {
     "end_time": "2023-11-23T08:06:01.441374Z",
     "start_time": "2023-11-23T08:06:01.408014Z"
    }
   },
   "id": "6adfa221ddf8836d"
  },
  {
   "cell_type": "code",
   "execution_count": null,
   "outputs": [],
   "source": [],
   "metadata": {
    "collapsed": false
   },
   "id": "1c0474531ddbfae2"
  }
 ],
 "metadata": {
  "kernelspec": {
   "display_name": "Python 3",
   "language": "python",
   "name": "python3"
  },
  "language_info": {
   "codemirror_mode": {
    "name": "ipython",
    "version": 2
   },
   "file_extension": ".py",
   "mimetype": "text/x-python",
   "name": "python",
   "nbconvert_exporter": "python",
   "pygments_lexer": "ipython2",
   "version": "2.7.6"
  }
 },
 "nbformat": 4,
 "nbformat_minor": 5
}
