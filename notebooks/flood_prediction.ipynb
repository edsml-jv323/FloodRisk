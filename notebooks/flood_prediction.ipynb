{
 "cells": [
  {
   "cell_type": "markdown",
   "source": [
    "## Flood prediction"
   ],
   "metadata": {
    "collapsed": false
   },
   "id": "b39acf6b946d14da"
  },
  {
   "cell_type": "code",
   "execution_count": 241,
   "id": "initial_id",
   "metadata": {
    "collapsed": true,
    "ExecuteTime": {
     "end_time": "2023-11-23T15:57:09.521897Z",
     "start_time": "2023-11-23T15:57:09.368190Z"
    }
   },
   "outputs": [
    {
     "name": "stdout",
     "output_type": "stream",
     "text": [
      "The autoreload extension is already loaded. To reload it, use:\n",
      "  %reload_ext autoreload\n"
     ]
    }
   ],
   "source": [
    "import pandas as pd\n",
    "import numpy as np\n",
    "import matplotlib.pyplot as plt\n",
    "from sklearn.model_selection import train_test_split\n",
    "from sklearn.pipeline import Pipeline, make_pipeline\n",
    "from sklearn.impute import SimpleImputer\n",
    "from sklearn.preprocessing import StandardScaler, MinMaxScaler, OneHotEncoder\n",
    "from sklearn.compose import ColumnTransformer\n",
    "import seaborn as sns\n",
    "from sklearn.dummy import DummyRegressor\n",
    "from sklearn.linear_model import LinearRegression\n",
    "\n",
    "%load_ext autoreload\n",
    "%autoreload 2\n",
    "\n",
    "from utils.utils import remove_duplicates, compute_metrics, init_logging, get_null_count\n",
    "\n",
    "init_logging()\n",
    "\n",
    "from sklearn.preprocessing import LabelEncoder\n",
    "from sklearn import set_config\n",
    "set_config(transform_output=\"pandas\")\n",
    "\n",
    "rds = 42"
   ]
  },
  {
   "cell_type": "code",
   "execution_count": 361,
   "outputs": [],
   "source": [
    "from scoring.scores import SCORES\n",
    "from sklearn.metrics import make_scorer\n",
    "\n",
    "def score_fn(y_true, y_pred):\n",
    "    score = sum(\n",
    "        SCORES[pred - 1, true - 1] for pred, true in zip(np.round(y_pred, 0).astype(int) + 1, y_true + 1)\n",
    "    )\n",
    "    return score\n",
    "\n",
    "custom_scorer = make_scorer(score_func=score_fn, greater_is_better=True)\n"
   ],
   "metadata": {
    "collapsed": false,
    "ExecuteTime": {
     "end_time": "2023-11-23T16:11:40.773555Z",
     "start_time": "2023-11-23T16:11:40.717511Z"
    }
   },
   "id": "da6b4a08301a5a17"
  },
  {
   "cell_type": "code",
   "execution_count": 436,
   "outputs": [],
   "source": [
    "def classifier_scorer(y, predictions):\n",
    "    \"\"\"Should take discrete outputs 0 indexed\"\"\"\n",
    "    return sum(SCORES[pred, true] for pred, true in zip(predictions.astype(int), y.astype(int)))"
   ],
   "metadata": {
    "collapsed": false,
    "ExecuteTime": {
     "end_time": "2023-11-23T17:09:04.563715Z",
     "start_time": "2023-11-23T17:09:04.474046Z"
    }
   },
   "id": "ed16d51ab8ba06dd"
  },
  {
   "cell_type": "code",
   "execution_count": 382,
   "outputs": [],
   "source": [
    "df_labelled = pd.read_csv(\"../flood_tool/resources/postcodes_labelled.csv\")\n",
    "df_unlabelled = pd.read_csv(\"../flood_tool/resources/postcodes_unlabelled.csv\")\n",
    "df_stacked = pd.concat(\n",
    "[df_unlabelled, df_labelled[df_unlabelled.columns]], ignore_index=True\n",
    ")"
   ],
   "metadata": {
    "collapsed": false,
    "ExecuteTime": {
     "end_time": "2023-11-23T16:13:55.893475Z",
     "start_time": "2023-11-23T16:13:55.801289Z"
    }
   },
   "id": "f4e4d0d489c13964"
  },
  {
   "cell_type": "code",
   "execution_count": 419,
   "outputs": [
    {
     "data": {
      "text/plain": "       postcode  easting  northing          soilType  elevation  \\\n0       OL9 7NS   390978    403269  Unsurveyed/Urban        130   \n1      WV13 2LR   396607    298083  Unsurveyed/Urban        130   \n2      LS12 1LZ   427859    432937  Unsurveyed/Urban         60   \n3      SK15 1TS   395560    397900  Unsurveyed/Urban        120   \n4      TS17 9NN   445771    515362  Unsurveyed/Urban         20   \n...         ...      ...       ...               ...        ...   \n29995  LS16 0BP   425977    438923  Unsurveyed/Urban        160   \n29996   SK8 4PG   384808    387982  Unsurveyed/Urban         40   \n29997   HD7 4PA   409215    416819         Cambisols        310   \n29998  NE16 5YT   419672    560517  Unsurveyed/Urban        130   \n29999    B8 2RQ   411674    288499  Unsurveyed/Urban        110   \n\n         localAuthority  riskLabel  medianPrice  historicallyFlooded  \n0                Oldham          1     119100.0                False  \n1               Walsall          1      84200.0                False  \n2                 Leeds          1     134900.0                False  \n3              Tameside          1     170200.0                False  \n4      Stockton-on-Tees          1     190600.0                False  \n...                 ...        ...          ...                  ...  \n29995             Leeds          1          NaN                False  \n29996         Stockport          1     328700.0                False  \n29997          Kirklees          1     214500.0                False  \n29998         Gateshead          1     273100.0                False  \n29999        Birmingham          1     176300.0                False  \n\n[30000 rows x 9 columns]",
      "text/html": "<div>\n<style scoped>\n    .dataframe tbody tr th:only-of-type {\n        vertical-align: middle;\n    }\n\n    .dataframe tbody tr th {\n        vertical-align: top;\n    }\n\n    .dataframe thead th {\n        text-align: right;\n    }\n</style>\n<table border=\"1\" class=\"dataframe\">\n  <thead>\n    <tr style=\"text-align: right;\">\n      <th></th>\n      <th>postcode</th>\n      <th>easting</th>\n      <th>northing</th>\n      <th>soilType</th>\n      <th>elevation</th>\n      <th>localAuthority</th>\n      <th>riskLabel</th>\n      <th>medianPrice</th>\n      <th>historicallyFlooded</th>\n    </tr>\n  </thead>\n  <tbody>\n    <tr>\n      <th>0</th>\n      <td>OL9 7NS</td>\n      <td>390978</td>\n      <td>403269</td>\n      <td>Unsurveyed/Urban</td>\n      <td>130</td>\n      <td>Oldham</td>\n      <td>1</td>\n      <td>119100.0</td>\n      <td>False</td>\n    </tr>\n    <tr>\n      <th>1</th>\n      <td>WV13 2LR</td>\n      <td>396607</td>\n      <td>298083</td>\n      <td>Unsurveyed/Urban</td>\n      <td>130</td>\n      <td>Walsall</td>\n      <td>1</td>\n      <td>84200.0</td>\n      <td>False</td>\n    </tr>\n    <tr>\n      <th>2</th>\n      <td>LS12 1LZ</td>\n      <td>427859</td>\n      <td>432937</td>\n      <td>Unsurveyed/Urban</td>\n      <td>60</td>\n      <td>Leeds</td>\n      <td>1</td>\n      <td>134900.0</td>\n      <td>False</td>\n    </tr>\n    <tr>\n      <th>3</th>\n      <td>SK15 1TS</td>\n      <td>395560</td>\n      <td>397900</td>\n      <td>Unsurveyed/Urban</td>\n      <td>120</td>\n      <td>Tameside</td>\n      <td>1</td>\n      <td>170200.0</td>\n      <td>False</td>\n    </tr>\n    <tr>\n      <th>4</th>\n      <td>TS17 9NN</td>\n      <td>445771</td>\n      <td>515362</td>\n      <td>Unsurveyed/Urban</td>\n      <td>20</td>\n      <td>Stockton-on-Tees</td>\n      <td>1</td>\n      <td>190600.0</td>\n      <td>False</td>\n    </tr>\n    <tr>\n      <th>...</th>\n      <td>...</td>\n      <td>...</td>\n      <td>...</td>\n      <td>...</td>\n      <td>...</td>\n      <td>...</td>\n      <td>...</td>\n      <td>...</td>\n      <td>...</td>\n    </tr>\n    <tr>\n      <th>29995</th>\n      <td>LS16 0BP</td>\n      <td>425977</td>\n      <td>438923</td>\n      <td>Unsurveyed/Urban</td>\n      <td>160</td>\n      <td>Leeds</td>\n      <td>1</td>\n      <td>NaN</td>\n      <td>False</td>\n    </tr>\n    <tr>\n      <th>29996</th>\n      <td>SK8 4PG</td>\n      <td>384808</td>\n      <td>387982</td>\n      <td>Unsurveyed/Urban</td>\n      <td>40</td>\n      <td>Stockport</td>\n      <td>1</td>\n      <td>328700.0</td>\n      <td>False</td>\n    </tr>\n    <tr>\n      <th>29997</th>\n      <td>HD7 4PA</td>\n      <td>409215</td>\n      <td>416819</td>\n      <td>Cambisols</td>\n      <td>310</td>\n      <td>Kirklees</td>\n      <td>1</td>\n      <td>214500.0</td>\n      <td>False</td>\n    </tr>\n    <tr>\n      <th>29998</th>\n      <td>NE16 5YT</td>\n      <td>419672</td>\n      <td>560517</td>\n      <td>Unsurveyed/Urban</td>\n      <td>130</td>\n      <td>Gateshead</td>\n      <td>1</td>\n      <td>273100.0</td>\n      <td>False</td>\n    </tr>\n    <tr>\n      <th>29999</th>\n      <td>B8 2RQ</td>\n      <td>411674</td>\n      <td>288499</td>\n      <td>Unsurveyed/Urban</td>\n      <td>110</td>\n      <td>Birmingham</td>\n      <td>1</td>\n      <td>176300.0</td>\n      <td>False</td>\n    </tr>\n  </tbody>\n</table>\n<p>30000 rows × 9 columns</p>\n</div>"
     },
     "execution_count": 419,
     "metadata": {},
     "output_type": "execute_result"
    }
   ],
   "source": [
    "df_labelled"
   ],
   "metadata": {
    "collapsed": false,
    "ExecuteTime": {
     "end_time": "2023-11-23T16:33:09.766804Z",
     "start_time": "2023-11-23T16:33:09.213539Z"
    }
   },
   "id": "46f0bcf6283295af"
  },
  {
   "cell_type": "code",
   "execution_count": 422,
   "outputs": [],
   "source": [
    "os = df_labelled[['easting', 'northing']]"
   ],
   "metadata": {
    "collapsed": false,
    "ExecuteTime": {
     "end_time": "2023-11-23T17:03:47.220246Z",
     "start_time": "2023-11-23T17:03:46.211244Z"
    }
   },
   "id": "2c23917e13ea7c87"
  },
  {
   "cell_type": "code",
   "execution_count": 443,
   "outputs": [],
   "source": [
    "easting = df_labelled.easting\n",
    "northing = df_labelled.northing"
   ],
   "metadata": {
    "collapsed": false,
    "ExecuteTime": {
     "end_time": "2023-11-23T17:13:39.640336Z",
     "start_time": "2023-11-23T17:13:39.078837Z"
    }
   },
   "id": "ce57b722073798cf"
  },
  {
   "cell_type": "code",
   "execution_count": 425,
   "outputs": [
    {
     "data": {
      "text/plain": "      postcode  easting  northing soilType  elevation localAuthority  \\\n0          NaN   390978    403269      NaN        NaN            NaN   \n1          NaN   396607    298083      NaN        NaN            NaN   \n2          NaN   427859    432937      NaN        NaN            NaN   \n3          NaN   395560    397900      NaN        NaN            NaN   \n4          NaN   445771    515362      NaN        NaN            NaN   \n...        ...      ...       ...      ...        ...            ...   \n29995      NaN   425977    438923      NaN        NaN            NaN   \n29996      NaN   384808    387982      NaN        NaN            NaN   \n29997      NaN   409215    416819      NaN        NaN            NaN   \n29998      NaN   419672    560517      NaN        NaN            NaN   \n29999      NaN   411674    288499      NaN        NaN            NaN   \n\n       riskLabel  medianPrice historicallyFlooded  \n0            NaN          NaN                 NaN  \n1            NaN          NaN                 NaN  \n2            NaN          NaN                 NaN  \n3            NaN          NaN                 NaN  \n4            NaN          NaN                 NaN  \n...          ...          ...                 ...  \n29995        NaN          NaN                 NaN  \n29996        NaN          NaN                 NaN  \n29997        NaN          NaN                 NaN  \n29998        NaN          NaN                 NaN  \n29999        NaN          NaN                 NaN  \n\n[30000 rows x 9 columns]",
      "text/html": "<div>\n<style scoped>\n    .dataframe tbody tr th:only-of-type {\n        vertical-align: middle;\n    }\n\n    .dataframe tbody tr th {\n        vertical-align: top;\n    }\n\n    .dataframe thead th {\n        text-align: right;\n    }\n</style>\n<table border=\"1\" class=\"dataframe\">\n  <thead>\n    <tr style=\"text-align: right;\">\n      <th></th>\n      <th>postcode</th>\n      <th>easting</th>\n      <th>northing</th>\n      <th>soilType</th>\n      <th>elevation</th>\n      <th>localAuthority</th>\n      <th>riskLabel</th>\n      <th>medianPrice</th>\n      <th>historicallyFlooded</th>\n    </tr>\n  </thead>\n  <tbody>\n    <tr>\n      <th>0</th>\n      <td>NaN</td>\n      <td>390978</td>\n      <td>403269</td>\n      <td>NaN</td>\n      <td>NaN</td>\n      <td>NaN</td>\n      <td>NaN</td>\n      <td>NaN</td>\n      <td>NaN</td>\n    </tr>\n    <tr>\n      <th>1</th>\n      <td>NaN</td>\n      <td>396607</td>\n      <td>298083</td>\n      <td>NaN</td>\n      <td>NaN</td>\n      <td>NaN</td>\n      <td>NaN</td>\n      <td>NaN</td>\n      <td>NaN</td>\n    </tr>\n    <tr>\n      <th>2</th>\n      <td>NaN</td>\n      <td>427859</td>\n      <td>432937</td>\n      <td>NaN</td>\n      <td>NaN</td>\n      <td>NaN</td>\n      <td>NaN</td>\n      <td>NaN</td>\n      <td>NaN</td>\n    </tr>\n    <tr>\n      <th>3</th>\n      <td>NaN</td>\n      <td>395560</td>\n      <td>397900</td>\n      <td>NaN</td>\n      <td>NaN</td>\n      <td>NaN</td>\n      <td>NaN</td>\n      <td>NaN</td>\n      <td>NaN</td>\n    </tr>\n    <tr>\n      <th>4</th>\n      <td>NaN</td>\n      <td>445771</td>\n      <td>515362</td>\n      <td>NaN</td>\n      <td>NaN</td>\n      <td>NaN</td>\n      <td>NaN</td>\n      <td>NaN</td>\n      <td>NaN</td>\n    </tr>\n    <tr>\n      <th>...</th>\n      <td>...</td>\n      <td>...</td>\n      <td>...</td>\n      <td>...</td>\n      <td>...</td>\n      <td>...</td>\n      <td>...</td>\n      <td>...</td>\n      <td>...</td>\n    </tr>\n    <tr>\n      <th>29995</th>\n      <td>NaN</td>\n      <td>425977</td>\n      <td>438923</td>\n      <td>NaN</td>\n      <td>NaN</td>\n      <td>NaN</td>\n      <td>NaN</td>\n      <td>NaN</td>\n      <td>NaN</td>\n    </tr>\n    <tr>\n      <th>29996</th>\n      <td>NaN</td>\n      <td>384808</td>\n      <td>387982</td>\n      <td>NaN</td>\n      <td>NaN</td>\n      <td>NaN</td>\n      <td>NaN</td>\n      <td>NaN</td>\n      <td>NaN</td>\n    </tr>\n    <tr>\n      <th>29997</th>\n      <td>NaN</td>\n      <td>409215</td>\n      <td>416819</td>\n      <td>NaN</td>\n      <td>NaN</td>\n      <td>NaN</td>\n      <td>NaN</td>\n      <td>NaN</td>\n      <td>NaN</td>\n    </tr>\n    <tr>\n      <th>29998</th>\n      <td>NaN</td>\n      <td>419672</td>\n      <td>560517</td>\n      <td>NaN</td>\n      <td>NaN</td>\n      <td>NaN</td>\n      <td>NaN</td>\n      <td>NaN</td>\n      <td>NaN</td>\n    </tr>\n    <tr>\n      <th>29999</th>\n      <td>NaN</td>\n      <td>411674</td>\n      <td>288499</td>\n      <td>NaN</td>\n      <td>NaN</td>\n      <td>NaN</td>\n      <td>NaN</td>\n      <td>NaN</td>\n      <td>NaN</td>\n    </tr>\n  </tbody>\n</table>\n<p>30000 rows × 9 columns</p>\n</div>"
     },
     "execution_count": 425,
     "metadata": {},
     "output_type": "execute_result"
    }
   ],
   "source": [],
   "metadata": {
    "collapsed": false,
    "ExecuteTime": {
     "end_time": "2023-11-23T17:04:29.308360Z",
     "start_time": "2023-11-23T17:04:29.195985Z"
    }
   },
   "id": "e64716e52dc7786c"
  },
  {
   "cell_type": "code",
   "execution_count": 444,
   "outputs": [],
   "source": [
    "labels = df_labelled.sort_values(by='postcode').riskLabel"
   ],
   "metadata": {
    "collapsed": false,
    "ExecuteTime": {
     "end_time": "2023-11-23T17:13:41.975165Z",
     "start_time": "2023-11-23T17:13:41.892026Z"
    }
   },
   "id": "abb166769a12431b"
  },
  {
   "cell_type": "code",
   "execution_count": 403,
   "outputs": [],
   "source": [
    "postcodes = df_labelled.postcode.tolist()\n",
    "X = df_stacked[df_stacked[\"postcode\"].isin(postcodes)].copy().drop_duplicates()\n"
   ],
   "metadata": {
    "collapsed": false,
    "ExecuteTime": {
     "end_time": "2023-11-23T16:15:32.920507Z",
     "start_time": "2023-11-23T16:15:32.807382Z"
    }
   },
   "id": "bdba6cc71b5f3e07"
  },
  {
   "cell_type": "code",
   "execution_count": 406,
   "outputs": [],
   "source": [
    "X.sort_values(by='postcode', inplace=True)"
   ],
   "metadata": {
    "collapsed": false,
    "ExecuteTime": {
     "end_time": "2023-11-23T16:15:51.927801Z",
     "start_time": "2023-11-23T16:15:51.826308Z"
    }
   },
   "id": "20dd6f5cf8c9edf0"
  },
  {
   "cell_type": "code",
   "execution_count": 407,
   "outputs": [
    {
     "data": {
      "text/plain": "       postcode  easting  northing          soilType  elevation\n0       M34 7QL   393470    394371  Unsurveyed/Urban        110\n1       OL4 3NQ   395420    405669  Unsurveyed/Urban        210\n2       B36 8TE   411900    289400  Unsurveyed/Urban         90\n3      NE16 3AT   420400    562300  Unsurveyed/Urban         10\n4      WS10 8DE   397726    296656  Unsurveyed/Urban        140\n...         ...      ...       ...               ...        ...\n39995  LS16 0BP   425977    438923  Unsurveyed/Urban        160\n39996   SK8 4PG   384808    387982  Unsurveyed/Urban         40\n39997   HD7 4PA   409215    416819         Cambisols        310\n39998  NE16 5YT   419672    560517  Unsurveyed/Urban        130\n39999    B8 2RQ   411674    288499  Unsurveyed/Urban        110\n\n[40000 rows x 5 columns]",
      "text/html": "<div>\n<style scoped>\n    .dataframe tbody tr th:only-of-type {\n        vertical-align: middle;\n    }\n\n    .dataframe tbody tr th {\n        vertical-align: top;\n    }\n\n    .dataframe thead th {\n        text-align: right;\n    }\n</style>\n<table border=\"1\" class=\"dataframe\">\n  <thead>\n    <tr style=\"text-align: right;\">\n      <th></th>\n      <th>postcode</th>\n      <th>easting</th>\n      <th>northing</th>\n      <th>soilType</th>\n      <th>elevation</th>\n    </tr>\n  </thead>\n  <tbody>\n    <tr>\n      <th>0</th>\n      <td>M34 7QL</td>\n      <td>393470</td>\n      <td>394371</td>\n      <td>Unsurveyed/Urban</td>\n      <td>110</td>\n    </tr>\n    <tr>\n      <th>1</th>\n      <td>OL4 3NQ</td>\n      <td>395420</td>\n      <td>405669</td>\n      <td>Unsurveyed/Urban</td>\n      <td>210</td>\n    </tr>\n    <tr>\n      <th>2</th>\n      <td>B36 8TE</td>\n      <td>411900</td>\n      <td>289400</td>\n      <td>Unsurveyed/Urban</td>\n      <td>90</td>\n    </tr>\n    <tr>\n      <th>3</th>\n      <td>NE16 3AT</td>\n      <td>420400</td>\n      <td>562300</td>\n      <td>Unsurveyed/Urban</td>\n      <td>10</td>\n    </tr>\n    <tr>\n      <th>4</th>\n      <td>WS10 8DE</td>\n      <td>397726</td>\n      <td>296656</td>\n      <td>Unsurveyed/Urban</td>\n      <td>140</td>\n    </tr>\n    <tr>\n      <th>...</th>\n      <td>...</td>\n      <td>...</td>\n      <td>...</td>\n      <td>...</td>\n      <td>...</td>\n    </tr>\n    <tr>\n      <th>39995</th>\n      <td>LS16 0BP</td>\n      <td>425977</td>\n      <td>438923</td>\n      <td>Unsurveyed/Urban</td>\n      <td>160</td>\n    </tr>\n    <tr>\n      <th>39996</th>\n      <td>SK8 4PG</td>\n      <td>384808</td>\n      <td>387982</td>\n      <td>Unsurveyed/Urban</td>\n      <td>40</td>\n    </tr>\n    <tr>\n      <th>39997</th>\n      <td>HD7 4PA</td>\n      <td>409215</td>\n      <td>416819</td>\n      <td>Cambisols</td>\n      <td>310</td>\n    </tr>\n    <tr>\n      <th>39998</th>\n      <td>NE16 5YT</td>\n      <td>419672</td>\n      <td>560517</td>\n      <td>Unsurveyed/Urban</td>\n      <td>130</td>\n    </tr>\n    <tr>\n      <th>39999</th>\n      <td>B8 2RQ</td>\n      <td>411674</td>\n      <td>288499</td>\n      <td>Unsurveyed/Urban</td>\n      <td>110</td>\n    </tr>\n  </tbody>\n</table>\n<p>40000 rows × 5 columns</p>\n</div>"
     },
     "execution_count": 407,
     "metadata": {},
     "output_type": "execute_result"
    }
   ],
   "source": [
    "df_stacked"
   ],
   "metadata": {
    "collapsed": false,
    "ExecuteTime": {
     "end_time": "2023-11-23T16:15:52.379464Z",
     "start_time": "2023-11-23T16:15:52.329365Z"
    }
   },
   "id": "383578c0dd4891e6"
  },
  {
   "cell_type": "code",
   "execution_count": 408,
   "outputs": [
    {
     "ename": "ValueError",
     "evalue": "Can only compare identically-labeled (both index and columns) DataFrame objects",
     "output_type": "error",
     "traceback": [
      "\u001B[0;31m---------------------------------------------------------------------------\u001B[0m",
      "\u001B[0;31mValueError\u001B[0m                                Traceback (most recent call last)",
      "\u001B[0;32m/var/folders/yy/49bwn2fd1791d0pf1ml4jm4c0000gp/T/ipykernel_64487/4134753494.py\u001B[0m in \u001B[0;36m?\u001B[0;34m()\u001B[0m\n\u001B[0;32m----> 1\u001B[0;31m \u001B[0mX\u001B[0m \u001B[0;34m==\u001B[0m \u001B[0mdf_labelled\u001B[0m\u001B[0;34m\u001B[0m\u001B[0;34m\u001B[0m\u001B[0m\n\u001B[0m",
      "\u001B[0;32m/opt/homebrew/anaconda3/envs/deluge-wye/lib/python3.11/site-packages/pandas/core/ops/common.py\u001B[0m in \u001B[0;36m?\u001B[0;34m(self, other)\u001B[0m\n\u001B[1;32m     72\u001B[0m                     \u001B[0;32mreturn\u001B[0m \u001B[0mNotImplemented\u001B[0m\u001B[0;34m\u001B[0m\u001B[0;34m\u001B[0m\u001B[0m\n\u001B[1;32m     73\u001B[0m \u001B[0;34m\u001B[0m\u001B[0m\n\u001B[1;32m     74\u001B[0m         \u001B[0mother\u001B[0m \u001B[0;34m=\u001B[0m \u001B[0mitem_from_zerodim\u001B[0m\u001B[0;34m(\u001B[0m\u001B[0mother\u001B[0m\u001B[0;34m)\u001B[0m\u001B[0;34m\u001B[0m\u001B[0;34m\u001B[0m\u001B[0m\n\u001B[1;32m     75\u001B[0m \u001B[0;34m\u001B[0m\u001B[0m\n\u001B[0;32m---> 76\u001B[0;31m         \u001B[0;32mreturn\u001B[0m \u001B[0mmethod\u001B[0m\u001B[0;34m(\u001B[0m\u001B[0mself\u001B[0m\u001B[0;34m,\u001B[0m \u001B[0mother\u001B[0m\u001B[0;34m)\u001B[0m\u001B[0;34m\u001B[0m\u001B[0;34m\u001B[0m\u001B[0m\n\u001B[0m",
      "\u001B[0;32m/opt/homebrew/anaconda3/envs/deluge-wye/lib/python3.11/site-packages/pandas/core/arraylike.py\u001B[0m in \u001B[0;36m?\u001B[0;34m(self, other)\u001B[0m\n\u001B[1;32m     38\u001B[0m     \u001B[0;34m@\u001B[0m\u001B[0munpack_zerodim_and_defer\u001B[0m\u001B[0;34m(\u001B[0m\u001B[0;34m\"__eq__\"\u001B[0m\u001B[0;34m)\u001B[0m\u001B[0;34m\u001B[0m\u001B[0;34m\u001B[0m\u001B[0m\n\u001B[1;32m     39\u001B[0m     \u001B[0;32mdef\u001B[0m \u001B[0m__eq__\u001B[0m\u001B[0;34m(\u001B[0m\u001B[0mself\u001B[0m\u001B[0;34m,\u001B[0m \u001B[0mother\u001B[0m\u001B[0;34m)\u001B[0m\u001B[0;34m:\u001B[0m\u001B[0;34m\u001B[0m\u001B[0;34m\u001B[0m\u001B[0m\n\u001B[0;32m---> 40\u001B[0;31m         \u001B[0;32mreturn\u001B[0m \u001B[0mself\u001B[0m\u001B[0;34m.\u001B[0m\u001B[0m_cmp_method\u001B[0m\u001B[0;34m(\u001B[0m\u001B[0mother\u001B[0m\u001B[0;34m,\u001B[0m \u001B[0moperator\u001B[0m\u001B[0;34m.\u001B[0m\u001B[0meq\u001B[0m\u001B[0;34m)\u001B[0m\u001B[0;34m\u001B[0m\u001B[0;34m\u001B[0m\u001B[0m\n\u001B[0m",
      "\u001B[0;32m/opt/homebrew/anaconda3/envs/deluge-wye/lib/python3.11/site-packages/pandas/core/frame.py\u001B[0m in \u001B[0;36m?\u001B[0;34m(self, other, op)\u001B[0m\n\u001B[1;32m   7625\u001B[0m     \u001B[0;32mdef\u001B[0m \u001B[0m_cmp_method\u001B[0m\u001B[0;34m(\u001B[0m\u001B[0mself\u001B[0m\u001B[0;34m,\u001B[0m \u001B[0mother\u001B[0m\u001B[0;34m,\u001B[0m \u001B[0mop\u001B[0m\u001B[0;34m)\u001B[0m\u001B[0;34m:\u001B[0m\u001B[0;34m\u001B[0m\u001B[0;34m\u001B[0m\u001B[0m\n\u001B[1;32m   7626\u001B[0m         \u001B[0maxis\u001B[0m\u001B[0;34m:\u001B[0m \u001B[0mLiteral\u001B[0m\u001B[0;34m[\u001B[0m\u001B[0;36m1\u001B[0m\u001B[0;34m]\u001B[0m \u001B[0;34m=\u001B[0m \u001B[0;36m1\u001B[0m  \u001B[0;31m# only relevant for Series other case\u001B[0m\u001B[0;34m\u001B[0m\u001B[0;34m\u001B[0m\u001B[0m\n\u001B[1;32m   7627\u001B[0m \u001B[0;34m\u001B[0m\u001B[0m\n\u001B[0;32m-> 7628\u001B[0;31m         \u001B[0mself\u001B[0m\u001B[0;34m,\u001B[0m \u001B[0mother\u001B[0m \u001B[0;34m=\u001B[0m \u001B[0mself\u001B[0m\u001B[0;34m.\u001B[0m\u001B[0m_align_for_op\u001B[0m\u001B[0;34m(\u001B[0m\u001B[0mother\u001B[0m\u001B[0;34m,\u001B[0m \u001B[0maxis\u001B[0m\u001B[0;34m,\u001B[0m \u001B[0mflex\u001B[0m\u001B[0;34m=\u001B[0m\u001B[0;32mFalse\u001B[0m\u001B[0;34m,\u001B[0m \u001B[0mlevel\u001B[0m\u001B[0;34m=\u001B[0m\u001B[0;32mNone\u001B[0m\u001B[0;34m)\u001B[0m\u001B[0;34m\u001B[0m\u001B[0;34m\u001B[0m\u001B[0m\n\u001B[0m\u001B[1;32m   7629\u001B[0m \u001B[0;34m\u001B[0m\u001B[0m\n\u001B[1;32m   7630\u001B[0m         \u001B[0;31m# See GH#4537 for discussion of scalar op behavior\u001B[0m\u001B[0;34m\u001B[0m\u001B[0;34m\u001B[0m\u001B[0m\n\u001B[1;32m   7631\u001B[0m         \u001B[0mnew_data\u001B[0m \u001B[0;34m=\u001B[0m \u001B[0mself\u001B[0m\u001B[0;34m.\u001B[0m\u001B[0m_dispatch_frame_op\u001B[0m\u001B[0;34m(\u001B[0m\u001B[0mother\u001B[0m\u001B[0;34m,\u001B[0m \u001B[0mop\u001B[0m\u001B[0;34m,\u001B[0m \u001B[0maxis\u001B[0m\u001B[0;34m=\u001B[0m\u001B[0maxis\u001B[0m\u001B[0;34m)\u001B[0m\u001B[0;34m\u001B[0m\u001B[0;34m\u001B[0m\u001B[0m\n",
      "\u001B[0;32m/opt/homebrew/anaconda3/envs/deluge-wye/lib/python3.11/site-packages/pandas/core/frame.py\u001B[0m in \u001B[0;36m?\u001B[0;34m(self, other, axis, flex, level)\u001B[0m\n\u001B[1;32m   7923\u001B[0m                     left, right = left.align(\n\u001B[1;32m   7924\u001B[0m                         \u001B[0mright\u001B[0m\u001B[0;34m,\u001B[0m \u001B[0mjoin\u001B[0m\u001B[0;34m=\u001B[0m\u001B[0;34m\"outer\"\u001B[0m\u001B[0;34m,\u001B[0m \u001B[0mlevel\u001B[0m\u001B[0;34m=\u001B[0m\u001B[0mlevel\u001B[0m\u001B[0;34m,\u001B[0m \u001B[0mcopy\u001B[0m\u001B[0;34m=\u001B[0m\u001B[0;32mFalse\u001B[0m\u001B[0;34m\u001B[0m\u001B[0;34m\u001B[0m\u001B[0m\n\u001B[1;32m   7925\u001B[0m                     )\n\u001B[1;32m   7926\u001B[0m                 \u001B[0;32melse\u001B[0m\u001B[0;34m:\u001B[0m\u001B[0;34m\u001B[0m\u001B[0;34m\u001B[0m\u001B[0m\n\u001B[0;32m-> 7927\u001B[0;31m                     raise ValueError(\n\u001B[0m\u001B[1;32m   7928\u001B[0m                         \u001B[0;34m\"Can only compare identically-labeled (both index and columns) \"\u001B[0m\u001B[0;34m\u001B[0m\u001B[0;34m\u001B[0m\u001B[0m\n\u001B[1;32m   7929\u001B[0m                         \u001B[0;34m\"DataFrame objects\"\u001B[0m\u001B[0;34m\u001B[0m\u001B[0;34m\u001B[0m\u001B[0m\n\u001B[1;32m   7930\u001B[0m                     )\n",
      "\u001B[0;31mValueError\u001B[0m: Can only compare identically-labeled (both index and columns) DataFrame objects"
     ]
    }
   ],
   "source": [
    "X == df_labelled"
   ],
   "metadata": {
    "collapsed": false,
    "ExecuteTime": {
     "end_time": "2023-11-23T16:15:53.151491Z",
     "start_time": "2023-11-23T16:15:53.100903Z"
    }
   },
   "id": "6240f5f99c53c9f0"
  },
  {
   "cell_type": "code",
   "execution_count": 427,
   "outputs": [
    {
     "name": "stderr",
     "output_type": "stream",
     "text": [
      "2023-11-23 17:05:17,399 [flood_tool.data_processor] INFO: Data loaded successfully loaded.\n"
     ]
    }
   ],
   "source": [
    "from flood_tool.data_processor import DataProcessor\n",
    "dp = DataProcessor(\n",
    "    df_postcodes=df_labelled,\n",
    "    resource_path='../flood_tool/resources/'\n",
    ")"
   ],
   "metadata": {
    "collapsed": false,
    "ExecuteTime": {
     "end_time": "2023-11-23T17:05:17.436102Z",
     "start_time": "2023-11-23T17:05:17.137648Z"
    }
   },
   "id": "409694e0e5f39a6"
  },
  {
   "cell_type": "code",
   "execution_count": 428,
   "outputs": [],
   "source": [
    "df_os = dp.process_os(easting, northing)"
   ],
   "metadata": {
    "collapsed": false,
    "ExecuteTime": {
     "end_time": "2023-11-23T17:05:35.985507Z",
     "start_time": "2023-11-23T17:05:30.458834Z"
    }
   },
   "id": "352d76ce7703a734"
  },
  {
   "cell_type": "code",
   "execution_count": 432,
   "outputs": [
    {
     "data": {
      "text/plain": "            x       y postcode  easting  northing          soilType  \\\n22328  406828  286519   B1 1BN   406828    286519  Unsurveyed/Urban   \n15724  406827  286134   B1 1DW   406827    286134  Unsurveyed/Urban   \n7440   406600  286300   B1 1JQ   406600    286300  Unsurveyed/Urban   \n22175  406600  286300   B1 1JQ   406600    286300  Unsurveyed/Urban   \n9712   406543  286230   B1 1JS   406543    286230  Unsurveyed/Urban   \n...       ...     ...      ...      ...       ...               ...   \n23417  460681  430444  YO8 9RL   460681    430444          Gleysols   \n15583  459985  430870  YO8 9TH   459985    430870  Unsurveyed/Urban   \n28925  461173  430045  YO8 9UL   461173    430045          Gleysols   \n7727   454977  430481  YO8 9ZB   454977    430481         Arenosols   \n8873   454800  430500  YO8 9ZZ   454800    430500         Arenosols   \n\n       elevation localAuthority  riskLabel  medianPrice  historicallyFlooded  \\\n22328        120     Birmingham          1     242100.0                False   \n15724        130     Birmingham          1     258600.0                False   \n7440         140     Birmingham          1     238000.0                False   \n22175        140     Birmingham          1     238000.0                False   \n9712         140     Birmingham          1     255700.0                False   \n...          ...            ...        ...          ...                  ...   \n23417         10          Selby          2     206500.0                False   \n15583         10          Selby          6     218500.0                False   \n28925         10          Selby          1     207900.0                False   \n7727          10          Selby          1     247700.0                False   \n8873          10          Selby          1     218800.0                False   \n\n        latitude  longitude  \n22328  52.476557  -1.900901  \n15724  52.473096  -1.900923  \n7440   52.474591  -1.904262  \n22175  52.474591  -1.904262  \n9712   52.473963  -1.905102  \n...          ...        ...  \n23417  53.766817  -1.080906  \n15583  53.770726  -1.091381  \n28925  53.763174  -1.073522  \n7727   53.767781  -1.167422  \n8873   53.767971  -1.170104  \n\n[30000 rows x 13 columns]",
      "text/html": "<div>\n<style scoped>\n    .dataframe tbody tr th:only-of-type {\n        vertical-align: middle;\n    }\n\n    .dataframe tbody tr th {\n        vertical-align: top;\n    }\n\n    .dataframe thead th {\n        text-align: right;\n    }\n</style>\n<table border=\"1\" class=\"dataframe\">\n  <thead>\n    <tr style=\"text-align: right;\">\n      <th></th>\n      <th>x</th>\n      <th>y</th>\n      <th>postcode</th>\n      <th>easting</th>\n      <th>northing</th>\n      <th>soilType</th>\n      <th>elevation</th>\n      <th>localAuthority</th>\n      <th>riskLabel</th>\n      <th>medianPrice</th>\n      <th>historicallyFlooded</th>\n      <th>latitude</th>\n      <th>longitude</th>\n    </tr>\n  </thead>\n  <tbody>\n    <tr>\n      <th>22328</th>\n      <td>406828</td>\n      <td>286519</td>\n      <td>B1 1BN</td>\n      <td>406828</td>\n      <td>286519</td>\n      <td>Unsurveyed/Urban</td>\n      <td>120</td>\n      <td>Birmingham</td>\n      <td>1</td>\n      <td>242100.0</td>\n      <td>False</td>\n      <td>52.476557</td>\n      <td>-1.900901</td>\n    </tr>\n    <tr>\n      <th>15724</th>\n      <td>406827</td>\n      <td>286134</td>\n      <td>B1 1DW</td>\n      <td>406827</td>\n      <td>286134</td>\n      <td>Unsurveyed/Urban</td>\n      <td>130</td>\n      <td>Birmingham</td>\n      <td>1</td>\n      <td>258600.0</td>\n      <td>False</td>\n      <td>52.473096</td>\n      <td>-1.900923</td>\n    </tr>\n    <tr>\n      <th>7440</th>\n      <td>406600</td>\n      <td>286300</td>\n      <td>B1 1JQ</td>\n      <td>406600</td>\n      <td>286300</td>\n      <td>Unsurveyed/Urban</td>\n      <td>140</td>\n      <td>Birmingham</td>\n      <td>1</td>\n      <td>238000.0</td>\n      <td>False</td>\n      <td>52.474591</td>\n      <td>-1.904262</td>\n    </tr>\n    <tr>\n      <th>22175</th>\n      <td>406600</td>\n      <td>286300</td>\n      <td>B1 1JQ</td>\n      <td>406600</td>\n      <td>286300</td>\n      <td>Unsurveyed/Urban</td>\n      <td>140</td>\n      <td>Birmingham</td>\n      <td>1</td>\n      <td>238000.0</td>\n      <td>False</td>\n      <td>52.474591</td>\n      <td>-1.904262</td>\n    </tr>\n    <tr>\n      <th>9712</th>\n      <td>406543</td>\n      <td>286230</td>\n      <td>B1 1JS</td>\n      <td>406543</td>\n      <td>286230</td>\n      <td>Unsurveyed/Urban</td>\n      <td>140</td>\n      <td>Birmingham</td>\n      <td>1</td>\n      <td>255700.0</td>\n      <td>False</td>\n      <td>52.473963</td>\n      <td>-1.905102</td>\n    </tr>\n    <tr>\n      <th>...</th>\n      <td>...</td>\n      <td>...</td>\n      <td>...</td>\n      <td>...</td>\n      <td>...</td>\n      <td>...</td>\n      <td>...</td>\n      <td>...</td>\n      <td>...</td>\n      <td>...</td>\n      <td>...</td>\n      <td>...</td>\n      <td>...</td>\n    </tr>\n    <tr>\n      <th>23417</th>\n      <td>460681</td>\n      <td>430444</td>\n      <td>YO8 9RL</td>\n      <td>460681</td>\n      <td>430444</td>\n      <td>Gleysols</td>\n      <td>10</td>\n      <td>Selby</td>\n      <td>2</td>\n      <td>206500.0</td>\n      <td>False</td>\n      <td>53.766817</td>\n      <td>-1.080906</td>\n    </tr>\n    <tr>\n      <th>15583</th>\n      <td>459985</td>\n      <td>430870</td>\n      <td>YO8 9TH</td>\n      <td>459985</td>\n      <td>430870</td>\n      <td>Unsurveyed/Urban</td>\n      <td>10</td>\n      <td>Selby</td>\n      <td>6</td>\n      <td>218500.0</td>\n      <td>False</td>\n      <td>53.770726</td>\n      <td>-1.091381</td>\n    </tr>\n    <tr>\n      <th>28925</th>\n      <td>461173</td>\n      <td>430045</td>\n      <td>YO8 9UL</td>\n      <td>461173</td>\n      <td>430045</td>\n      <td>Gleysols</td>\n      <td>10</td>\n      <td>Selby</td>\n      <td>1</td>\n      <td>207900.0</td>\n      <td>False</td>\n      <td>53.763174</td>\n      <td>-1.073522</td>\n    </tr>\n    <tr>\n      <th>7727</th>\n      <td>454977</td>\n      <td>430481</td>\n      <td>YO8 9ZB</td>\n      <td>454977</td>\n      <td>430481</td>\n      <td>Arenosols</td>\n      <td>10</td>\n      <td>Selby</td>\n      <td>1</td>\n      <td>247700.0</td>\n      <td>False</td>\n      <td>53.767781</td>\n      <td>-1.167422</td>\n    </tr>\n    <tr>\n      <th>8873</th>\n      <td>454800</td>\n      <td>430500</td>\n      <td>YO8 9ZZ</td>\n      <td>454800</td>\n      <td>430500</td>\n      <td>Arenosols</td>\n      <td>10</td>\n      <td>Selby</td>\n      <td>1</td>\n      <td>218800.0</td>\n      <td>False</td>\n      <td>53.767971</td>\n      <td>-1.170104</td>\n    </tr>\n  </tbody>\n</table>\n<p>30000 rows × 13 columns</p>\n</div>"
     },
     "execution_count": 432,
     "metadata": {},
     "output_type": "execute_result"
    }
   ],
   "source": [
    "df_os.sort_values(by='postcode')"
   ],
   "metadata": {
    "collapsed": false,
    "ExecuteTime": {
     "end_time": "2023-11-23T17:07:05.647095Z",
     "start_time": "2023-11-23T17:07:05.549698Z"
    }
   },
   "id": "af503eacadc56ff7"
  },
  {
   "cell_type": "code",
   "execution_count": 445,
   "outputs": [
    {
     "name": "stderr",
     "output_type": "stream",
     "text": [
      "2023-11-23 17:14:24,208 [flood_tool.tool] INFO: (76944, 9)\n"
     ]
    }
   ],
   "source": [
    "preds = tool.predict_flood_class_from_OSGB36_location(easting, northing)"
   ],
   "metadata": {
    "collapsed": false,
    "ExecuteTime": {
     "end_time": "2023-11-23T17:14:24.622849Z",
     "start_time": "2023-11-23T17:13:49.849462Z"
    }
   },
   "id": "f8925ed2bc6f282b"
  },
  {
   "cell_type": "code",
   "execution_count": 438,
   "outputs": [
    {
     "data": {
      "text/plain": "2281790"
     },
     "execution_count": 438,
     "metadata": {},
     "output_type": "execute_result"
    }
   ],
   "source": [
    "classifier_scorer(labels -1, preds -1)x"
   ],
   "metadata": {
    "collapsed": false,
    "ExecuteTime": {
     "end_time": "2023-11-23T17:09:29.627734Z",
     "start_time": "2023-11-23T17:09:29.526988Z"
    }
   },
   "id": "2f3afe608759891e"
  },
  {
   "cell_type": "code",
   "execution_count": 431,
   "outputs": [
    {
     "data": {
      "text/plain": "      postcode  easting  northing          soilType  elevation localAuthority  \\\n22328   B1 1BN   406828    286519  Unsurveyed/Urban        120     Birmingham   \n15724   B1 1DW   406827    286134  Unsurveyed/Urban        130     Birmingham   \n7440    B1 1JQ   406600    286300  Unsurveyed/Urban        140     Birmingham   \n9712    B1 1JS   406543    286230  Unsurveyed/Urban        140     Birmingham   \n12486   B1 1LN   406764    286406  Unsurveyed/Urban        130     Birmingham   \n...        ...      ...       ...               ...        ...            ...   \n23417  YO8 9RL   460681    430444          Gleysols         10          Selby   \n15583  YO8 9TH   459985    430870  Unsurveyed/Urban         10          Selby   \n28925  YO8 9UL   461173    430045          Gleysols         10          Selby   \n7727   YO8 9ZB   454977    430481         Arenosols         10          Selby   \n8873   YO8 9ZZ   454800    430500         Arenosols         10          Selby   \n\n       riskLabel  medianPrice  historicallyFlooded  \n22328          1     242100.0                False  \n15724          1     258600.0                False  \n7440           1     238000.0                False  \n9712           1     255700.0                False  \n12486          1     224300.0                False  \n...          ...          ...                  ...  \n23417          2     206500.0                False  \n15583          6     218500.0                False  \n28925          1     207900.0                False  \n7727           1     247700.0                False  \n8873           1     218800.0                False  \n\n[30000 rows x 9 columns]",
      "text/html": "<div>\n<style scoped>\n    .dataframe tbody tr th:only-of-type {\n        vertical-align: middle;\n    }\n\n    .dataframe tbody tr th {\n        vertical-align: top;\n    }\n\n    .dataframe thead th {\n        text-align: right;\n    }\n</style>\n<table border=\"1\" class=\"dataframe\">\n  <thead>\n    <tr style=\"text-align: right;\">\n      <th></th>\n      <th>postcode</th>\n      <th>easting</th>\n      <th>northing</th>\n      <th>soilType</th>\n      <th>elevation</th>\n      <th>localAuthority</th>\n      <th>riskLabel</th>\n      <th>medianPrice</th>\n      <th>historicallyFlooded</th>\n    </tr>\n  </thead>\n  <tbody>\n    <tr>\n      <th>22328</th>\n      <td>B1 1BN</td>\n      <td>406828</td>\n      <td>286519</td>\n      <td>Unsurveyed/Urban</td>\n      <td>120</td>\n      <td>Birmingham</td>\n      <td>1</td>\n      <td>242100.0</td>\n      <td>False</td>\n    </tr>\n    <tr>\n      <th>15724</th>\n      <td>B1 1DW</td>\n      <td>406827</td>\n      <td>286134</td>\n      <td>Unsurveyed/Urban</td>\n      <td>130</td>\n      <td>Birmingham</td>\n      <td>1</td>\n      <td>258600.0</td>\n      <td>False</td>\n    </tr>\n    <tr>\n      <th>7440</th>\n      <td>B1 1JQ</td>\n      <td>406600</td>\n      <td>286300</td>\n      <td>Unsurveyed/Urban</td>\n      <td>140</td>\n      <td>Birmingham</td>\n      <td>1</td>\n      <td>238000.0</td>\n      <td>False</td>\n    </tr>\n    <tr>\n      <th>9712</th>\n      <td>B1 1JS</td>\n      <td>406543</td>\n      <td>286230</td>\n      <td>Unsurveyed/Urban</td>\n      <td>140</td>\n      <td>Birmingham</td>\n      <td>1</td>\n      <td>255700.0</td>\n      <td>False</td>\n    </tr>\n    <tr>\n      <th>12486</th>\n      <td>B1 1LN</td>\n      <td>406764</td>\n      <td>286406</td>\n      <td>Unsurveyed/Urban</td>\n      <td>130</td>\n      <td>Birmingham</td>\n      <td>1</td>\n      <td>224300.0</td>\n      <td>False</td>\n    </tr>\n    <tr>\n      <th>...</th>\n      <td>...</td>\n      <td>...</td>\n      <td>...</td>\n      <td>...</td>\n      <td>...</td>\n      <td>...</td>\n      <td>...</td>\n      <td>...</td>\n      <td>...</td>\n    </tr>\n    <tr>\n      <th>23417</th>\n      <td>YO8 9RL</td>\n      <td>460681</td>\n      <td>430444</td>\n      <td>Gleysols</td>\n      <td>10</td>\n      <td>Selby</td>\n      <td>2</td>\n      <td>206500.0</td>\n      <td>False</td>\n    </tr>\n    <tr>\n      <th>15583</th>\n      <td>YO8 9TH</td>\n      <td>459985</td>\n      <td>430870</td>\n      <td>Unsurveyed/Urban</td>\n      <td>10</td>\n      <td>Selby</td>\n      <td>6</td>\n      <td>218500.0</td>\n      <td>False</td>\n    </tr>\n    <tr>\n      <th>28925</th>\n      <td>YO8 9UL</td>\n      <td>461173</td>\n      <td>430045</td>\n      <td>Gleysols</td>\n      <td>10</td>\n      <td>Selby</td>\n      <td>1</td>\n      <td>207900.0</td>\n      <td>False</td>\n    </tr>\n    <tr>\n      <th>7727</th>\n      <td>YO8 9ZB</td>\n      <td>454977</td>\n      <td>430481</td>\n      <td>Arenosols</td>\n      <td>10</td>\n      <td>Selby</td>\n      <td>1</td>\n      <td>247700.0</td>\n      <td>False</td>\n    </tr>\n    <tr>\n      <th>8873</th>\n      <td>YO8 9ZZ</td>\n      <td>454800</td>\n      <td>430500</td>\n      <td>Arenosols</td>\n      <td>10</td>\n      <td>Selby</td>\n      <td>1</td>\n      <td>218800.0</td>\n      <td>False</td>\n    </tr>\n  </tbody>\n</table>\n<p>30000 rows × 9 columns</p>\n</div>"
     },
     "execution_count": 431,
     "metadata": {},
     "output_type": "execute_result"
    }
   ],
   "source": [
    "df_labelled.sort_values(by='postcode')"
   ],
   "metadata": {
    "collapsed": false,
    "ExecuteTime": {
     "end_time": "2023-11-23T17:06:58.534810Z",
     "start_time": "2023-11-23T17:06:58.416515Z"
    }
   },
   "id": "29e15ea608c8b3f9"
  },
  {
   "cell_type": "code",
   "execution_count": 421,
   "outputs": [
    {
     "name": "stderr",
     "output_type": "stream",
     "text": [
      "2023-11-23 16:33:31,930 [flood_tool.data_processor] INFO: Data successfully merged.\n"
     ]
    },
    {
     "data": {
      "text/plain": "      postcode   easting  northing          soilType  elevation  \\\n0      OL9 7NS  390978.0  403269.0  Unsurveyed/Urban      130.0   \n1      OL9 7DX  390874.0  403827.0  Unsurveyed/Urban      130.0   \n2      OL9 7AZ  391300.0  404000.0  Unsurveyed/Urban      150.0   \n3      OL9 7LY  390603.0  402883.0  Unsurveyed/Urban      110.0   \n4      OL9 7DF  391172.0  403860.0  Unsurveyed/Urban      140.0   \n...        ...       ...       ...               ...        ...   \n29995  S96 5XX  437927.0  389870.0  Unsurveyed/Urban       40.0   \n29996  CB6 1EH  558563.0  292514.0          Gleysols        0.0   \n29997  CW9 6NF  368821.0  378786.0        Stagnosols       50.0   \n29998  CW9 6LZ  367292.0  380886.0        Stagnosols       60.0   \n29999  B62 0QH  399000.0  282900.0  Unsurveyed/Urban      190.0   \n\n                     localAuthority  riskLabel  medianPrice  \\\n0                            Oldham        1.0     119100.0   \n1                            Oldham        1.0     110600.0   \n2                            Oldham        1.0     130200.0   \n3                            Oldham        1.0     112900.0   \n4                            Oldham        1.0     124300.0   \n...                             ...        ...          ...   \n29995                     Sheffield        1.0          NaN   \n29996  King's Lynn and West Norfolk        8.0     276000.0   \n29997                 Cheshire East        1.0     394600.0   \n29998                 Cheshire East        1.0     382200.0   \n29999                    Birmingham        1.0     350600.0   \n\n      historicallyFlooded   latitude  ...  typicalRangeLow  \\\n0                   False  53.526004  ...              NaN   \n1                   False  53.531018  ...              NaN   \n2                   False  53.532580  ...              NaN   \n3                   False  53.522528  ...              NaN   \n4                   False  53.531320  ...              NaN   \n...                   ...        ...  ...              ...   \n29995                True  53.404293  ...              NaN   \n29996               False  52.507462  ...              NaN   \n29997               False  53.305093  ...              NaN   \n29998               False  53.323876  ...              NaN   \n29999               False  52.444063  ...              NaN   \n\n       typical_average_rainfall_per_hour  wet_average_rainfall_per_hour  \\\n0                                    0.0                       0.741667   \n1                                    0.0                       0.741667   \n2                                    0.0                       0.741667   \n3                                    0.0                       0.741667   \n4                                    0.0                       0.741667   \n...                                  ...                            ...   \n29995                                0.0                       3.091667   \n29996                                0.0                       0.000000   \n29997                                0.0                       1.529167   \n29998                                0.0                       1.529167   \n29999                                0.0                       1.908333   \n\n      postcodeDistrict catsPerHousehold  dogsPerHousehold  postcodeSector  \\\n0                  OL9         0.151213          0.173414           OL9 7   \n1                  OL9         0.151213          0.173414           OL9 7   \n2                  OL9         0.151213          0.173414           OL9 7   \n3                  OL9         0.151213          0.173414           OL9 7   \n4                  OL9         0.151213          0.173414           OL9 7   \n...                ...              ...               ...             ...   \n29995              S96         0.000000          0.000000           S96 5   \n29996              CB6         0.296852          0.340437           CB6 1   \n29997              CW9         0.230472          0.264310           CW9 6   \n29998              CW9         0.230472          0.264310           CW9 6   \n29999              B62         0.268346          0.307745           B62 0   \n\n       households  numberOfPostcodeUnits  headcount  \n0             NaN                    NaN        NaN  \n1             NaN                    NaN        NaN  \n2             NaN                    NaN        NaN  \n3             NaN                    NaN        NaN  \n4             NaN                    NaN        NaN  \n...           ...                    ...        ...  \n29995         NaN                    NaN        NaN  \n29996         NaN                    NaN        NaN  \n29997         NaN                    NaN        NaN  \n29998         NaN                    NaN        NaN  \n29999         NaN                    NaN        NaN  \n\n[30000 rows x 28 columns]",
      "text/html": "<div>\n<style scoped>\n    .dataframe tbody tr th:only-of-type {\n        vertical-align: middle;\n    }\n\n    .dataframe tbody tr th {\n        vertical-align: top;\n    }\n\n    .dataframe thead th {\n        text-align: right;\n    }\n</style>\n<table border=\"1\" class=\"dataframe\">\n  <thead>\n    <tr style=\"text-align: right;\">\n      <th></th>\n      <th>postcode</th>\n      <th>easting</th>\n      <th>northing</th>\n      <th>soilType</th>\n      <th>elevation</th>\n      <th>localAuthority</th>\n      <th>riskLabel</th>\n      <th>medianPrice</th>\n      <th>historicallyFlooded</th>\n      <th>latitude</th>\n      <th>...</th>\n      <th>typicalRangeLow</th>\n      <th>typical_average_rainfall_per_hour</th>\n      <th>wet_average_rainfall_per_hour</th>\n      <th>postcodeDistrict</th>\n      <th>catsPerHousehold</th>\n      <th>dogsPerHousehold</th>\n      <th>postcodeSector</th>\n      <th>households</th>\n      <th>numberOfPostcodeUnits</th>\n      <th>headcount</th>\n    </tr>\n  </thead>\n  <tbody>\n    <tr>\n      <th>0</th>\n      <td>OL9 7NS</td>\n      <td>390978.0</td>\n      <td>403269.0</td>\n      <td>Unsurveyed/Urban</td>\n      <td>130.0</td>\n      <td>Oldham</td>\n      <td>1.0</td>\n      <td>119100.0</td>\n      <td>False</td>\n      <td>53.526004</td>\n      <td>...</td>\n      <td>NaN</td>\n      <td>0.0</td>\n      <td>0.741667</td>\n      <td>OL9</td>\n      <td>0.151213</td>\n      <td>0.173414</td>\n      <td>OL9 7</td>\n      <td>NaN</td>\n      <td>NaN</td>\n      <td>NaN</td>\n    </tr>\n    <tr>\n      <th>1</th>\n      <td>OL9 7DX</td>\n      <td>390874.0</td>\n      <td>403827.0</td>\n      <td>Unsurveyed/Urban</td>\n      <td>130.0</td>\n      <td>Oldham</td>\n      <td>1.0</td>\n      <td>110600.0</td>\n      <td>False</td>\n      <td>53.531018</td>\n      <td>...</td>\n      <td>NaN</td>\n      <td>0.0</td>\n      <td>0.741667</td>\n      <td>OL9</td>\n      <td>0.151213</td>\n      <td>0.173414</td>\n      <td>OL9 7</td>\n      <td>NaN</td>\n      <td>NaN</td>\n      <td>NaN</td>\n    </tr>\n    <tr>\n      <th>2</th>\n      <td>OL9 7AZ</td>\n      <td>391300.0</td>\n      <td>404000.0</td>\n      <td>Unsurveyed/Urban</td>\n      <td>150.0</td>\n      <td>Oldham</td>\n      <td>1.0</td>\n      <td>130200.0</td>\n      <td>False</td>\n      <td>53.532580</td>\n      <td>...</td>\n      <td>NaN</td>\n      <td>0.0</td>\n      <td>0.741667</td>\n      <td>OL9</td>\n      <td>0.151213</td>\n      <td>0.173414</td>\n      <td>OL9 7</td>\n      <td>NaN</td>\n      <td>NaN</td>\n      <td>NaN</td>\n    </tr>\n    <tr>\n      <th>3</th>\n      <td>OL9 7LY</td>\n      <td>390603.0</td>\n      <td>402883.0</td>\n      <td>Unsurveyed/Urban</td>\n      <td>110.0</td>\n      <td>Oldham</td>\n      <td>1.0</td>\n      <td>112900.0</td>\n      <td>False</td>\n      <td>53.522528</td>\n      <td>...</td>\n      <td>NaN</td>\n      <td>0.0</td>\n      <td>0.741667</td>\n      <td>OL9</td>\n      <td>0.151213</td>\n      <td>0.173414</td>\n      <td>OL9 7</td>\n      <td>NaN</td>\n      <td>NaN</td>\n      <td>NaN</td>\n    </tr>\n    <tr>\n      <th>4</th>\n      <td>OL9 7DF</td>\n      <td>391172.0</td>\n      <td>403860.0</td>\n      <td>Unsurveyed/Urban</td>\n      <td>140.0</td>\n      <td>Oldham</td>\n      <td>1.0</td>\n      <td>124300.0</td>\n      <td>False</td>\n      <td>53.531320</td>\n      <td>...</td>\n      <td>NaN</td>\n      <td>0.0</td>\n      <td>0.741667</td>\n      <td>OL9</td>\n      <td>0.151213</td>\n      <td>0.173414</td>\n      <td>OL9 7</td>\n      <td>NaN</td>\n      <td>NaN</td>\n      <td>NaN</td>\n    </tr>\n    <tr>\n      <th>...</th>\n      <td>...</td>\n      <td>...</td>\n      <td>...</td>\n      <td>...</td>\n      <td>...</td>\n      <td>...</td>\n      <td>...</td>\n      <td>...</td>\n      <td>...</td>\n      <td>...</td>\n      <td>...</td>\n      <td>...</td>\n      <td>...</td>\n      <td>...</td>\n      <td>...</td>\n      <td>...</td>\n      <td>...</td>\n      <td>...</td>\n      <td>...</td>\n      <td>...</td>\n      <td>...</td>\n    </tr>\n    <tr>\n      <th>29995</th>\n      <td>S96 5XX</td>\n      <td>437927.0</td>\n      <td>389870.0</td>\n      <td>Unsurveyed/Urban</td>\n      <td>40.0</td>\n      <td>Sheffield</td>\n      <td>1.0</td>\n      <td>NaN</td>\n      <td>True</td>\n      <td>53.404293</td>\n      <td>...</td>\n      <td>NaN</td>\n      <td>0.0</td>\n      <td>3.091667</td>\n      <td>S96</td>\n      <td>0.000000</td>\n      <td>0.000000</td>\n      <td>S96 5</td>\n      <td>NaN</td>\n      <td>NaN</td>\n      <td>NaN</td>\n    </tr>\n    <tr>\n      <th>29996</th>\n      <td>CB6 1EH</td>\n      <td>558563.0</td>\n      <td>292514.0</td>\n      <td>Gleysols</td>\n      <td>0.0</td>\n      <td>King's Lynn and West Norfolk</td>\n      <td>8.0</td>\n      <td>276000.0</td>\n      <td>False</td>\n      <td>52.507462</td>\n      <td>...</td>\n      <td>NaN</td>\n      <td>0.0</td>\n      <td>0.000000</td>\n      <td>CB6</td>\n      <td>0.296852</td>\n      <td>0.340437</td>\n      <td>CB6 1</td>\n      <td>NaN</td>\n      <td>NaN</td>\n      <td>NaN</td>\n    </tr>\n    <tr>\n      <th>29997</th>\n      <td>CW9 6NF</td>\n      <td>368821.0</td>\n      <td>378786.0</td>\n      <td>Stagnosols</td>\n      <td>50.0</td>\n      <td>Cheshire East</td>\n      <td>1.0</td>\n      <td>394600.0</td>\n      <td>False</td>\n      <td>53.305093</td>\n      <td>...</td>\n      <td>NaN</td>\n      <td>0.0</td>\n      <td>1.529167</td>\n      <td>CW9</td>\n      <td>0.230472</td>\n      <td>0.264310</td>\n      <td>CW9 6</td>\n      <td>NaN</td>\n      <td>NaN</td>\n      <td>NaN</td>\n    </tr>\n    <tr>\n      <th>29998</th>\n      <td>CW9 6LZ</td>\n      <td>367292.0</td>\n      <td>380886.0</td>\n      <td>Stagnosols</td>\n      <td>60.0</td>\n      <td>Cheshire East</td>\n      <td>1.0</td>\n      <td>382200.0</td>\n      <td>False</td>\n      <td>53.323876</td>\n      <td>...</td>\n      <td>NaN</td>\n      <td>0.0</td>\n      <td>1.529167</td>\n      <td>CW9</td>\n      <td>0.230472</td>\n      <td>0.264310</td>\n      <td>CW9 6</td>\n      <td>NaN</td>\n      <td>NaN</td>\n      <td>NaN</td>\n    </tr>\n    <tr>\n      <th>29999</th>\n      <td>B62 0QH</td>\n      <td>399000.0</td>\n      <td>282900.0</td>\n      <td>Unsurveyed/Urban</td>\n      <td>190.0</td>\n      <td>Birmingham</td>\n      <td>1.0</td>\n      <td>350600.0</td>\n      <td>False</td>\n      <td>52.444063</td>\n      <td>...</td>\n      <td>NaN</td>\n      <td>0.0</td>\n      <td>1.908333</td>\n      <td>B62</td>\n      <td>0.268346</td>\n      <td>0.307745</td>\n      <td>B62 0</td>\n      <td>NaN</td>\n      <td>NaN</td>\n      <td>NaN</td>\n    </tr>\n  </tbody>\n</table>\n<p>30000 rows × 28 columns</p>\n</div>"
     },
     "execution_count": 421,
     "metadata": {},
     "output_type": "execute_result"
    }
   ],
   "source": [
    "dp.get_combined_dataframe()"
   ],
   "metadata": {
    "collapsed": false,
    "ExecuteTime": {
     "end_time": "2023-11-23T16:33:31.970575Z",
     "start_time": "2023-11-23T16:33:30.877238Z"
    }
   },
   "id": "93374c619a2e1f54"
  },
  {
   "cell_type": "code",
   "execution_count": 410,
   "outputs": [],
   "source": [
    "feats = ['postcode', 'easting', 'northing', 'soilType', 'elevation']"
   ],
   "metadata": {
    "collapsed": false,
    "ExecuteTime": {
     "end_time": "2023-11-23T16:15:54.516671Z",
     "start_time": "2023-11-23T16:15:54.471126Z"
    }
   },
   "id": "504ea80583489d86"
  },
  {
   "cell_type": "code",
   "execution_count": 411,
   "outputs": [],
   "source": [
    "from flood_tool.models.flood_predictor import FloodPredictor\n"
   ],
   "metadata": {
    "collapsed": false,
    "ExecuteTime": {
     "end_time": "2023-11-23T16:15:55.715812Z",
     "start_time": "2023-11-23T16:15:55.667216Z"
    }
   },
   "id": "e5c7f45b376a78e8"
  },
  {
   "cell_type": "code",
   "execution_count": 440,
   "outputs": [
    {
     "name": "stderr",
     "output_type": "stream",
     "text": [
      "2023-11-23 17:10:52,131 [flood_tool.models.flood_predictor] ERROR: [0. 1. 2. 3. 4. 5. 6. 7. 8. 9.]\n",
      "2023-11-23 17:10:52,132 [flood_tool.models.flood_predictor] ERROR: <class 'pandas.core.series.Series'>\n",
      "2023-11-23 17:10:52,616 [flood_tool.models.predictor] INFO: Model successfully fit.\n"
     ]
    },
    {
     "data": {
      "text/plain": "{'flood_score': 569980}"
     },
     "execution_count": 440,
     "metadata": {},
     "output_type": "execute_result"
    }
   ],
   "source": [
    "fp = FloodPredictor(\n",
    "    training_data=df_labelled,\n",
    "    model_alias='xgb_regressor',\n",
    "    scoring=score_fn,\n",
    ")\n",
    "fp.test_score"
   ],
   "metadata": {
    "collapsed": false,
    "ExecuteTime": {
     "end_time": "2023-11-23T17:10:52.627350Z",
     "start_time": "2023-11-23T17:10:50.863901Z"
    }
   },
   "id": "c8176f473a0cd868"
  },
  {
   "cell_type": "code",
   "execution_count": 442,
   "outputs": [
    {
     "name": "stderr",
     "output_type": "stream",
     "text": [
      "/Users/bpg23/Documents/GitHub/ads-deluge-wye/flood_tool/models/flood_predictor.py:237: SettingWithCopyWarning: \n",
      "A value is trying to be set on a copy of a slice from a DataFrame\n",
      "\n",
      "See the caveats in the documentation: https://pandas.pydata.org/pandas-docs/stable/user_guide/indexing.html#returning-a-view-versus-a-copy\n",
      "  X.drop(columns=list(index), inplace=True)\n",
      "/Users/bpg23/Documents/GitHub/ads-deluge-wye/flood_tool/models/flood_predictor.py:238: SettingWithCopyWarning: \n",
      "A value is trying to be set on a copy of a slice from a DataFrame\n",
      "\n",
      "See the caveats in the documentation: https://pandas.pydata.org/pandas-docs/stable/user_guide/indexing.html#returning-a-view-versus-a-copy\n",
      "  X.rename(columns={\"x\": index[0], \"y\": index[1]}, inplace=True)\n"
     ]
    },
    {
     "ename": "KeyError",
     "evalue": "'easting'",
     "output_type": "error",
     "traceback": [
      "\u001B[0;31m---------------------------------------------------------------------------\u001B[0m",
      "\u001B[0;31mKeyError\u001B[0m                                  Traceback (most recent call last)",
      "File \u001B[0;32m/opt/homebrew/anaconda3/envs/deluge-wye/lib/python3.11/site-packages/pandas/core/indexes/base.py:3790\u001B[0m, in \u001B[0;36mIndex.get_loc\u001B[0;34m(self, key)\u001B[0m\n\u001B[1;32m   3789\u001B[0m \u001B[38;5;28;01mtry\u001B[39;00m:\n\u001B[0;32m-> 3790\u001B[0m     \u001B[38;5;28;01mreturn\u001B[39;00m \u001B[38;5;28;43mself\u001B[39;49m\u001B[38;5;241;43m.\u001B[39;49m\u001B[43m_engine\u001B[49m\u001B[38;5;241;43m.\u001B[39;49m\u001B[43mget_loc\u001B[49m\u001B[43m(\u001B[49m\u001B[43mcasted_key\u001B[49m\u001B[43m)\u001B[49m\n\u001B[1;32m   3791\u001B[0m \u001B[38;5;28;01mexcept\u001B[39;00m \u001B[38;5;167;01mKeyError\u001B[39;00m \u001B[38;5;28;01mas\u001B[39;00m err:\n",
      "File \u001B[0;32mindex.pyx:152\u001B[0m, in \u001B[0;36mpandas._libs.index.IndexEngine.get_loc\u001B[0;34m()\u001B[0m\n",
      "File \u001B[0;32mindex.pyx:181\u001B[0m, in \u001B[0;36mpandas._libs.index.IndexEngine.get_loc\u001B[0;34m()\u001B[0m\n",
      "File \u001B[0;32mpandas/_libs/hashtable_class_helper.pxi:7080\u001B[0m, in \u001B[0;36mpandas._libs.hashtable.PyObjectHashTable.get_item\u001B[0;34m()\u001B[0m\n",
      "File \u001B[0;32mpandas/_libs/hashtable_class_helper.pxi:7088\u001B[0m, in \u001B[0;36mpandas._libs.hashtable.PyObjectHashTable.get_item\u001B[0;34m()\u001B[0m\n",
      "\u001B[0;31mKeyError\u001B[0m: 'easting'",
      "\nThe above exception was the direct cause of the following exception:\n",
      "\u001B[0;31mKeyError\u001B[0m                                  Traceback (most recent call last)",
      "Cell \u001B[0;32mIn[442], line 1\u001B[0m\n\u001B[0;32m----> 1\u001B[0m preds \u001B[38;5;241m=\u001B[39m \u001B[43mfp\u001B[49m\u001B[38;5;241;43m.\u001B[39;49m\u001B[43mpredict_flood_risk\u001B[49m\u001B[43m(\u001B[49m\u001B[43mdf_labelled\u001B[49m\u001B[43m[\u001B[49m\u001B[43mfeats\u001B[49m\u001B[43m]\u001B[49m\u001B[43m,\u001B[49m\u001B[43m \u001B[49m\u001B[43mindex\u001B[49m\u001B[38;5;241;43m=\u001B[39;49m\u001B[43m(\u001B[49m\u001B[38;5;124;43m'\u001B[39;49m\u001B[38;5;124;43measting\u001B[39;49m\u001B[38;5;124;43m'\u001B[39;49m\u001B[43m,\u001B[49m\u001B[43m \u001B[49m\u001B[38;5;124;43m'\u001B[39;49m\u001B[38;5;124;43mnorthing\u001B[39;49m\u001B[38;5;124;43m'\u001B[39;49m\u001B[43m)\u001B[49m\u001B[43m)\u001B[49m\n",
      "File \u001B[0;32m~/Documents/GitHub/ads-deluge-wye/flood_tool/models/flood_predictor.py:229\u001B[0m, in \u001B[0;36mFloodPredictor.predict_flood_risk\u001B[0;34m(self, X, index)\u001B[0m\n\u001B[1;32m    227\u001B[0m     \u001B[38;5;28;01mcase\u001B[39;00m\u001B[38;5;250m \u001B[39m\u001B[38;5;28;01m_\u001B[39;00m:\n\u001B[1;32m    228\u001B[0m         \u001B[38;5;28;01mraise\u001B[39;00m \u001B[38;5;167;01mValueError\u001B[39;00m(\u001B[38;5;124m\"\u001B[39m\u001B[38;5;124mModel alias not known.\u001B[39m\u001B[38;5;124m\"\u001B[39m)\n\u001B[0;32m--> 229\u001B[0m \u001B[38;5;28;01mreturn\u001B[39;00m \u001B[38;5;28;43mself\u001B[39;49m\u001B[38;5;241;43m.\u001B[39;49m\u001B[43mformat_output\u001B[49m\u001B[43m(\u001B[49m\u001B[43mX\u001B[49m\u001B[43m,\u001B[49m\u001B[43m \u001B[49m\u001B[43mpredictions\u001B[49m\u001B[43m,\u001B[49m\u001B[43m \u001B[49m\u001B[43mindex\u001B[49m\u001B[38;5;241;43m=\u001B[39;49m\u001B[43mindex\u001B[49m\u001B[43m)\u001B[49m\n",
      "File \u001B[0;32m~/Documents/GitHub/ads-deluge-wye/flood_tool/models/flood_predictor.py:239\u001B[0m, in \u001B[0;36mFloodPredictor.format_output\u001B[0;34m(self, X, predictions, **kwargs)\u001B[0m\n\u001B[1;32m    237\u001B[0m     X\u001B[38;5;241m.\u001B[39mdrop(columns\u001B[38;5;241m=\u001B[39m\u001B[38;5;28mlist\u001B[39m(index), inplace\u001B[38;5;241m=\u001B[39m\u001B[38;5;28;01mTrue\u001B[39;00m)\n\u001B[1;32m    238\u001B[0m     X\u001B[38;5;241m.\u001B[39mrename(columns\u001B[38;5;241m=\u001B[39m{\u001B[38;5;124m\"\u001B[39m\u001B[38;5;124mx\u001B[39m\u001B[38;5;124m\"\u001B[39m: index[\u001B[38;5;241m0\u001B[39m], \u001B[38;5;124m\"\u001B[39m\u001B[38;5;124my\u001B[39m\u001B[38;5;124m\"\u001B[39m: index[\u001B[38;5;241m1\u001B[39m]}, inplace\u001B[38;5;241m=\u001B[39m\u001B[38;5;28;01mTrue\u001B[39;00m)\n\u001B[0;32m--> 239\u001B[0m     multi_index \u001B[38;5;241m=\u001B[39m pd\u001B[38;5;241m.\u001B[39mMultiIndex\u001B[38;5;241m.\u001B[39mfrom_arrays([\u001B[43mX\u001B[49m\u001B[43m[\u001B[49m\u001B[43mindex\u001B[49m\u001B[43m[\u001B[49m\u001B[38;5;241;43m0\u001B[39;49m\u001B[43m]\u001B[49m\u001B[43m]\u001B[49m, X[index[\u001B[38;5;241m1\u001B[39m]]])\n\u001B[1;32m    240\u001B[0m     \u001B[38;5;28;01mreturn\u001B[39;00m pd\u001B[38;5;241m.\u001B[39mSeries(\n\u001B[1;32m    241\u001B[0m         predictions\u001B[38;5;241m.\u001B[39mastype(\u001B[38;5;28mint\u001B[39m), index\u001B[38;5;241m=\u001B[39mmulti_index, name\u001B[38;5;241m=\u001B[39m\u001B[38;5;124m\"\u001B[39m\u001B[38;5;124mpredictions\u001B[39m\u001B[38;5;124m\"\u001B[39m\n\u001B[1;32m    242\u001B[0m     )\n\u001B[1;32m    243\u001B[0m \u001B[38;5;28;01melse\u001B[39;00m:\n",
      "File \u001B[0;32m/opt/homebrew/anaconda3/envs/deluge-wye/lib/python3.11/site-packages/pandas/core/frame.py:3893\u001B[0m, in \u001B[0;36mDataFrame.__getitem__\u001B[0;34m(self, key)\u001B[0m\n\u001B[1;32m   3891\u001B[0m \u001B[38;5;28;01mif\u001B[39;00m \u001B[38;5;28mself\u001B[39m\u001B[38;5;241m.\u001B[39mcolumns\u001B[38;5;241m.\u001B[39mnlevels \u001B[38;5;241m>\u001B[39m \u001B[38;5;241m1\u001B[39m:\n\u001B[1;32m   3892\u001B[0m     \u001B[38;5;28;01mreturn\u001B[39;00m \u001B[38;5;28mself\u001B[39m\u001B[38;5;241m.\u001B[39m_getitem_multilevel(key)\n\u001B[0;32m-> 3893\u001B[0m indexer \u001B[38;5;241m=\u001B[39m \u001B[38;5;28;43mself\u001B[39;49m\u001B[38;5;241;43m.\u001B[39;49m\u001B[43mcolumns\u001B[49m\u001B[38;5;241;43m.\u001B[39;49m\u001B[43mget_loc\u001B[49m\u001B[43m(\u001B[49m\u001B[43mkey\u001B[49m\u001B[43m)\u001B[49m\n\u001B[1;32m   3894\u001B[0m \u001B[38;5;28;01mif\u001B[39;00m is_integer(indexer):\n\u001B[1;32m   3895\u001B[0m     indexer \u001B[38;5;241m=\u001B[39m [indexer]\n",
      "File \u001B[0;32m/opt/homebrew/anaconda3/envs/deluge-wye/lib/python3.11/site-packages/pandas/core/indexes/base.py:3797\u001B[0m, in \u001B[0;36mIndex.get_loc\u001B[0;34m(self, key)\u001B[0m\n\u001B[1;32m   3792\u001B[0m     \u001B[38;5;28;01mif\u001B[39;00m \u001B[38;5;28misinstance\u001B[39m(casted_key, \u001B[38;5;28mslice\u001B[39m) \u001B[38;5;129;01mor\u001B[39;00m (\n\u001B[1;32m   3793\u001B[0m         \u001B[38;5;28misinstance\u001B[39m(casted_key, abc\u001B[38;5;241m.\u001B[39mIterable)\n\u001B[1;32m   3794\u001B[0m         \u001B[38;5;129;01mand\u001B[39;00m \u001B[38;5;28many\u001B[39m(\u001B[38;5;28misinstance\u001B[39m(x, \u001B[38;5;28mslice\u001B[39m) \u001B[38;5;28;01mfor\u001B[39;00m x \u001B[38;5;129;01min\u001B[39;00m casted_key)\n\u001B[1;32m   3795\u001B[0m     ):\n\u001B[1;32m   3796\u001B[0m         \u001B[38;5;28;01mraise\u001B[39;00m InvalidIndexError(key)\n\u001B[0;32m-> 3797\u001B[0m     \u001B[38;5;28;01mraise\u001B[39;00m \u001B[38;5;167;01mKeyError\u001B[39;00m(key) \u001B[38;5;28;01mfrom\u001B[39;00m \u001B[38;5;21;01merr\u001B[39;00m\n\u001B[1;32m   3798\u001B[0m \u001B[38;5;28;01mexcept\u001B[39;00m \u001B[38;5;167;01mTypeError\u001B[39;00m:\n\u001B[1;32m   3799\u001B[0m     \u001B[38;5;66;03m# If we have a listlike key, _check_indexing_error will raise\u001B[39;00m\n\u001B[1;32m   3800\u001B[0m     \u001B[38;5;66;03m#  InvalidIndexError. Otherwise we fall through and re-raise\u001B[39;00m\n\u001B[1;32m   3801\u001B[0m     \u001B[38;5;66;03m#  the TypeError.\u001B[39;00m\n\u001B[1;32m   3802\u001B[0m     \u001B[38;5;28mself\u001B[39m\u001B[38;5;241m.\u001B[39m_check_indexing_error(key)\n",
      "\u001B[0;31mKeyError\u001B[0m: 'easting'"
     ]
    }
   ],
   "source": [
    "preds = fp.predict_flood_risk(df_labelled[feats], index=('easting', 'northing'))"
   ],
   "metadata": {
    "collapsed": false,
    "ExecuteTime": {
     "end_time": "2023-11-23T17:11:09.601241Z",
     "start_time": "2023-11-23T17:11:08.556638Z"
    }
   },
   "id": "c86d52d67f7ca332"
  },
  {
   "cell_type": "code",
   "execution_count": 414,
   "outputs": [
    {
     "data": {
      "text/plain": "predictions\n1     27144\n2       688\n3       534\n6       433\n4       368\n8       313\n5       299\n7       154\n9        39\n10       28\nName: count, dtype: int64"
     },
     "execution_count": 414,
     "metadata": {},
     "output_type": "execute_result"
    }
   ],
   "source": [
    "preds.value_counts()"
   ],
   "metadata": {
    "collapsed": false,
    "ExecuteTime": {
     "end_time": "2023-11-23T16:15:58.799184Z",
     "start_time": "2023-11-23T16:15:58.785308Z"
    }
   },
   "id": "66205c7ee7a58358"
  },
  {
   "cell_type": "code",
   "execution_count": 415,
   "outputs": [],
   "source": [
    "def classifier_scorer(y, predictions):\n",
    "    \"\"\"Should take discrete outputs 0 indexed\"\"\"\n",
    "    return sum(SCORES[pred, true] for pred, true in zip(predictions.astype(int), y.astype(int)))"
   ],
   "metadata": {
    "collapsed": false,
    "ExecuteTime": {
     "end_time": "2023-11-23T16:16:00.095964Z",
     "start_time": "2023-11-23T16:16:00.041565Z"
    }
   },
   "id": "a59ae981d071b10b"
  },
  {
   "cell_type": "code",
   "execution_count": 416,
   "outputs": [
    {
     "data": {
      "text/plain": "riskLabel\n1     28124\n6       691\n8       484\n7       182\n4       163\n5       115\n9        65\n3        61\n10       58\n2        57\nName: count, dtype: int64"
     },
     "execution_count": 416,
     "metadata": {},
     "output_type": "execute_result"
    }
   ],
   "source": [
    "df_labelled.riskLabel.value_counts()"
   ],
   "metadata": {
    "collapsed": false,
    "ExecuteTime": {
     "end_time": "2023-11-23T16:16:01.941476Z",
     "start_time": "2023-11-23T16:16:01.856401Z"
    }
   },
   "id": "1dabf15e1dc434f3"
  },
  {
   "cell_type": "code",
   "execution_count": 418,
   "outputs": [
    {
     "data": {
      "text/plain": "3672990"
     },
     "execution_count": 418,
     "metadata": {},
     "output_type": "execute_result"
    }
   ],
   "source": [
    "classifier_scorer(labels - 1, preds -1)"
   ],
   "metadata": {
    "collapsed": false,
    "ExecuteTime": {
     "end_time": "2023-11-23T16:16:11.452767Z",
     "start_time": "2023-11-23T16:16:11.369092Z"
    }
   },
   "id": "c16c2ab108ffa595"
  },
  {
   "cell_type": "code",
   "execution_count": 350,
   "outputs": [
    {
     "name": "stderr",
     "output_type": "stream",
     "text": [
      "2023-11-23 16:07:33,135 [flood_tool.data_processor] INFO: Data loaded successfully loaded.\n",
      "2023-11-23 16:07:33,330 [flood_tool.data_processor] INFO: Data loaded successfully loaded.\n"
     ]
    }
   ],
   "source": [
    "from flood_tool.tool import Tool\n",
    "tool = Tool()"
   ],
   "metadata": {
    "collapsed": false,
    "ExecuteTime": {
     "end_time": "2023-11-23T16:07:33.348554Z",
     "start_time": "2023-11-23T16:07:32.896307Z"
    }
   },
   "id": "cda8f9c10710d81d"
  },
  {
   "cell_type": "markdown",
   "source": [],
   "metadata": {
    "collapsed": false
   },
   "id": "49361d2e8cf5cc0f"
  },
  {
   "cell_type": "code",
   "execution_count": 351,
   "outputs": [
    {
     "name": "stderr",
     "output_type": "stream",
     "text": [
      "2023-11-23 16:07:34,233 [flood_tool.tool] INFO: (30000, 5)\n",
      "2023-11-23 16:07:35,008 [flood_tool.models.flood_predictor] ERROR: [0. 1. 2. 3. 4. 5. 6. 7. 8. 9.]\n",
      "2023-11-23 16:07:35,009 [flood_tool.models.flood_predictor] ERROR: <class 'pandas.core.series.Series'>\n",
      "2023-11-23 16:07:35,692 [flood_tool.models.predictor] INFO: Model successfully fit.\n",
      "2023-11-23 16:07:35,692 [flood_tool.tool] INFO: xgb_regressor test: {'flood_score': 570760}\n"
     ]
    }
   ],
   "source": [
    "X = tool.predict_flood_class_from_postcode(test_labels, method='xgb_regressor')"
   ],
   "metadata": {
    "collapsed": false,
    "ExecuteTime": {
     "end_time": "2023-11-23T16:07:36.560653Z",
     "start_time": "2023-11-23T16:07:34.212300Z"
    }
   },
   "id": "c5f924205078a682"
  },
  {
   "cell_type": "code",
   "execution_count": 352,
   "outputs": [
    {
     "data": {
      "text/plain": "       postcode  easting  northing          soilType  elevation  \\\n0       OL9 7NS   390978    403269  Unsurveyed/Urban        130   \n1      WV13 2LR   396607    298083  Unsurveyed/Urban        130   \n2      LS12 1LZ   427859    432937  Unsurveyed/Urban         60   \n3      SK15 1TS   395560    397900  Unsurveyed/Urban        120   \n4      TS17 9NN   445771    515362  Unsurveyed/Urban         20   \n...         ...      ...       ...               ...        ...   \n29995  LS16 0BP   425977    438923  Unsurveyed/Urban        160   \n29996   SK8 4PG   384808    387982  Unsurveyed/Urban         40   \n29997   HD7 4PA   409215    416819         Cambisols        310   \n29998  NE16 5YT   419672    560517  Unsurveyed/Urban        130   \n29999    B8 2RQ   411674    288499  Unsurveyed/Urban        110   \n\n         localAuthority  riskLabel  medianPrice  historicallyFlooded  \n0                Oldham          1     119100.0                False  \n1               Walsall          1      84200.0                False  \n2                 Leeds          1     134900.0                False  \n3              Tameside          1     170200.0                False  \n4      Stockton-on-Tees          1     190600.0                False  \n...                 ...        ...          ...                  ...  \n29995             Leeds          1          NaN                False  \n29996         Stockport          1     328700.0                False  \n29997          Kirklees          1     214500.0                False  \n29998         Gateshead          1     273100.0                False  \n29999        Birmingham          1     176300.0                False  \n\n[30000 rows x 9 columns]",
      "text/html": "<div>\n<style scoped>\n    .dataframe tbody tr th:only-of-type {\n        vertical-align: middle;\n    }\n\n    .dataframe tbody tr th {\n        vertical-align: top;\n    }\n\n    .dataframe thead th {\n        text-align: right;\n    }\n</style>\n<table border=\"1\" class=\"dataframe\">\n  <thead>\n    <tr style=\"text-align: right;\">\n      <th></th>\n      <th>postcode</th>\n      <th>easting</th>\n      <th>northing</th>\n      <th>soilType</th>\n      <th>elevation</th>\n      <th>localAuthority</th>\n      <th>riskLabel</th>\n      <th>medianPrice</th>\n      <th>historicallyFlooded</th>\n    </tr>\n  </thead>\n  <tbody>\n    <tr>\n      <th>0</th>\n      <td>OL9 7NS</td>\n      <td>390978</td>\n      <td>403269</td>\n      <td>Unsurveyed/Urban</td>\n      <td>130</td>\n      <td>Oldham</td>\n      <td>1</td>\n      <td>119100.0</td>\n      <td>False</td>\n    </tr>\n    <tr>\n      <th>1</th>\n      <td>WV13 2LR</td>\n      <td>396607</td>\n      <td>298083</td>\n      <td>Unsurveyed/Urban</td>\n      <td>130</td>\n      <td>Walsall</td>\n      <td>1</td>\n      <td>84200.0</td>\n      <td>False</td>\n    </tr>\n    <tr>\n      <th>2</th>\n      <td>LS12 1LZ</td>\n      <td>427859</td>\n      <td>432937</td>\n      <td>Unsurveyed/Urban</td>\n      <td>60</td>\n      <td>Leeds</td>\n      <td>1</td>\n      <td>134900.0</td>\n      <td>False</td>\n    </tr>\n    <tr>\n      <th>3</th>\n      <td>SK15 1TS</td>\n      <td>395560</td>\n      <td>397900</td>\n      <td>Unsurveyed/Urban</td>\n      <td>120</td>\n      <td>Tameside</td>\n      <td>1</td>\n      <td>170200.0</td>\n      <td>False</td>\n    </tr>\n    <tr>\n      <th>4</th>\n      <td>TS17 9NN</td>\n      <td>445771</td>\n      <td>515362</td>\n      <td>Unsurveyed/Urban</td>\n      <td>20</td>\n      <td>Stockton-on-Tees</td>\n      <td>1</td>\n      <td>190600.0</td>\n      <td>False</td>\n    </tr>\n    <tr>\n      <th>...</th>\n      <td>...</td>\n      <td>...</td>\n      <td>...</td>\n      <td>...</td>\n      <td>...</td>\n      <td>...</td>\n      <td>...</td>\n      <td>...</td>\n      <td>...</td>\n    </tr>\n    <tr>\n      <th>29995</th>\n      <td>LS16 0BP</td>\n      <td>425977</td>\n      <td>438923</td>\n      <td>Unsurveyed/Urban</td>\n      <td>160</td>\n      <td>Leeds</td>\n      <td>1</td>\n      <td>NaN</td>\n      <td>False</td>\n    </tr>\n    <tr>\n      <th>29996</th>\n      <td>SK8 4PG</td>\n      <td>384808</td>\n      <td>387982</td>\n      <td>Unsurveyed/Urban</td>\n      <td>40</td>\n      <td>Stockport</td>\n      <td>1</td>\n      <td>328700.0</td>\n      <td>False</td>\n    </tr>\n    <tr>\n      <th>29997</th>\n      <td>HD7 4PA</td>\n      <td>409215</td>\n      <td>416819</td>\n      <td>Cambisols</td>\n      <td>310</td>\n      <td>Kirklees</td>\n      <td>1</td>\n      <td>214500.0</td>\n      <td>False</td>\n    </tr>\n    <tr>\n      <th>29998</th>\n      <td>NE16 5YT</td>\n      <td>419672</td>\n      <td>560517</td>\n      <td>Unsurveyed/Urban</td>\n      <td>130</td>\n      <td>Gateshead</td>\n      <td>1</td>\n      <td>273100.0</td>\n      <td>False</td>\n    </tr>\n    <tr>\n      <th>29999</th>\n      <td>B8 2RQ</td>\n      <td>411674</td>\n      <td>288499</td>\n      <td>Unsurveyed/Urban</td>\n      <td>110</td>\n      <td>Birmingham</td>\n      <td>1</td>\n      <td>176300.0</td>\n      <td>False</td>\n    </tr>\n  </tbody>\n</table>\n<p>30000 rows × 9 columns</p>\n</div>"
     },
     "execution_count": 352,
     "metadata": {},
     "output_type": "execute_result"
    }
   ],
   "source": [
    "df_labelled"
   ],
   "metadata": {
    "collapsed": false,
    "ExecuteTime": {
     "end_time": "2023-11-23T16:07:36.583407Z",
     "start_time": "2023-11-23T16:07:36.561076Z"
    }
   },
   "id": "ce0715cd2da8b1a7"
  },
  {
   "cell_type": "code",
   "execution_count": 352,
   "outputs": [],
   "source": [],
   "metadata": {
    "collapsed": false,
    "ExecuteTime": {
     "end_time": "2023-11-23T16:07:36.584415Z",
     "start_time": "2023-11-23T16:07:36.577737Z"
    }
   },
   "id": "bc8137de5c43c176"
  },
  {
   "cell_type": "code",
   "execution_count": 354,
   "outputs": [
    {
     "name": "stderr",
     "output_type": "stream",
     "text": [
      "2023-11-23 16:08:55,733 [flood_tool.tool] INFO: (30000, 5)\n",
      "2023-11-23 16:08:56,671 [flood_tool.models.flood_predictor] ERROR: [0. 1. 2. 3. 4. 5. 6. 7. 8. 9.]\n",
      "2023-11-23 16:08:56,672 [flood_tool.models.flood_predictor] ERROR: <class 'pandas.core.series.Series'>\n",
      "2023-11-23 16:08:57,248 [flood_tool.models.predictor] INFO: Model successfully fit.\n",
      "2023-11-23 16:08:57,248 [flood_tool.tool] INFO: xgb_regressor test: {'flood_score': 569980}\n"
     ]
    },
    {
     "data": {
      "text/plain": "(3672990, 2170610)"
     },
     "execution_count": 354,
     "metadata": {},
     "output_type": "execute_result"
    }
   ],
   "source": [
    "preds2 = tool.predict_flood_class_from_postcode(test_labels, method='xgb_regressor')\n",
    "classifier_scorer(df_labelled.riskLabel - 1, preds -1), classifier_scorer(df_labelled.riskLabel - 1, preds2 -1)\n"
   ],
   "metadata": {
    "collapsed": false,
    "ExecuteTime": {
     "end_time": "2023-11-23T16:08:57.745146Z",
     "start_time": "2023-11-23T16:08:55.488751Z"
    }
   },
   "id": "ffb4728e83de441f"
  },
  {
   "cell_type": "code",
   "execution_count": 314,
   "outputs": [
    {
     "data": {
      "text/plain": "(30000,)"
     },
     "execution_count": 314,
     "metadata": {},
     "output_type": "execute_result"
    }
   ],
   "source": [
    "preds2.shape"
   ],
   "metadata": {
    "collapsed": false,
    "ExecuteTime": {
     "end_time": "2023-11-23T16:02:29.234922Z",
     "start_time": "2023-11-23T16:02:29.149859Z"
    }
   },
   "id": "e07d5fc88871634b"
  },
  {
   "cell_type": "code",
   "execution_count": 315,
   "outputs": [
    {
     "data": {
      "text/plain": "(30000,)"
     },
     "execution_count": 315,
     "metadata": {},
     "output_type": "execute_result"
    }
   ],
   "source": [
    "preds.shape"
   ],
   "metadata": {
    "collapsed": false,
    "ExecuteTime": {
     "end_time": "2023-11-23T16:02:29.858552Z",
     "start_time": "2023-11-23T16:02:29.813812Z"
    }
   },
   "id": "4bfbcacc68c8b750"
  },
  {
   "cell_type": "code",
   "execution_count": 316,
   "outputs": [
    {
     "data": {
      "text/plain": "predictions\n1     27144\n2       688\n3       534\n6       433\n4       368\n8       313\n5       299\n7       154\n9        39\n10       28\nName: count, dtype: int64"
     },
     "execution_count": 316,
     "metadata": {},
     "output_type": "execute_result"
    }
   ],
   "source": [
    "preds2.value_counts()"
   ],
   "metadata": {
    "collapsed": false,
    "ExecuteTime": {
     "end_time": "2023-11-23T16:02:30.081902Z",
     "start_time": "2023-11-23T16:02:30.034383Z"
    }
   },
   "id": "cd7d0dd8e4e8c558"
  },
  {
   "cell_type": "code",
   "execution_count": 317,
   "outputs": [
    {
     "data": {
      "text/plain": "predictions\n1     27144\n2       688\n3       534\n6       433\n4       368\n8       313\n5       299\n7       154\n9        39\n10       28\nName: count, dtype: int64"
     },
     "execution_count": 317,
     "metadata": {},
     "output_type": "execute_result"
    }
   ],
   "source": [
    "preds.value_counts()"
   ],
   "metadata": {
    "collapsed": false,
    "ExecuteTime": {
     "end_time": "2023-11-23T16:02:30.509469Z",
     "start_time": "2023-11-23T16:02:30.424834Z"
    }
   },
   "id": "99446fc90d3c298"
  },
  {
   "cell_type": "code",
   "execution_count": 318,
   "outputs": [
    {
     "data": {
      "text/plain": "(3672990, 3672990)"
     },
     "execution_count": 318,
     "metadata": {},
     "output_type": "execute_result"
    }
   ],
   "source": [
    "classifier_scorer(df_labelled.riskLabel - 1, preds -1), classifier_scorer(df_labelled.riskLabel - 1, preds2 -1)"
   ],
   "metadata": {
    "collapsed": false,
    "ExecuteTime": {
     "end_time": "2023-11-23T16:02:31.118422Z",
     "start_time": "2023-11-23T16:02:31.045429Z"
    }
   },
   "id": "cb65733d1590e3d7"
  },
  {
   "cell_type": "code",
   "execution_count": 178,
   "outputs": [
    {
     "name": "stderr",
     "output_type": "stream",
     "text": [
      "2023-11-23 15:50:22,828 [utils.utils] INFO: Dropped 0 duplicates.\n"
     ]
    }
   ],
   "source": [
    "remove_duplicates(df)"
   ],
   "metadata": {
    "collapsed": false,
    "ExecuteTime": {
     "end_time": "2023-11-23T15:50:22.887412Z",
     "start_time": "2023-11-23T15:50:22.811974Z"
    }
   },
   "id": "cc66d49b56151ab0"
  },
  {
   "cell_type": "code",
   "execution_count": 1034,
   "outputs": [
    {
     "data": {
      "text/plain": "Index(['postcode', 'easting', 'northing', 'soilType', 'elevation'], dtype='object')"
     },
     "execution_count": 1034,
     "metadata": {},
     "output_type": "execute_result"
    }
   ],
   "source": [
    "feats"
   ],
   "metadata": {
    "collapsed": false,
    "ExecuteTime": {
     "end_time": "2023-11-22T16:25:46.087182Z",
     "start_time": "2023-11-22T16:25:46.053188Z"
    }
   },
   "id": "2461b7291af4367"
  },
  {
   "cell_type": "code",
   "execution_count": 1035,
   "outputs": [],
   "source": [
    "X = df.drop(columns = 'riskLabel')[feats]\n",
    "y = df.riskLabel\n",
    "y -= 1"
   ],
   "metadata": {
    "collapsed": false,
    "ExecuteTime": {
     "end_time": "2023-11-22T16:25:47.194719Z",
     "start_time": "2023-11-22T16:25:47.162302Z"
    }
   },
   "id": "83cf598b5b5411cf"
  },
  {
   "cell_type": "code",
   "execution_count": 994,
   "outputs": [],
   "source": [
    "X_train, X_test, y_train, y_test = train_test_split(X, y, train_size=0.8, random_state = rds, stratify=y)"
   ],
   "metadata": {
    "collapsed": false,
    "ExecuteTime": {
     "end_time": "2023-11-22T16:20:30.920752Z",
     "start_time": "2023-11-22T16:20:30.891973Z"
    }
   },
   "id": "88b8a756b9432317"
  },
  {
   "cell_type": "code",
   "execution_count": 907,
   "outputs": [],
   "source": [
    "# y_train_sub = y_train - 1\n",
    "# y_test_sub = y_test - 1"
   ],
   "metadata": {
    "collapsed": false,
    "ExecuteTime": {
     "end_time": "2023-11-22T14:55:25.908105Z",
     "start_time": "2023-11-22T14:55:25.865233Z"
    }
   },
   "id": "31bd8b34727cc3f"
  },
  {
   "cell_type": "markdown",
   "source": [
    "### Separate numerical and categorical data"
   ],
   "metadata": {
    "collapsed": false
   },
   "id": "fe890abdf98ac522"
  },
  {
   "cell_type": "code",
   "execution_count": 222,
   "outputs": [],
   "source": [
    "num_cols = X_train.select_dtypes(include=np.number).columns\n",
    "cat_cols = X_train.select_dtypes(exclude=np.number).columns"
   ],
   "metadata": {
    "collapsed": false,
    "ExecuteTime": {
     "end_time": "2023-11-21T17:19:53.286283Z",
     "start_time": "2023-11-21T17:19:53.024368Z"
    }
   },
   "id": "f4fa7a3aef05e2f0"
  },
  {
   "cell_type": "code",
   "execution_count": 223,
   "outputs": [
    {
     "data": {
      "text/plain": "Index(['easting', 'northing', 'elevation'], dtype='object')"
     },
     "execution_count": 223,
     "metadata": {},
     "output_type": "execute_result"
    }
   ],
   "source": [
    "num_cols"
   ],
   "metadata": {
    "collapsed": false,
    "ExecuteTime": {
     "end_time": "2023-11-21T17:19:53.286354Z",
     "start_time": "2023-11-21T17:19:53.036955Z"
    }
   },
   "id": "4fd33104026dd748"
  },
  {
   "cell_type": "code",
   "execution_count": 224,
   "outputs": [],
   "source": [
    "cat_cols = ['soilType']"
   ],
   "metadata": {
    "collapsed": false,
    "ExecuteTime": {
     "end_time": "2023-11-21T17:19:53.286388Z",
     "start_time": "2023-11-21T17:19:53.049103Z"
    }
   },
   "id": "68285017ad966312"
  },
  {
   "cell_type": "markdown",
   "source": [
    "## Make pipelines"
   ],
   "metadata": {
    "collapsed": false
   },
   "id": "ef4e0e4755c592e0"
  },
  {
   "cell_type": "code",
   "execution_count": 225,
   "outputs": [
    {
     "name": "stderr",
     "output_type": "stream",
     "text": [
      "2023-11-21 17:19:53,072 [utils.utils] INFO: Null count: 0\n"
     ]
    }
   ],
   "source": [
    "get_null_count(X_train)"
   ],
   "metadata": {
    "collapsed": false,
    "ExecuteTime": {
     "end_time": "2023-11-21T17:19:53.286462Z",
     "start_time": "2023-11-21T17:19:53.062675Z"
    }
   },
   "id": "263da3cf58d82ca6"
  },
  {
   "cell_type": "code",
   "execution_count": 226,
   "outputs": [],
   "source": [
    "\n",
    "\n",
    "\n",
    "from sklearn.preprocessing import FunctionTransformer\n",
    "\n",
    "log_transformer = FunctionTransformer(lambda df: pd.DataFrame(np.log(df + 1e-10), index=df.index, columns=df.columns))\n",
    "\n",
    "negative_transformer = FunctionTransformer(lambda df: pd.DataFrame(np.where(df < 0, 1e-10, df), index=df.index, columns=df.columns))\n",
    "\n",
    "num_pipe = Pipeline(\n",
    "    steps=[\n",
    "        ('impute', SimpleImputer(strategy='most_frequent')),\n",
    "        ('scaler', StandardScaler())\n",
    "    ]\n",
    ")\n",
    "\n",
    "num_log_pipe = Pipeline(\n",
    "    steps=[\n",
    "        ('imputer', SimpleImputer(strategy='most_frequent')),\n",
    "        ('log', log_transformer),\n",
    "        ('scaler', StandardScaler())\n",
    "    ]\n",
    ")\n",
    "\n",
    "\n",
    "cat_pipe = Pipeline(\n",
    "    steps=[\n",
    "        ('imputer', SimpleImputer(strategy='most_frequent')),\n",
    "        ('ohe', OneHotEncoder(handle_unknown='ignore', sparse_output=False))\n",
    "    ]\n",
    ")\n",
    "\n",
    "\n",
    "preprocessor = ColumnTransformer(\n",
    "    transformers=[\n",
    "        ('num', num_pipe, num_cols),\n",
    "        # ('num_log', num_log_pipe, num_log_cols),\n",
    "        ('cat', cat_pipe, cat_cols),\n",
    "    ]\n",
    ")"
   ],
   "metadata": {
    "collapsed": false,
    "ExecuteTime": {
     "end_time": "2023-11-21T17:19:53.286497Z",
     "start_time": "2023-11-21T17:19:53.076934Z"
    }
   },
   "id": "be44a26bb7fff4bb"
  },
  {
   "cell_type": "code",
   "execution_count": 227,
   "outputs": [
    {
     "data": {
      "text/plain": "ColumnTransformer(transformers=[('num',\n                                 Pipeline(steps=[('impute',\n                                                  SimpleImputer(strategy='most_frequent')),\n                                                 ('scaler', StandardScaler())]),\n                                 Index(['easting', 'northing', 'elevation'], dtype='object')),\n                                ('cat',\n                                 Pipeline(steps=[('imputer',\n                                                  SimpleImputer(strategy='most_frequent')),\n                                                 ('ohe',\n                                                  OneHotEncoder(handle_unknown='ignore',\n                                                                sparse_output=False))]),\n                                 ['soilType'])])",
      "text/html": "<style>#sk-container-id-26 {color: black;}#sk-container-id-26 pre{padding: 0;}#sk-container-id-26 div.sk-toggleable {background-color: white;}#sk-container-id-26 label.sk-toggleable__label {cursor: pointer;display: block;width: 100%;margin-bottom: 0;padding: 0.3em;box-sizing: border-box;text-align: center;}#sk-container-id-26 label.sk-toggleable__label-arrow:before {content: \"▸\";float: left;margin-right: 0.25em;color: #696969;}#sk-container-id-26 label.sk-toggleable__label-arrow:hover:before {color: black;}#sk-container-id-26 div.sk-estimator:hover label.sk-toggleable__label-arrow:before {color: black;}#sk-container-id-26 div.sk-toggleable__content {max-height: 0;max-width: 0;overflow: hidden;text-align: left;background-color: #f0f8ff;}#sk-container-id-26 div.sk-toggleable__content pre {margin: 0.2em;color: black;border-radius: 0.25em;background-color: #f0f8ff;}#sk-container-id-26 input.sk-toggleable__control:checked~div.sk-toggleable__content {max-height: 200px;max-width: 100%;overflow: auto;}#sk-container-id-26 input.sk-toggleable__control:checked~label.sk-toggleable__label-arrow:before {content: \"▾\";}#sk-container-id-26 div.sk-estimator input.sk-toggleable__control:checked~label.sk-toggleable__label {background-color: #d4ebff;}#sk-container-id-26 div.sk-label input.sk-toggleable__control:checked~label.sk-toggleable__label {background-color: #d4ebff;}#sk-container-id-26 input.sk-hidden--visually {border: 0;clip: rect(1px 1px 1px 1px);clip: rect(1px, 1px, 1px, 1px);height: 1px;margin: -1px;overflow: hidden;padding: 0;position: absolute;width: 1px;}#sk-container-id-26 div.sk-estimator {font-family: monospace;background-color: #f0f8ff;border: 1px dotted black;border-radius: 0.25em;box-sizing: border-box;margin-bottom: 0.5em;}#sk-container-id-26 div.sk-estimator:hover {background-color: #d4ebff;}#sk-container-id-26 div.sk-parallel-item::after {content: \"\";width: 100%;border-bottom: 1px solid gray;flex-grow: 1;}#sk-container-id-26 div.sk-label:hover label.sk-toggleable__label {background-color: #d4ebff;}#sk-container-id-26 div.sk-serial::before {content: \"\";position: absolute;border-left: 1px solid gray;box-sizing: border-box;top: 0;bottom: 0;left: 50%;z-index: 0;}#sk-container-id-26 div.sk-serial {display: flex;flex-direction: column;align-items: center;background-color: white;padding-right: 0.2em;padding-left: 0.2em;position: relative;}#sk-container-id-26 div.sk-item {position: relative;z-index: 1;}#sk-container-id-26 div.sk-parallel {display: flex;align-items: stretch;justify-content: center;background-color: white;position: relative;}#sk-container-id-26 div.sk-item::before, #sk-container-id-26 div.sk-parallel-item::before {content: \"\";position: absolute;border-left: 1px solid gray;box-sizing: border-box;top: 0;bottom: 0;left: 50%;z-index: -1;}#sk-container-id-26 div.sk-parallel-item {display: flex;flex-direction: column;z-index: 1;position: relative;background-color: white;}#sk-container-id-26 div.sk-parallel-item:first-child::after {align-self: flex-end;width: 50%;}#sk-container-id-26 div.sk-parallel-item:last-child::after {align-self: flex-start;width: 50%;}#sk-container-id-26 div.sk-parallel-item:only-child::after {width: 0;}#sk-container-id-26 div.sk-dashed-wrapped {border: 1px dashed gray;margin: 0 0.4em 0.5em 0.4em;box-sizing: border-box;padding-bottom: 0.4em;background-color: white;}#sk-container-id-26 div.sk-label label {font-family: monospace;font-weight: bold;display: inline-block;line-height: 1.2em;}#sk-container-id-26 div.sk-label-container {text-align: center;}#sk-container-id-26 div.sk-container {/* jupyter's `normalize.less` sets `[hidden] { display: none; }` but bootstrap.min.css set `[hidden] { display: none !important; }` so we also need the `!important` here to be able to override the default hidden behavior on the sphinx rendered scikit-learn.org. See: https://github.com/scikit-learn/scikit-learn/issues/21755 */display: inline-block !important;position: relative;}#sk-container-id-26 div.sk-text-repr-fallback {display: none;}</style><div id=\"sk-container-id-26\" class=\"sk-top-container\"><div class=\"sk-text-repr-fallback\"><pre>ColumnTransformer(transformers=[(&#x27;num&#x27;,\n                                 Pipeline(steps=[(&#x27;impute&#x27;,\n                                                  SimpleImputer(strategy=&#x27;most_frequent&#x27;)),\n                                                 (&#x27;scaler&#x27;, StandardScaler())]),\n                                 Index([&#x27;easting&#x27;, &#x27;northing&#x27;, &#x27;elevation&#x27;], dtype=&#x27;object&#x27;)),\n                                (&#x27;cat&#x27;,\n                                 Pipeline(steps=[(&#x27;imputer&#x27;,\n                                                  SimpleImputer(strategy=&#x27;most_frequent&#x27;)),\n                                                 (&#x27;ohe&#x27;,\n                                                  OneHotEncoder(handle_unknown=&#x27;ignore&#x27;,\n                                                                sparse_output=False))]),\n                                 [&#x27;soilType&#x27;])])</pre><b>In a Jupyter environment, please rerun this cell to show the HTML representation or trust the notebook. <br />On GitHub, the HTML representation is unable to render, please try loading this page with nbviewer.org.</b></div><div class=\"sk-container\" hidden><div class=\"sk-item sk-dashed-wrapped\"><div class=\"sk-label-container\"><div class=\"sk-label sk-toggleable\"><input class=\"sk-toggleable__control sk-hidden--visually\" id=\"sk-estimator-id-221\" type=\"checkbox\" ><label for=\"sk-estimator-id-221\" class=\"sk-toggleable__label sk-toggleable__label-arrow\">ColumnTransformer</label><div class=\"sk-toggleable__content\"><pre>ColumnTransformer(transformers=[(&#x27;num&#x27;,\n                                 Pipeline(steps=[(&#x27;impute&#x27;,\n                                                  SimpleImputer(strategy=&#x27;most_frequent&#x27;)),\n                                                 (&#x27;scaler&#x27;, StandardScaler())]),\n                                 Index([&#x27;easting&#x27;, &#x27;northing&#x27;, &#x27;elevation&#x27;], dtype=&#x27;object&#x27;)),\n                                (&#x27;cat&#x27;,\n                                 Pipeline(steps=[(&#x27;imputer&#x27;,\n                                                  SimpleImputer(strategy=&#x27;most_frequent&#x27;)),\n                                                 (&#x27;ohe&#x27;,\n                                                  OneHotEncoder(handle_unknown=&#x27;ignore&#x27;,\n                                                                sparse_output=False))]),\n                                 [&#x27;soilType&#x27;])])</pre></div></div></div><div class=\"sk-parallel\"><div class=\"sk-parallel-item\"><div class=\"sk-item\"><div class=\"sk-label-container\"><div class=\"sk-label sk-toggleable\"><input class=\"sk-toggleable__control sk-hidden--visually\" id=\"sk-estimator-id-222\" type=\"checkbox\" ><label for=\"sk-estimator-id-222\" class=\"sk-toggleable__label sk-toggleable__label-arrow\">num</label><div class=\"sk-toggleable__content\"><pre>Index([&#x27;easting&#x27;, &#x27;northing&#x27;, &#x27;elevation&#x27;], dtype=&#x27;object&#x27;)</pre></div></div></div><div class=\"sk-serial\"><div class=\"sk-item\"><div class=\"sk-serial\"><div class=\"sk-item\"><div class=\"sk-estimator sk-toggleable\"><input class=\"sk-toggleable__control sk-hidden--visually\" id=\"sk-estimator-id-223\" type=\"checkbox\" ><label for=\"sk-estimator-id-223\" class=\"sk-toggleable__label sk-toggleable__label-arrow\">SimpleImputer</label><div class=\"sk-toggleable__content\"><pre>SimpleImputer(strategy=&#x27;most_frequent&#x27;)</pre></div></div></div><div class=\"sk-item\"><div class=\"sk-estimator sk-toggleable\"><input class=\"sk-toggleable__control sk-hidden--visually\" id=\"sk-estimator-id-224\" type=\"checkbox\" ><label for=\"sk-estimator-id-224\" class=\"sk-toggleable__label sk-toggleable__label-arrow\">StandardScaler</label><div class=\"sk-toggleable__content\"><pre>StandardScaler()</pre></div></div></div></div></div></div></div></div><div class=\"sk-parallel-item\"><div class=\"sk-item\"><div class=\"sk-label-container\"><div class=\"sk-label sk-toggleable\"><input class=\"sk-toggleable__control sk-hidden--visually\" id=\"sk-estimator-id-225\" type=\"checkbox\" ><label for=\"sk-estimator-id-225\" class=\"sk-toggleable__label sk-toggleable__label-arrow\">cat</label><div class=\"sk-toggleable__content\"><pre>[&#x27;soilType&#x27;]</pre></div></div></div><div class=\"sk-serial\"><div class=\"sk-item\"><div class=\"sk-serial\"><div class=\"sk-item\"><div class=\"sk-estimator sk-toggleable\"><input class=\"sk-toggleable__control sk-hidden--visually\" id=\"sk-estimator-id-226\" type=\"checkbox\" ><label for=\"sk-estimator-id-226\" class=\"sk-toggleable__label sk-toggleable__label-arrow\">SimpleImputer</label><div class=\"sk-toggleable__content\"><pre>SimpleImputer(strategy=&#x27;most_frequent&#x27;)</pre></div></div></div><div class=\"sk-item\"><div class=\"sk-estimator sk-toggleable\"><input class=\"sk-toggleable__control sk-hidden--visually\" id=\"sk-estimator-id-227\" type=\"checkbox\" ><label for=\"sk-estimator-id-227\" class=\"sk-toggleable__label sk-toggleable__label-arrow\">OneHotEncoder</label><div class=\"sk-toggleable__content\"><pre>OneHotEncoder(handle_unknown=&#x27;ignore&#x27;, sparse_output=False)</pre></div></div></div></div></div></div></div></div></div></div></div></div>"
     },
     "execution_count": 227,
     "metadata": {},
     "output_type": "execute_result"
    }
   ],
   "source": [
    "preprocessor"
   ],
   "metadata": {
    "collapsed": false,
    "ExecuteTime": {
     "end_time": "2023-11-21T17:19:53.286842Z",
     "start_time": "2023-11-21T17:19:53.088981Z"
    }
   },
   "id": "f6ec593242e3f0b5"
  },
  {
   "cell_type": "code",
   "execution_count": 228,
   "outputs": [],
   "source": [
    "X_train_prep = preprocessor.fit_transform(X_train)"
   ],
   "metadata": {
    "collapsed": false,
    "ExecuteTime": {
     "end_time": "2023-11-21T17:19:53.288952Z",
     "start_time": "2023-11-21T17:19:53.107120Z"
    }
   },
   "id": "e5d9fc7b70785dd6"
  },
  {
   "cell_type": "markdown",
   "source": [
    "## Full pipe"
   ],
   "metadata": {
    "collapsed": false
   },
   "id": "e2ca93fa8f9b87ce"
  },
  {
   "cell_type": "code",
   "execution_count": 229,
   "outputs": [],
   "source": [
    "from xgboost import XGBRegressor\n",
    "\n",
    "model_pipe = Pipeline(\n",
    "    steps=[\n",
    "        ('preprocessor', preprocessor),\n",
    "        ('model', XGBRegressor(random_state=rds)),\n",
    "    ]\n",
    ")"
   ],
   "metadata": {
    "collapsed": false,
    "ExecuteTime": {
     "end_time": "2023-11-21T17:19:53.289096Z",
     "start_time": "2023-11-21T17:19:53.131611Z"
    }
   },
   "id": "8fada7b36c568da9"
  },
  {
   "cell_type": "code",
   "execution_count": 230,
   "outputs": [
    {
     "data": {
      "text/plain": "Pipeline(steps=[('preprocessor',\n                 ColumnTransformer(transformers=[('num',\n                                                  Pipeline(steps=[('impute',\n                                                                   SimpleImputer(strategy='most_frequent')),\n                                                                  ('scaler',\n                                                                   StandardScaler())]),\n                                                  Index(['easting', 'northing', 'elevation'], dtype='object')),\n                                                 ('cat',\n                                                  Pipeline(steps=[('imputer',\n                                                                   SimpleImputer(strategy='most_frequent')),\n                                                                  ('ohe',\n                                                                   OneHotEncoder(handle_unknown='ignore',\n                                                                                 spar...\n                              feature_types=None, gamma=None, grow_policy=None,\n                              importance_type=None,\n                              interaction_constraints=None, learning_rate=None,\n                              max_bin=None, max_cat_threshold=None,\n                              max_cat_to_onehot=None, max_delta_step=None,\n                              max_depth=None, max_leaves=None,\n                              min_child_weight=None, missing=nan,\n                              monotone_constraints=None, multi_strategy=None,\n                              n_estimators=None, n_jobs=None,\n                              num_parallel_tree=None, random_state=42, ...))])",
      "text/html": "<style>#sk-container-id-27 {color: black;}#sk-container-id-27 pre{padding: 0;}#sk-container-id-27 div.sk-toggleable {background-color: white;}#sk-container-id-27 label.sk-toggleable__label {cursor: pointer;display: block;width: 100%;margin-bottom: 0;padding: 0.3em;box-sizing: border-box;text-align: center;}#sk-container-id-27 label.sk-toggleable__label-arrow:before {content: \"▸\";float: left;margin-right: 0.25em;color: #696969;}#sk-container-id-27 label.sk-toggleable__label-arrow:hover:before {color: black;}#sk-container-id-27 div.sk-estimator:hover label.sk-toggleable__label-arrow:before {color: black;}#sk-container-id-27 div.sk-toggleable__content {max-height: 0;max-width: 0;overflow: hidden;text-align: left;background-color: #f0f8ff;}#sk-container-id-27 div.sk-toggleable__content pre {margin: 0.2em;color: black;border-radius: 0.25em;background-color: #f0f8ff;}#sk-container-id-27 input.sk-toggleable__control:checked~div.sk-toggleable__content {max-height: 200px;max-width: 100%;overflow: auto;}#sk-container-id-27 input.sk-toggleable__control:checked~label.sk-toggleable__label-arrow:before {content: \"▾\";}#sk-container-id-27 div.sk-estimator input.sk-toggleable__control:checked~label.sk-toggleable__label {background-color: #d4ebff;}#sk-container-id-27 div.sk-label input.sk-toggleable__control:checked~label.sk-toggleable__label {background-color: #d4ebff;}#sk-container-id-27 input.sk-hidden--visually {border: 0;clip: rect(1px 1px 1px 1px);clip: rect(1px, 1px, 1px, 1px);height: 1px;margin: -1px;overflow: hidden;padding: 0;position: absolute;width: 1px;}#sk-container-id-27 div.sk-estimator {font-family: monospace;background-color: #f0f8ff;border: 1px dotted black;border-radius: 0.25em;box-sizing: border-box;margin-bottom: 0.5em;}#sk-container-id-27 div.sk-estimator:hover {background-color: #d4ebff;}#sk-container-id-27 div.sk-parallel-item::after {content: \"\";width: 100%;border-bottom: 1px solid gray;flex-grow: 1;}#sk-container-id-27 div.sk-label:hover label.sk-toggleable__label {background-color: #d4ebff;}#sk-container-id-27 div.sk-serial::before {content: \"\";position: absolute;border-left: 1px solid gray;box-sizing: border-box;top: 0;bottom: 0;left: 50%;z-index: 0;}#sk-container-id-27 div.sk-serial {display: flex;flex-direction: column;align-items: center;background-color: white;padding-right: 0.2em;padding-left: 0.2em;position: relative;}#sk-container-id-27 div.sk-item {position: relative;z-index: 1;}#sk-container-id-27 div.sk-parallel {display: flex;align-items: stretch;justify-content: center;background-color: white;position: relative;}#sk-container-id-27 div.sk-item::before, #sk-container-id-27 div.sk-parallel-item::before {content: \"\";position: absolute;border-left: 1px solid gray;box-sizing: border-box;top: 0;bottom: 0;left: 50%;z-index: -1;}#sk-container-id-27 div.sk-parallel-item {display: flex;flex-direction: column;z-index: 1;position: relative;background-color: white;}#sk-container-id-27 div.sk-parallel-item:first-child::after {align-self: flex-end;width: 50%;}#sk-container-id-27 div.sk-parallel-item:last-child::after {align-self: flex-start;width: 50%;}#sk-container-id-27 div.sk-parallel-item:only-child::after {width: 0;}#sk-container-id-27 div.sk-dashed-wrapped {border: 1px dashed gray;margin: 0 0.4em 0.5em 0.4em;box-sizing: border-box;padding-bottom: 0.4em;background-color: white;}#sk-container-id-27 div.sk-label label {font-family: monospace;font-weight: bold;display: inline-block;line-height: 1.2em;}#sk-container-id-27 div.sk-label-container {text-align: center;}#sk-container-id-27 div.sk-container {/* jupyter's `normalize.less` sets `[hidden] { display: none; }` but bootstrap.min.css set `[hidden] { display: none !important; }` so we also need the `!important` here to be able to override the default hidden behavior on the sphinx rendered scikit-learn.org. See: https://github.com/scikit-learn/scikit-learn/issues/21755 */display: inline-block !important;position: relative;}#sk-container-id-27 div.sk-text-repr-fallback {display: none;}</style><div id=\"sk-container-id-27\" class=\"sk-top-container\"><div class=\"sk-text-repr-fallback\"><pre>Pipeline(steps=[(&#x27;preprocessor&#x27;,\n                 ColumnTransformer(transformers=[(&#x27;num&#x27;,\n                                                  Pipeline(steps=[(&#x27;impute&#x27;,\n                                                                   SimpleImputer(strategy=&#x27;most_frequent&#x27;)),\n                                                                  (&#x27;scaler&#x27;,\n                                                                   StandardScaler())]),\n                                                  Index([&#x27;easting&#x27;, &#x27;northing&#x27;, &#x27;elevation&#x27;], dtype=&#x27;object&#x27;)),\n                                                 (&#x27;cat&#x27;,\n                                                  Pipeline(steps=[(&#x27;imputer&#x27;,\n                                                                   SimpleImputer(strategy=&#x27;most_frequent&#x27;)),\n                                                                  (&#x27;ohe&#x27;,\n                                                                   OneHotEncoder(handle_unknown=&#x27;ignore&#x27;,\n                                                                                 spar...\n                              feature_types=None, gamma=None, grow_policy=None,\n                              importance_type=None,\n                              interaction_constraints=None, learning_rate=None,\n                              max_bin=None, max_cat_threshold=None,\n                              max_cat_to_onehot=None, max_delta_step=None,\n                              max_depth=None, max_leaves=None,\n                              min_child_weight=None, missing=nan,\n                              monotone_constraints=None, multi_strategy=None,\n                              n_estimators=None, n_jobs=None,\n                              num_parallel_tree=None, random_state=42, ...))])</pre><b>In a Jupyter environment, please rerun this cell to show the HTML representation or trust the notebook. <br />On GitHub, the HTML representation is unable to render, please try loading this page with nbviewer.org.</b></div><div class=\"sk-container\" hidden><div class=\"sk-item sk-dashed-wrapped\"><div class=\"sk-label-container\"><div class=\"sk-label sk-toggleable\"><input class=\"sk-toggleable__control sk-hidden--visually\" id=\"sk-estimator-id-228\" type=\"checkbox\" ><label for=\"sk-estimator-id-228\" class=\"sk-toggleable__label sk-toggleable__label-arrow\">Pipeline</label><div class=\"sk-toggleable__content\"><pre>Pipeline(steps=[(&#x27;preprocessor&#x27;,\n                 ColumnTransformer(transformers=[(&#x27;num&#x27;,\n                                                  Pipeline(steps=[(&#x27;impute&#x27;,\n                                                                   SimpleImputer(strategy=&#x27;most_frequent&#x27;)),\n                                                                  (&#x27;scaler&#x27;,\n                                                                   StandardScaler())]),\n                                                  Index([&#x27;easting&#x27;, &#x27;northing&#x27;, &#x27;elevation&#x27;], dtype=&#x27;object&#x27;)),\n                                                 (&#x27;cat&#x27;,\n                                                  Pipeline(steps=[(&#x27;imputer&#x27;,\n                                                                   SimpleImputer(strategy=&#x27;most_frequent&#x27;)),\n                                                                  (&#x27;ohe&#x27;,\n                                                                   OneHotEncoder(handle_unknown=&#x27;ignore&#x27;,\n                                                                                 spar...\n                              feature_types=None, gamma=None, grow_policy=None,\n                              importance_type=None,\n                              interaction_constraints=None, learning_rate=None,\n                              max_bin=None, max_cat_threshold=None,\n                              max_cat_to_onehot=None, max_delta_step=None,\n                              max_depth=None, max_leaves=None,\n                              min_child_weight=None, missing=nan,\n                              monotone_constraints=None, multi_strategy=None,\n                              n_estimators=None, n_jobs=None,\n                              num_parallel_tree=None, random_state=42, ...))])</pre></div></div></div><div class=\"sk-serial\"><div class=\"sk-item sk-dashed-wrapped\"><div class=\"sk-label-container\"><div class=\"sk-label sk-toggleable\"><input class=\"sk-toggleable__control sk-hidden--visually\" id=\"sk-estimator-id-229\" type=\"checkbox\" ><label for=\"sk-estimator-id-229\" class=\"sk-toggleable__label sk-toggleable__label-arrow\">preprocessor: ColumnTransformer</label><div class=\"sk-toggleable__content\"><pre>ColumnTransformer(transformers=[(&#x27;num&#x27;,\n                                 Pipeline(steps=[(&#x27;impute&#x27;,\n                                                  SimpleImputer(strategy=&#x27;most_frequent&#x27;)),\n                                                 (&#x27;scaler&#x27;, StandardScaler())]),\n                                 Index([&#x27;easting&#x27;, &#x27;northing&#x27;, &#x27;elevation&#x27;], dtype=&#x27;object&#x27;)),\n                                (&#x27;cat&#x27;,\n                                 Pipeline(steps=[(&#x27;imputer&#x27;,\n                                                  SimpleImputer(strategy=&#x27;most_frequent&#x27;)),\n                                                 (&#x27;ohe&#x27;,\n                                                  OneHotEncoder(handle_unknown=&#x27;ignore&#x27;,\n                                                                sparse_output=False))]),\n                                 [&#x27;soilType&#x27;])])</pre></div></div></div><div class=\"sk-parallel\"><div class=\"sk-parallel-item\"><div class=\"sk-item\"><div class=\"sk-label-container\"><div class=\"sk-label sk-toggleable\"><input class=\"sk-toggleable__control sk-hidden--visually\" id=\"sk-estimator-id-230\" type=\"checkbox\" ><label for=\"sk-estimator-id-230\" class=\"sk-toggleable__label sk-toggleable__label-arrow\">num</label><div class=\"sk-toggleable__content\"><pre>Index([&#x27;easting&#x27;, &#x27;northing&#x27;, &#x27;elevation&#x27;], dtype=&#x27;object&#x27;)</pre></div></div></div><div class=\"sk-serial\"><div class=\"sk-item\"><div class=\"sk-serial\"><div class=\"sk-item\"><div class=\"sk-estimator sk-toggleable\"><input class=\"sk-toggleable__control sk-hidden--visually\" id=\"sk-estimator-id-231\" type=\"checkbox\" ><label for=\"sk-estimator-id-231\" class=\"sk-toggleable__label sk-toggleable__label-arrow\">SimpleImputer</label><div class=\"sk-toggleable__content\"><pre>SimpleImputer(strategy=&#x27;most_frequent&#x27;)</pre></div></div></div><div class=\"sk-item\"><div class=\"sk-estimator sk-toggleable\"><input class=\"sk-toggleable__control sk-hidden--visually\" id=\"sk-estimator-id-232\" type=\"checkbox\" ><label for=\"sk-estimator-id-232\" class=\"sk-toggleable__label sk-toggleable__label-arrow\">StandardScaler</label><div class=\"sk-toggleable__content\"><pre>StandardScaler()</pre></div></div></div></div></div></div></div></div><div class=\"sk-parallel-item\"><div class=\"sk-item\"><div class=\"sk-label-container\"><div class=\"sk-label sk-toggleable\"><input class=\"sk-toggleable__control sk-hidden--visually\" id=\"sk-estimator-id-233\" type=\"checkbox\" ><label for=\"sk-estimator-id-233\" class=\"sk-toggleable__label sk-toggleable__label-arrow\">cat</label><div class=\"sk-toggleable__content\"><pre>[&#x27;soilType&#x27;]</pre></div></div></div><div class=\"sk-serial\"><div class=\"sk-item\"><div class=\"sk-serial\"><div class=\"sk-item\"><div class=\"sk-estimator sk-toggleable\"><input class=\"sk-toggleable__control sk-hidden--visually\" id=\"sk-estimator-id-234\" type=\"checkbox\" ><label for=\"sk-estimator-id-234\" class=\"sk-toggleable__label sk-toggleable__label-arrow\">SimpleImputer</label><div class=\"sk-toggleable__content\"><pre>SimpleImputer(strategy=&#x27;most_frequent&#x27;)</pre></div></div></div><div class=\"sk-item\"><div class=\"sk-estimator sk-toggleable\"><input class=\"sk-toggleable__control sk-hidden--visually\" id=\"sk-estimator-id-235\" type=\"checkbox\" ><label for=\"sk-estimator-id-235\" class=\"sk-toggleable__label sk-toggleable__label-arrow\">OneHotEncoder</label><div class=\"sk-toggleable__content\"><pre>OneHotEncoder(handle_unknown=&#x27;ignore&#x27;, sparse_output=False)</pre></div></div></div></div></div></div></div></div></div></div><div class=\"sk-item\"><div class=\"sk-estimator sk-toggleable\"><input class=\"sk-toggleable__control sk-hidden--visually\" id=\"sk-estimator-id-236\" type=\"checkbox\" ><label for=\"sk-estimator-id-236\" class=\"sk-toggleable__label sk-toggleable__label-arrow\">XGBRegressor</label><div class=\"sk-toggleable__content\"><pre>XGBRegressor(base_score=None, booster=None, callbacks=None,\n             colsample_bylevel=None, colsample_bynode=None,\n             colsample_bytree=None, device=None, early_stopping_rounds=None,\n             enable_categorical=False, eval_metric=None, feature_types=None,\n             gamma=None, grow_policy=None, importance_type=None,\n             interaction_constraints=None, learning_rate=None, max_bin=None,\n             max_cat_threshold=None, max_cat_to_onehot=None,\n             max_delta_step=None, max_depth=None, max_leaves=None,\n             min_child_weight=None, missing=nan, monotone_constraints=None,\n             multi_strategy=None, n_estimators=None, n_jobs=None,\n             num_parallel_tree=None, random_state=42, ...)</pre></div></div></div></div></div></div></div>"
     },
     "execution_count": 230,
     "metadata": {},
     "output_type": "execute_result"
    }
   ],
   "source": [
    "model_pipe"
   ],
   "metadata": {
    "collapsed": false,
    "ExecuteTime": {
     "end_time": "2023-11-21T17:19:53.298408Z",
     "start_time": "2023-11-21T17:19:53.144381Z"
    }
   },
   "id": "cd98618983c4e938"
  },
  {
   "cell_type": "markdown",
   "source": [
    "## Model training"
   ],
   "metadata": {
    "collapsed": false
   },
   "id": "de5cc23a6362086f"
  },
  {
   "cell_type": "markdown",
   "source": [
    "Custom scoring function to maximise"
   ],
   "metadata": {
    "collapsed": false
   },
   "id": "3d2ba6a24ccd1717"
  },
  {
   "cell_type": "code",
   "execution_count": 1151,
   "outputs": [],
   "source": [
    "from scoring.scores import SCORES\n",
    "from sklearn.metrics import make_scorer\n",
    "\n",
    "def score_fn(y_true, y_pred):\n",
    "    score = sum(\n",
    "        SCORES[pred - 1, true - 1] for pred, true in zip(np.round(y_pred, 0).astype(int) + 1, y_true + 1)\n",
    "    )\n",
    "    return score\n",
    "\n",
    "custom_scorer = make_scorer(score_func=score_fn, greater_is_better=True)\n"
   ],
   "metadata": {
    "collapsed": false,
    "ExecuteTime": {
     "end_time": "2023-11-23T15:21:14.174977Z",
     "start_time": "2023-11-23T15:21:14.092968Z"
    }
   },
   "id": "7f3c3b572f7b6473"
  },
  {
   "cell_type": "code",
   "execution_count": 232,
   "outputs": [
    {
     "data": {
      "text/plain": "{'memory': None,\n 'steps': [('preprocessor',\n   ColumnTransformer(transformers=[('num',\n                                    Pipeline(steps=[('impute',\n                                                     SimpleImputer(strategy='most_frequent')),\n                                                    ('scaler', StandardScaler())]),\n                                    Index(['easting', 'northing', 'elevation'], dtype='object')),\n                                   ('cat',\n                                    Pipeline(steps=[('imputer',\n                                                     SimpleImputer(strategy='most_frequent')),\n                                                    ('ohe',\n                                                     OneHotEncoder(handle_unknown='ignore',\n                                                                   sparse_output=False))]),\n                                    ['soilType'])])),\n  ('model',\n   XGBRegressor(base_score=None, booster=None, callbacks=None,\n                colsample_bylevel=None, colsample_bynode=None,\n                colsample_bytree=None, device=None, early_stopping_rounds=None,\n                enable_categorical=False, eval_metric=None, feature_types=None,\n                gamma=None, grow_policy=None, importance_type=None,\n                interaction_constraints=None, learning_rate=None, max_bin=None,\n                max_cat_threshold=None, max_cat_to_onehot=None,\n                max_delta_step=None, max_depth=None, max_leaves=None,\n                min_child_weight=None, missing=nan, monotone_constraints=None,\n                multi_strategy=None, n_estimators=None, n_jobs=None,\n                num_parallel_tree=None, random_state=42, ...))],\n 'verbose': False,\n 'preprocessor': ColumnTransformer(transformers=[('num',\n                                  Pipeline(steps=[('impute',\n                                                   SimpleImputer(strategy='most_frequent')),\n                                                  ('scaler', StandardScaler())]),\n                                  Index(['easting', 'northing', 'elevation'], dtype='object')),\n                                 ('cat',\n                                  Pipeline(steps=[('imputer',\n                                                   SimpleImputer(strategy='most_frequent')),\n                                                  ('ohe',\n                                                   OneHotEncoder(handle_unknown='ignore',\n                                                                 sparse_output=False))]),\n                                  ['soilType'])]),\n 'model': XGBRegressor(base_score=None, booster=None, callbacks=None,\n              colsample_bylevel=None, colsample_bynode=None,\n              colsample_bytree=None, device=None, early_stopping_rounds=None,\n              enable_categorical=False, eval_metric=None, feature_types=None,\n              gamma=None, grow_policy=None, importance_type=None,\n              interaction_constraints=None, learning_rate=None, max_bin=None,\n              max_cat_threshold=None, max_cat_to_onehot=None,\n              max_delta_step=None, max_depth=None, max_leaves=None,\n              min_child_weight=None, missing=nan, monotone_constraints=None,\n              multi_strategy=None, n_estimators=None, n_jobs=None,\n              num_parallel_tree=None, random_state=42, ...),\n 'preprocessor__n_jobs': None,\n 'preprocessor__remainder': 'drop',\n 'preprocessor__sparse_threshold': 0.3,\n 'preprocessor__transformer_weights': None,\n 'preprocessor__transformers': [('num',\n   Pipeline(steps=[('impute', SimpleImputer(strategy='most_frequent')),\n                   ('scaler', StandardScaler())]),\n   Index(['easting', 'northing', 'elevation'], dtype='object')),\n  ('cat',\n   Pipeline(steps=[('imputer', SimpleImputer(strategy='most_frequent')),\n                   ('ohe',\n                    OneHotEncoder(handle_unknown='ignore', sparse_output=False))]),\n   ['soilType'])],\n 'preprocessor__verbose': False,\n 'preprocessor__verbose_feature_names_out': True,\n 'preprocessor__num': Pipeline(steps=[('impute', SimpleImputer(strategy='most_frequent')),\n                 ('scaler', StandardScaler())]),\n 'preprocessor__cat': Pipeline(steps=[('imputer', SimpleImputer(strategy='most_frequent')),\n                 ('ohe',\n                  OneHotEncoder(handle_unknown='ignore', sparse_output=False))]),\n 'preprocessor__num__memory': None,\n 'preprocessor__num__steps': [('impute',\n   SimpleImputer(strategy='most_frequent')),\n  ('scaler', StandardScaler())],\n 'preprocessor__num__verbose': False,\n 'preprocessor__num__impute': SimpleImputer(strategy='most_frequent'),\n 'preprocessor__num__scaler': StandardScaler(),\n 'preprocessor__num__impute__add_indicator': False,\n 'preprocessor__num__impute__copy': True,\n 'preprocessor__num__impute__fill_value': None,\n 'preprocessor__num__impute__keep_empty_features': False,\n 'preprocessor__num__impute__missing_values': nan,\n 'preprocessor__num__impute__strategy': 'most_frequent',\n 'preprocessor__num__scaler__copy': True,\n 'preprocessor__num__scaler__with_mean': True,\n 'preprocessor__num__scaler__with_std': True,\n 'preprocessor__cat__memory': None,\n 'preprocessor__cat__steps': [('imputer',\n   SimpleImputer(strategy='most_frequent')),\n  ('ohe', OneHotEncoder(handle_unknown='ignore', sparse_output=False))],\n 'preprocessor__cat__verbose': False,\n 'preprocessor__cat__imputer': SimpleImputer(strategy='most_frequent'),\n 'preprocessor__cat__ohe': OneHotEncoder(handle_unknown='ignore', sparse_output=False),\n 'preprocessor__cat__imputer__add_indicator': False,\n 'preprocessor__cat__imputer__copy': True,\n 'preprocessor__cat__imputer__fill_value': None,\n 'preprocessor__cat__imputer__keep_empty_features': False,\n 'preprocessor__cat__imputer__missing_values': nan,\n 'preprocessor__cat__imputer__strategy': 'most_frequent',\n 'preprocessor__cat__ohe__categories': 'auto',\n 'preprocessor__cat__ohe__drop': None,\n 'preprocessor__cat__ohe__dtype': numpy.float64,\n 'preprocessor__cat__ohe__feature_name_combiner': 'concat',\n 'preprocessor__cat__ohe__handle_unknown': 'ignore',\n 'preprocessor__cat__ohe__max_categories': None,\n 'preprocessor__cat__ohe__min_frequency': None,\n 'preprocessor__cat__ohe__sparse': 'deprecated',\n 'preprocessor__cat__ohe__sparse_output': False,\n 'model__objective': 'reg:squarederror',\n 'model__base_score': None,\n 'model__booster': None,\n 'model__callbacks': None,\n 'model__colsample_bylevel': None,\n 'model__colsample_bynode': None,\n 'model__colsample_bytree': None,\n 'model__device': None,\n 'model__early_stopping_rounds': None,\n 'model__enable_categorical': False,\n 'model__eval_metric': None,\n 'model__feature_types': None,\n 'model__gamma': None,\n 'model__grow_policy': None,\n 'model__importance_type': None,\n 'model__interaction_constraints': None,\n 'model__learning_rate': None,\n 'model__max_bin': None,\n 'model__max_cat_threshold': None,\n 'model__max_cat_to_onehot': None,\n 'model__max_delta_step': None,\n 'model__max_depth': None,\n 'model__max_leaves': None,\n 'model__min_child_weight': None,\n 'model__missing': nan,\n 'model__monotone_constraints': None,\n 'model__multi_strategy': None,\n 'model__n_estimators': None,\n 'model__n_jobs': None,\n 'model__num_parallel_tree': None,\n 'model__random_state': 42,\n 'model__reg_alpha': None,\n 'model__reg_lambda': None,\n 'model__sampling_method': None,\n 'model__scale_pos_weight': None,\n 'model__subsample': None,\n 'model__tree_method': None,\n 'model__validate_parameters': None,\n 'model__verbosity': None}"
     },
     "execution_count": 232,
     "metadata": {},
     "output_type": "execute_result"
    }
   ],
   "source": [
    "model_pipe.get_params()"
   ],
   "metadata": {
    "collapsed": false,
    "ExecuteTime": {
     "end_time": "2023-11-21T17:19:53.298928Z",
     "start_time": "2023-11-21T17:19:53.194148Z"
    }
   },
   "id": "d44142f3e65fa1d1"
  },
  {
   "cell_type": "code",
   "execution_count": 233,
   "outputs": [
    {
     "data": {
      "text/plain": "Pipeline(steps=[('preprocessor',\n                 ColumnTransformer(transformers=[('num',\n                                                  Pipeline(steps=[('impute',\n                                                                   SimpleImputer(strategy='most_frequent')),\n                                                                  ('scaler',\n                                                                   StandardScaler())]),\n                                                  Index(['easting', 'northing', 'elevation'], dtype='object')),\n                                                 ('cat',\n                                                  Pipeline(steps=[('imputer',\n                                                                   SimpleImputer(strategy='most_frequent')),\n                                                                  ('ohe',\n                                                                   OneHotEncoder(handle_unknown='ignore',\n                                                                                 spar...\n                              feature_types=None, gamma=None, grow_policy=None,\n                              importance_type=None,\n                              interaction_constraints=None, learning_rate=None,\n                              max_bin=None, max_cat_threshold=None,\n                              max_cat_to_onehot=None, max_delta_step=None,\n                              max_depth=None, max_leaves=None,\n                              min_child_weight=None, missing=nan,\n                              monotone_constraints=None, multi_strategy=None,\n                              n_estimators=None, n_jobs=None,\n                              num_parallel_tree=None, random_state=42, ...))])",
      "text/html": "<style>#sk-container-id-28 {color: black;}#sk-container-id-28 pre{padding: 0;}#sk-container-id-28 div.sk-toggleable {background-color: white;}#sk-container-id-28 label.sk-toggleable__label {cursor: pointer;display: block;width: 100%;margin-bottom: 0;padding: 0.3em;box-sizing: border-box;text-align: center;}#sk-container-id-28 label.sk-toggleable__label-arrow:before {content: \"▸\";float: left;margin-right: 0.25em;color: #696969;}#sk-container-id-28 label.sk-toggleable__label-arrow:hover:before {color: black;}#sk-container-id-28 div.sk-estimator:hover label.sk-toggleable__label-arrow:before {color: black;}#sk-container-id-28 div.sk-toggleable__content {max-height: 0;max-width: 0;overflow: hidden;text-align: left;background-color: #f0f8ff;}#sk-container-id-28 div.sk-toggleable__content pre {margin: 0.2em;color: black;border-radius: 0.25em;background-color: #f0f8ff;}#sk-container-id-28 input.sk-toggleable__control:checked~div.sk-toggleable__content {max-height: 200px;max-width: 100%;overflow: auto;}#sk-container-id-28 input.sk-toggleable__control:checked~label.sk-toggleable__label-arrow:before {content: \"▾\";}#sk-container-id-28 div.sk-estimator input.sk-toggleable__control:checked~label.sk-toggleable__label {background-color: #d4ebff;}#sk-container-id-28 div.sk-label input.sk-toggleable__control:checked~label.sk-toggleable__label {background-color: #d4ebff;}#sk-container-id-28 input.sk-hidden--visually {border: 0;clip: rect(1px 1px 1px 1px);clip: rect(1px, 1px, 1px, 1px);height: 1px;margin: -1px;overflow: hidden;padding: 0;position: absolute;width: 1px;}#sk-container-id-28 div.sk-estimator {font-family: monospace;background-color: #f0f8ff;border: 1px dotted black;border-radius: 0.25em;box-sizing: border-box;margin-bottom: 0.5em;}#sk-container-id-28 div.sk-estimator:hover {background-color: #d4ebff;}#sk-container-id-28 div.sk-parallel-item::after {content: \"\";width: 100%;border-bottom: 1px solid gray;flex-grow: 1;}#sk-container-id-28 div.sk-label:hover label.sk-toggleable__label {background-color: #d4ebff;}#sk-container-id-28 div.sk-serial::before {content: \"\";position: absolute;border-left: 1px solid gray;box-sizing: border-box;top: 0;bottom: 0;left: 50%;z-index: 0;}#sk-container-id-28 div.sk-serial {display: flex;flex-direction: column;align-items: center;background-color: white;padding-right: 0.2em;padding-left: 0.2em;position: relative;}#sk-container-id-28 div.sk-item {position: relative;z-index: 1;}#sk-container-id-28 div.sk-parallel {display: flex;align-items: stretch;justify-content: center;background-color: white;position: relative;}#sk-container-id-28 div.sk-item::before, #sk-container-id-28 div.sk-parallel-item::before {content: \"\";position: absolute;border-left: 1px solid gray;box-sizing: border-box;top: 0;bottom: 0;left: 50%;z-index: -1;}#sk-container-id-28 div.sk-parallel-item {display: flex;flex-direction: column;z-index: 1;position: relative;background-color: white;}#sk-container-id-28 div.sk-parallel-item:first-child::after {align-self: flex-end;width: 50%;}#sk-container-id-28 div.sk-parallel-item:last-child::after {align-self: flex-start;width: 50%;}#sk-container-id-28 div.sk-parallel-item:only-child::after {width: 0;}#sk-container-id-28 div.sk-dashed-wrapped {border: 1px dashed gray;margin: 0 0.4em 0.5em 0.4em;box-sizing: border-box;padding-bottom: 0.4em;background-color: white;}#sk-container-id-28 div.sk-label label {font-family: monospace;font-weight: bold;display: inline-block;line-height: 1.2em;}#sk-container-id-28 div.sk-label-container {text-align: center;}#sk-container-id-28 div.sk-container {/* jupyter's `normalize.less` sets `[hidden] { display: none; }` but bootstrap.min.css set `[hidden] { display: none !important; }` so we also need the `!important` here to be able to override the default hidden behavior on the sphinx rendered scikit-learn.org. See: https://github.com/scikit-learn/scikit-learn/issues/21755 */display: inline-block !important;position: relative;}#sk-container-id-28 div.sk-text-repr-fallback {display: none;}</style><div id=\"sk-container-id-28\" class=\"sk-top-container\"><div class=\"sk-text-repr-fallback\"><pre>Pipeline(steps=[(&#x27;preprocessor&#x27;,\n                 ColumnTransformer(transformers=[(&#x27;num&#x27;,\n                                                  Pipeline(steps=[(&#x27;impute&#x27;,\n                                                                   SimpleImputer(strategy=&#x27;most_frequent&#x27;)),\n                                                                  (&#x27;scaler&#x27;,\n                                                                   StandardScaler())]),\n                                                  Index([&#x27;easting&#x27;, &#x27;northing&#x27;, &#x27;elevation&#x27;], dtype=&#x27;object&#x27;)),\n                                                 (&#x27;cat&#x27;,\n                                                  Pipeline(steps=[(&#x27;imputer&#x27;,\n                                                                   SimpleImputer(strategy=&#x27;most_frequent&#x27;)),\n                                                                  (&#x27;ohe&#x27;,\n                                                                   OneHotEncoder(handle_unknown=&#x27;ignore&#x27;,\n                                                                                 spar...\n                              feature_types=None, gamma=None, grow_policy=None,\n                              importance_type=None,\n                              interaction_constraints=None, learning_rate=None,\n                              max_bin=None, max_cat_threshold=None,\n                              max_cat_to_onehot=None, max_delta_step=None,\n                              max_depth=None, max_leaves=None,\n                              min_child_weight=None, missing=nan,\n                              monotone_constraints=None, multi_strategy=None,\n                              n_estimators=None, n_jobs=None,\n                              num_parallel_tree=None, random_state=42, ...))])</pre><b>In a Jupyter environment, please rerun this cell to show the HTML representation or trust the notebook. <br />On GitHub, the HTML representation is unable to render, please try loading this page with nbviewer.org.</b></div><div class=\"sk-container\" hidden><div class=\"sk-item sk-dashed-wrapped\"><div class=\"sk-label-container\"><div class=\"sk-label sk-toggleable\"><input class=\"sk-toggleable__control sk-hidden--visually\" id=\"sk-estimator-id-237\" type=\"checkbox\" ><label for=\"sk-estimator-id-237\" class=\"sk-toggleable__label sk-toggleable__label-arrow\">Pipeline</label><div class=\"sk-toggleable__content\"><pre>Pipeline(steps=[(&#x27;preprocessor&#x27;,\n                 ColumnTransformer(transformers=[(&#x27;num&#x27;,\n                                                  Pipeline(steps=[(&#x27;impute&#x27;,\n                                                                   SimpleImputer(strategy=&#x27;most_frequent&#x27;)),\n                                                                  (&#x27;scaler&#x27;,\n                                                                   StandardScaler())]),\n                                                  Index([&#x27;easting&#x27;, &#x27;northing&#x27;, &#x27;elevation&#x27;], dtype=&#x27;object&#x27;)),\n                                                 (&#x27;cat&#x27;,\n                                                  Pipeline(steps=[(&#x27;imputer&#x27;,\n                                                                   SimpleImputer(strategy=&#x27;most_frequent&#x27;)),\n                                                                  (&#x27;ohe&#x27;,\n                                                                   OneHotEncoder(handle_unknown=&#x27;ignore&#x27;,\n                                                                                 spar...\n                              feature_types=None, gamma=None, grow_policy=None,\n                              importance_type=None,\n                              interaction_constraints=None, learning_rate=None,\n                              max_bin=None, max_cat_threshold=None,\n                              max_cat_to_onehot=None, max_delta_step=None,\n                              max_depth=None, max_leaves=None,\n                              min_child_weight=None, missing=nan,\n                              monotone_constraints=None, multi_strategy=None,\n                              n_estimators=None, n_jobs=None,\n                              num_parallel_tree=None, random_state=42, ...))])</pre></div></div></div><div class=\"sk-serial\"><div class=\"sk-item sk-dashed-wrapped\"><div class=\"sk-label-container\"><div class=\"sk-label sk-toggleable\"><input class=\"sk-toggleable__control sk-hidden--visually\" id=\"sk-estimator-id-238\" type=\"checkbox\" ><label for=\"sk-estimator-id-238\" class=\"sk-toggleable__label sk-toggleable__label-arrow\">preprocessor: ColumnTransformer</label><div class=\"sk-toggleable__content\"><pre>ColumnTransformer(transformers=[(&#x27;num&#x27;,\n                                 Pipeline(steps=[(&#x27;impute&#x27;,\n                                                  SimpleImputer(strategy=&#x27;most_frequent&#x27;)),\n                                                 (&#x27;scaler&#x27;, StandardScaler())]),\n                                 Index([&#x27;easting&#x27;, &#x27;northing&#x27;, &#x27;elevation&#x27;], dtype=&#x27;object&#x27;)),\n                                (&#x27;cat&#x27;,\n                                 Pipeline(steps=[(&#x27;imputer&#x27;,\n                                                  SimpleImputer(strategy=&#x27;most_frequent&#x27;)),\n                                                 (&#x27;ohe&#x27;,\n                                                  OneHotEncoder(handle_unknown=&#x27;ignore&#x27;,\n                                                                sparse_output=False))]),\n                                 [&#x27;soilType&#x27;])])</pre></div></div></div><div class=\"sk-parallel\"><div class=\"sk-parallel-item\"><div class=\"sk-item\"><div class=\"sk-label-container\"><div class=\"sk-label sk-toggleable\"><input class=\"sk-toggleable__control sk-hidden--visually\" id=\"sk-estimator-id-239\" type=\"checkbox\" ><label for=\"sk-estimator-id-239\" class=\"sk-toggleable__label sk-toggleable__label-arrow\">num</label><div class=\"sk-toggleable__content\"><pre>Index([&#x27;easting&#x27;, &#x27;northing&#x27;, &#x27;elevation&#x27;], dtype=&#x27;object&#x27;)</pre></div></div></div><div class=\"sk-serial\"><div class=\"sk-item\"><div class=\"sk-serial\"><div class=\"sk-item\"><div class=\"sk-estimator sk-toggleable\"><input class=\"sk-toggleable__control sk-hidden--visually\" id=\"sk-estimator-id-240\" type=\"checkbox\" ><label for=\"sk-estimator-id-240\" class=\"sk-toggleable__label sk-toggleable__label-arrow\">SimpleImputer</label><div class=\"sk-toggleable__content\"><pre>SimpleImputer(strategy=&#x27;most_frequent&#x27;)</pre></div></div></div><div class=\"sk-item\"><div class=\"sk-estimator sk-toggleable\"><input class=\"sk-toggleable__control sk-hidden--visually\" id=\"sk-estimator-id-241\" type=\"checkbox\" ><label for=\"sk-estimator-id-241\" class=\"sk-toggleable__label sk-toggleable__label-arrow\">StandardScaler</label><div class=\"sk-toggleable__content\"><pre>StandardScaler()</pre></div></div></div></div></div></div></div></div><div class=\"sk-parallel-item\"><div class=\"sk-item\"><div class=\"sk-label-container\"><div class=\"sk-label sk-toggleable\"><input class=\"sk-toggleable__control sk-hidden--visually\" id=\"sk-estimator-id-242\" type=\"checkbox\" ><label for=\"sk-estimator-id-242\" class=\"sk-toggleable__label sk-toggleable__label-arrow\">cat</label><div class=\"sk-toggleable__content\"><pre>[&#x27;soilType&#x27;]</pre></div></div></div><div class=\"sk-serial\"><div class=\"sk-item\"><div class=\"sk-serial\"><div class=\"sk-item\"><div class=\"sk-estimator sk-toggleable\"><input class=\"sk-toggleable__control sk-hidden--visually\" id=\"sk-estimator-id-243\" type=\"checkbox\" ><label for=\"sk-estimator-id-243\" class=\"sk-toggleable__label sk-toggleable__label-arrow\">SimpleImputer</label><div class=\"sk-toggleable__content\"><pre>SimpleImputer(strategy=&#x27;most_frequent&#x27;)</pre></div></div></div><div class=\"sk-item\"><div class=\"sk-estimator sk-toggleable\"><input class=\"sk-toggleable__control sk-hidden--visually\" id=\"sk-estimator-id-244\" type=\"checkbox\" ><label for=\"sk-estimator-id-244\" class=\"sk-toggleable__label sk-toggleable__label-arrow\">OneHotEncoder</label><div class=\"sk-toggleable__content\"><pre>OneHotEncoder(handle_unknown=&#x27;ignore&#x27;, sparse_output=False)</pre></div></div></div></div></div></div></div></div></div></div><div class=\"sk-item\"><div class=\"sk-estimator sk-toggleable\"><input class=\"sk-toggleable__control sk-hidden--visually\" id=\"sk-estimator-id-245\" type=\"checkbox\" ><label for=\"sk-estimator-id-245\" class=\"sk-toggleable__label sk-toggleable__label-arrow\">XGBRegressor</label><div class=\"sk-toggleable__content\"><pre>XGBRegressor(base_score=None, booster=None, callbacks=None,\n             colsample_bylevel=None, colsample_bynode=None,\n             colsample_bytree=None, device=None, early_stopping_rounds=None,\n             enable_categorical=False, eval_metric=None, feature_types=None,\n             gamma=None, grow_policy=None, importance_type=None,\n             interaction_constraints=None, learning_rate=None, max_bin=None,\n             max_cat_threshold=None, max_cat_to_onehot=None,\n             max_delta_step=None, max_depth=None, max_leaves=None,\n             min_child_weight=None, missing=nan, monotone_constraints=None,\n             multi_strategy=None, n_estimators=None, n_jobs=None,\n             num_parallel_tree=None, random_state=42, ...)</pre></div></div></div></div></div></div></div>"
     },
     "execution_count": 233,
     "metadata": {},
     "output_type": "execute_result"
    }
   ],
   "source": [
    "model_pipe.fit(X_train, y_train_sub) "
   ],
   "metadata": {
    "collapsed": false,
    "ExecuteTime": {
     "end_time": "2023-11-21T17:19:53.442447Z",
     "start_time": "2023-11-21T17:19:53.215676Z"
    }
   },
   "id": "9d5f92df383a11ea"
  },
  {
   "cell_type": "code",
   "execution_count": 234,
   "outputs": [
    {
     "data": {
      "text/plain": "8249     0\n11163    0\n12718    0\n9149     0\n22634    0\n        ..\n27917    0\n19809    0\n1183     0\n17235    0\n25414    0\nName: riskLabel, Length: 24000, dtype: int64"
     },
     "execution_count": 234,
     "metadata": {},
     "output_type": "execute_result"
    }
   ],
   "source": [
    "y_train_sub"
   ],
   "metadata": {
    "collapsed": false,
    "ExecuteTime": {
     "end_time": "2023-11-21T17:19:53.443295Z",
     "start_time": "2023-11-21T17:19:53.392045Z"
    }
   },
   "id": "36be082e6110516"
  },
  {
   "cell_type": "code",
   "execution_count": 235,
   "outputs": [],
   "source": [
    "y_preds = model_pipe.predict(X_test)"
   ],
   "metadata": {
    "collapsed": false,
    "ExecuteTime": {
     "end_time": "2023-11-21T17:19:53.457062Z",
     "start_time": "2023-11-21T17:19:53.406330Z"
    }
   },
   "id": "a699a07040937065"
  },
  {
   "cell_type": "code",
   "execution_count": 236,
   "outputs": [
    {
     "data": {
      "text/plain": "559450"
     },
     "execution_count": 236,
     "metadata": {},
     "output_type": "execute_result"
    }
   ],
   "source": [
    "score = score_fn(y_test_sub, y_preds)\n",
    "score"
   ],
   "metadata": {
    "collapsed": false,
    "ExecuteTime": {
     "end_time": "2023-11-21T17:19:53.461911Z",
     "start_time": "2023-11-21T17:19:53.427224Z"
    }
   },
   "id": "9ad735e001ca7bff"
  },
  {
   "cell_type": "code",
   "execution_count": 237,
   "outputs": [],
   "source": [
    "import scipy.stats as stats\n",
    "\n",
    "param_distribution = {\n",
    "    'preprocessor__num__scaler':  [StandardScaler(), MinMaxScaler()],\n",
    "    'model__learning_rate': stats.uniform(0.01, 0.9),\n",
    "    'model__n_estimators': stats.randint(500, 1000),\n",
    "    'model__max_depth': stats.randint(30, 60),\n",
    "}\n",
    "\n"
   ],
   "metadata": {
    "collapsed": false,
    "ExecuteTime": {
     "end_time": "2023-11-21T17:19:53.492647Z",
     "start_time": "2023-11-21T17:19:53.445618Z"
    }
   },
   "id": "7e8596b7fcfbbe19"
  },
  {
   "cell_type": "code",
   "execution_count": 238,
   "outputs": [],
   "source": [
    "from sklearn.model_selection import RandomizedSearchCV, StratifiedKFold\n",
    "\n",
    "rand_cv = RandomizedSearchCV(\n",
    "    estimator=model_pipe, \n",
    "    param_distributions=param_distribution, \n",
    "    scoring=custom_scorer, \n",
    "    cv=StratifiedKFold(n_splits=5, shuffle=False).split(X_train, y=y_train), \n",
    "    n_iter=50,\n",
    "    n_jobs=-1, \n",
    "    random_state=rds\n",
    ")\n",
    "\n"
   ],
   "metadata": {
    "collapsed": false,
    "ExecuteTime": {
     "end_time": "2023-11-21T17:19:53.504205Z",
     "start_time": "2023-11-21T17:19:53.459530Z"
    }
   },
   "id": "f8ca68d2f54d5ec4"
  },
  {
   "cell_type": "code",
   "execution_count": 239,
   "outputs": [
    {
     "name": "stderr",
     "output_type": "stream",
     "text": [
      "/opt/homebrew/anaconda3/envs/deluge-wye/lib/python3.11/site-packages/joblib/externals/loky/process_executor.py:752: UserWarning: A worker stopped while some jobs were given to the executor. This can be caused by a too short worker timeout or by a memory leak.\n",
      "  warnings.warn(\n"
     ]
    },
    {
     "data": {
      "text/plain": "RandomizedSearchCV(cv=<generator object _BaseKFold.split at 0x17f74a8c0>,\n                   estimator=Pipeline(steps=[('preprocessor',\n                                              ColumnTransformer(transformers=[('num',\n                                                                               Pipeline(steps=[('impute',\n                                                                                                SimpleImputer(strategy='most_frequent')),\n                                                                                               ('scaler',\n                                                                                                StandardScaler())]),\n                                                                               Index(['easting', 'northing', 'elevation'], dtype='object')),\n                                                                              ('cat',\n                                                                               Pipeline(steps=[('imputer',\n                                                                                                SimpleImput...\n                   param_distributions={'model__learning_rate': <scipy.stats._distn_infrastructure.rv_continuous_frozen object at 0x28e2b1f10>,\n                                        'model__max_depth': <scipy.stats._distn_infrastructure.rv_discrete_frozen object at 0x28cf2fa10>,\n                                        'model__n_estimators': <scipy.stats._distn_infrastructure.rv_discrete_frozen object at 0x28912f550>,\n                                        'preprocessor__num__scaler': [StandardScaler(),\n                                                                      MinMaxScaler()]},\n                   random_state=42, scoring=make_scorer(score_fn))",
      "text/html": "<style>#sk-container-id-29 {color: black;}#sk-container-id-29 pre{padding: 0;}#sk-container-id-29 div.sk-toggleable {background-color: white;}#sk-container-id-29 label.sk-toggleable__label {cursor: pointer;display: block;width: 100%;margin-bottom: 0;padding: 0.3em;box-sizing: border-box;text-align: center;}#sk-container-id-29 label.sk-toggleable__label-arrow:before {content: \"▸\";float: left;margin-right: 0.25em;color: #696969;}#sk-container-id-29 label.sk-toggleable__label-arrow:hover:before {color: black;}#sk-container-id-29 div.sk-estimator:hover label.sk-toggleable__label-arrow:before {color: black;}#sk-container-id-29 div.sk-toggleable__content {max-height: 0;max-width: 0;overflow: hidden;text-align: left;background-color: #f0f8ff;}#sk-container-id-29 div.sk-toggleable__content pre {margin: 0.2em;color: black;border-radius: 0.25em;background-color: #f0f8ff;}#sk-container-id-29 input.sk-toggleable__control:checked~div.sk-toggleable__content {max-height: 200px;max-width: 100%;overflow: auto;}#sk-container-id-29 input.sk-toggleable__control:checked~label.sk-toggleable__label-arrow:before {content: \"▾\";}#sk-container-id-29 div.sk-estimator input.sk-toggleable__control:checked~label.sk-toggleable__label {background-color: #d4ebff;}#sk-container-id-29 div.sk-label input.sk-toggleable__control:checked~label.sk-toggleable__label {background-color: #d4ebff;}#sk-container-id-29 input.sk-hidden--visually {border: 0;clip: rect(1px 1px 1px 1px);clip: rect(1px, 1px, 1px, 1px);height: 1px;margin: -1px;overflow: hidden;padding: 0;position: absolute;width: 1px;}#sk-container-id-29 div.sk-estimator {font-family: monospace;background-color: #f0f8ff;border: 1px dotted black;border-radius: 0.25em;box-sizing: border-box;margin-bottom: 0.5em;}#sk-container-id-29 div.sk-estimator:hover {background-color: #d4ebff;}#sk-container-id-29 div.sk-parallel-item::after {content: \"\";width: 100%;border-bottom: 1px solid gray;flex-grow: 1;}#sk-container-id-29 div.sk-label:hover label.sk-toggleable__label {background-color: #d4ebff;}#sk-container-id-29 div.sk-serial::before {content: \"\";position: absolute;border-left: 1px solid gray;box-sizing: border-box;top: 0;bottom: 0;left: 50%;z-index: 0;}#sk-container-id-29 div.sk-serial {display: flex;flex-direction: column;align-items: center;background-color: white;padding-right: 0.2em;padding-left: 0.2em;position: relative;}#sk-container-id-29 div.sk-item {position: relative;z-index: 1;}#sk-container-id-29 div.sk-parallel {display: flex;align-items: stretch;justify-content: center;background-color: white;position: relative;}#sk-container-id-29 div.sk-item::before, #sk-container-id-29 div.sk-parallel-item::before {content: \"\";position: absolute;border-left: 1px solid gray;box-sizing: border-box;top: 0;bottom: 0;left: 50%;z-index: -1;}#sk-container-id-29 div.sk-parallel-item {display: flex;flex-direction: column;z-index: 1;position: relative;background-color: white;}#sk-container-id-29 div.sk-parallel-item:first-child::after {align-self: flex-end;width: 50%;}#sk-container-id-29 div.sk-parallel-item:last-child::after {align-self: flex-start;width: 50%;}#sk-container-id-29 div.sk-parallel-item:only-child::after {width: 0;}#sk-container-id-29 div.sk-dashed-wrapped {border: 1px dashed gray;margin: 0 0.4em 0.5em 0.4em;box-sizing: border-box;padding-bottom: 0.4em;background-color: white;}#sk-container-id-29 div.sk-label label {font-family: monospace;font-weight: bold;display: inline-block;line-height: 1.2em;}#sk-container-id-29 div.sk-label-container {text-align: center;}#sk-container-id-29 div.sk-container {/* jupyter's `normalize.less` sets `[hidden] { display: none; }` but bootstrap.min.css set `[hidden] { display: none !important; }` so we also need the `!important` here to be able to override the default hidden behavior on the sphinx rendered scikit-learn.org. See: https://github.com/scikit-learn/scikit-learn/issues/21755 */display: inline-block !important;position: relative;}#sk-container-id-29 div.sk-text-repr-fallback {display: none;}</style><div id=\"sk-container-id-29\" class=\"sk-top-container\"><div class=\"sk-text-repr-fallback\"><pre>RandomizedSearchCV(cv=&lt;generator object _BaseKFold.split at 0x17f74a8c0&gt;,\n                   estimator=Pipeline(steps=[(&#x27;preprocessor&#x27;,\n                                              ColumnTransformer(transformers=[(&#x27;num&#x27;,\n                                                                               Pipeline(steps=[(&#x27;impute&#x27;,\n                                                                                                SimpleImputer(strategy=&#x27;most_frequent&#x27;)),\n                                                                                               (&#x27;scaler&#x27;,\n                                                                                                StandardScaler())]),\n                                                                               Index([&#x27;easting&#x27;, &#x27;northing&#x27;, &#x27;elevation&#x27;], dtype=&#x27;object&#x27;)),\n                                                                              (&#x27;cat&#x27;,\n                                                                               Pipeline(steps=[(&#x27;imputer&#x27;,\n                                                                                                SimpleImput...\n                   param_distributions={&#x27;model__learning_rate&#x27;: &lt;scipy.stats._distn_infrastructure.rv_continuous_frozen object at 0x28e2b1f10&gt;,\n                                        &#x27;model__max_depth&#x27;: &lt;scipy.stats._distn_infrastructure.rv_discrete_frozen object at 0x28cf2fa10&gt;,\n                                        &#x27;model__n_estimators&#x27;: &lt;scipy.stats._distn_infrastructure.rv_discrete_frozen object at 0x28912f550&gt;,\n                                        &#x27;preprocessor__num__scaler&#x27;: [StandardScaler(),\n                                                                      MinMaxScaler()]},\n                   random_state=42, scoring=make_scorer(score_fn))</pre><b>In a Jupyter environment, please rerun this cell to show the HTML representation or trust the notebook. <br />On GitHub, the HTML representation is unable to render, please try loading this page with nbviewer.org.</b></div><div class=\"sk-container\" hidden><div class=\"sk-item sk-dashed-wrapped\"><div class=\"sk-label-container\"><div class=\"sk-label sk-toggleable\"><input class=\"sk-toggleable__control sk-hidden--visually\" id=\"sk-estimator-id-246\" type=\"checkbox\" ><label for=\"sk-estimator-id-246\" class=\"sk-toggleable__label sk-toggleable__label-arrow\">RandomizedSearchCV</label><div class=\"sk-toggleable__content\"><pre>RandomizedSearchCV(cv=&lt;generator object _BaseKFold.split at 0x17f74a8c0&gt;,\n                   estimator=Pipeline(steps=[(&#x27;preprocessor&#x27;,\n                                              ColumnTransformer(transformers=[(&#x27;num&#x27;,\n                                                                               Pipeline(steps=[(&#x27;impute&#x27;,\n                                                                                                SimpleImputer(strategy=&#x27;most_frequent&#x27;)),\n                                                                                               (&#x27;scaler&#x27;,\n                                                                                                StandardScaler())]),\n                                                                               Index([&#x27;easting&#x27;, &#x27;northing&#x27;, &#x27;elevation&#x27;], dtype=&#x27;object&#x27;)),\n                                                                              (&#x27;cat&#x27;,\n                                                                               Pipeline(steps=[(&#x27;imputer&#x27;,\n                                                                                                SimpleImput...\n                   param_distributions={&#x27;model__learning_rate&#x27;: &lt;scipy.stats._distn_infrastructure.rv_continuous_frozen object at 0x28e2b1f10&gt;,\n                                        &#x27;model__max_depth&#x27;: &lt;scipy.stats._distn_infrastructure.rv_discrete_frozen object at 0x28cf2fa10&gt;,\n                                        &#x27;model__n_estimators&#x27;: &lt;scipy.stats._distn_infrastructure.rv_discrete_frozen object at 0x28912f550&gt;,\n                                        &#x27;preprocessor__num__scaler&#x27;: [StandardScaler(),\n                                                                      MinMaxScaler()]},\n                   random_state=42, scoring=make_scorer(score_fn))</pre></div></div></div><div class=\"sk-parallel\"><div class=\"sk-parallel-item\"><div class=\"sk-item\"><div class=\"sk-label-container\"><div class=\"sk-label sk-toggleable\"><input class=\"sk-toggleable__control sk-hidden--visually\" id=\"sk-estimator-id-247\" type=\"checkbox\" ><label for=\"sk-estimator-id-247\" class=\"sk-toggleable__label sk-toggleable__label-arrow\">estimator: Pipeline</label><div class=\"sk-toggleable__content\"><pre>Pipeline(steps=[(&#x27;preprocessor&#x27;,\n                 ColumnTransformer(transformers=[(&#x27;num&#x27;,\n                                                  Pipeline(steps=[(&#x27;impute&#x27;,\n                                                                   SimpleImputer(strategy=&#x27;most_frequent&#x27;)),\n                                                                  (&#x27;scaler&#x27;,\n                                                                   StandardScaler())]),\n                                                  Index([&#x27;easting&#x27;, &#x27;northing&#x27;, &#x27;elevation&#x27;], dtype=&#x27;object&#x27;)),\n                                                 (&#x27;cat&#x27;,\n                                                  Pipeline(steps=[(&#x27;imputer&#x27;,\n                                                                   SimpleImputer(strategy=&#x27;most_frequent&#x27;)),\n                                                                  (&#x27;ohe&#x27;,\n                                                                   OneHotEncoder(handle_unknown=&#x27;ignore&#x27;,\n                                                                                 spar...\n                              feature_types=None, gamma=None, grow_policy=None,\n                              importance_type=None,\n                              interaction_constraints=None, learning_rate=None,\n                              max_bin=None, max_cat_threshold=None,\n                              max_cat_to_onehot=None, max_delta_step=None,\n                              max_depth=None, max_leaves=None,\n                              min_child_weight=None, missing=nan,\n                              monotone_constraints=None, multi_strategy=None,\n                              n_estimators=None, n_jobs=None,\n                              num_parallel_tree=None, random_state=42, ...))])</pre></div></div></div><div class=\"sk-serial\"><div class=\"sk-item\"><div class=\"sk-serial\"><div class=\"sk-item sk-dashed-wrapped\"><div class=\"sk-label-container\"><div class=\"sk-label sk-toggleable\"><input class=\"sk-toggleable__control sk-hidden--visually\" id=\"sk-estimator-id-248\" type=\"checkbox\" ><label for=\"sk-estimator-id-248\" class=\"sk-toggleable__label sk-toggleable__label-arrow\">preprocessor: ColumnTransformer</label><div class=\"sk-toggleable__content\"><pre>ColumnTransformer(transformers=[(&#x27;num&#x27;,\n                                 Pipeline(steps=[(&#x27;impute&#x27;,\n                                                  SimpleImputer(strategy=&#x27;most_frequent&#x27;)),\n                                                 (&#x27;scaler&#x27;, StandardScaler())]),\n                                 Index([&#x27;easting&#x27;, &#x27;northing&#x27;, &#x27;elevation&#x27;], dtype=&#x27;object&#x27;)),\n                                (&#x27;cat&#x27;,\n                                 Pipeline(steps=[(&#x27;imputer&#x27;,\n                                                  SimpleImputer(strategy=&#x27;most_frequent&#x27;)),\n                                                 (&#x27;ohe&#x27;,\n                                                  OneHotEncoder(handle_unknown=&#x27;ignore&#x27;,\n                                                                sparse_output=False))]),\n                                 [&#x27;soilType&#x27;])])</pre></div></div></div><div class=\"sk-parallel\"><div class=\"sk-parallel-item\"><div class=\"sk-item\"><div class=\"sk-label-container\"><div class=\"sk-label sk-toggleable\"><input class=\"sk-toggleable__control sk-hidden--visually\" id=\"sk-estimator-id-249\" type=\"checkbox\" ><label for=\"sk-estimator-id-249\" class=\"sk-toggleable__label sk-toggleable__label-arrow\">num</label><div class=\"sk-toggleable__content\"><pre>Index([&#x27;easting&#x27;, &#x27;northing&#x27;, &#x27;elevation&#x27;], dtype=&#x27;object&#x27;)</pre></div></div></div><div class=\"sk-serial\"><div class=\"sk-item\"><div class=\"sk-serial\"><div class=\"sk-item\"><div class=\"sk-estimator sk-toggleable\"><input class=\"sk-toggleable__control sk-hidden--visually\" id=\"sk-estimator-id-250\" type=\"checkbox\" ><label for=\"sk-estimator-id-250\" class=\"sk-toggleable__label sk-toggleable__label-arrow\">SimpleImputer</label><div class=\"sk-toggleable__content\"><pre>SimpleImputer(strategy=&#x27;most_frequent&#x27;)</pre></div></div></div><div class=\"sk-item\"><div class=\"sk-estimator sk-toggleable\"><input class=\"sk-toggleable__control sk-hidden--visually\" id=\"sk-estimator-id-251\" type=\"checkbox\" ><label for=\"sk-estimator-id-251\" class=\"sk-toggleable__label sk-toggleable__label-arrow\">StandardScaler</label><div class=\"sk-toggleable__content\"><pre>StandardScaler()</pre></div></div></div></div></div></div></div></div><div class=\"sk-parallel-item\"><div class=\"sk-item\"><div class=\"sk-label-container\"><div class=\"sk-label sk-toggleable\"><input class=\"sk-toggleable__control sk-hidden--visually\" id=\"sk-estimator-id-252\" type=\"checkbox\" ><label for=\"sk-estimator-id-252\" class=\"sk-toggleable__label sk-toggleable__label-arrow\">cat</label><div class=\"sk-toggleable__content\"><pre>[&#x27;soilType&#x27;]</pre></div></div></div><div class=\"sk-serial\"><div class=\"sk-item\"><div class=\"sk-serial\"><div class=\"sk-item\"><div class=\"sk-estimator sk-toggleable\"><input class=\"sk-toggleable__control sk-hidden--visually\" id=\"sk-estimator-id-253\" type=\"checkbox\" ><label for=\"sk-estimator-id-253\" class=\"sk-toggleable__label sk-toggleable__label-arrow\">SimpleImputer</label><div class=\"sk-toggleable__content\"><pre>SimpleImputer(strategy=&#x27;most_frequent&#x27;)</pre></div></div></div><div class=\"sk-item\"><div class=\"sk-estimator sk-toggleable\"><input class=\"sk-toggleable__control sk-hidden--visually\" id=\"sk-estimator-id-254\" type=\"checkbox\" ><label for=\"sk-estimator-id-254\" class=\"sk-toggleable__label sk-toggleable__label-arrow\">OneHotEncoder</label><div class=\"sk-toggleable__content\"><pre>OneHotEncoder(handle_unknown=&#x27;ignore&#x27;, sparse_output=False)</pre></div></div></div></div></div></div></div></div></div></div><div class=\"sk-item\"><div class=\"sk-estimator sk-toggleable\"><input class=\"sk-toggleable__control sk-hidden--visually\" id=\"sk-estimator-id-255\" type=\"checkbox\" ><label for=\"sk-estimator-id-255\" class=\"sk-toggleable__label sk-toggleable__label-arrow\">XGBRegressor</label><div class=\"sk-toggleable__content\"><pre>XGBRegressor(base_score=None, booster=None, callbacks=None,\n             colsample_bylevel=None, colsample_bynode=None,\n             colsample_bytree=None, device=None, early_stopping_rounds=None,\n             enable_categorical=False, eval_metric=None, feature_types=None,\n             gamma=None, grow_policy=None, importance_type=None,\n             interaction_constraints=None, learning_rate=None, max_bin=None,\n             max_cat_threshold=None, max_cat_to_onehot=None,\n             max_delta_step=None, max_depth=None, max_leaves=None,\n             min_child_weight=None, missing=nan, monotone_constraints=None,\n             multi_strategy=None, n_estimators=None, n_jobs=None,\n             num_parallel_tree=None, random_state=42, ...)</pre></div></div></div></div></div></div></div></div></div></div></div></div>"
     },
     "execution_count": 239,
     "metadata": {},
     "output_type": "execute_result"
    }
   ],
   "source": [
    "rand_cv.fit(X_train, y_train_sub)"
   ],
   "metadata": {
    "collapsed": false,
    "ExecuteTime": {
     "end_time": "2023-11-21T17:21:09.372663Z",
     "start_time": "2023-11-21T17:19:53.471996Z"
    }
   },
   "id": "8d33c4069ad5930d"
  },
  {
   "cell_type": "code",
   "execution_count": 240,
   "outputs": [
    {
     "data": {
      "text/plain": "457992.0"
     },
     "execution_count": 240,
     "metadata": {},
     "output_type": "execute_result"
    }
   ],
   "source": [
    "rand_cv.best_score_"
   ],
   "metadata": {
    "collapsed": false,
    "ExecuteTime": {
     "end_time": "2023-11-21T17:21:09.405684Z",
     "start_time": "2023-11-21T17:21:09.372530Z"
    }
   },
   "id": "e7638f72d4699511"
  },
  {
   "cell_type": "code",
   "execution_count": 401,
   "outputs": [
    {
     "data": {
      "text/plain": "{'model__learning_rate': 0.7750347200108194,\n 'model__max_depth': 41,\n 'model__n_estimators': 917,\n 'preprocessor__num__scaler': StandardScaler()}"
     },
     "execution_count": 401,
     "metadata": {},
     "output_type": "execute_result"
    }
   ],
   "source": [
    "rand_cv.best_params_"
   ],
   "metadata": {
    "collapsed": false,
    "ExecuteTime": {
     "end_time": "2023-11-22T07:03:06.542356Z",
     "start_time": "2023-11-22T07:03:06.184257Z"
    }
   },
   "id": "5aff57357455713e"
  },
  {
   "cell_type": "code",
   "execution_count": 348,
   "outputs": [],
   "source": [
    "best_model = rand_cv.best_estimator_"
   ],
   "metadata": {
    "collapsed": false,
    "ExecuteTime": {
     "end_time": "2023-11-21T17:39:55.278027Z",
     "start_time": "2023-11-21T17:39:55.240489Z"
    }
   },
   "id": "9cff1abf640eda47"
  },
  {
   "cell_type": "code",
   "execution_count": 349,
   "outputs": [
    {
     "data": {
      "text/plain": "569000"
     },
     "execution_count": 349,
     "metadata": {},
     "output_type": "execute_result"
    }
   ],
   "source": [
    "y_preds = best_model.predict(X_test)\n",
    "score = score_fn(y_test_sub, y_preds)\n",
    "score"
   ],
   "metadata": {
    "collapsed": false,
    "ExecuteTime": {
     "end_time": "2023-11-21T17:39:55.475896Z",
     "start_time": "2023-11-21T17:39:55.431980Z"
    }
   },
   "id": "b5f997e7c5a46ace"
  },
  {
   "cell_type": "markdown",
   "source": [
    "## Clipping results"
   ],
   "metadata": {
    "collapsed": false
   },
   "id": "9843da264d5cb356"
  },
  {
   "cell_type": "code",
   "execution_count": 350,
   "outputs": [],
   "source": [
    "y_preds = np.round(y_preds)"
   ],
   "metadata": {
    "collapsed": false,
    "ExecuteTime": {
     "end_time": "2023-11-21T17:39:55.790771Z",
     "start_time": "2023-11-21T17:39:55.770464Z"
    }
   },
   "id": "14e173879ba03503"
  },
  {
   "cell_type": "code",
   "execution_count": 351,
   "outputs": [],
   "source": [
    "y_preds_clipped = np.clip(y_preds, 0, y_preds.max())"
   ],
   "metadata": {
    "collapsed": false,
    "ExecuteTime": {
     "end_time": "2023-11-21T17:39:56.362948Z",
     "start_time": "2023-11-21T17:39:56.347797Z"
    }
   },
   "id": "44635b6311e8d29e"
  },
  {
   "cell_type": "code",
   "execution_count": 352,
   "outputs": [
    {
     "data": {
      "text/plain": "0"
     },
     "execution_count": 352,
     "metadata": {},
     "output_type": "execute_result"
    }
   ],
   "source": [
    "np.sum(y_preds_clipped == -1)"
   ],
   "metadata": {
    "collapsed": false,
    "ExecuteTime": {
     "end_time": "2023-11-21T17:39:57.120814Z",
     "start_time": "2023-11-21T17:39:57.092974Z"
    }
   },
   "id": "c70ce4db9897a789"
  },
  {
   "cell_type": "code",
   "execution_count": 353,
   "outputs": [],
   "source": [
    "y_preds = y_preds_clipped + 1"
   ],
   "metadata": {
    "collapsed": false,
    "ExecuteTime": {
     "end_time": "2023-11-21T17:39:57.422525Z",
     "start_time": "2023-11-21T17:39:57.403393Z"
    }
   },
   "id": "7b8cb5269d2d576d"
  },
  {
   "cell_type": "code",
   "execution_count": 354,
   "outputs": [
    {
     "data": {
      "text/plain": "0"
     },
     "execution_count": 354,
     "metadata": {},
     "output_type": "execute_result"
    }
   ],
   "source": [
    "np.sum(y_preds == 0)"
   ],
   "metadata": {
    "collapsed": false,
    "ExecuteTime": {
     "end_time": "2023-11-21T17:39:57.815012Z",
     "start_time": "2023-11-21T17:39:57.775967Z"
    }
   },
   "id": "fb49d98edc1ac89a"
  },
  {
   "cell_type": "code",
   "execution_count": 347,
   "outputs": [
    {
     "data": {
      "text/plain": "array([ 1.,  2.,  3.,  4.,  5.,  6.,  7.,  8.,  9., 10.], dtype=float32)"
     },
     "execution_count": 347,
     "metadata": {},
     "output_type": "execute_result"
    }
   ],
   "source": [
    "np.unique(np.round(y_preds, 0))"
   ],
   "metadata": {
    "collapsed": false,
    "ExecuteTime": {
     "end_time": "2023-11-21T17:39:05.492609Z",
     "start_time": "2023-11-21T17:39:05.455179Z"
    }
   },
   "id": "bb37e48ed2f0bc5e"
  },
  {
   "cell_type": "markdown",
   "source": [
    "## Class implementation test"
   ],
   "metadata": {
    "collapsed": false
   },
   "id": "20473200f75a60eb"
  },
  {
   "cell_type": "code",
   "execution_count": 270,
   "outputs": [],
   "source": [
    "from flood_tool.models.flood_predictor import FloodPredictor"
   ],
   "metadata": {
    "collapsed": false,
    "ExecuteTime": {
     "end_time": "2023-11-21T17:24:33.711994Z",
     "start_time": "2023-11-21T17:24:33.641473Z"
    }
   },
   "id": "6a99678fd4b8467d"
  },
  {
   "cell_type": "code",
   "execution_count": 271,
   "outputs": [
    {
     "name": "stderr",
     "output_type": "stream",
     "text": [
      "2023-11-21 17:24:33,943 [flood_tool.models.predictor] INFO: Model successfully fit.\n"
     ]
    }
   ],
   "source": [
    "fp = FloodPredictor(\n",
    "    path='../flood_tool/resources/postcodes_labelled.csv',\n",
    "    scoring=score_fn,\n",
    "    tune_hyperparameters=False,\n",
    "    n_iter=15,\n",
    ")"
   ],
   "metadata": {
    "collapsed": false,
    "ExecuteTime": {
     "end_time": "2023-11-21T17:24:33.947475Z",
     "start_time": "2023-11-21T17:24:33.782792Z"
    }
   },
   "id": "a67482c73a66f12f"
  },
  {
   "cell_type": "code",
   "execution_count": 272,
   "outputs": [
    {
     "data": {
      "text/plain": "{'flood_score': 559450}"
     },
     "execution_count": 272,
     "metadata": {},
     "output_type": "execute_result"
    }
   ],
   "source": [
    "fp.predict_test()"
   ],
   "metadata": {
    "collapsed": false,
    "ExecuteTime": {
     "end_time": "2023-11-21T17:24:34.766288Z",
     "start_time": "2023-11-21T17:24:34.330932Z"
    }
   },
   "id": "10f7ff2ab3d9666"
  },
  {
   "cell_type": "code",
   "execution_count": 273,
   "outputs": [
    {
     "data": {
      "text/plain": "Pipeline(steps=[('preprocessor',\n                 ColumnTransformer(transformers=[('num',\n                                                  Pipeline(steps=[('imputer',\n                                                                   SimpleImputer(strategy='median')),\n                                                                  ('scaler',\n                                                                   StandardScaler())]),\n                                                  ['easting', 'northing',\n                                                   'elevation']),\n                                                 ('cat',\n                                                  Pipeline(steps=[('imputer',\n                                                                   SimpleImputer(strategy='most_frequent')),\n                                                                  ('ohe',\n                                                                   OneHotEncoder(handle_unknown='ignore',\n                                                                                 sparse_output=False))]),\n                                                  ['soilTy...\n                              feature_types=None, gamma=None, grow_policy=None,\n                              importance_type=None,\n                              interaction_constraints=None, learning_rate=None,\n                              max_bin=None, max_cat_threshold=None,\n                              max_cat_to_onehot=None, max_delta_step=None,\n                              max_depth=None, max_leaves=None,\n                              min_child_weight=None, missing=nan,\n                              monotone_constraints=None, multi_strategy=None,\n                              n_estimators=None, n_jobs=None,\n                              num_parallel_tree=None, random_state=42, ...))])",
      "text/html": "<style>#sk-container-id-31 {color: black;}#sk-container-id-31 pre{padding: 0;}#sk-container-id-31 div.sk-toggleable {background-color: white;}#sk-container-id-31 label.sk-toggleable__label {cursor: pointer;display: block;width: 100%;margin-bottom: 0;padding: 0.3em;box-sizing: border-box;text-align: center;}#sk-container-id-31 label.sk-toggleable__label-arrow:before {content: \"▸\";float: left;margin-right: 0.25em;color: #696969;}#sk-container-id-31 label.sk-toggleable__label-arrow:hover:before {color: black;}#sk-container-id-31 div.sk-estimator:hover label.sk-toggleable__label-arrow:before {color: black;}#sk-container-id-31 div.sk-toggleable__content {max-height: 0;max-width: 0;overflow: hidden;text-align: left;background-color: #f0f8ff;}#sk-container-id-31 div.sk-toggleable__content pre {margin: 0.2em;color: black;border-radius: 0.25em;background-color: #f0f8ff;}#sk-container-id-31 input.sk-toggleable__control:checked~div.sk-toggleable__content {max-height: 200px;max-width: 100%;overflow: auto;}#sk-container-id-31 input.sk-toggleable__control:checked~label.sk-toggleable__label-arrow:before {content: \"▾\";}#sk-container-id-31 div.sk-estimator input.sk-toggleable__control:checked~label.sk-toggleable__label {background-color: #d4ebff;}#sk-container-id-31 div.sk-label input.sk-toggleable__control:checked~label.sk-toggleable__label {background-color: #d4ebff;}#sk-container-id-31 input.sk-hidden--visually {border: 0;clip: rect(1px 1px 1px 1px);clip: rect(1px, 1px, 1px, 1px);height: 1px;margin: -1px;overflow: hidden;padding: 0;position: absolute;width: 1px;}#sk-container-id-31 div.sk-estimator {font-family: monospace;background-color: #f0f8ff;border: 1px dotted black;border-radius: 0.25em;box-sizing: border-box;margin-bottom: 0.5em;}#sk-container-id-31 div.sk-estimator:hover {background-color: #d4ebff;}#sk-container-id-31 div.sk-parallel-item::after {content: \"\";width: 100%;border-bottom: 1px solid gray;flex-grow: 1;}#sk-container-id-31 div.sk-label:hover label.sk-toggleable__label {background-color: #d4ebff;}#sk-container-id-31 div.sk-serial::before {content: \"\";position: absolute;border-left: 1px solid gray;box-sizing: border-box;top: 0;bottom: 0;left: 50%;z-index: 0;}#sk-container-id-31 div.sk-serial {display: flex;flex-direction: column;align-items: center;background-color: white;padding-right: 0.2em;padding-left: 0.2em;position: relative;}#sk-container-id-31 div.sk-item {position: relative;z-index: 1;}#sk-container-id-31 div.sk-parallel {display: flex;align-items: stretch;justify-content: center;background-color: white;position: relative;}#sk-container-id-31 div.sk-item::before, #sk-container-id-31 div.sk-parallel-item::before {content: \"\";position: absolute;border-left: 1px solid gray;box-sizing: border-box;top: 0;bottom: 0;left: 50%;z-index: -1;}#sk-container-id-31 div.sk-parallel-item {display: flex;flex-direction: column;z-index: 1;position: relative;background-color: white;}#sk-container-id-31 div.sk-parallel-item:first-child::after {align-self: flex-end;width: 50%;}#sk-container-id-31 div.sk-parallel-item:last-child::after {align-self: flex-start;width: 50%;}#sk-container-id-31 div.sk-parallel-item:only-child::after {width: 0;}#sk-container-id-31 div.sk-dashed-wrapped {border: 1px dashed gray;margin: 0 0.4em 0.5em 0.4em;box-sizing: border-box;padding-bottom: 0.4em;background-color: white;}#sk-container-id-31 div.sk-label label {font-family: monospace;font-weight: bold;display: inline-block;line-height: 1.2em;}#sk-container-id-31 div.sk-label-container {text-align: center;}#sk-container-id-31 div.sk-container {/* jupyter's `normalize.less` sets `[hidden] { display: none; }` but bootstrap.min.css set `[hidden] { display: none !important; }` so we also need the `!important` here to be able to override the default hidden behavior on the sphinx rendered scikit-learn.org. See: https://github.com/scikit-learn/scikit-learn/issues/21755 */display: inline-block !important;position: relative;}#sk-container-id-31 div.sk-text-repr-fallback {display: none;}</style><div id=\"sk-container-id-31\" class=\"sk-top-container\"><div class=\"sk-text-repr-fallback\"><pre>Pipeline(steps=[(&#x27;preprocessor&#x27;,\n                 ColumnTransformer(transformers=[(&#x27;num&#x27;,\n                                                  Pipeline(steps=[(&#x27;imputer&#x27;,\n                                                                   SimpleImputer(strategy=&#x27;median&#x27;)),\n                                                                  (&#x27;scaler&#x27;,\n                                                                   StandardScaler())]),\n                                                  [&#x27;easting&#x27;, &#x27;northing&#x27;,\n                                                   &#x27;elevation&#x27;]),\n                                                 (&#x27;cat&#x27;,\n                                                  Pipeline(steps=[(&#x27;imputer&#x27;,\n                                                                   SimpleImputer(strategy=&#x27;most_frequent&#x27;)),\n                                                                  (&#x27;ohe&#x27;,\n                                                                   OneHotEncoder(handle_unknown=&#x27;ignore&#x27;,\n                                                                                 sparse_output=False))]),\n                                                  [&#x27;soilTy...\n                              feature_types=None, gamma=None, grow_policy=None,\n                              importance_type=None,\n                              interaction_constraints=None, learning_rate=None,\n                              max_bin=None, max_cat_threshold=None,\n                              max_cat_to_onehot=None, max_delta_step=None,\n                              max_depth=None, max_leaves=None,\n                              min_child_weight=None, missing=nan,\n                              monotone_constraints=None, multi_strategy=None,\n                              n_estimators=None, n_jobs=None,\n                              num_parallel_tree=None, random_state=42, ...))])</pre><b>In a Jupyter environment, please rerun this cell to show the HTML representation or trust the notebook. <br />On GitHub, the HTML representation is unable to render, please try loading this page with nbviewer.org.</b></div><div class=\"sk-container\" hidden><div class=\"sk-item sk-dashed-wrapped\"><div class=\"sk-label-container\"><div class=\"sk-label sk-toggleable\"><input class=\"sk-toggleable__control sk-hidden--visually\" id=\"sk-estimator-id-265\" type=\"checkbox\" ><label for=\"sk-estimator-id-265\" class=\"sk-toggleable__label sk-toggleable__label-arrow\">Pipeline</label><div class=\"sk-toggleable__content\"><pre>Pipeline(steps=[(&#x27;preprocessor&#x27;,\n                 ColumnTransformer(transformers=[(&#x27;num&#x27;,\n                                                  Pipeline(steps=[(&#x27;imputer&#x27;,\n                                                                   SimpleImputer(strategy=&#x27;median&#x27;)),\n                                                                  (&#x27;scaler&#x27;,\n                                                                   StandardScaler())]),\n                                                  [&#x27;easting&#x27;, &#x27;northing&#x27;,\n                                                   &#x27;elevation&#x27;]),\n                                                 (&#x27;cat&#x27;,\n                                                  Pipeline(steps=[(&#x27;imputer&#x27;,\n                                                                   SimpleImputer(strategy=&#x27;most_frequent&#x27;)),\n                                                                  (&#x27;ohe&#x27;,\n                                                                   OneHotEncoder(handle_unknown=&#x27;ignore&#x27;,\n                                                                                 sparse_output=False))]),\n                                                  [&#x27;soilTy...\n                              feature_types=None, gamma=None, grow_policy=None,\n                              importance_type=None,\n                              interaction_constraints=None, learning_rate=None,\n                              max_bin=None, max_cat_threshold=None,\n                              max_cat_to_onehot=None, max_delta_step=None,\n                              max_depth=None, max_leaves=None,\n                              min_child_weight=None, missing=nan,\n                              monotone_constraints=None, multi_strategy=None,\n                              n_estimators=None, n_jobs=None,\n                              num_parallel_tree=None, random_state=42, ...))])</pre></div></div></div><div class=\"sk-serial\"><div class=\"sk-item sk-dashed-wrapped\"><div class=\"sk-label-container\"><div class=\"sk-label sk-toggleable\"><input class=\"sk-toggleable__control sk-hidden--visually\" id=\"sk-estimator-id-266\" type=\"checkbox\" ><label for=\"sk-estimator-id-266\" class=\"sk-toggleable__label sk-toggleable__label-arrow\">preprocessor: ColumnTransformer</label><div class=\"sk-toggleable__content\"><pre>ColumnTransformer(transformers=[(&#x27;num&#x27;,\n                                 Pipeline(steps=[(&#x27;imputer&#x27;,\n                                                  SimpleImputer(strategy=&#x27;median&#x27;)),\n                                                 (&#x27;scaler&#x27;, StandardScaler())]),\n                                 [&#x27;easting&#x27;, &#x27;northing&#x27;, &#x27;elevation&#x27;]),\n                                (&#x27;cat&#x27;,\n                                 Pipeline(steps=[(&#x27;imputer&#x27;,\n                                                  SimpleImputer(strategy=&#x27;most_frequent&#x27;)),\n                                                 (&#x27;ohe&#x27;,\n                                                  OneHotEncoder(handle_unknown=&#x27;ignore&#x27;,\n                                                                sparse_output=False))]),\n                                 [&#x27;soilType&#x27;])])</pre></div></div></div><div class=\"sk-parallel\"><div class=\"sk-parallel-item\"><div class=\"sk-item\"><div class=\"sk-label-container\"><div class=\"sk-label sk-toggleable\"><input class=\"sk-toggleable__control sk-hidden--visually\" id=\"sk-estimator-id-267\" type=\"checkbox\" ><label for=\"sk-estimator-id-267\" class=\"sk-toggleable__label sk-toggleable__label-arrow\">num</label><div class=\"sk-toggleable__content\"><pre>[&#x27;easting&#x27;, &#x27;northing&#x27;, &#x27;elevation&#x27;]</pre></div></div></div><div class=\"sk-serial\"><div class=\"sk-item\"><div class=\"sk-serial\"><div class=\"sk-item\"><div class=\"sk-estimator sk-toggleable\"><input class=\"sk-toggleable__control sk-hidden--visually\" id=\"sk-estimator-id-268\" type=\"checkbox\" ><label for=\"sk-estimator-id-268\" class=\"sk-toggleable__label sk-toggleable__label-arrow\">SimpleImputer</label><div class=\"sk-toggleable__content\"><pre>SimpleImputer(strategy=&#x27;median&#x27;)</pre></div></div></div><div class=\"sk-item\"><div class=\"sk-estimator sk-toggleable\"><input class=\"sk-toggleable__control sk-hidden--visually\" id=\"sk-estimator-id-269\" type=\"checkbox\" ><label for=\"sk-estimator-id-269\" class=\"sk-toggleable__label sk-toggleable__label-arrow\">StandardScaler</label><div class=\"sk-toggleable__content\"><pre>StandardScaler()</pre></div></div></div></div></div></div></div></div><div class=\"sk-parallel-item\"><div class=\"sk-item\"><div class=\"sk-label-container\"><div class=\"sk-label sk-toggleable\"><input class=\"sk-toggleable__control sk-hidden--visually\" id=\"sk-estimator-id-270\" type=\"checkbox\" ><label for=\"sk-estimator-id-270\" class=\"sk-toggleable__label sk-toggleable__label-arrow\">cat</label><div class=\"sk-toggleable__content\"><pre>[&#x27;soilType&#x27;]</pre></div></div></div><div class=\"sk-serial\"><div class=\"sk-item\"><div class=\"sk-serial\"><div class=\"sk-item\"><div class=\"sk-estimator sk-toggleable\"><input class=\"sk-toggleable__control sk-hidden--visually\" id=\"sk-estimator-id-271\" type=\"checkbox\" ><label for=\"sk-estimator-id-271\" class=\"sk-toggleable__label sk-toggleable__label-arrow\">SimpleImputer</label><div class=\"sk-toggleable__content\"><pre>SimpleImputer(strategy=&#x27;most_frequent&#x27;)</pre></div></div></div><div class=\"sk-item\"><div class=\"sk-estimator sk-toggleable\"><input class=\"sk-toggleable__control sk-hidden--visually\" id=\"sk-estimator-id-272\" type=\"checkbox\" ><label for=\"sk-estimator-id-272\" class=\"sk-toggleable__label sk-toggleable__label-arrow\">OneHotEncoder</label><div class=\"sk-toggleable__content\"><pre>OneHotEncoder(handle_unknown=&#x27;ignore&#x27;, sparse_output=False)</pre></div></div></div></div></div></div></div></div></div></div><div class=\"sk-item\"><div class=\"sk-estimator sk-toggleable\"><input class=\"sk-toggleable__control sk-hidden--visually\" id=\"sk-estimator-id-273\" type=\"checkbox\" ><label for=\"sk-estimator-id-273\" class=\"sk-toggleable__label sk-toggleable__label-arrow\">XGBRegressor</label><div class=\"sk-toggleable__content\"><pre>XGBRegressor(base_score=None, booster=None, callbacks=None,\n             colsample_bylevel=None, colsample_bynode=None,\n             colsample_bytree=None, device=None, early_stopping_rounds=None,\n             enable_categorical=False, eval_metric=None, feature_types=None,\n             gamma=None, grow_policy=None, importance_type=None,\n             interaction_constraints=None, learning_rate=None, max_bin=None,\n             max_cat_threshold=None, max_cat_to_onehot=None,\n             max_delta_step=None, max_depth=None, max_leaves=None,\n             min_child_weight=None, missing=nan, monotone_constraints=None,\n             multi_strategy=None, n_estimators=None, n_jobs=None,\n             num_parallel_tree=None, random_state=42, ...)</pre></div></div></div></div></div></div></div>"
     },
     "execution_count": 273,
     "metadata": {},
     "output_type": "execute_result"
    }
   ],
   "source": [
    "fp.model"
   ],
   "metadata": {
    "collapsed": false,
    "ExecuteTime": {
     "end_time": "2023-11-21T17:24:35.087687Z",
     "start_time": "2023-11-21T17:24:35.049535Z"
    }
   },
   "id": "4e72bbc52587f5ae"
  },
  {
   "cell_type": "code",
   "execution_count": 395,
   "outputs": [],
   "source": [
    "unlabelled_data = pd.read_csv('../flood_tool/resources/postcodes_unlabelled.csv')\n",
    "postcodes = unlabelled_data.postcode\n",
    "from flood_tool.tool import Tool\n",
    "\n",
    "tool = Tool()\n",
    "\n",
    "tool.lookup_easting_northing(postcodes=postcodes)\n",
    "data = tool._postcodedb"
   ],
   "metadata": {
    "collapsed": false,
    "ExecuteTime": {
     "end_time": "2023-11-22T06:40:23.093952Z",
     "start_time": "2023-11-22T06:40:22.552597Z"
    }
   },
   "id": "8baa8fb4d0ba0470"
  },
  {
   "cell_type": "code",
   "execution_count": 396,
   "outputs": [
    {
     "data": {
      "text/plain": "      postcode  easting  northing          soilType  elevation\n0      M34 7QL   393470    394371  Unsurveyed/Urban        110\n1      OL4 3NQ   395420    405669  Unsurveyed/Urban        210\n2      B36 8TE   411900    289400  Unsurveyed/Urban         90\n3     NE16 3AT   420400    562300  Unsurveyed/Urban         10\n4     WS10 8DE   397726    296656  Unsurveyed/Urban        140\n...        ...      ...       ...               ...        ...\n9995   NN9 7TY   488200    264700         Cambisols         80\n9996   HU6 7YG   508055    434044  Unsurveyed/Urban          0\n9997  LS12 1DY   428431    432867  Unsurveyed/Urban         40\n9998   DN4 6TZ   462498    401208         Arenosols         10\n9999   S31 9BD   441723    378785  Unsurveyed/Urban        120\n\n[10000 rows x 5 columns]",
      "text/html": "<div>\n<style scoped>\n    .dataframe tbody tr th:only-of-type {\n        vertical-align: middle;\n    }\n\n    .dataframe tbody tr th {\n        vertical-align: top;\n    }\n\n    .dataframe thead th {\n        text-align: right;\n    }\n</style>\n<table border=\"1\" class=\"dataframe\">\n  <thead>\n    <tr style=\"text-align: right;\">\n      <th></th>\n      <th>postcode</th>\n      <th>easting</th>\n      <th>northing</th>\n      <th>soilType</th>\n      <th>elevation</th>\n    </tr>\n  </thead>\n  <tbody>\n    <tr>\n      <th>0</th>\n      <td>M34 7QL</td>\n      <td>393470</td>\n      <td>394371</td>\n      <td>Unsurveyed/Urban</td>\n      <td>110</td>\n    </tr>\n    <tr>\n      <th>1</th>\n      <td>OL4 3NQ</td>\n      <td>395420</td>\n      <td>405669</td>\n      <td>Unsurveyed/Urban</td>\n      <td>210</td>\n    </tr>\n    <tr>\n      <th>2</th>\n      <td>B36 8TE</td>\n      <td>411900</td>\n      <td>289400</td>\n      <td>Unsurveyed/Urban</td>\n      <td>90</td>\n    </tr>\n    <tr>\n      <th>3</th>\n      <td>NE16 3AT</td>\n      <td>420400</td>\n      <td>562300</td>\n      <td>Unsurveyed/Urban</td>\n      <td>10</td>\n    </tr>\n    <tr>\n      <th>4</th>\n      <td>WS10 8DE</td>\n      <td>397726</td>\n      <td>296656</td>\n      <td>Unsurveyed/Urban</td>\n      <td>140</td>\n    </tr>\n    <tr>\n      <th>...</th>\n      <td>...</td>\n      <td>...</td>\n      <td>...</td>\n      <td>...</td>\n      <td>...</td>\n    </tr>\n    <tr>\n      <th>9995</th>\n      <td>NN9 7TY</td>\n      <td>488200</td>\n      <td>264700</td>\n      <td>Cambisols</td>\n      <td>80</td>\n    </tr>\n    <tr>\n      <th>9996</th>\n      <td>HU6 7YG</td>\n      <td>508055</td>\n      <td>434044</td>\n      <td>Unsurveyed/Urban</td>\n      <td>0</td>\n    </tr>\n    <tr>\n      <th>9997</th>\n      <td>LS12 1DY</td>\n      <td>428431</td>\n      <td>432867</td>\n      <td>Unsurveyed/Urban</td>\n      <td>40</td>\n    </tr>\n    <tr>\n      <th>9998</th>\n      <td>DN4 6TZ</td>\n      <td>462498</td>\n      <td>401208</td>\n      <td>Arenosols</td>\n      <td>10</td>\n    </tr>\n    <tr>\n      <th>9999</th>\n      <td>S31 9BD</td>\n      <td>441723</td>\n      <td>378785</td>\n      <td>Unsurveyed/Urban</td>\n      <td>120</td>\n    </tr>\n  </tbody>\n</table>\n<p>10000 rows × 5 columns</p>\n</div>"
     },
     "execution_count": 396,
     "metadata": {},
     "output_type": "execute_result"
    }
   ],
   "source": [
    "data"
   ],
   "metadata": {
    "collapsed": false,
    "ExecuteTime": {
     "end_time": "2023-11-22T06:40:23.618443Z",
     "start_time": "2023-11-22T06:40:23.576629Z"
    }
   },
   "id": "973d575d362565e1"
  },
  {
   "cell_type": "code",
   "execution_count": 397,
   "outputs": [],
   "source": [
    "X = data[data.postcode.isin(postcodes)]\n"
   ],
   "metadata": {
    "collapsed": false,
    "ExecuteTime": {
     "end_time": "2023-11-22T06:40:25.964161Z",
     "start_time": "2023-11-22T06:40:25.928606Z"
    }
   },
   "id": "a6d58dc2d08e2a1f"
  },
  {
   "cell_type": "code",
   "execution_count": 398,
   "outputs": [
    {
     "data": {
      "text/plain": "      postcode  easting  northing          soilType  elevation\n0      M34 7QL   393470    394371  Unsurveyed/Urban        110\n1      OL4 3NQ   395420    405669  Unsurveyed/Urban        210\n2      B36 8TE   411900    289400  Unsurveyed/Urban         90\n3     NE16 3AT   420400    562300  Unsurveyed/Urban         10\n4     WS10 8DE   397726    296656  Unsurveyed/Urban        140\n...        ...      ...       ...               ...        ...\n9995   NN9 7TY   488200    264700         Cambisols         80\n9996   HU6 7YG   508055    434044  Unsurveyed/Urban          0\n9997  LS12 1DY   428431    432867  Unsurveyed/Urban         40\n9998   DN4 6TZ   462498    401208         Arenosols         10\n9999   S31 9BD   441723    378785  Unsurveyed/Urban        120\n\n[10000 rows x 5 columns]",
      "text/html": "<div>\n<style scoped>\n    .dataframe tbody tr th:only-of-type {\n        vertical-align: middle;\n    }\n\n    .dataframe tbody tr th {\n        vertical-align: top;\n    }\n\n    .dataframe thead th {\n        text-align: right;\n    }\n</style>\n<table border=\"1\" class=\"dataframe\">\n  <thead>\n    <tr style=\"text-align: right;\">\n      <th></th>\n      <th>postcode</th>\n      <th>easting</th>\n      <th>northing</th>\n      <th>soilType</th>\n      <th>elevation</th>\n    </tr>\n  </thead>\n  <tbody>\n    <tr>\n      <th>0</th>\n      <td>M34 7QL</td>\n      <td>393470</td>\n      <td>394371</td>\n      <td>Unsurveyed/Urban</td>\n      <td>110</td>\n    </tr>\n    <tr>\n      <th>1</th>\n      <td>OL4 3NQ</td>\n      <td>395420</td>\n      <td>405669</td>\n      <td>Unsurveyed/Urban</td>\n      <td>210</td>\n    </tr>\n    <tr>\n      <th>2</th>\n      <td>B36 8TE</td>\n      <td>411900</td>\n      <td>289400</td>\n      <td>Unsurveyed/Urban</td>\n      <td>90</td>\n    </tr>\n    <tr>\n      <th>3</th>\n      <td>NE16 3AT</td>\n      <td>420400</td>\n      <td>562300</td>\n      <td>Unsurveyed/Urban</td>\n      <td>10</td>\n    </tr>\n    <tr>\n      <th>4</th>\n      <td>WS10 8DE</td>\n      <td>397726</td>\n      <td>296656</td>\n      <td>Unsurveyed/Urban</td>\n      <td>140</td>\n    </tr>\n    <tr>\n      <th>...</th>\n      <td>...</td>\n      <td>...</td>\n      <td>...</td>\n      <td>...</td>\n      <td>...</td>\n    </tr>\n    <tr>\n      <th>9995</th>\n      <td>NN9 7TY</td>\n      <td>488200</td>\n      <td>264700</td>\n      <td>Cambisols</td>\n      <td>80</td>\n    </tr>\n    <tr>\n      <th>9996</th>\n      <td>HU6 7YG</td>\n      <td>508055</td>\n      <td>434044</td>\n      <td>Unsurveyed/Urban</td>\n      <td>0</td>\n    </tr>\n    <tr>\n      <th>9997</th>\n      <td>LS12 1DY</td>\n      <td>428431</td>\n      <td>432867</td>\n      <td>Unsurveyed/Urban</td>\n      <td>40</td>\n    </tr>\n    <tr>\n      <th>9998</th>\n      <td>DN4 6TZ</td>\n      <td>462498</td>\n      <td>401208</td>\n      <td>Arenosols</td>\n      <td>10</td>\n    </tr>\n    <tr>\n      <th>9999</th>\n      <td>S31 9BD</td>\n      <td>441723</td>\n      <td>378785</td>\n      <td>Unsurveyed/Urban</td>\n      <td>120</td>\n    </tr>\n  </tbody>\n</table>\n<p>10000 rows × 5 columns</p>\n</div>"
     },
     "execution_count": 398,
     "metadata": {},
     "output_type": "execute_result"
    }
   ],
   "source": [
    "X"
   ],
   "metadata": {
    "collapsed": false,
    "ExecuteTime": {
     "end_time": "2023-11-22T06:40:26.565833Z",
     "start_time": "2023-11-22T06:40:26.526469Z"
    }
   },
   "id": "a993abbd28746be6"
  },
  {
   "cell_type": "code",
   "execution_count": 399,
   "outputs": [],
   "source": [
    "preds = fp.model.predict(X)"
   ],
   "metadata": {
    "collapsed": false,
    "ExecuteTime": {
     "end_time": "2023-11-22T06:40:28.483269Z",
     "start_time": "2023-11-22T06:40:28.428608Z"
    }
   },
   "id": "18c322ed8a6ec8ff"
  },
  {
   "cell_type": "code",
   "execution_count": 400,
   "outputs": [
    {
     "data": {
      "text/plain": "array([ 0.,  1.,  2.,  3.,  4.,  5.,  6.,  7.,  8.,  9., 10.],\n      dtype=float32)"
     },
     "execution_count": 400,
     "metadata": {},
     "output_type": "execute_result"
    }
   ],
   "source": [
    "np.unique(np.round(preds, 0) + 1)"
   ],
   "metadata": {
    "collapsed": false,
    "ExecuteTime": {
     "end_time": "2023-11-22T06:40:29.466126Z",
     "start_time": "2023-11-22T06:40:29.426964Z"
    }
   },
   "id": "4521f825a5e01d2"
  },
  {
   "cell_type": "code",
   "execution_count": 361,
   "outputs": [],
   "source": [
    "preds = pd.Series(np.round(preds, 0) + 1, index=X.postcode, name='predictions')"
   ],
   "metadata": {
    "collapsed": false,
    "ExecuteTime": {
     "end_time": "2023-11-21T17:42:11.990175Z",
     "start_time": "2023-11-21T17:42:11.941890Z"
    }
   },
   "id": "5ddb42fbb5952c26"
  },
  {
   "cell_type": "code",
   "execution_count": 362,
   "outputs": [
    {
     "data": {
      "text/plain": "postcode\nM34 7QL     1.0\nOL4 3NQ     1.0\nB36 8TE     2.0\nNE16 3AT    2.0\nWS10 8DE    1.0\n           ... \nNN9 7TY     1.0\nHU6 7YG     5.0\nLS12 1DY    1.0\nDN4 6TZ     1.0\nS31 9BD     1.0\nName: predictions, Length: 10000, dtype: float32"
     },
     "execution_count": 362,
     "metadata": {},
     "output_type": "execute_result"
    }
   ],
   "source": [
    "preds"
   ],
   "metadata": {
    "collapsed": false,
    "ExecuteTime": {
     "end_time": "2023-11-21T17:42:12.611545Z",
     "start_time": "2023-11-21T17:42:12.559859Z"
    }
   },
   "id": "bd84055fac0cdf8d"
  },
  {
   "cell_type": "code",
   "execution_count": 363,
   "outputs": [],
   "source": [
    "preds = fp.predict_from_postcode(postcodes)"
   ],
   "metadata": {
    "collapsed": false,
    "ExecuteTime": {
     "end_time": "2023-11-21T17:42:14.514328Z",
     "start_time": "2023-11-21T17:42:14.462611Z"
    }
   },
   "id": "b73cf7d040b45f74"
  },
  {
   "cell_type": "code",
   "execution_count": 364,
   "outputs": [
    {
     "data": {
      "text/plain": "postcode\nM34 7QL     1.0\nOL4 3NQ     1.0\nB36 8TE     2.0\nNE16 3AT    2.0\nWS10 8DE    1.0\n           ... \nNN9 7TY     1.0\nHU6 7YG     5.0\nLS12 1DY    1.0\nDN4 6TZ     1.0\nS31 9BD     1.0\nName: predictions, Length: 10000, dtype: float32"
     },
     "execution_count": 364,
     "metadata": {},
     "output_type": "execute_result"
    }
   ],
   "source": [
    "preds"
   ],
   "metadata": {
    "collapsed": false,
    "ExecuteTime": {
     "end_time": "2023-11-21T17:42:16.053013Z",
     "start_time": "2023-11-21T17:42:16.010798Z"
    }
   },
   "id": "52faff91070d05fe"
  },
  {
   "cell_type": "code",
   "execution_count": 365,
   "outputs": [
    {
     "data": {
      "text/plain": "predictions\n1.0    8494\n2.0     806\n3.0     308\n4.0     159\n5.0     122\n6.0      67\n7.0      35\n8.0       9\nName: count, dtype: int64"
     },
     "execution_count": 365,
     "metadata": {},
     "output_type": "execute_result"
    }
   ],
   "source": [
    "preds.value_counts()"
   ],
   "metadata": {
    "collapsed": false,
    "ExecuteTime": {
     "end_time": "2023-11-21T17:42:17.799848Z",
     "start_time": "2023-11-21T17:42:17.760311Z"
    }
   },
   "id": "c0566e36e15fabfb"
  },
  {
   "cell_type": "code",
   "execution_count": 385,
   "outputs": [
    {
     "name": "stderr",
     "output_type": "stream",
     "text": [
      "2023-11-21 17:51:12,014 [flood_tool.models.flood_predictor] INFO: Tuning hyperparameters...\n",
      "2023-11-21 17:51:14,597 [flood_tool.models.predictor] INFO: Model successfully fit.\n"
     ]
    }
   ],
   "source": [
    "from utils.utils import flood_scoring\n",
    "\n",
    "fp = FloodPredictor(\n",
    "    path='../flood_tool/resources/postcodes_labelled.csv',\n",
    "    scoring=flood_scoring,\n",
    "    tune_hyperparameters=True,\n",
    "    n_iter=1,\n",
    ")"
   ],
   "metadata": {
    "collapsed": false,
    "ExecuteTime": {
     "end_time": "2023-11-21T17:51:14.601381Z",
     "start_time": "2023-11-21T17:51:11.607138Z"
    }
   },
   "id": "fc1ed5134cea3ea7"
  },
  {
   "cell_type": "code",
   "execution_count": 386,
   "outputs": [
    {
     "data": {
      "text/plain": "0        M34 7QL\n1        OL4 3NQ\n2        B36 8TE\n3       NE16 3AT\n4       WS10 8DE\n          ...   \n9995     NN9 7TY\n9996     HU6 7YG\n9997    LS12 1DY\n9998     DN4 6TZ\n9999     S31 9BD\nName: postcode, Length: 10000, dtype: object"
     },
     "execution_count": 386,
     "metadata": {},
     "output_type": "execute_result"
    }
   ],
   "source": [
    "postcodes"
   ],
   "metadata": {
    "collapsed": false,
    "ExecuteTime": {
     "end_time": "2023-11-21T17:51:14.615017Z",
     "start_time": "2023-11-21T17:51:14.601817Z"
    }
   },
   "id": "8e1ea6bd28b63058"
  },
  {
   "cell_type": "code",
   "execution_count": 388,
   "outputs": [],
   "source": [
    "preds = fp.predict_from_postcode(postcodes)"
   ],
   "metadata": {
    "collapsed": false,
    "ExecuteTime": {
     "end_time": "2023-11-21T17:51:20.685933Z",
     "start_time": "2023-11-21T17:51:20.628443Z"
    }
   },
   "id": "dd497041c06e4153"
  },
  {
   "cell_type": "code",
   "execution_count": 394,
   "outputs": [
    {
     "data": {
      "text/plain": "<Axes: >"
     },
     "execution_count": 394,
     "metadata": {},
     "output_type": "execute_result"
    },
    {
     "data": {
      "text/plain": "<Figure size 640x480 with 1 Axes>",
      "image/png": "[encoded data removed]"
     },
     "metadata": {},
     "output_type": "display_data"
    }
   ],
   "source": [
    "preds.hist(bins=10)"
   ],
   "metadata": {
    "collapsed": false,
    "ExecuteTime": {
     "end_time": "2023-11-21T17:53:37.381145Z",
     "start_time": "2023-11-21T17:53:37.280526Z"
    }
   },
   "id": "48c6c667d002e5dc"
  },
  {
   "cell_type": "markdown",
   "source": [
    "## Preds from lat and lon"
   ],
   "metadata": {
    "collapsed": false
   },
   "id": "bb26eb07301cf581"
  },
  {
   "cell_type": "code",
   "execution_count": 874,
   "outputs": [
    {
     "name": "stderr",
     "output_type": "stream",
     "text": [
      "2023-11-22 14:48:07,471 [flood_tool.models.predictor] INFO: Model successfully fit.\n"
     ]
    }
   ],
   "source": [
    "fp = FloodPredictor(\n",
    "    training_path='../flood_tool/resources/postcodes_labelled.csv',\n",
    "    model_alias='xgb_regressor',\n",
    "    scoring=score_fn,\n",
    "    tune_hyperparameters=False,\n",
    "    n_iter=15,\n",
    ")"
   ],
   "metadata": {
    "collapsed": false,
    "ExecuteTime": {
     "end_time": "2023-11-22T14:48:07.477292Z",
     "start_time": "2023-11-22T14:48:06.730464Z"
    }
   },
   "id": "847abf043aaec13e"
  },
  {
   "cell_type": "code",
   "execution_count": 875,
   "outputs": [
    {
     "data": {
      "text/plain": "{'flood_score': 568940}"
     },
     "execution_count": 875,
     "metadata": {},
     "output_type": "execute_result"
    }
   ],
   "source": [
    "fp.predict_test()"
   ],
   "metadata": {
    "collapsed": false,
    "ExecuteTime": {
     "end_time": "2023-11-22T14:48:12.613854Z",
     "start_time": "2023-11-22T14:48:11.724041Z"
    }
   },
   "id": "7db1f72916fdd85b"
  },
  {
   "cell_type": "code",
   "execution_count": 931,
   "outputs": [],
   "source": [
    "unlabelled_data = pd.read_csv('../flood_tool/resources/postcodes_unlabelled.csv')\n",
    "postcodes = unlabelled_data.postcode\n",
    "from flood_tool.tool import Tool\n",
    "\n",
    "tool = Tool()\n",
    "\n",
    "tool.lookup_easting_northing(postcodes=postcodes)\n",
    "data = tool._postcodedb"
   ],
   "metadata": {
    "collapsed": false,
    "ExecuteTime": {
     "end_time": "2023-11-22T15:51:40.270519Z",
     "start_time": "2023-11-22T15:51:40.150528Z"
    }
   },
   "id": "ab9bc6e5c58f7814"
  },
  {
   "cell_type": "code",
   "execution_count": 932,
   "outputs": [
    {
     "data": {
      "text/plain": "      postcode  easting  northing          soilType  elevation\n0      M34 7QL   393470    394371  Unsurveyed/Urban        110\n1      OL4 3NQ   395420    405669  Unsurveyed/Urban        210\n2      B36 8TE   411900    289400  Unsurveyed/Urban         90\n3     NE16 3AT   420400    562300  Unsurveyed/Urban         10\n4     WS10 8DE   397726    296656  Unsurveyed/Urban        140\n...        ...      ...       ...               ...        ...\n9995   NN9 7TY   488200    264700         Cambisols         80\n9996   HU6 7YG   508055    434044  Unsurveyed/Urban          0\n9997  LS12 1DY   428431    432867  Unsurveyed/Urban         40\n9998   DN4 6TZ   462498    401208         Arenosols         10\n9999   S31 9BD   441723    378785  Unsurveyed/Urban        120\n\n[10000 rows x 5 columns]",
      "text/html": "<div>\n<style scoped>\n    .dataframe tbody tr th:only-of-type {\n        vertical-align: middle;\n    }\n\n    .dataframe tbody tr th {\n        vertical-align: top;\n    }\n\n    .dataframe thead th {\n        text-align: right;\n    }\n</style>\n<table border=\"1\" class=\"dataframe\">\n  <thead>\n    <tr style=\"text-align: right;\">\n      <th></th>\n      <th>postcode</th>\n      <th>easting</th>\n      <th>northing</th>\n      <th>soilType</th>\n      <th>elevation</th>\n    </tr>\n  </thead>\n  <tbody>\n    <tr>\n      <th>0</th>\n      <td>M34 7QL</td>\n      <td>393470</td>\n      <td>394371</td>\n      <td>Unsurveyed/Urban</td>\n      <td>110</td>\n    </tr>\n    <tr>\n      <th>1</th>\n      <td>OL4 3NQ</td>\n      <td>395420</td>\n      <td>405669</td>\n      <td>Unsurveyed/Urban</td>\n      <td>210</td>\n    </tr>\n    <tr>\n      <th>2</th>\n      <td>B36 8TE</td>\n      <td>411900</td>\n      <td>289400</td>\n      <td>Unsurveyed/Urban</td>\n      <td>90</td>\n    </tr>\n    <tr>\n      <th>3</th>\n      <td>NE16 3AT</td>\n      <td>420400</td>\n      <td>562300</td>\n      <td>Unsurveyed/Urban</td>\n      <td>10</td>\n    </tr>\n    <tr>\n      <th>4</th>\n      <td>WS10 8DE</td>\n      <td>397726</td>\n      <td>296656</td>\n      <td>Unsurveyed/Urban</td>\n      <td>140</td>\n    </tr>\n    <tr>\n      <th>...</th>\n      <td>...</td>\n      <td>...</td>\n      <td>...</td>\n      <td>...</td>\n      <td>...</td>\n    </tr>\n    <tr>\n      <th>9995</th>\n      <td>NN9 7TY</td>\n      <td>488200</td>\n      <td>264700</td>\n      <td>Cambisols</td>\n      <td>80</td>\n    </tr>\n    <tr>\n      <th>9996</th>\n      <td>HU6 7YG</td>\n      <td>508055</td>\n      <td>434044</td>\n      <td>Unsurveyed/Urban</td>\n      <td>0</td>\n    </tr>\n    <tr>\n      <th>9997</th>\n      <td>LS12 1DY</td>\n      <td>428431</td>\n      <td>432867</td>\n      <td>Unsurveyed/Urban</td>\n      <td>40</td>\n    </tr>\n    <tr>\n      <th>9998</th>\n      <td>DN4 6TZ</td>\n      <td>462498</td>\n      <td>401208</td>\n      <td>Arenosols</td>\n      <td>10</td>\n    </tr>\n    <tr>\n      <th>9999</th>\n      <td>S31 9BD</td>\n      <td>441723</td>\n      <td>378785</td>\n      <td>Unsurveyed/Urban</td>\n      <td>120</td>\n    </tr>\n  </tbody>\n</table>\n<p>10000 rows × 5 columns</p>\n</div>"
     },
     "execution_count": 932,
     "metadata": {},
     "output_type": "execute_result"
    }
   ],
   "source": [
    "data"
   ],
   "metadata": {
    "collapsed": false,
    "ExecuteTime": {
     "end_time": "2023-11-22T15:51:57.117031Z",
     "start_time": "2023-11-22T15:51:57.082938Z"
    }
   },
   "id": "f1bdf58e5cc6f534"
  },
  {
   "cell_type": "code",
   "execution_count": 725,
   "outputs": [],
   "source": [
    "from flood_tool.data_processor import DataProcessor\n",
    "\n",
    "\n",
    "data_processor = DataProcessor(resource_path='../flood_tool/resources', postcodes_path='../flood_tool/resources/postcodes_unlabelled.csv')"
   ],
   "metadata": {
    "collapsed": false,
    "ExecuteTime": {
     "end_time": "2023-11-22T11:46:51.677667Z",
     "start_time": "2023-11-22T11:46:50.501339Z"
    }
   },
   "id": "1294c85f2ba413b3"
  },
  {
   "cell_type": "code",
   "execution_count": 726,
   "outputs": [],
   "source": [
    "X_gps = data_processor.transform_postcodes(keep_os=True)"
   ],
   "metadata": {
    "collapsed": false,
    "ExecuteTime": {
     "end_time": "2023-11-22T11:46:51.701391Z",
     "start_time": "2023-11-22T11:46:51.679054Z"
    }
   },
   "id": "350356b1227d6a83"
  },
  {
   "cell_type": "code",
   "execution_count": 728,
   "outputs": [
    {
     "data": {
      "text/plain": "      postcode  easting  northing          soilType  elevation   latitude  \\\n0      M34 7QL   393470    394371  Unsurveyed/Urban        110  53.446063   \n1      OL4 3NQ   395420    405669  Unsurveyed/Urban        210  53.547635   \n2      B36 8TE   411900    289400  Unsurveyed/Urban         90  52.502371   \n3     NE16 3AT   420400    562300  Unsurveyed/Urban         10  54.954930   \n4     WS10 8DE   397726    296656  Unsurveyed/Urban        140  52.567724   \n...        ...      ...       ...               ...        ...        ...   \n9995   NN9 7TY   488200    264700         Cambisols         80  52.273387   \n9996   HU6 7YG   508055    434044  Unsurveyed/Urban          0  53.791500   \n9997  LS12 1DY   428431    432867  Unsurveyed/Urban         40  53.791345   \n9998   DN4 6TZ   462498    401208         Arenosols         10  53.503859   \n9999   S31 9BD   441723    378785  Unsurveyed/Urban        120  53.304375   \n\n      longitude  \n0     -2.099783  \n1     -2.070593  \n2     -1.826124  \n3     -1.682991  \n4     -2.034982  \n...         ...  \n9995  -0.708775  \n9996  -0.361201  \n9997  -1.569915  \n9998  -1.059207  \n9999  -1.375357  \n\n[10000 rows x 7 columns]",
      "text/html": "<div>\n<style scoped>\n    .dataframe tbody tr th:only-of-type {\n        vertical-align: middle;\n    }\n\n    .dataframe tbody tr th {\n        vertical-align: top;\n    }\n\n    .dataframe thead th {\n        text-align: right;\n    }\n</style>\n<table border=\"1\" class=\"dataframe\">\n  <thead>\n    <tr style=\"text-align: right;\">\n      <th></th>\n      <th>postcode</th>\n      <th>easting</th>\n      <th>northing</th>\n      <th>soilType</th>\n      <th>elevation</th>\n      <th>latitude</th>\n      <th>longitude</th>\n    </tr>\n  </thead>\n  <tbody>\n    <tr>\n      <th>0</th>\n      <td>M34 7QL</td>\n      <td>393470</td>\n      <td>394371</td>\n      <td>Unsurveyed/Urban</td>\n      <td>110</td>\n      <td>53.446063</td>\n      <td>-2.099783</td>\n    </tr>\n    <tr>\n      <th>1</th>\n      <td>OL4 3NQ</td>\n      <td>395420</td>\n      <td>405669</td>\n      <td>Unsurveyed/Urban</td>\n      <td>210</td>\n      <td>53.547635</td>\n      <td>-2.070593</td>\n    </tr>\n    <tr>\n      <th>2</th>\n      <td>B36 8TE</td>\n      <td>411900</td>\n      <td>289400</td>\n      <td>Unsurveyed/Urban</td>\n      <td>90</td>\n      <td>52.502371</td>\n      <td>-1.826124</td>\n    </tr>\n    <tr>\n      <th>3</th>\n      <td>NE16 3AT</td>\n      <td>420400</td>\n      <td>562300</td>\n      <td>Unsurveyed/Urban</td>\n      <td>10</td>\n      <td>54.954930</td>\n      <td>-1.682991</td>\n    </tr>\n    <tr>\n      <th>4</th>\n      <td>WS10 8DE</td>\n      <td>397726</td>\n      <td>296656</td>\n      <td>Unsurveyed/Urban</td>\n      <td>140</td>\n      <td>52.567724</td>\n      <td>-2.034982</td>\n    </tr>\n    <tr>\n      <th>...</th>\n      <td>...</td>\n      <td>...</td>\n      <td>...</td>\n      <td>...</td>\n      <td>...</td>\n      <td>...</td>\n      <td>...</td>\n    </tr>\n    <tr>\n      <th>9995</th>\n      <td>NN9 7TY</td>\n      <td>488200</td>\n      <td>264700</td>\n      <td>Cambisols</td>\n      <td>80</td>\n      <td>52.273387</td>\n      <td>-0.708775</td>\n    </tr>\n    <tr>\n      <th>9996</th>\n      <td>HU6 7YG</td>\n      <td>508055</td>\n      <td>434044</td>\n      <td>Unsurveyed/Urban</td>\n      <td>0</td>\n      <td>53.791500</td>\n      <td>-0.361201</td>\n    </tr>\n    <tr>\n      <th>9997</th>\n      <td>LS12 1DY</td>\n      <td>428431</td>\n      <td>432867</td>\n      <td>Unsurveyed/Urban</td>\n      <td>40</td>\n      <td>53.791345</td>\n      <td>-1.569915</td>\n    </tr>\n    <tr>\n      <th>9998</th>\n      <td>DN4 6TZ</td>\n      <td>462498</td>\n      <td>401208</td>\n      <td>Arenosols</td>\n      <td>10</td>\n      <td>53.503859</td>\n      <td>-1.059207</td>\n    </tr>\n    <tr>\n      <th>9999</th>\n      <td>S31 9BD</td>\n      <td>441723</td>\n      <td>378785</td>\n      <td>Unsurveyed/Urban</td>\n      <td>120</td>\n      <td>53.304375</td>\n      <td>-1.375357</td>\n    </tr>\n  </tbody>\n</table>\n<p>10000 rows × 7 columns</p>\n</div>"
     },
     "execution_count": 728,
     "metadata": {},
     "output_type": "execute_result"
    }
   ],
   "source": [
    "X_gps"
   ],
   "metadata": {
    "collapsed": false,
    "ExecuteTime": {
     "end_time": "2023-11-22T11:46:55.458724Z",
     "start_time": "2023-11-22T11:46:55.438118Z"
    }
   },
   "id": "7d79104e700157c4"
  },
  {
   "cell_type": "code",
   "execution_count": 430,
   "outputs": [
    {
     "data": {
      "text/plain": "      postcode          soilType  elevation   latitude  longitude  \\\n0      M34 7QL  Unsurveyed/Urban      110.0  53.446063  -2.099783   \n1      M34 7EE  Unsurveyed/Urban      110.0  53.444688  -2.099629   \n2      M34 7PS  Unsurveyed/Urban      100.0  53.438963  -2.099104   \n3      M34 7PJ  Unsurveyed/Urban      110.0  53.444221  -2.099478   \n4      M34 7JX  Unsurveyed/Urban      100.0  53.438481  -2.105320   \n...        ...               ...        ...        ...        ...   \n9995  PE99 1AP        Stagnosols       10.0  52.613487  -0.286573   \n9996  WA14 3RU        Stagnosols       40.0  53.359634  -2.395735   \n9997  LE95 2EA        Stagnosols       70.0  52.606175  -1.190561   \n9998  DL98 1AF  Unsurveyed/Urban       50.0  54.527510  -1.559700   \n9999  HU20 3UN         Cambisols      100.0  53.791791  -0.521883   \n\n      nearest_latitude  nearest_longitude stationReference       stationName  \\\n0            53.459311          -2.134747           559969  Rainfall station   \n1            53.459311          -2.134747           559969  Rainfall station   \n2            53.459311          -2.134747           559969  Rainfall station   \n3            53.459311          -2.134747           559969  Rainfall station   \n4            53.459311          -2.134747           559969  Rainfall station   \n...                ...                ...              ...               ...   \n9995         52.632078          -0.313309            E2365  Rainfall station   \n9996         53.431001          -2.352893           560557  Rainfall station   \n9997         52.571268          -1.201273             4082      Littlethorpe   \n9998         54.526112          -1.506309           030377  Rainfall station   \n9999         53.719075          -0.434087            L3211            Hessle   \n\n       latitude  ...  minOnRecord  typicalRangeHigh  typicalRangeLow  \\\n0     53.459311  ...          NaN               NaN              NaN   \n1     53.459311  ...          NaN               NaN              NaN   \n2     53.459311  ...          NaN               NaN              NaN   \n3     53.459311  ...          NaN               NaN              NaN   \n4     53.459311  ...          NaN               NaN              NaN   \n...         ...  ...          ...               ...              ...   \n9995  52.632078  ...          NaN               NaN              NaN   \n9996  53.431001  ...          NaN               NaN              NaN   \n9997  52.571268  ...        0.279             2.132            0.464   \n9998  54.526112  ...          NaN               NaN              NaN   \n9999  53.719075  ...        0.419             3.000            0.689   \n\n      postcodeDistrict  catsPerHousehold dogsPerHousehold  postcodeSector  \\\n0                  M34          0.206154         0.236422           M34 7   \n1                  M34          0.206154         0.236422           M34 7   \n2                  M34          0.206154         0.236422           M34 7   \n3                  M34          0.206154         0.236422           M34 7   \n4                  M34          0.206154         0.236422           M34 7   \n...                ...               ...              ...             ...   \n9995              PE99               NaN              NaN          PE99 1   \n9996              WA14          0.204173         0.234149          WA14 3   \n9997              LE95          0.000000         0.000000          LE95 2   \n9998              DL98          0.000000         0.000000          DL98 1   \n9999              HU20          0.846036         0.970252          HU20 3   \n\n      households numberOfPostcodeUnits  headcount  \n0            NaN                   NaN        NaN  \n1            NaN                   NaN        NaN  \n2            NaN                   NaN        NaN  \n3            NaN                   NaN        NaN  \n4            NaN                   NaN        NaN  \n...          ...                   ...        ...  \n9995         NaN                   NaN        NaN  \n9996      1742.0                 298.0     4753.0  \n9997         NaN                   NaN        NaN  \n9998         NaN                   NaN        NaN  \n9999       430.0                  41.0      881.0  \n\n[10000 rows x 22 columns]",
      "text/html": "<div>\n<style scoped>\n    .dataframe tbody tr th:only-of-type {\n        vertical-align: middle;\n    }\n\n    .dataframe tbody tr th {\n        vertical-align: top;\n    }\n\n    .dataframe thead th {\n        text-align: right;\n    }\n</style>\n<table border=\"1\" class=\"dataframe\">\n  <thead>\n    <tr style=\"text-align: right;\">\n      <th></th>\n      <th>postcode</th>\n      <th>soilType</th>\n      <th>elevation</th>\n      <th>latitude</th>\n      <th>longitude</th>\n      <th>nearest_latitude</th>\n      <th>nearest_longitude</th>\n      <th>stationReference</th>\n      <th>stationName</th>\n      <th>latitude</th>\n      <th>...</th>\n      <th>minOnRecord</th>\n      <th>typicalRangeHigh</th>\n      <th>typicalRangeLow</th>\n      <th>postcodeDistrict</th>\n      <th>catsPerHousehold</th>\n      <th>dogsPerHousehold</th>\n      <th>postcodeSector</th>\n      <th>households</th>\n      <th>numberOfPostcodeUnits</th>\n      <th>headcount</th>\n    </tr>\n  </thead>\n  <tbody>\n    <tr>\n      <th>0</th>\n      <td>M34 7QL</td>\n      <td>Unsurveyed/Urban</td>\n      <td>110.0</td>\n      <td>53.446063</td>\n      <td>-2.099783</td>\n      <td>53.459311</td>\n      <td>-2.134747</td>\n      <td>559969</td>\n      <td>Rainfall station</td>\n      <td>53.459311</td>\n      <td>...</td>\n      <td>NaN</td>\n      <td>NaN</td>\n      <td>NaN</td>\n      <td>M34</td>\n      <td>0.206154</td>\n      <td>0.236422</td>\n      <td>M34 7</td>\n      <td>NaN</td>\n      <td>NaN</td>\n      <td>NaN</td>\n    </tr>\n    <tr>\n      <th>1</th>\n      <td>M34 7EE</td>\n      <td>Unsurveyed/Urban</td>\n      <td>110.0</td>\n      <td>53.444688</td>\n      <td>-2.099629</td>\n      <td>53.459311</td>\n      <td>-2.134747</td>\n      <td>559969</td>\n      <td>Rainfall station</td>\n      <td>53.459311</td>\n      <td>...</td>\n      <td>NaN</td>\n      <td>NaN</td>\n      <td>NaN</td>\n      <td>M34</td>\n      <td>0.206154</td>\n      <td>0.236422</td>\n      <td>M34 7</td>\n      <td>NaN</td>\n      <td>NaN</td>\n      <td>NaN</td>\n    </tr>\n    <tr>\n      <th>2</th>\n      <td>M34 7PS</td>\n      <td>Unsurveyed/Urban</td>\n      <td>100.0</td>\n      <td>53.438963</td>\n      <td>-2.099104</td>\n      <td>53.459311</td>\n      <td>-2.134747</td>\n      <td>559969</td>\n      <td>Rainfall station</td>\n      <td>53.459311</td>\n      <td>...</td>\n      <td>NaN</td>\n      <td>NaN</td>\n      <td>NaN</td>\n      <td>M34</td>\n      <td>0.206154</td>\n      <td>0.236422</td>\n      <td>M34 7</td>\n      <td>NaN</td>\n      <td>NaN</td>\n      <td>NaN</td>\n    </tr>\n    <tr>\n      <th>3</th>\n      <td>M34 7PJ</td>\n      <td>Unsurveyed/Urban</td>\n      <td>110.0</td>\n      <td>53.444221</td>\n      <td>-2.099478</td>\n      <td>53.459311</td>\n      <td>-2.134747</td>\n      <td>559969</td>\n      <td>Rainfall station</td>\n      <td>53.459311</td>\n      <td>...</td>\n      <td>NaN</td>\n      <td>NaN</td>\n      <td>NaN</td>\n      <td>M34</td>\n      <td>0.206154</td>\n      <td>0.236422</td>\n      <td>M34 7</td>\n      <td>NaN</td>\n      <td>NaN</td>\n      <td>NaN</td>\n    </tr>\n    <tr>\n      <th>4</th>\n      <td>M34 7JX</td>\n      <td>Unsurveyed/Urban</td>\n      <td>100.0</td>\n      <td>53.438481</td>\n      <td>-2.105320</td>\n      <td>53.459311</td>\n      <td>-2.134747</td>\n      <td>559969</td>\n      <td>Rainfall station</td>\n      <td>53.459311</td>\n      <td>...</td>\n      <td>NaN</td>\n      <td>NaN</td>\n      <td>NaN</td>\n      <td>M34</td>\n      <td>0.206154</td>\n      <td>0.236422</td>\n      <td>M34 7</td>\n      <td>NaN</td>\n      <td>NaN</td>\n      <td>NaN</td>\n    </tr>\n    <tr>\n      <th>...</th>\n      <td>...</td>\n      <td>...</td>\n      <td>...</td>\n      <td>...</td>\n      <td>...</td>\n      <td>...</td>\n      <td>...</td>\n      <td>...</td>\n      <td>...</td>\n      <td>...</td>\n      <td>...</td>\n      <td>...</td>\n      <td>...</td>\n      <td>...</td>\n      <td>...</td>\n      <td>...</td>\n      <td>...</td>\n      <td>...</td>\n      <td>...</td>\n      <td>...</td>\n      <td>...</td>\n    </tr>\n    <tr>\n      <th>9995</th>\n      <td>PE99 1AP</td>\n      <td>Stagnosols</td>\n      <td>10.0</td>\n      <td>52.613487</td>\n      <td>-0.286573</td>\n      <td>52.632078</td>\n      <td>-0.313309</td>\n      <td>E2365</td>\n      <td>Rainfall station</td>\n      <td>52.632078</td>\n      <td>...</td>\n      <td>NaN</td>\n      <td>NaN</td>\n      <td>NaN</td>\n      <td>PE99</td>\n      <td>NaN</td>\n      <td>NaN</td>\n      <td>PE99 1</td>\n      <td>NaN</td>\n      <td>NaN</td>\n      <td>NaN</td>\n    </tr>\n    <tr>\n      <th>9996</th>\n      <td>WA14 3RU</td>\n      <td>Stagnosols</td>\n      <td>40.0</td>\n      <td>53.359634</td>\n      <td>-2.395735</td>\n      <td>53.431001</td>\n      <td>-2.352893</td>\n      <td>560557</td>\n      <td>Rainfall station</td>\n      <td>53.431001</td>\n      <td>...</td>\n      <td>NaN</td>\n      <td>NaN</td>\n      <td>NaN</td>\n      <td>WA14</td>\n      <td>0.204173</td>\n      <td>0.234149</td>\n      <td>WA14 3</td>\n      <td>1742.0</td>\n      <td>298.0</td>\n      <td>4753.0</td>\n    </tr>\n    <tr>\n      <th>9997</th>\n      <td>LE95 2EA</td>\n      <td>Stagnosols</td>\n      <td>70.0</td>\n      <td>52.606175</td>\n      <td>-1.190561</td>\n      <td>52.571268</td>\n      <td>-1.201273</td>\n      <td>4082</td>\n      <td>Littlethorpe</td>\n      <td>52.571268</td>\n      <td>...</td>\n      <td>0.279</td>\n      <td>2.132</td>\n      <td>0.464</td>\n      <td>LE95</td>\n      <td>0.000000</td>\n      <td>0.000000</td>\n      <td>LE95 2</td>\n      <td>NaN</td>\n      <td>NaN</td>\n      <td>NaN</td>\n    </tr>\n    <tr>\n      <th>9998</th>\n      <td>DL98 1AF</td>\n      <td>Unsurveyed/Urban</td>\n      <td>50.0</td>\n      <td>54.527510</td>\n      <td>-1.559700</td>\n      <td>54.526112</td>\n      <td>-1.506309</td>\n      <td>030377</td>\n      <td>Rainfall station</td>\n      <td>54.526112</td>\n      <td>...</td>\n      <td>NaN</td>\n      <td>NaN</td>\n      <td>NaN</td>\n      <td>DL98</td>\n      <td>0.000000</td>\n      <td>0.000000</td>\n      <td>DL98 1</td>\n      <td>NaN</td>\n      <td>NaN</td>\n      <td>NaN</td>\n    </tr>\n    <tr>\n      <th>9999</th>\n      <td>HU20 3UN</td>\n      <td>Cambisols</td>\n      <td>100.0</td>\n      <td>53.791791</td>\n      <td>-0.521883</td>\n      <td>53.719075</td>\n      <td>-0.434087</td>\n      <td>L3211</td>\n      <td>Hessle</td>\n      <td>53.719075</td>\n      <td>...</td>\n      <td>0.419</td>\n      <td>3.000</td>\n      <td>0.689</td>\n      <td>HU20</td>\n      <td>0.846036</td>\n      <td>0.970252</td>\n      <td>HU20 3</td>\n      <td>430.0</td>\n      <td>41.0</td>\n      <td>881.0</td>\n    </tr>\n  </tbody>\n</table>\n<p>10000 rows × 22 columns</p>\n</div>"
     },
     "execution_count": 430,
     "metadata": {},
     "output_type": "execute_result"
    }
   ],
   "source": [
    "data_processor.human_data()"
   ],
   "metadata": {
    "collapsed": false,
    "ExecuteTime": {
     "end_time": "2023-11-22T08:01:21.449302Z",
     "start_time": "2023-11-22T08:01:21.327247Z"
    }
   },
   "id": "723458d1aea52cdc"
  },
  {
   "cell_type": "code",
   "execution_count": 432,
   "outputs": [],
   "source": [
    "df_all = data_processor.rainfall()"
   ],
   "metadata": {
    "collapsed": false,
    "ExecuteTime": {
     "end_time": "2023-11-22T08:01:51.040234Z",
     "start_time": "2023-11-22T08:01:50.781934Z"
    }
   },
   "id": "a64051b410deb418"
  },
  {
   "cell_type": "code",
   "execution_count": 433,
   "outputs": [
    {
     "data": {
      "text/plain": "Index(['postcode', 'soilType', 'elevation', 'latitude', 'longitude',\n       'nearest_latitude', 'nearest_longitude', 'stationReference',\n       'stationName', 'latitude', 'longitude', 'maxOnRecord', 'minOnRecord',\n       'typicalRangeHigh', 'typicalRangeLow', 'postcodeDistrict',\n       'catsPerHousehold', 'dogsPerHousehold', 'postcodeSector', 'households',\n       'numberOfPostcodeUnits', 'headcount',\n       'typical_average_rainfall_per_hour', 'wet_average_rainfall_per_hour'],\n      dtype='object')"
     },
     "execution_count": 433,
     "metadata": {},
     "output_type": "execute_result"
    }
   ],
   "source": [
    "df_all.columns"
   ],
   "metadata": {
    "collapsed": false,
    "ExecuteTime": {
     "end_time": "2023-11-22T08:01:55.233802Z",
     "start_time": "2023-11-22T08:01:55.179798Z"
    }
   },
   "id": "55faec455e8ff2df"
  },
  {
   "cell_type": "code",
   "execution_count": 434,
   "outputs": [
    {
     "data": {
      "text/plain": "typical_average_rainfall_per_hour\n0.000000    5083\n0.008333    1094\n0.016667     287\n0.025000     103\n0.004167      71\n0.125000      69\n0.006667      66\n0.033333      41\n0.020833      27\n0.041667      26\n0.025000      22\n0.012500      12\n0.037500       9\n0.075000       8\n0.030833       7\n0.003750       5\n0.054167       5\n0.005000       3\n0.009583       2\nName: count, dtype: int64"
     },
     "execution_count": 434,
     "metadata": {},
     "output_type": "execute_result"
    }
   ],
   "source": [
    "df_all.typical_average_rainfall_per_hour.value_counts()"
   ],
   "metadata": {
    "collapsed": false,
    "ExecuteTime": {
     "end_time": "2023-11-22T08:02:22.515425Z",
     "start_time": "2023-11-22T08:02:22.474956Z"
    }
   },
   "id": "b74907278ebd269b"
  },
  {
   "cell_type": "code",
   "execution_count": 438,
   "outputs": [],
   "source": [
    "X_os = data_processor.df_postcodes"
   ],
   "metadata": {
    "collapsed": false,
    "ExecuteTime": {
     "end_time": "2023-11-22T08:09:26.059634Z",
     "start_time": "2023-11-22T08:09:26.013008Z"
    }
   },
   "id": "4f745a4617902e10"
  },
  {
   "cell_type": "code",
   "execution_count": 439,
   "outputs": [
    {
     "data": {
      "text/plain": "      postcode  easting  northing          soilType  elevation\n0      M34 7QL   393470    394371  Unsurveyed/Urban        110\n1      OL4 3NQ   395420    405669  Unsurveyed/Urban        210\n2      B36 8TE   411900    289400  Unsurveyed/Urban         90\n3     NE16 3AT   420400    562300  Unsurveyed/Urban         10\n4     WS10 8DE   397726    296656  Unsurveyed/Urban        140\n...        ...      ...       ...               ...        ...\n9995   NN9 7TY   488200    264700         Cambisols         80\n9996   HU6 7YG   508055    434044  Unsurveyed/Urban          0\n9997  LS12 1DY   428431    432867  Unsurveyed/Urban         40\n9998   DN4 6TZ   462498    401208         Arenosols         10\n9999   S31 9BD   441723    378785  Unsurveyed/Urban        120\n\n[10000 rows x 5 columns]",
      "text/html": "<div>\n<style scoped>\n    .dataframe tbody tr th:only-of-type {\n        vertical-align: middle;\n    }\n\n    .dataframe tbody tr th {\n        vertical-align: top;\n    }\n\n    .dataframe thead th {\n        text-align: right;\n    }\n</style>\n<table border=\"1\" class=\"dataframe\">\n  <thead>\n    <tr style=\"text-align: right;\">\n      <th></th>\n      <th>postcode</th>\n      <th>easting</th>\n      <th>northing</th>\n      <th>soilType</th>\n      <th>elevation</th>\n    </tr>\n  </thead>\n  <tbody>\n    <tr>\n      <th>0</th>\n      <td>M34 7QL</td>\n      <td>393470</td>\n      <td>394371</td>\n      <td>Unsurveyed/Urban</td>\n      <td>110</td>\n    </tr>\n    <tr>\n      <th>1</th>\n      <td>OL4 3NQ</td>\n      <td>395420</td>\n      <td>405669</td>\n      <td>Unsurveyed/Urban</td>\n      <td>210</td>\n    </tr>\n    <tr>\n      <th>2</th>\n      <td>B36 8TE</td>\n      <td>411900</td>\n      <td>289400</td>\n      <td>Unsurveyed/Urban</td>\n      <td>90</td>\n    </tr>\n    <tr>\n      <th>3</th>\n      <td>NE16 3AT</td>\n      <td>420400</td>\n      <td>562300</td>\n      <td>Unsurveyed/Urban</td>\n      <td>10</td>\n    </tr>\n    <tr>\n      <th>4</th>\n      <td>WS10 8DE</td>\n      <td>397726</td>\n      <td>296656</td>\n      <td>Unsurveyed/Urban</td>\n      <td>140</td>\n    </tr>\n    <tr>\n      <th>...</th>\n      <td>...</td>\n      <td>...</td>\n      <td>...</td>\n      <td>...</td>\n      <td>...</td>\n    </tr>\n    <tr>\n      <th>9995</th>\n      <td>NN9 7TY</td>\n      <td>488200</td>\n      <td>264700</td>\n      <td>Cambisols</td>\n      <td>80</td>\n    </tr>\n    <tr>\n      <th>9996</th>\n      <td>HU6 7YG</td>\n      <td>508055</td>\n      <td>434044</td>\n      <td>Unsurveyed/Urban</td>\n      <td>0</td>\n    </tr>\n    <tr>\n      <th>9997</th>\n      <td>LS12 1DY</td>\n      <td>428431</td>\n      <td>432867</td>\n      <td>Unsurveyed/Urban</td>\n      <td>40</td>\n    </tr>\n    <tr>\n      <th>9998</th>\n      <td>DN4 6TZ</td>\n      <td>462498</td>\n      <td>401208</td>\n      <td>Arenosols</td>\n      <td>10</td>\n    </tr>\n    <tr>\n      <th>9999</th>\n      <td>S31 9BD</td>\n      <td>441723</td>\n      <td>378785</td>\n      <td>Unsurveyed/Urban</td>\n      <td>120</td>\n    </tr>\n  </tbody>\n</table>\n<p>10000 rows × 5 columns</p>\n</div>"
     },
     "execution_count": 439,
     "metadata": {},
     "output_type": "execute_result"
    }
   ],
   "source": [
    "X_os"
   ],
   "metadata": {
    "collapsed": false,
    "ExecuteTime": {
     "end_time": "2023-11-22T08:09:29.205239Z",
     "start_time": "2023-11-22T08:09:29.140367Z"
    }
   },
   "id": "6f93706b7552dab9"
  },
  {
   "cell_type": "code",
   "execution_count": 452,
   "outputs": [],
   "source": [
    "X_all = data_processor.level()\n"
   ],
   "metadata": {
    "collapsed": false,
    "ExecuteTime": {
     "end_time": "2023-11-22T09:33:48.979601Z",
     "start_time": "2023-11-22T09:33:48.300494Z"
    }
   },
   "id": "93525e4f45f2fa01"
  },
  {
   "cell_type": "code",
   "execution_count": 730,
   "outputs": [
    {
     "data": {
      "text/plain": "      postcode  easting  northing          soilType  elevation   latitude  \\\n0      M34 7QL   393470    394371  Unsurveyed/Urban        110  53.446063   \n1      OL4 3NQ   395420    405669  Unsurveyed/Urban        210  53.547635   \n2      B36 8TE   411900    289400  Unsurveyed/Urban         90  52.502371   \n3     NE16 3AT   420400    562300  Unsurveyed/Urban         10  54.954930   \n4     WS10 8DE   397726    296656  Unsurveyed/Urban        140  52.567724   \n...        ...      ...       ...               ...        ...        ...   \n9995   NN9 7TY   488200    264700         Cambisols         80  52.273387   \n9996   HU6 7YG   508055    434044  Unsurveyed/Urban          0  53.791500   \n9997  LS12 1DY   428431    432867  Unsurveyed/Urban         40  53.791345   \n9998   DN4 6TZ   462498    401208         Arenosols         10  53.503859   \n9999   S31 9BD   441723    378785  Unsurveyed/Urban        120  53.304375   \n\n      longitude  \n0     -2.099783  \n1     -2.070593  \n2     -1.826124  \n3     -1.682991  \n4     -2.034982  \n...         ...  \n9995  -0.708775  \n9996  -0.361201  \n9997  -1.569915  \n9998  -1.059207  \n9999  -1.375357  \n\n[10000 rows x 7 columns]",
      "text/html": "<div>\n<style scoped>\n    .dataframe tbody tr th:only-of-type {\n        vertical-align: middle;\n    }\n\n    .dataframe tbody tr th {\n        vertical-align: top;\n    }\n\n    .dataframe thead th {\n        text-align: right;\n    }\n</style>\n<table border=\"1\" class=\"dataframe\">\n  <thead>\n    <tr style=\"text-align: right;\">\n      <th></th>\n      <th>postcode</th>\n      <th>easting</th>\n      <th>northing</th>\n      <th>soilType</th>\n      <th>elevation</th>\n      <th>latitude</th>\n      <th>longitude</th>\n    </tr>\n  </thead>\n  <tbody>\n    <tr>\n      <th>0</th>\n      <td>M34 7QL</td>\n      <td>393470</td>\n      <td>394371</td>\n      <td>Unsurveyed/Urban</td>\n      <td>110</td>\n      <td>53.446063</td>\n      <td>-2.099783</td>\n    </tr>\n    <tr>\n      <th>1</th>\n      <td>OL4 3NQ</td>\n      <td>395420</td>\n      <td>405669</td>\n      <td>Unsurveyed/Urban</td>\n      <td>210</td>\n      <td>53.547635</td>\n      <td>-2.070593</td>\n    </tr>\n    <tr>\n      <th>2</th>\n      <td>B36 8TE</td>\n      <td>411900</td>\n      <td>289400</td>\n      <td>Unsurveyed/Urban</td>\n      <td>90</td>\n      <td>52.502371</td>\n      <td>-1.826124</td>\n    </tr>\n    <tr>\n      <th>3</th>\n      <td>NE16 3AT</td>\n      <td>420400</td>\n      <td>562300</td>\n      <td>Unsurveyed/Urban</td>\n      <td>10</td>\n      <td>54.954930</td>\n      <td>-1.682991</td>\n    </tr>\n    <tr>\n      <th>4</th>\n      <td>WS10 8DE</td>\n      <td>397726</td>\n      <td>296656</td>\n      <td>Unsurveyed/Urban</td>\n      <td>140</td>\n      <td>52.567724</td>\n      <td>-2.034982</td>\n    </tr>\n    <tr>\n      <th>...</th>\n      <td>...</td>\n      <td>...</td>\n      <td>...</td>\n      <td>...</td>\n      <td>...</td>\n      <td>...</td>\n      <td>...</td>\n    </tr>\n    <tr>\n      <th>9995</th>\n      <td>NN9 7TY</td>\n      <td>488200</td>\n      <td>264700</td>\n      <td>Cambisols</td>\n      <td>80</td>\n      <td>52.273387</td>\n      <td>-0.708775</td>\n    </tr>\n    <tr>\n      <th>9996</th>\n      <td>HU6 7YG</td>\n      <td>508055</td>\n      <td>434044</td>\n      <td>Unsurveyed/Urban</td>\n      <td>0</td>\n      <td>53.791500</td>\n      <td>-0.361201</td>\n    </tr>\n    <tr>\n      <th>9997</th>\n      <td>LS12 1DY</td>\n      <td>428431</td>\n      <td>432867</td>\n      <td>Unsurveyed/Urban</td>\n      <td>40</td>\n      <td>53.791345</td>\n      <td>-1.569915</td>\n    </tr>\n    <tr>\n      <th>9998</th>\n      <td>DN4 6TZ</td>\n      <td>462498</td>\n      <td>401208</td>\n      <td>Arenosols</td>\n      <td>10</td>\n      <td>53.503859</td>\n      <td>-1.059207</td>\n    </tr>\n    <tr>\n      <th>9999</th>\n      <td>S31 9BD</td>\n      <td>441723</td>\n      <td>378785</td>\n      <td>Unsurveyed/Urban</td>\n      <td>120</td>\n      <td>53.304375</td>\n      <td>-1.375357</td>\n    </tr>\n  </tbody>\n</table>\n<p>10000 rows × 7 columns</p>\n</div>"
     },
     "execution_count": 730,
     "metadata": {},
     "output_type": "execute_result"
    }
   ],
   "source": [
    "X_gps"
   ],
   "metadata": {
    "collapsed": false,
    "ExecuteTime": {
     "end_time": "2023-11-22T11:47:10.052993Z",
     "start_time": "2023-11-22T11:47:09.996840Z"
    }
   },
   "id": "2359bb99aee7dc42"
  },
  {
   "cell_type": "markdown",
   "source": [
    "## Converting lat and lon to all data"
   ],
   "metadata": {
    "collapsed": false
   },
   "id": "1e82f9f0e1bf795a"
  },
  {
   "cell_type": "code",
   "execution_count": 731,
   "outputs": [],
   "source": [
    "from flood_tool.geo import get_easting_northing_from_gps_lat_long, get_gps_lat_long_from_easting_northing\n",
    "\n",
    "east, north = get_easting_northing_from_gps_lat_long(X_gps.latitude, X_gps.longitude, rads=False)"
   ],
   "metadata": {
    "collapsed": false,
    "ExecuteTime": {
     "end_time": "2023-11-22T11:47:13.216026Z",
     "start_time": "2023-11-22T11:47:13.175483Z"
    }
   },
   "id": "412ea3f1b0a414a3"
  },
  {
   "cell_type": "code",
   "execution_count": 732,
   "outputs": [],
   "source": [
    "df_os = pd.DataFrame(np.c_[np.round(east).astype(int), np.round(north).astype(int)], columns=['easting', 'northing'])"
   ],
   "metadata": {
    "collapsed": false,
    "ExecuteTime": {
     "end_time": "2023-11-22T11:47:13.597660Z",
     "start_time": "2023-11-22T11:47:13.551239Z"
    }
   },
   "id": "8f4be70beafe0232"
  },
  {
   "cell_type": "code",
   "execution_count": 733,
   "outputs": [],
   "source": [
    "lat, lon = get_gps_lat_long_from_easting_northing(east, north, rads=False)"
   ],
   "metadata": {
    "collapsed": false,
    "ExecuteTime": {
     "end_time": "2023-11-22T11:47:13.855701Z",
     "start_time": "2023-11-22T11:47:13.818628Z"
    }
   },
   "id": "7a3d04a72c4f2ae3"
  },
  {
   "cell_type": "code",
   "execution_count": 734,
   "outputs": [],
   "source": [
    "df_gps = pd.DataFrame(np.c_[lat + 1e-4, lon-1e-4], columns=['latitude', 'longitude']).iloc[:6000, :]"
   ],
   "metadata": {
    "collapsed": false,
    "ExecuteTime": {
     "end_time": "2023-11-22T11:47:14.075114Z",
     "start_time": "2023-11-22T11:47:14.052492Z"
    }
   },
   "id": "2de002c936b986ad"
  },
  {
   "cell_type": "code",
   "execution_count": 735,
   "outputs": [
    {
     "data": {
      "text/plain": "(6000, 2)"
     },
     "execution_count": 735,
     "metadata": {},
     "output_type": "execute_result"
    }
   ],
   "source": [
    "df_gps.shape"
   ],
   "metadata": {
    "collapsed": false,
    "ExecuteTime": {
     "end_time": "2023-11-22T11:47:14.318340Z",
     "start_time": "2023-11-22T11:47:14.293827Z"
    }
   },
   "id": "48273d349ab79fa9"
  },
  {
   "cell_type": "code",
   "execution_count": 736,
   "outputs": [],
   "source": [
    "from scipy.spatial.distance import cdist\n",
    "\n",
    "distances = cdist(\n",
    "    df_gps[[\"latitude\", \"longitude\"]],\n",
    "    X_gps[[\"latitude\", \"longitude\"]],\n",
    "    metric=\"euclidean\",\n",
    ")\n",
    "nearest_indices = np.argmin(distances, axis=1)\n"
   ],
   "metadata": {
    "collapsed": false,
    "ExecuteTime": {
     "end_time": "2023-11-22T11:47:14.860577Z",
     "start_time": "2023-11-22T11:47:14.658821Z"
    }
   },
   "id": "e73023d14f341941"
  },
  {
   "cell_type": "code",
   "execution_count": 737,
   "outputs": [],
   "source": [
    "nearest_features = X_gps.iloc[nearest_indices]"
   ],
   "metadata": {
    "collapsed": false,
    "ExecuteTime": {
     "end_time": "2023-11-22T11:47:15.279607Z",
     "start_time": "2023-11-22T11:47:15.212878Z"
    }
   },
   "id": "7f9accdd709b18de"
  },
  {
   "cell_type": "code",
   "execution_count": 738,
   "outputs": [],
   "source": [
    "merged_df = pd.concat([df_gps.drop(columns=['latitude', 'longitude']).reset_index(drop=True), nearest_features.reset_index(drop=True)], axis=1)"
   ],
   "metadata": {
    "collapsed": false,
    "ExecuteTime": {
     "end_time": "2023-11-22T11:47:15.715129Z",
     "start_time": "2023-11-22T11:47:15.690315Z"
    }
   },
   "id": "8852e6094f4f4c86"
  },
  {
   "cell_type": "markdown",
   "source": [
    "Now we have postcode we can merge back with easting and northing"
   ],
   "metadata": {
    "collapsed": false
   },
   "id": "90dde16fbbc3b5a7"
  },
  {
   "cell_type": "code",
   "execution_count": 739,
   "outputs": [
    {
     "data": {
      "text/plain": "      postcode  easting  northing          soilType  elevation   latitude  \\\n0      M34 7QL   393470    394371  Unsurveyed/Urban        110  53.446063   \n1      OL4 3NQ   395420    405669  Unsurveyed/Urban        210  53.547635   \n2      B36 8TE   411900    289400  Unsurveyed/Urban         90  52.502371   \n3     NE16 3AT   420400    562300  Unsurveyed/Urban         10  54.954930   \n4     WS10 8DE   397726    296656  Unsurveyed/Urban        140  52.567724   \n...        ...      ...       ...               ...        ...        ...   \n5995  BD21 3SQ   406000    441100  Unsurveyed/Urban        110  53.866080   \n5996   S81 8FL   456118    381378         Planosols         60  53.326354   \n5997  IP10 0XY   628502    236581         Cambisols         20  51.980670   \n5998  LS16 8HP   427112    440024  Unsurveyed/Urban        140  53.855740   \n5999  NG32 1LG   486653    332594        Stagnosols         80  52.883835   \n\n      longitude  \n0     -2.099783  \n1     -2.070593  \n2     -1.826124  \n3     -1.682991  \n4     -2.034982  \n...         ...  \n5995  -1.910246  \n5996  -1.158907  \n5997   1.325989  \n5998  -1.589308  \n5999  -0.713706  \n\n[6000 rows x 7 columns]",
      "text/html": "<div>\n<style scoped>\n    .dataframe tbody tr th:only-of-type {\n        vertical-align: middle;\n    }\n\n    .dataframe tbody tr th {\n        vertical-align: top;\n    }\n\n    .dataframe thead th {\n        text-align: right;\n    }\n</style>\n<table border=\"1\" class=\"dataframe\">\n  <thead>\n    <tr style=\"text-align: right;\">\n      <th></th>\n      <th>postcode</th>\n      <th>easting</th>\n      <th>northing</th>\n      <th>soilType</th>\n      <th>elevation</th>\n      <th>latitude</th>\n      <th>longitude</th>\n    </tr>\n  </thead>\n  <tbody>\n    <tr>\n      <th>0</th>\n      <td>M34 7QL</td>\n      <td>393470</td>\n      <td>394371</td>\n      <td>Unsurveyed/Urban</td>\n      <td>110</td>\n      <td>53.446063</td>\n      <td>-2.099783</td>\n    </tr>\n    <tr>\n      <th>1</th>\n      <td>OL4 3NQ</td>\n      <td>395420</td>\n      <td>405669</td>\n      <td>Unsurveyed/Urban</td>\n      <td>210</td>\n      <td>53.547635</td>\n      <td>-2.070593</td>\n    </tr>\n    <tr>\n      <th>2</th>\n      <td>B36 8TE</td>\n      <td>411900</td>\n      <td>289400</td>\n      <td>Unsurveyed/Urban</td>\n      <td>90</td>\n      <td>52.502371</td>\n      <td>-1.826124</td>\n    </tr>\n    <tr>\n      <th>3</th>\n      <td>NE16 3AT</td>\n      <td>420400</td>\n      <td>562300</td>\n      <td>Unsurveyed/Urban</td>\n      <td>10</td>\n      <td>54.954930</td>\n      <td>-1.682991</td>\n    </tr>\n    <tr>\n      <th>4</th>\n      <td>WS10 8DE</td>\n      <td>397726</td>\n      <td>296656</td>\n      <td>Unsurveyed/Urban</td>\n      <td>140</td>\n      <td>52.567724</td>\n      <td>-2.034982</td>\n    </tr>\n    <tr>\n      <th>...</th>\n      <td>...</td>\n      <td>...</td>\n      <td>...</td>\n      <td>...</td>\n      <td>...</td>\n      <td>...</td>\n      <td>...</td>\n    </tr>\n    <tr>\n      <th>5995</th>\n      <td>BD21 3SQ</td>\n      <td>406000</td>\n      <td>441100</td>\n      <td>Unsurveyed/Urban</td>\n      <td>110</td>\n      <td>53.866080</td>\n      <td>-1.910246</td>\n    </tr>\n    <tr>\n      <th>5996</th>\n      <td>S81 8FL</td>\n      <td>456118</td>\n      <td>381378</td>\n      <td>Planosols</td>\n      <td>60</td>\n      <td>53.326354</td>\n      <td>-1.158907</td>\n    </tr>\n    <tr>\n      <th>5997</th>\n      <td>IP10 0XY</td>\n      <td>628502</td>\n      <td>236581</td>\n      <td>Cambisols</td>\n      <td>20</td>\n      <td>51.980670</td>\n      <td>1.325989</td>\n    </tr>\n    <tr>\n      <th>5998</th>\n      <td>LS16 8HP</td>\n      <td>427112</td>\n      <td>440024</td>\n      <td>Unsurveyed/Urban</td>\n      <td>140</td>\n      <td>53.855740</td>\n      <td>-1.589308</td>\n    </tr>\n    <tr>\n      <th>5999</th>\n      <td>NG32 1LG</td>\n      <td>486653</td>\n      <td>332594</td>\n      <td>Stagnosols</td>\n      <td>80</td>\n      <td>52.883835</td>\n      <td>-0.713706</td>\n    </tr>\n  </tbody>\n</table>\n<p>6000 rows × 7 columns</p>\n</div>"
     },
     "execution_count": 739,
     "metadata": {},
     "output_type": "execute_result"
    }
   ],
   "source": [
    "merged_df"
   ],
   "metadata": {
    "collapsed": false,
    "ExecuteTime": {
     "end_time": "2023-11-22T11:47:20.220412Z",
     "start_time": "2023-11-22T11:47:20.172094Z"
    }
   },
   "id": "9b272a108991ea8b"
  },
  {
   "cell_type": "markdown",
   "source": [
    "Now we can merge on the nearest distance"
   ],
   "metadata": {
    "collapsed": false
   },
   "id": "7a2a5cb975fc671c"
  },
  {
   "cell_type": "code",
   "execution_count": 740,
   "outputs": [
    {
     "data": {
      "text/plain": "      postcode  easting  northing          soilType  elevation   latitude  \\\n0      M34 7QL   393470    394371  Unsurveyed/Urban        110  53.446063   \n1      OL4 3NQ   395420    405669  Unsurveyed/Urban        210  53.547635   \n2      B36 8TE   411900    289400  Unsurveyed/Urban         90  52.502371   \n3     NE16 3AT   420400    562300  Unsurveyed/Urban         10  54.954930   \n4     WS10 8DE   397726    296656  Unsurveyed/Urban        140  52.567724   \n...        ...      ...       ...               ...        ...        ...   \n9995   NN9 7TY   488200    264700         Cambisols         80  52.273387   \n9996   HU6 7YG   508055    434044  Unsurveyed/Urban          0  53.791500   \n9997  LS12 1DY   428431    432867  Unsurveyed/Urban         40  53.791345   \n9998   DN4 6TZ   462498    401208         Arenosols         10  53.503859   \n9999   S31 9BD   441723    378785  Unsurveyed/Urban        120  53.304375   \n\n      longitude  \n0     -2.099783  \n1     -2.070593  \n2     -1.826124  \n3     -1.682991  \n4     -2.034982  \n...         ...  \n9995  -0.708775  \n9996  -0.361201  \n9997  -1.569915  \n9998  -1.059207  \n9999  -1.375357  \n\n[10000 rows x 7 columns]",
      "text/html": "<div>\n<style scoped>\n    .dataframe tbody tr th:only-of-type {\n        vertical-align: middle;\n    }\n\n    .dataframe tbody tr th {\n        vertical-align: top;\n    }\n\n    .dataframe thead th {\n        text-align: right;\n    }\n</style>\n<table border=\"1\" class=\"dataframe\">\n  <thead>\n    <tr style=\"text-align: right;\">\n      <th></th>\n      <th>postcode</th>\n      <th>easting</th>\n      <th>northing</th>\n      <th>soilType</th>\n      <th>elevation</th>\n      <th>latitude</th>\n      <th>longitude</th>\n    </tr>\n  </thead>\n  <tbody>\n    <tr>\n      <th>0</th>\n      <td>M34 7QL</td>\n      <td>393470</td>\n      <td>394371</td>\n      <td>Unsurveyed/Urban</td>\n      <td>110</td>\n      <td>53.446063</td>\n      <td>-2.099783</td>\n    </tr>\n    <tr>\n      <th>1</th>\n      <td>OL4 3NQ</td>\n      <td>395420</td>\n      <td>405669</td>\n      <td>Unsurveyed/Urban</td>\n      <td>210</td>\n      <td>53.547635</td>\n      <td>-2.070593</td>\n    </tr>\n    <tr>\n      <th>2</th>\n      <td>B36 8TE</td>\n      <td>411900</td>\n      <td>289400</td>\n      <td>Unsurveyed/Urban</td>\n      <td>90</td>\n      <td>52.502371</td>\n      <td>-1.826124</td>\n    </tr>\n    <tr>\n      <th>3</th>\n      <td>NE16 3AT</td>\n      <td>420400</td>\n      <td>562300</td>\n      <td>Unsurveyed/Urban</td>\n      <td>10</td>\n      <td>54.954930</td>\n      <td>-1.682991</td>\n    </tr>\n    <tr>\n      <th>4</th>\n      <td>WS10 8DE</td>\n      <td>397726</td>\n      <td>296656</td>\n      <td>Unsurveyed/Urban</td>\n      <td>140</td>\n      <td>52.567724</td>\n      <td>-2.034982</td>\n    </tr>\n    <tr>\n      <th>...</th>\n      <td>...</td>\n      <td>...</td>\n      <td>...</td>\n      <td>...</td>\n      <td>...</td>\n      <td>...</td>\n      <td>...</td>\n    </tr>\n    <tr>\n      <th>9995</th>\n      <td>NN9 7TY</td>\n      <td>488200</td>\n      <td>264700</td>\n      <td>Cambisols</td>\n      <td>80</td>\n      <td>52.273387</td>\n      <td>-0.708775</td>\n    </tr>\n    <tr>\n      <th>9996</th>\n      <td>HU6 7YG</td>\n      <td>508055</td>\n      <td>434044</td>\n      <td>Unsurveyed/Urban</td>\n      <td>0</td>\n      <td>53.791500</td>\n      <td>-0.361201</td>\n    </tr>\n    <tr>\n      <th>9997</th>\n      <td>LS12 1DY</td>\n      <td>428431</td>\n      <td>432867</td>\n      <td>Unsurveyed/Urban</td>\n      <td>40</td>\n      <td>53.791345</td>\n      <td>-1.569915</td>\n    </tr>\n    <tr>\n      <th>9998</th>\n      <td>DN4 6TZ</td>\n      <td>462498</td>\n      <td>401208</td>\n      <td>Arenosols</td>\n      <td>10</td>\n      <td>53.503859</td>\n      <td>-1.059207</td>\n    </tr>\n    <tr>\n      <th>9999</th>\n      <td>S31 9BD</td>\n      <td>441723</td>\n      <td>378785</td>\n      <td>Unsurveyed/Urban</td>\n      <td>120</td>\n      <td>53.304375</td>\n      <td>-1.375357</td>\n    </tr>\n  </tbody>\n</table>\n<p>10000 rows × 7 columns</p>\n</div>"
     },
     "execution_count": 740,
     "metadata": {},
     "output_type": "execute_result"
    }
   ],
   "source": [
    "data_processor.process_gps(lat + 1e-4, lon-1e-4)"
   ],
   "metadata": {
    "collapsed": false,
    "ExecuteTime": {
     "end_time": "2023-11-22T11:49:59.507693Z",
     "start_time": "2023-11-22T11:49:58.582998Z"
    }
   },
   "id": "88a51d1724271e2c"
  },
  {
   "cell_type": "code",
   "execution_count": 1109,
   "outputs": [],
   "source": [
    "from flood_tool.tool import Tool\n",
    "\n",
    "tool = Tool()"
   ],
   "metadata": {
    "collapsed": false,
    "ExecuteTime": {
     "end_time": "2023-11-22T16:46:58.247633Z",
     "start_time": "2023-11-22T16:46:58.158122Z"
    }
   },
   "id": "b3a8cd165a775cf8"
  },
  {
   "cell_type": "code",
   "execution_count": 1110,
   "outputs": [],
   "source": [
    "df_gps = pd.DataFrame(np.c_[lat, lon], columns=['latitude', 'longitude'])\n",
    "lat = X_gps.latitude\n",
    "lon = X_gps.longitude"
   ],
   "metadata": {
    "collapsed": false,
    "ExecuteTime": {
     "end_time": "2023-11-22T16:46:59.966675Z",
     "start_time": "2023-11-22T16:46:59.923523Z"
    }
   },
   "id": "85e4c8d523112e70"
  },
  {
   "cell_type": "code",
   "execution_count": 1111,
   "outputs": [
    {
     "name": "stderr",
     "output_type": "stream",
     "text": [
      "2023-11-22 16:47:01,234 [flood_tool.models.predictor] INFO: Model successfully fit.\n",
      "2023-11-22 16:47:01,965 [flood_tool.models.flood_predictor] INFO: 737760\n"
     ]
    }
   ],
   "source": [
    "res = tool.predict_flood_class_from_WGS84_locations(latitudes=lat, longitudes=lon, method='xgb_regressor')"
   ],
   "metadata": {
    "collapsed": false,
    "ExecuteTime": {
     "end_time": "2023-11-22T16:47:01.980080Z",
     "start_time": "2023-11-22T16:47:00.095313Z"
    }
   },
   "id": "862abdfada75929c"
  },
  {
   "cell_type": "code",
   "execution_count": 1114,
   "outputs": [],
   "source": [
    "df_stacked = tool.df_stacked"
   ],
   "metadata": {
    "collapsed": false,
    "ExecuteTime": {
     "end_time": "2023-11-22T16:47:36.640323Z",
     "start_time": "2023-11-22T16:47:36.589691Z"
    }
   },
   "id": "e417e6bc0c618a89"
  },
  {
   "cell_type": "code",
   "execution_count": 1116,
   "outputs": [
    {
     "data": {
      "text/plain": "       postcode  easting  northing          soilType  elevation\n0       OL9 7NS   390978    403269  Unsurveyed/Urban        130\n1      WV13 2LR   396607    298083  Unsurveyed/Urban        130\n2      LS12 1LZ   427859    432937  Unsurveyed/Urban         60\n3      SK15 1TS   395560    397900  Unsurveyed/Urban        120\n4      TS17 9NN   445771    515362  Unsurveyed/Urban         20\n...         ...      ...       ...               ...        ...\n29995  LS16 0BP   425977    438923  Unsurveyed/Urban        160\n29996   SK8 4PG   384808    387982  Unsurveyed/Urban         40\n29997   HD7 4PA   409215    416819         Cambisols        310\n29998  NE16 5YT   419672    560517  Unsurveyed/Urban        130\n29999    B8 2RQ   411674    288499  Unsurveyed/Urban        110\n\n[30000 rows x 5 columns]",
      "text/html": "<div>\n<style scoped>\n    .dataframe tbody tr th:only-of-type {\n        vertical-align: middle;\n    }\n\n    .dataframe tbody tr th {\n        vertical-align: top;\n    }\n\n    .dataframe thead th {\n        text-align: right;\n    }\n</style>\n<table border=\"1\" class=\"dataframe\">\n  <thead>\n    <tr style=\"text-align: right;\">\n      <th></th>\n      <th>postcode</th>\n      <th>easting</th>\n      <th>northing</th>\n      <th>soilType</th>\n      <th>elevation</th>\n    </tr>\n  </thead>\n  <tbody>\n    <tr>\n      <th>0</th>\n      <td>OL9 7NS</td>\n      <td>390978</td>\n      <td>403269</td>\n      <td>Unsurveyed/Urban</td>\n      <td>130</td>\n    </tr>\n    <tr>\n      <th>1</th>\n      <td>WV13 2LR</td>\n      <td>396607</td>\n      <td>298083</td>\n      <td>Unsurveyed/Urban</td>\n      <td>130</td>\n    </tr>\n    <tr>\n      <th>2</th>\n      <td>LS12 1LZ</td>\n      <td>427859</td>\n      <td>432937</td>\n      <td>Unsurveyed/Urban</td>\n      <td>60</td>\n    </tr>\n    <tr>\n      <th>3</th>\n      <td>SK15 1TS</td>\n      <td>395560</td>\n      <td>397900</td>\n      <td>Unsurveyed/Urban</td>\n      <td>120</td>\n    </tr>\n    <tr>\n      <th>4</th>\n      <td>TS17 9NN</td>\n      <td>445771</td>\n      <td>515362</td>\n      <td>Unsurveyed/Urban</td>\n      <td>20</td>\n    </tr>\n    <tr>\n      <th>...</th>\n      <td>...</td>\n      <td>...</td>\n      <td>...</td>\n      <td>...</td>\n      <td>...</td>\n    </tr>\n    <tr>\n      <th>29995</th>\n      <td>LS16 0BP</td>\n      <td>425977</td>\n      <td>438923</td>\n      <td>Unsurveyed/Urban</td>\n      <td>160</td>\n    </tr>\n    <tr>\n      <th>29996</th>\n      <td>SK8 4PG</td>\n      <td>384808</td>\n      <td>387982</td>\n      <td>Unsurveyed/Urban</td>\n      <td>40</td>\n    </tr>\n    <tr>\n      <th>29997</th>\n      <td>HD7 4PA</td>\n      <td>409215</td>\n      <td>416819</td>\n      <td>Cambisols</td>\n      <td>310</td>\n    </tr>\n    <tr>\n      <th>29998</th>\n      <td>NE16 5YT</td>\n      <td>419672</td>\n      <td>560517</td>\n      <td>Unsurveyed/Urban</td>\n      <td>130</td>\n    </tr>\n    <tr>\n      <th>29999</th>\n      <td>B8 2RQ</td>\n      <td>411674</td>\n      <td>288499</td>\n      <td>Unsurveyed/Urban</td>\n      <td>110</td>\n    </tr>\n  </tbody>\n</table>\n<p>30000 rows × 5 columns</p>\n</div>"
     },
     "execution_count": 1116,
     "metadata": {},
     "output_type": "execute_result"
    }
   ],
   "source": [
    "df_stacked[df_stacked.postcode.isin(X.postcode)].drop_duplicates()"
   ],
   "metadata": {
    "collapsed": false,
    "ExecuteTime": {
     "end_time": "2023-11-22T16:47:55.840258Z",
     "start_time": "2023-11-22T16:47:55.769760Z"
    }
   },
   "id": "9bd960f6bc4789c2"
  },
  {
   "cell_type": "code",
   "execution_count": 829,
   "outputs": [
    {
     "data": {
      "text/plain": "latitude   longitude\n53.446063  -2.099783    1.0\n53.547635  -2.070593    1.0\n52.502371  -1.826124    1.0\n54.954930  -1.682991    1.0\n52.567724  -2.034982    1.0\n                       ... \n52.273387  -0.708775    1.0\n53.791500  -0.361201    6.0\n53.791345  -1.569915    1.0\n53.503859  -1.059207    1.0\n53.304375  -1.375357    1.0\nName: predictions, Length: 10000, dtype: float32"
     },
     "execution_count": 829,
     "metadata": {},
     "output_type": "execute_result"
    }
   ],
   "source": [],
   "metadata": {
    "collapsed": false,
    "ExecuteTime": {
     "end_time": "2023-11-22T13:16:34.844386Z",
     "start_time": "2023-11-22T13:16:34.819215Z"
    }
   },
   "id": "cecb30376049e686"
  },
  {
   "cell_type": "code",
   "execution_count": 830,
   "outputs": [
    {
     "data": {
      "text/plain": "predictions\n1.0     8886\n2.0      306\n3.0      252\n6.0      141\n4.0      133\n5.0      116\n8.0       78\n7.0       65\n9.0       13\n10.0      10\nName: count, dtype: int64"
     },
     "execution_count": 830,
     "metadata": {},
     "output_type": "execute_result"
    }
   ],
   "source": [
    "res.value_counts()"
   ],
   "metadata": {
    "collapsed": false,
    "ExecuteTime": {
     "end_time": "2023-11-22T13:16:34.858605Z",
     "start_time": "2023-11-22T13:16:34.835231Z"
    }
   },
   "id": "8d2d974850b66c53"
  },
  {
   "cell_type": "code",
   "execution_count": 836,
   "outputs": [
    {
     "data": {
      "text/plain": "      postcode  easting  northing          soilType  elevation\n0      M34 7QL   393470    394371  Unsurveyed/Urban        110\n1      OL4 3NQ   395420    405669  Unsurveyed/Urban        210\n2      B36 8TE   411900    289400  Unsurveyed/Urban         90\n3     NE16 3AT   420400    562300  Unsurveyed/Urban         10\n4     WS10 8DE   397726    296656  Unsurveyed/Urban        140\n...        ...      ...       ...               ...        ...\n9995   NN9 7TY   488200    264700         Cambisols         80\n9996   HU6 7YG   508055    434044  Unsurveyed/Urban          0\n9997  LS12 1DY   428431    432867  Unsurveyed/Urban         40\n9998   DN4 6TZ   462498    401208         Arenosols         10\n9999   S31 9BD   441723    378785  Unsurveyed/Urban        120\n\n[9149 rows x 5 columns]",
      "text/html": "<div>\n<style scoped>\n    .dataframe tbody tr th:only-of-type {\n        vertical-align: middle;\n    }\n\n    .dataframe tbody tr th {\n        vertical-align: top;\n    }\n\n    .dataframe thead th {\n        text-align: right;\n    }\n</style>\n<table border=\"1\" class=\"dataframe\">\n  <thead>\n    <tr style=\"text-align: right;\">\n      <th></th>\n      <th>postcode</th>\n      <th>easting</th>\n      <th>northing</th>\n      <th>soilType</th>\n      <th>elevation</th>\n    </tr>\n  </thead>\n  <tbody>\n    <tr>\n      <th>0</th>\n      <td>M34 7QL</td>\n      <td>393470</td>\n      <td>394371</td>\n      <td>Unsurveyed/Urban</td>\n      <td>110</td>\n    </tr>\n    <tr>\n      <th>1</th>\n      <td>OL4 3NQ</td>\n      <td>395420</td>\n      <td>405669</td>\n      <td>Unsurveyed/Urban</td>\n      <td>210</td>\n    </tr>\n    <tr>\n      <th>2</th>\n      <td>B36 8TE</td>\n      <td>411900</td>\n      <td>289400</td>\n      <td>Unsurveyed/Urban</td>\n      <td>90</td>\n    </tr>\n    <tr>\n      <th>3</th>\n      <td>NE16 3AT</td>\n      <td>420400</td>\n      <td>562300</td>\n      <td>Unsurveyed/Urban</td>\n      <td>10</td>\n    </tr>\n    <tr>\n      <th>4</th>\n      <td>WS10 8DE</td>\n      <td>397726</td>\n      <td>296656</td>\n      <td>Unsurveyed/Urban</td>\n      <td>140</td>\n    </tr>\n    <tr>\n      <th>...</th>\n      <td>...</td>\n      <td>...</td>\n      <td>...</td>\n      <td>...</td>\n      <td>...</td>\n    </tr>\n    <tr>\n      <th>9995</th>\n      <td>NN9 7TY</td>\n      <td>488200</td>\n      <td>264700</td>\n      <td>Cambisols</td>\n      <td>80</td>\n    </tr>\n    <tr>\n      <th>9996</th>\n      <td>HU6 7YG</td>\n      <td>508055</td>\n      <td>434044</td>\n      <td>Unsurveyed/Urban</td>\n      <td>0</td>\n    </tr>\n    <tr>\n      <th>9997</th>\n      <td>LS12 1DY</td>\n      <td>428431</td>\n      <td>432867</td>\n      <td>Unsurveyed/Urban</td>\n      <td>40</td>\n    </tr>\n    <tr>\n      <th>9998</th>\n      <td>DN4 6TZ</td>\n      <td>462498</td>\n      <td>401208</td>\n      <td>Arenosols</td>\n      <td>10</td>\n    </tr>\n    <tr>\n      <th>9999</th>\n      <td>S31 9BD</td>\n      <td>441723</td>\n      <td>378785</td>\n      <td>Unsurveyed/Urban</td>\n      <td>120</td>\n    </tr>\n  </tbody>\n</table>\n<p>9149 rows × 5 columns</p>\n</div>"
     },
     "execution_count": 836,
     "metadata": {},
     "output_type": "execute_result"
    }
   ],
   "source": [
    "df_unlabelled[df_unlabelled['postcode'].isin(df_unlabelled.postcode)]"
   ],
   "metadata": {
    "collapsed": false,
    "ExecuteTime": {
     "end_time": "2023-11-22T13:18:55.053742Z",
     "start_time": "2023-11-22T13:18:54.998164Z"
    }
   },
   "id": "3d5324747bd476d7"
  },
  {
   "cell_type": "code",
   "execution_count": 797,
   "outputs": [
    {
     "data": {
      "text/plain": "predictions\n1.0     8886\n2.0      306\n3.0      252\n6.0      141\n4.0      133\n5.0      116\n8.0       78\n7.0       65\n9.0       13\n10.0      10\nName: count, dtype: int64"
     },
     "execution_count": 797,
     "metadata": {},
     "output_type": "execute_result"
    }
   ],
   "source": [
    "res.value_counts()"
   ],
   "metadata": {
    "collapsed": false,
    "ExecuteTime": {
     "end_time": "2023-11-22T12:14:41.872266Z",
     "start_time": "2023-11-22T12:14:41.817812Z"
    }
   },
   "id": "fa511365a73aaa36"
  },
  {
   "cell_type": "code",
   "execution_count": 797,
   "outputs": [],
   "source": [],
   "metadata": {
    "collapsed": false,
    "ExecuteTime": {
     "end_time": "2023-11-22T12:14:42.525400Z",
     "start_time": "2023-11-22T12:14:42.467953Z"
    }
   },
   "id": "4765157a4df629b0"
  },
  {
   "cell_type": "code",
   "execution_count": 817,
   "outputs": [],
   "source": [
    "X_os = tool._postcodedb\n"
   ],
   "metadata": {
    "collapsed": false,
    "ExecuteTime": {
     "end_time": "2023-11-22T12:32:40.299590Z",
     "start_time": "2023-11-22T12:32:40.246781Z"
    }
   },
   "id": "d484314f5e938096"
  },
  {
   "cell_type": "code",
   "execution_count": 818,
   "outputs": [],
   "source": [
    "eastings = X_os.easting.tolist()\n",
    "northings = X_os.northing.tolist()\n"
   ],
   "metadata": {
    "collapsed": false,
    "ExecuteTime": {
     "end_time": "2023-11-22T12:32:40.432372Z",
     "start_time": "2023-11-22T12:32:40.412089Z"
    }
   },
   "id": "667ce3e35465123e"
  },
  {
   "cell_type": "code",
   "execution_count": 819,
   "outputs": [
    {
     "data": {
      "text/plain": "[393470,\n 395420,\n 411900,\n 420400,\n 397726,\n 407027,\n 510100,\n 628083,\n 418995,\n 500058,\n 447714,\n 452350,\n 427536,\n 440070,\n 460755,\n 408100,\n 394103,\n 435996,\n 442104,\n 419195,\n 427401,\n 418995,\n 421560,\n 613814,\n 651264,\n 435446,\n 425760,\n 406907,\n 508400,\n 370160,\n 430206,\n 431010,\n 400801,\n 460808,\n 407084,\n 421455,\n 431045,\n 407117,\n 433237,\n 411010,\n 404729,\n 401848,\n 483370,\n 432990,\n 411100,\n 469683,\n 458767,\n 510402,\n 454279,\n 416200,\n 423242,\n 636065,\n 426833,\n 562257,\n 404770,\n 432912,\n 370607,\n 481607,\n 518199,\n 526079,\n 404294,\n 452372,\n 545495,\n 458412,\n 547523,\n 391750,\n 425524,\n 428177,\n 509094,\n 411984,\n 440435,\n 385970,\n 388297,\n 391853,\n 378765,\n 459561,\n 426500,\n 422066,\n 416166,\n 414570,\n 369432,\n 440054,\n 588410,\n 391068,\n 412679,\n 398274,\n 392600,\n 460217,\n 456696,\n 415907,\n 457144,\n 424466,\n 446635,\n 407279,\n 426500,\n 447444,\n 400962,\n 420248,\n 445908,\n 463292,\n 407999,\n 411913,\n 424819,\n 430360,\n 545989,\n 414515,\n 462702,\n 400144,\n 419285,\n 450855,\n 472761,\n 438046,\n 434969,\n 418498,\n 435515,\n 454469,\n 560933,\n 392008,\n 448679,\n 428869,\n 556336,\n 459619,\n 404511,\n 392551,\n 519724,\n 454319,\n 443364,\n 442732,\n 413414,\n 506068,\n 393144,\n 449073,\n 388570,\n 504103,\n 460158,\n 448733,\n 408291,\n 431931,\n 426256,\n 521233,\n 388452,\n 408951,\n 448090,\n 416745,\n 491564,\n 435610,\n 444053,\n 405745,\n 473486,\n 430656,\n 399372,\n 442314,\n 457900,\n 652695,\n 403337,\n 415438,\n 458830,\n 414517,\n 460739,\n 505290,\n 399170,\n 419722,\n 529416,\n 391750,\n 435730,\n 416175,\n 454260,\n 384216,\n 449276,\n 401356,\n 462530,\n 521220,\n 391070,\n 492272,\n 449672,\n 423342,\n 509985,\n 418863,\n 404973,\n 390882,\n 425054,\n 396329,\n 492699,\n 388323,\n 458740,\n 454408,\n 415740,\n 622869,\n 435573,\n 432670,\n 404836,\n 618171,\n 443816,\n 437164,\n 429702,\n 433434,\n 458622,\n 620780,\n 407511,\n 369343,\n 436038,\n 491800,\n 497221,\n 464637,\n 456317,\n 449500,\n 394523,\n 437281,\n 460982,\n 414290,\n 429986,\n 495687,\n 435756,\n 516295,\n 432900,\n 451955,\n 444863,\n 384950,\n 412689,\n 499524,\n 404685,\n 411386,\n 415785,\n 454102,\n 404848,\n 443489,\n 432342,\n 446317,\n 432638,\n 447847,\n 444400,\n 451658,\n 407471,\n 406190,\n 461242,\n 438832,\n 460432,\n 412641,\n 423750,\n 651515,\n 513127,\n 420190,\n 406772,\n 374833,\n 408096,\n 438838,\n 400677,\n 441670,\n 509311,\n 411005,\n 425053,\n 410771,\n 415815,\n 464730,\n 436927,\n 432685,\n 535562,\n 432095,\n 623748,\n 415273,\n 506388,\n 455052,\n 407502,\n 546943,\n 381011,\n 459225,\n 424722,\n 396795,\n 439452,\n 428811,\n 433080,\n 461951,\n 445500,\n 453916,\n 412013,\n 456096,\n 524960,\n 409240,\n 416418,\n 458650,\n 405500,\n 393538,\n 443684,\n 498162,\n 387829,\n 401278,\n 521492,\n 400127,\n 478689,\n 461426,\n 440525,\n 410906,\n 406563,\n 435056,\n 508796,\n 448677,\n 454913,\n 444107,\n 461640,\n 455510,\n 447253,\n 437938,\n 431049,\n 447969,\n 411619,\n 464926,\n 430459,\n 433500,\n 409861,\n 580545,\n 410027,\n 474151,\n 406400,\n 466352,\n 623910,\n 475503,\n 472779,\n 527981,\n 433573,\n 459070,\n 406649,\n 411619,\n 497551,\n 408859,\n 417800,\n 508355,\n 442608,\n 510546,\n 460512,\n 409882,\n 421569,\n 400700,\n 450370,\n 438000,\n 459789,\n 446694,\n 417823,\n 644673,\n 420996,\n 480156,\n 541692,\n 638698,\n 441182,\n 430515,\n 457465,\n 385015,\n 410914,\n 458290,\n 433164,\n 520034,\n 502300,\n 391217,\n 416141,\n 502292,\n 425452,\n 408352,\n 402269,\n 457584,\n 480808,\n 459213,\n 398266,\n 451011,\n 447961,\n 389417,\n 388732,\n 540230,\n 420685,\n 402273,\n 480431,\n 394453,\n 427630,\n 426398,\n 464638,\n 425041,\n 481388,\n 392503,\n 526876,\n 507700,\n 434055,\n 432672,\n 400667,\n 449062,\n 407279,\n 424027,\n 448428,\n 392620,\n 442782,\n 509459,\n 440392,\n 444975,\n 528657,\n 406478,\n 506903,\n 395266,\n 416178,\n 440867,\n 432646,\n 429787,\n 379875,\n 396558,\n 433083,\n 404466,\n 432282,\n 415770,\n 434055,\n 409958,\n 463147,\n 497221,\n 440643,\n 425830,\n 412456,\n 474422,\n 398214,\n 436375,\n 459652,\n 457400,\n 425087,\n 402277,\n 435782,\n 429237,\n 505425,\n 406700,\n 459294,\n 430369,\n 413980,\n 453769,\n 476926,\n 413354,\n 444052,\n 401117,\n 488084,\n 626012,\n 445935,\n 489269,\n 487632,\n 490157,\n 452350,\n 456852,\n 503449,\n 510020,\n 629199,\n 423771,\n 443844,\n 520146,\n 442590,\n 452864,\n 445392,\n 596974,\n 423335,\n 611897,\n 620278,\n 430295,\n 459525,\n 405811,\n 444376,\n 425631,\n 488027,\n 436141,\n 416178,\n 494348,\n 383500,\n 445847,\n 410053,\n 511833,\n 457243,\n 653050,\n 591634,\n 389966,\n 439795,\n 399942,\n 419225,\n 504112,\n 406984,\n 426421,\n 414157,\n 426356,\n 388225,\n 456059,\n 403989,\n 399423,\n 420305,\n 442464,\n 424364,\n 428700,\n 413652,\n 414700,\n 489487,\n 434713,\n 434426,\n 425575,\n 387750,\n 404763,\n 551283,\n 398409,\n 428341,\n 433315,\n 399500,\n 442100,\n 457400,\n 414605,\n 412476,\n 408948,\n 463428,\n 426764,\n 415040,\n 400017,\n 432412,\n 414289,\n 461564,\n 424691,\n 442892,\n 512382,\n 399790,\n 401356,\n 442232,\n 454849,\n 424335,\n 391804,\n 370804,\n 429731,\n 425156,\n 373331,\n 439282,\n 434644,\n 421696,\n 429412,\n 427689,\n 450702,\n 428555,\n 446199,\n 391973,\n 393611,\n 446309,\n 480640,\n 416712,\n 598786,\n 440317,\n 397687,\n 458952,\n 443923,\n 444517,\n 407748,\n 433838,\n 443046,\n 420280,\n 431327,\n 410464,\n 488979,\n 413119,\n 425177,\n 429763,\n 395927,\n 519297,\n 397081,\n 505291,\n 455996,\n 440788,\n 454585,\n 409241,\n 409800,\n 453151,\n 455610,\n 505466,\n 542012,\n 393121,\n 451049,\n 444200,\n 477410,\n 416332,\n 408579,\n 456606,\n 406649,\n 442178,\n 564016,\n 620657,\n 485055,\n 645018,\n 439865,\n 418170,\n 416094,\n 432089,\n 448284,\n 650429,\n 446640,\n 432160,\n 442133,\n 414460,\n 600186,\n 468036,\n 460634,\n 507600,\n 397768,\n 451009,\n 443635,\n 394412,\n 444053,\n 460054,\n 390753,\n 497221,\n 441750,\n 459421,\n 435047,\n 468385,\n 423613,\n 492570,\n 434503,\n 406771,\n 443964,\n 433583,\n 604369,\n 445672,\n 638176,\n 451986,\n 433337,\n 459264,\n 630511,\n 433464,\n 421405,\n 435996,\n 405902,\n 453957,\n 450127,\n 652740,\n 633500,\n 435528,\n 433504,\n 527411,\n 428333,\n 456690,\n 519890,\n 429720,\n 382952,\n 432897,\n 425642,\n 429560,\n 458361,\n 503468,\n 420487,\n 370724,\n 396737,\n 437631,\n 638919,\n 399672,\n 459514,\n 417587,\n 588993,\n 520421,\n 415855,\n 497400,\n 486935,\n 441763,\n 435600,\n 428811,\n 392169,\n 509635,\n 468846,\n 429681,\n 437932,\n 436701,\n 394998,\n 433317,\n 620340,\n 431112,\n 459652,\n 415972,\n 626136,\n 420115,\n 392300,\n 384485,\n 429934,\n 416400,\n 490768,\n 433867,\n 459476,\n 390676,\n 413459,\n 433949,\n 460377,\n 427387,\n 446276,\n 479670,\n 393480,\n 433307,\n 509800,\n 425054,\n 432647,\n 479102,\n 456151,\n 519263,\n 442944,\n 437900,\n 440797,\n 423470,\n 433169,\n 391613,\n 522946,\n 448723,\n 526246,\n 615800,\n 399229,\n 438462,\n 495661,\n 429554,\n 522814,\n 423628,\n 458289,\n 534125,\n 509442,\n 459652,\n 458074,\n 403766,\n 552052,\n 409508,\n 416100,\n 491904,\n 441918,\n 391582,\n 498000,\n 497167,\n 520845,\n 427600,\n 431404,\n 437698,\n 453079,\n 414439,\n 638249,\n 488335,\n 555216,\n 449264,\n 422312,\n 480654,\n 393964,\n 409071,\n 412565,\n 622139,\n 426907,\n 503100,\n 490400,\n 433757,\n 491536,\n 397457,\n 415405,\n 389334,\n 453984,\n 444700,\n 451960,\n 490361,\n 435298,\n 426787,\n 425687,\n 494395,\n 426528,\n 409477,\n 456530,\n 404442,\n 428017,\n 400570,\n 400019,\n 411538,\n 458026,\n 489200,\n 416800,\n 618623,\n 401181,\n 443794,\n 435412,\n 509500,\n 410747,\n 418470,\n 391805,\n 474422,\n 546961,\n 444932,\n 464954,\n 400925,\n 452893,\n 413442,\n 430254,\n 387579,\n 518940,\n 434255,\n 447280,\n 490345,\n 498506,\n 506800,\n 434050,\n 392818,\n 434426,\n 375264,\n 410665,\n 432056,\n 400864,\n 382185,\n 525611,\n 406614,\n 415142,\n 414300,\n 431500,\n 638743,\n 459294,\n 464350,\n 436789,\n 428622,\n 414570,\n 433887,\n 410549,\n 503693,\n 425748,\n 460969,\n 406606,\n 461650,\n 490800,\n 376149,\n 550288,\n 431169,\n 507523,\n 403174,\n 414812,\n 421440,\n 447047,\n 485891,\n 505834,\n 608901,\n 415810,\n 407528,\n 423900,\n 417433,\n 437542,\n 509273,\n 452691,\n 461437,\n 427719,\n 409469,\n 625339,\n 413952,\n 439207,\n 454673,\n 384555,\n 624885,\n 388540,\n 427457,\n 440079,\n 506277,\n 430849,\n 498500,\n 434393,\n 424037,\n 427049,\n 438237,\n 430713,\n 461424,\n 458479,\n 438476,\n 506483,\n 392248,\n 429303,\n 606503,\n 538214,\n 435257,\n 405433,\n 411619,\n 598329,\n 468283,\n 436632,\n 465113,\n 421290,\n 399781,\n 462229,\n 419300,\n 414574,\n 440232,\n 501353,\n 609745,\n 449000,\n 527410,\n 497500,\n 398602,\n 448630,\n 457562,\n 403990,\n 490344,\n 489568,\n 393581,\n 410223,\n 402071,\n 400130,\n 404848,\n 458541,\n 428612,\n 436490,\n 392248,\n 422500,\n 446449,\n 606417,\n 432561,\n 490003,\n 581937,\n 461011,\n 436403,\n 421910,\n 413687,\n 460280,\n 527552,\n 562127,\n 528071,\n 462996,\n 550415,\n 462397,\n 516711,\n 461629,\n 429727,\n 407502,\n 398504,\n 435679,\n 433832,\n 384081,\n 429893,\n 429596,\n 460215,\n 419447,\n 416283,\n 442364,\n 497221,\n 459327,\n 402518,\n 457137,\n 376149,\n 619796,\n 394300,\n 460753,\n 501511,\n 380647,\n 412082,\n 414289,\n 441988,\n 411625,\n 425648,\n 451089,\n 464666,\n 375903,\n 446420,\n 456377,\n 443467,\n 391228,\n 397966,\n 386154,\n 429777,\n 439025,\n 429036,\n 428809,\n 554691,\n 445192,\n 432060,\n 653603,\n 567400,\n 400825,\n 411994,\n 383668,\n 419027,\n 590835,\n 645493,\n 416374,\n 452855,\n 419208,\n 422106,\n 404461,\n 441935,\n 514329,\n 437900,\n 514976,\n 450432,\n 504718,\n 400421,\n 626547,\n 460058,\n 407502,\n 485793,\n 393400,\n 605673,\n 480953,\n 425100,\n 620200,\n 424646,\n 393468,\n 556641,\n 414936,\n 429514,\n 488930,\n 446701,\n 426716,\n 436300,\n 492179,\n 462580,\n 517847,\n 536900,\n 539281,\n 405318,\n 449509,\n 408267,\n 425751,\n ...]"
     },
     "execution_count": 819,
     "metadata": {},
     "output_type": "execute_result"
    }
   ],
   "source": [
    "eastings"
   ],
   "metadata": {
    "collapsed": false,
    "ExecuteTime": {
     "end_time": "2023-11-22T12:32:40.600814Z",
     "start_time": "2023-11-22T12:32:40.579028Z"
    }
   },
   "id": "c8a1a79ebd2ece6e"
  },
  {
   "cell_type": "code",
   "execution_count": 820,
   "outputs": [
    {
     "data": {
      "text/plain": "      postcode  easting  northing          soilType  elevation\n0      M34 7QL   393470    394371  Unsurveyed/Urban        110\n1      OL4 3NQ   395420    405669  Unsurveyed/Urban        210\n2      B36 8TE   411900    289400  Unsurveyed/Urban         90\n3     NE16 3AT   420400    562300  Unsurveyed/Urban         10\n4     WS10 8DE   397726    296656  Unsurveyed/Urban        140\n...        ...      ...       ...               ...        ...\n9995   NN9 7TY   488200    264700         Cambisols         80\n9996   HU6 7YG   508055    434044  Unsurveyed/Urban          0\n9997  LS12 1DY   428431    432867  Unsurveyed/Urban         40\n9998   DN4 6TZ   462498    401208         Arenosols         10\n9999   S31 9BD   441723    378785  Unsurveyed/Urban        120\n\n[10000 rows x 5 columns]",
      "text/html": "<div>\n<style scoped>\n    .dataframe tbody tr th:only-of-type {\n        vertical-align: middle;\n    }\n\n    .dataframe tbody tr th {\n        vertical-align: top;\n    }\n\n    .dataframe thead th {\n        text-align: right;\n    }\n</style>\n<table border=\"1\" class=\"dataframe\">\n  <thead>\n    <tr style=\"text-align: right;\">\n      <th></th>\n      <th>postcode</th>\n      <th>easting</th>\n      <th>northing</th>\n      <th>soilType</th>\n      <th>elevation</th>\n    </tr>\n  </thead>\n  <tbody>\n    <tr>\n      <th>0</th>\n      <td>M34 7QL</td>\n      <td>393470</td>\n      <td>394371</td>\n      <td>Unsurveyed/Urban</td>\n      <td>110</td>\n    </tr>\n    <tr>\n      <th>1</th>\n      <td>OL4 3NQ</td>\n      <td>395420</td>\n      <td>405669</td>\n      <td>Unsurveyed/Urban</td>\n      <td>210</td>\n    </tr>\n    <tr>\n      <th>2</th>\n      <td>B36 8TE</td>\n      <td>411900</td>\n      <td>289400</td>\n      <td>Unsurveyed/Urban</td>\n      <td>90</td>\n    </tr>\n    <tr>\n      <th>3</th>\n      <td>NE16 3AT</td>\n      <td>420400</td>\n      <td>562300</td>\n      <td>Unsurveyed/Urban</td>\n      <td>10</td>\n    </tr>\n    <tr>\n      <th>4</th>\n      <td>WS10 8DE</td>\n      <td>397726</td>\n      <td>296656</td>\n      <td>Unsurveyed/Urban</td>\n      <td>140</td>\n    </tr>\n    <tr>\n      <th>...</th>\n      <td>...</td>\n      <td>...</td>\n      <td>...</td>\n      <td>...</td>\n      <td>...</td>\n    </tr>\n    <tr>\n      <th>9995</th>\n      <td>NN9 7TY</td>\n      <td>488200</td>\n      <td>264700</td>\n      <td>Cambisols</td>\n      <td>80</td>\n    </tr>\n    <tr>\n      <th>9996</th>\n      <td>HU6 7YG</td>\n      <td>508055</td>\n      <td>434044</td>\n      <td>Unsurveyed/Urban</td>\n      <td>0</td>\n    </tr>\n    <tr>\n      <th>9997</th>\n      <td>LS12 1DY</td>\n      <td>428431</td>\n      <td>432867</td>\n      <td>Unsurveyed/Urban</td>\n      <td>40</td>\n    </tr>\n    <tr>\n      <th>9998</th>\n      <td>DN4 6TZ</td>\n      <td>462498</td>\n      <td>401208</td>\n      <td>Arenosols</td>\n      <td>10</td>\n    </tr>\n    <tr>\n      <th>9999</th>\n      <td>S31 9BD</td>\n      <td>441723</td>\n      <td>378785</td>\n      <td>Unsurveyed/Urban</td>\n      <td>120</td>\n    </tr>\n  </tbody>\n</table>\n<p>10000 rows × 5 columns</p>\n</div>"
     },
     "execution_count": 820,
     "metadata": {},
     "output_type": "execute_result"
    }
   ],
   "source": [
    "X_os"
   ],
   "metadata": {
    "collapsed": false,
    "ExecuteTime": {
     "end_time": "2023-11-22T12:32:40.746959Z",
     "start_time": "2023-11-22T12:32:40.726381Z"
    }
   },
   "id": "d81287d3e1965ecf"
  },
  {
   "cell_type": "code",
   "execution_count": 844,
   "outputs": [
    {
     "data": {
      "text/plain": "      easting_original  northing_original  postcode  easting  northing  \\\n0               393470             394371   M34 7QL   393470    394371   \n1               395420             405669   OL4 3NQ   395420    405669   \n2               411900             289400   B36 8TE   411900    289400   \n3               420400             562300  NE16 3AT   420400    562300   \n4               397726             296656  WS10 8DE   397726    296656   \n...                ...                ...       ...      ...       ...   \n9995            488200             264700   NN9 7TY   488200    264700   \n9996            508055             434044   HU6 7YG   508055    434044   \n9997            428431             432867  LS12 1DY   428431    432867   \n9998            462498             401208   DN4 6TZ   462498    401208   \n9999            441723             378785   S31 9BD   441723    378785   \n\n              soilType  elevation   latitude  longitude  \n0     Unsurveyed/Urban        110  53.446063  -2.099783  \n1     Unsurveyed/Urban        210  53.547635  -2.070593  \n2     Unsurveyed/Urban         90  52.502371  -1.826124  \n3     Unsurveyed/Urban         10  54.954930  -1.682991  \n4     Unsurveyed/Urban        140  52.567724  -2.034982  \n...                ...        ...        ...        ...  \n9995         Cambisols         80  52.273387  -0.708775  \n9996  Unsurveyed/Urban          0  53.791500  -0.361201  \n9997  Unsurveyed/Urban         40  53.791345  -1.569915  \n9998         Arenosols         10  53.503859  -1.059207  \n9999  Unsurveyed/Urban        120  53.304375  -1.375357  \n\n[10000 rows x 9 columns]",
      "text/html": "<div>\n<style scoped>\n    .dataframe tbody tr th:only-of-type {\n        vertical-align: middle;\n    }\n\n    .dataframe tbody tr th {\n        vertical-align: top;\n    }\n\n    .dataframe thead th {\n        text-align: right;\n    }\n</style>\n<table border=\"1\" class=\"dataframe\">\n  <thead>\n    <tr style=\"text-align: right;\">\n      <th></th>\n      <th>easting_original</th>\n      <th>northing_original</th>\n      <th>postcode</th>\n      <th>easting</th>\n      <th>northing</th>\n      <th>soilType</th>\n      <th>elevation</th>\n      <th>latitude</th>\n      <th>longitude</th>\n    </tr>\n  </thead>\n  <tbody>\n    <tr>\n      <th>0</th>\n      <td>393470</td>\n      <td>394371</td>\n      <td>M34 7QL</td>\n      <td>393470</td>\n      <td>394371</td>\n      <td>Unsurveyed/Urban</td>\n      <td>110</td>\n      <td>53.446063</td>\n      <td>-2.099783</td>\n    </tr>\n    <tr>\n      <th>1</th>\n      <td>395420</td>\n      <td>405669</td>\n      <td>OL4 3NQ</td>\n      <td>395420</td>\n      <td>405669</td>\n      <td>Unsurveyed/Urban</td>\n      <td>210</td>\n      <td>53.547635</td>\n      <td>-2.070593</td>\n    </tr>\n    <tr>\n      <th>2</th>\n      <td>411900</td>\n      <td>289400</td>\n      <td>B36 8TE</td>\n      <td>411900</td>\n      <td>289400</td>\n      <td>Unsurveyed/Urban</td>\n      <td>90</td>\n      <td>52.502371</td>\n      <td>-1.826124</td>\n    </tr>\n    <tr>\n      <th>3</th>\n      <td>420400</td>\n      <td>562300</td>\n      <td>NE16 3AT</td>\n      <td>420400</td>\n      <td>562300</td>\n      <td>Unsurveyed/Urban</td>\n      <td>10</td>\n      <td>54.954930</td>\n      <td>-1.682991</td>\n    </tr>\n    <tr>\n      <th>4</th>\n      <td>397726</td>\n      <td>296656</td>\n      <td>WS10 8DE</td>\n      <td>397726</td>\n      <td>296656</td>\n      <td>Unsurveyed/Urban</td>\n      <td>140</td>\n      <td>52.567724</td>\n      <td>-2.034982</td>\n    </tr>\n    <tr>\n      <th>...</th>\n      <td>...</td>\n      <td>...</td>\n      <td>...</td>\n      <td>...</td>\n      <td>...</td>\n      <td>...</td>\n      <td>...</td>\n      <td>...</td>\n      <td>...</td>\n    </tr>\n    <tr>\n      <th>9995</th>\n      <td>488200</td>\n      <td>264700</td>\n      <td>NN9 7TY</td>\n      <td>488200</td>\n      <td>264700</td>\n      <td>Cambisols</td>\n      <td>80</td>\n      <td>52.273387</td>\n      <td>-0.708775</td>\n    </tr>\n    <tr>\n      <th>9996</th>\n      <td>508055</td>\n      <td>434044</td>\n      <td>HU6 7YG</td>\n      <td>508055</td>\n      <td>434044</td>\n      <td>Unsurveyed/Urban</td>\n      <td>0</td>\n      <td>53.791500</td>\n      <td>-0.361201</td>\n    </tr>\n    <tr>\n      <th>9997</th>\n      <td>428431</td>\n      <td>432867</td>\n      <td>LS12 1DY</td>\n      <td>428431</td>\n      <td>432867</td>\n      <td>Unsurveyed/Urban</td>\n      <td>40</td>\n      <td>53.791345</td>\n      <td>-1.569915</td>\n    </tr>\n    <tr>\n      <th>9998</th>\n      <td>462498</td>\n      <td>401208</td>\n      <td>DN4 6TZ</td>\n      <td>462498</td>\n      <td>401208</td>\n      <td>Arenosols</td>\n      <td>10</td>\n      <td>53.503859</td>\n      <td>-1.059207</td>\n    </tr>\n    <tr>\n      <th>9999</th>\n      <td>441723</td>\n      <td>378785</td>\n      <td>S31 9BD</td>\n      <td>441723</td>\n      <td>378785</td>\n      <td>Unsurveyed/Urban</td>\n      <td>120</td>\n      <td>53.304375</td>\n      <td>-1.375357</td>\n    </tr>\n  </tbody>\n</table>\n<p>10000 rows × 9 columns</p>\n</div>"
     },
     "execution_count": 844,
     "metadata": {},
     "output_type": "execute_result"
    }
   ],
   "source": [
    "data_processor.process_os(eastings=eastings, northings=northings)"
   ],
   "metadata": {
    "collapsed": false,
    "ExecuteTime": {
     "end_time": "2023-11-22T13:39:59.848928Z",
     "start_time": "2023-11-22T13:39:58.859492Z"
    }
   },
   "id": "d7db60b7a3214792"
  },
  {
   "cell_type": "code",
   "execution_count": 822,
   "outputs": [
    {
     "name": "stderr",
     "output_type": "stream",
     "text": [
      "2023-11-22 12:32:42,697 [flood_tool.models.predictor] INFO: Model successfully fit.\n"
     ]
    }
   ],
   "source": [
    "res_os = tool.predict_flood_class_from_OSGB36_location(eastings=eastings, northings=northings, method='xgb_regressor')"
   ],
   "metadata": {
    "collapsed": false,
    "ExecuteTime": {
     "end_time": "2023-11-22T12:32:42.734784Z",
     "start_time": "2023-11-22T12:32:41.241304Z"
    }
   },
   "id": "89b2a9fa5564f720"
  },
  {
   "cell_type": "code",
   "execution_count": 824,
   "outputs": [
    {
     "data": {
      "text/plain": "easting  northing\n393470   394371      1.0\n395420   405669      1.0\n411900   289400      1.0\n420400   562300      1.0\n397726   296656      1.0\n                    ... \n488200   264700      1.0\n508055   434044      6.0\n428431   432867      1.0\n462498   401208      1.0\n441723   378785      1.0\nName: predictions, Length: 10000, dtype: float32"
     },
     "execution_count": 824,
     "metadata": {},
     "output_type": "execute_result"
    }
   ],
   "source": [
    "res_os"
   ],
   "metadata": {
    "collapsed": false,
    "ExecuteTime": {
     "end_time": "2023-11-22T12:33:40.682963Z",
     "start_time": "2023-11-22T12:33:40.646089Z"
    }
   },
   "id": "d522955c3ba9845a"
  },
  {
   "cell_type": "code",
   "execution_count": 823,
   "outputs": [
    {
     "data": {
      "text/plain": "predictions\n1.0     8886\n2.0      306\n3.0      252\n6.0      141\n4.0      133\n5.0      116\n8.0       78\n7.0       65\n9.0       13\n10.0      10\nName: count, dtype: int64"
     },
     "execution_count": 823,
     "metadata": {},
     "output_type": "execute_result"
    }
   ],
   "source": [
    "res_os.value_counts()"
   ],
   "metadata": {
    "collapsed": false,
    "ExecuteTime": {
     "end_time": "2023-11-22T12:32:42.735888Z",
     "start_time": "2023-11-22T12:32:42.721070Z"
    }
   },
   "id": "97309fd4f273d1b8"
  },
  {
   "cell_type": "code",
   "execution_count": 823,
   "outputs": [],
   "source": [],
   "metadata": {
    "collapsed": false,
    "ExecuteTime": {
     "end_time": "2023-11-22T12:32:42.745915Z",
     "start_time": "2023-11-22T12:32:42.734358Z"
    }
   },
   "id": "3036625e55afe747"
  },
  {
   "cell_type": "code",
   "execution_count": 864,
   "outputs": [],
   "source": [
    "EASTINGS = [393470, 394371]\n",
    "NORTHINGS = [395420, 405669]"
   ],
   "metadata": {
    "collapsed": false,
    "ExecuteTime": {
     "end_time": "2023-11-22T14:10:54.755206Z",
     "start_time": "2023-11-22T14:10:53.157690Z"
    }
   },
   "id": "c2c16efa8f95c52d"
  },
  {
   "cell_type": "code",
   "execution_count": 869,
   "outputs": [
    {
     "name": "stderr",
     "output_type": "stream",
     "text": [
      "2023-11-22 14:13:54,774 [flood_tool.models.predictor] INFO: Model successfully fit.\n"
     ]
    }
   ],
   "source": [
    "res_os = tool.predict_flood_class_from_OSGB36_location(eastings=EASTINGS, northings=NORTHINGS, method='xgb_regressor')"
   ],
   "metadata": {
    "collapsed": false,
    "ExecuteTime": {
     "end_time": "2023-11-22T14:13:54.787813Z",
     "start_time": "2023-11-22T14:13:54.000531Z"
    }
   },
   "id": "72ad3c5a46ca3a4c"
  },
  {
   "cell_type": "code",
   "execution_count": 872,
   "outputs": [
    {
     "data": {
      "text/plain": "easting  northing\n393470   395420      1.0\n394371   405669      1.0\nName: predictions, dtype: float32"
     },
     "execution_count": 872,
     "metadata": {},
     "output_type": "execute_result"
    }
   ],
   "source": [
    "res_os"
   ],
   "metadata": {
    "collapsed": false,
    "ExecuteTime": {
     "end_time": "2023-11-22T14:14:01.096520Z",
     "start_time": "2023-11-22T14:14:01.053970Z"
    }
   },
   "id": "ac203f1ffbcd4e91"
  },
  {
   "cell_type": "code",
   "execution_count": 870,
   "outputs": [],
   "source": [
    "data = res_os"
   ],
   "metadata": {
    "collapsed": false,
    "ExecuteTime": {
     "end_time": "2023-11-22T14:13:55.410235Z",
     "start_time": "2023-11-22T14:13:55.360241Z"
    }
   },
   "id": "628f78ea81d2708e"
  },
  {
   "cell_type": "code",
   "execution_count": 871,
   "outputs": [],
   "source": [
    "import numbers\n",
    "\n",
    "assert issubclass(type(data), pd.Series)\n",
    "for east, north in zip(EASTINGS, NORTHINGS):\n",
    "    assert (east, north) in data.index\n",
    "assert all([isinstance(val, numbers.Number) for val in data.values])"
   ],
   "metadata": {
    "collapsed": false,
    "ExecuteTime": {
     "end_time": "2023-11-22T14:13:55.637557Z",
     "start_time": "2023-11-22T14:13:55.612313Z"
    }
   },
   "id": "e0005774f9e51127"
  },
  {
   "cell_type": "markdown",
   "source": [],
   "metadata": {
    "collapsed": false
   },
   "id": "6ebb315ecd4c2313"
  },
  {
   "cell_type": "code",
   "execution_count": 859,
   "outputs": [
    {
     "data": {
      "text/plain": "        x       y postcode  easting  northing          soilType  elevation  \\\n0  393470  395420  M34 3EA   393118    395466  Unsurveyed/Urban        100   \n1  394371  405669  OL4 2AN   394103    405419  Unsurveyed/Urban        200   \n\n    latitude  longitude  \n0  53.455901  -2.105107  \n1  53.545374  -2.090464  ",
      "text/html": "<div>\n<style scoped>\n    .dataframe tbody tr th:only-of-type {\n        vertical-align: middle;\n    }\n\n    .dataframe tbody tr th {\n        vertical-align: top;\n    }\n\n    .dataframe thead th {\n        text-align: right;\n    }\n</style>\n<table border=\"1\" class=\"dataframe\">\n  <thead>\n    <tr style=\"text-align: right;\">\n      <th></th>\n      <th>x</th>\n      <th>y</th>\n      <th>postcode</th>\n      <th>easting</th>\n      <th>northing</th>\n      <th>soilType</th>\n      <th>elevation</th>\n      <th>latitude</th>\n      <th>longitude</th>\n    </tr>\n  </thead>\n  <tbody>\n    <tr>\n      <th>0</th>\n      <td>393470</td>\n      <td>395420</td>\n      <td>M34 3EA</td>\n      <td>393118</td>\n      <td>395466</td>\n      <td>Unsurveyed/Urban</td>\n      <td>100</td>\n      <td>53.455901</td>\n      <td>-2.105107</td>\n    </tr>\n    <tr>\n      <th>1</th>\n      <td>394371</td>\n      <td>405669</td>\n      <td>OL4 2AN</td>\n      <td>394103</td>\n      <td>405419</td>\n      <td>Unsurveyed/Urban</td>\n      <td>200</td>\n      <td>53.545374</td>\n      <td>-2.090464</td>\n    </tr>\n  </tbody>\n</table>\n</div>"
     },
     "execution_count": 859,
     "metadata": {},
     "output_type": "execute_result"
    }
   ],
   "source": [
    "data_processor.process_os(eastings=EASTINGS, northings=NORTHINGS)"
   ],
   "metadata": {
    "collapsed": false,
    "ExecuteTime": {
     "end_time": "2023-11-22T14:08:26.873077Z",
     "start_time": "2023-11-22T14:08:26.813724Z"
    }
   },
   "id": "2e5d4c1a75219e85"
  },
  {
   "cell_type": "code",
   "execution_count": 851,
   "outputs": [
    {
     "name": "stderr",
     "output_type": "stream",
     "text": [
      "2023-11-22 14:06:07,923 [flood_tool.tool] INFO: Index(['x', 'y', 'postcode', 'easting', 'northing', 'soilType', 'elevation',\n",
      "       'latitude', 'longitude'],\n",
      "      dtype='object')\n",
      "2023-11-22 14:06:08,432 [flood_tool.models.predictor] INFO: Model successfully fit.\n"
     ]
    },
    {
     "data": {
      "text/plain": "easting  northing\n393470   394371      1.0\n395420   405669      1.0\n411900   289400      1.0\n420400   562300      1.0\n397726   296656      1.0\n                    ... \n488200   264700      1.0\n508055   434044      6.0\n428431   432867      1.0\n462498   401208      1.0\n441723   378785      1.0\nName: predictions, Length: 10000, dtype: float32"
     },
     "execution_count": 851,
     "metadata": {},
     "output_type": "execute_result"
    }
   ],
   "source": [
    "tool.predict_flood_class_from_OSGB36_location(eastings=eastings, northings=northings, method='xgb_regressor')"
   ],
   "metadata": {
    "collapsed": false,
    "ExecuteTime": {
     "end_time": "2023-11-22T14:06:08.468473Z",
     "start_time": "2023-11-22T14:06:04.709123Z"
    }
   },
   "id": "23fd6ec2eb15ed57"
  },
  {
   "cell_type": "code",
   "execution_count": 880,
   "outputs": [],
   "source": [
    "# 2281790\n",
    "\n",
    "baseline = np.ones_like(y_test)\n"
   ],
   "metadata": {
    "collapsed": false,
    "ExecuteTime": {
     "end_time": "2023-11-22T14:50:25.965096Z",
     "start_time": "2023-11-22T14:50:25.907543Z"
    }
   },
   "id": "93e89f5b18df0d2c"
  },
  {
   "cell_type": "code",
   "execution_count": 882,
   "outputs": [
    {
     "data": {
      "text/plain": "array([ 1,  2,  3,  4,  5,  6,  7,  8,  9, 10])"
     },
     "execution_count": 882,
     "metadata": {},
     "output_type": "execute_result"
    }
   ],
   "source": [
    "np.unique(y_test)"
   ],
   "metadata": {
    "collapsed": false,
    "ExecuteTime": {
     "end_time": "2023-11-22T14:50:43.043096Z",
     "start_time": "2023-11-22T14:50:43.004495Z"
    }
   },
   "id": "66eafec99a394d2d"
  },
  {
   "cell_type": "code",
   "execution_count": 892,
   "outputs": [
    {
     "data": {
      "text/plain": "455290"
     },
     "execution_count": 892,
     "metadata": {},
     "output_type": "execute_result"
    }
   ],
   "source": [
    "score_fn(y_test-1, baseline-1)"
   ],
   "metadata": {
    "collapsed": false,
    "ExecuteTime": {
     "end_time": "2023-11-22T14:52:46.987396Z",
     "start_time": "2023-11-22T14:52:46.926475Z"
    }
   },
   "id": "4b853fa50c0dbd38"
  },
  {
   "cell_type": "code",
   "execution_count": 884,
   "outputs": [
    {
     "data": {
      "text/plain": "array([1., 1., 1., ..., 1., 2., 1.], dtype=float32)"
     },
     "execution_count": 884,
     "metadata": {},
     "output_type": "execute_result"
    }
   ],
   "source": [
    "y_preds"
   ],
   "metadata": {
    "collapsed": false,
    "ExecuteTime": {
     "end_time": "2023-11-22T14:51:13.989161Z",
     "start_time": "2023-11-22T14:51:13.927338Z"
    }
   },
   "id": "211574dbfc5f744c"
  },
  {
   "cell_type": "code",
   "execution_count": 890,
   "outputs": [],
   "source": [
    "score = sum(\n",
    "    [SCORES[_p - 1, _t - 1] for _p, _t in zip(baseline, y_test)]\n",
    ")"
   ],
   "metadata": {
    "collapsed": false,
    "ExecuteTime": {
     "end_time": "2023-11-22T14:52:34.089916Z",
     "start_time": "2023-11-22T14:52:34.047793Z"
    }
   },
   "id": "7e94d5e25edd7b9f"
  },
  {
   "cell_type": "code",
   "execution_count": 891,
   "outputs": [
    {
     "data": {
      "text/plain": "455290"
     },
     "execution_count": 891,
     "metadata": {},
     "output_type": "execute_result"
    }
   ],
   "source": [
    "score"
   ],
   "metadata": {
    "collapsed": false,
    "ExecuteTime": {
     "end_time": "2023-11-22T14:52:34.753Z",
     "start_time": "2023-11-22T14:52:34.733728Z"
    }
   },
   "id": "aebdc066f7fc7d4c"
  },
  {
   "cell_type": "code",
   "execution_count": 894,
   "outputs": [
    {
     "data": {
      "text/plain": "array([1., 1., 1., ..., 1., 2., 1.], dtype=float32)"
     },
     "execution_count": 894,
     "metadata": {},
     "output_type": "execute_result"
    }
   ],
   "source": [],
   "metadata": {
    "collapsed": false,
    "ExecuteTime": {
     "end_time": "2023-11-22T14:53:16.505210Z",
     "start_time": "2023-11-22T14:53:16.449530Z"
    }
   },
   "id": "85711af76823a382"
  },
  {
   "cell_type": "code",
   "execution_count": 895,
   "outputs": [],
   "source": [
    "score2 = sum(\n",
    "    [SCORES[_p - 1, _t - 1] for _p, _t in zip(y_preds.astype(int), y_test)]\n",
    ")"
   ],
   "metadata": {
    "collapsed": false,
    "ExecuteTime": {
     "end_time": "2023-11-22T14:53:24.505605Z",
     "start_time": "2023-11-22T14:53:24.473570Z"
    }
   },
   "id": "c1773956a37bfebe"
  },
  {
   "cell_type": "code",
   "execution_count": 896,
   "outputs": [
    {
     "data": {
      "text/plain": "570040"
     },
     "execution_count": 896,
     "metadata": {},
     "output_type": "execute_result"
    }
   ],
   "source": [
    "score2"
   ],
   "metadata": {
    "collapsed": false,
    "ExecuteTime": {
     "end_time": "2023-11-22T14:53:27.657842Z",
     "start_time": "2023-11-22T14:53:27.555679Z"
    }
   },
   "id": "469213ed6a19aec4"
  },
  {
   "cell_type": "code",
   "execution_count": 897,
   "outputs": [
    {
     "data": {
      "text/plain": "Pipeline(steps=[('preprocessor',\n                 ColumnTransformer(transformers=[('num',\n                                                  Pipeline(steps=[('impute',\n                                                                   SimpleImputer(strategy='most_frequent')),\n                                                                  ('scaler',\n                                                                   StandardScaler())]),\n                                                  Index(['easting', 'northing', 'elevation'], dtype='object')),\n                                                 ('cat',\n                                                  Pipeline(steps=[('imputer',\n                                                                   SimpleImputer(strategy='most_frequent')),\n                                                                  ('ohe',\n                                                                   OneHotEncoder(handle_unknown='ignore',\n                                                                                 spar...\n                              feature_types=None, gamma=None, grow_policy=None,\n                              importance_type=None,\n                              interaction_constraints=None, learning_rate=None,\n                              max_bin=None, max_cat_threshold=None,\n                              max_cat_to_onehot=None, max_delta_step=None,\n                              max_depth=None, max_leaves=None,\n                              min_child_weight=None, missing=nan,\n                              monotone_constraints=None, multi_strategy=None,\n                              n_estimators=None, n_jobs=None,\n                              num_parallel_tree=None, random_state=42, ...))])",
      "text/html": "<style>#sk-container-id-32 {color: black;}#sk-container-id-32 pre{padding: 0;}#sk-container-id-32 div.sk-toggleable {background-color: white;}#sk-container-id-32 label.sk-toggleable__label {cursor: pointer;display: block;width: 100%;margin-bottom: 0;padding: 0.3em;box-sizing: border-box;text-align: center;}#sk-container-id-32 label.sk-toggleable__label-arrow:before {content: \"▸\";float: left;margin-right: 0.25em;color: #696969;}#sk-container-id-32 label.sk-toggleable__label-arrow:hover:before {color: black;}#sk-container-id-32 div.sk-estimator:hover label.sk-toggleable__label-arrow:before {color: black;}#sk-container-id-32 div.sk-toggleable__content {max-height: 0;max-width: 0;overflow: hidden;text-align: left;background-color: #f0f8ff;}#sk-container-id-32 div.sk-toggleable__content pre {margin: 0.2em;color: black;border-radius: 0.25em;background-color: #f0f8ff;}#sk-container-id-32 input.sk-toggleable__control:checked~div.sk-toggleable__content {max-height: 200px;max-width: 100%;overflow: auto;}#sk-container-id-32 input.sk-toggleable__control:checked~label.sk-toggleable__label-arrow:before {content: \"▾\";}#sk-container-id-32 div.sk-estimator input.sk-toggleable__control:checked~label.sk-toggleable__label {background-color: #d4ebff;}#sk-container-id-32 div.sk-label input.sk-toggleable__control:checked~label.sk-toggleable__label {background-color: #d4ebff;}#sk-container-id-32 input.sk-hidden--visually {border: 0;clip: rect(1px 1px 1px 1px);clip: rect(1px, 1px, 1px, 1px);height: 1px;margin: -1px;overflow: hidden;padding: 0;position: absolute;width: 1px;}#sk-container-id-32 div.sk-estimator {font-family: monospace;background-color: #f0f8ff;border: 1px dotted black;border-radius: 0.25em;box-sizing: border-box;margin-bottom: 0.5em;}#sk-container-id-32 div.sk-estimator:hover {background-color: #d4ebff;}#sk-container-id-32 div.sk-parallel-item::after {content: \"\";width: 100%;border-bottom: 1px solid gray;flex-grow: 1;}#sk-container-id-32 div.sk-label:hover label.sk-toggleable__label {background-color: #d4ebff;}#sk-container-id-32 div.sk-serial::before {content: \"\";position: absolute;border-left: 1px solid gray;box-sizing: border-box;top: 0;bottom: 0;left: 50%;z-index: 0;}#sk-container-id-32 div.sk-serial {display: flex;flex-direction: column;align-items: center;background-color: white;padding-right: 0.2em;padding-left: 0.2em;position: relative;}#sk-container-id-32 div.sk-item {position: relative;z-index: 1;}#sk-container-id-32 div.sk-parallel {display: flex;align-items: stretch;justify-content: center;background-color: white;position: relative;}#sk-container-id-32 div.sk-item::before, #sk-container-id-32 div.sk-parallel-item::before {content: \"\";position: absolute;border-left: 1px solid gray;box-sizing: border-box;top: 0;bottom: 0;left: 50%;z-index: -1;}#sk-container-id-32 div.sk-parallel-item {display: flex;flex-direction: column;z-index: 1;position: relative;background-color: white;}#sk-container-id-32 div.sk-parallel-item:first-child::after {align-self: flex-end;width: 50%;}#sk-container-id-32 div.sk-parallel-item:last-child::after {align-self: flex-start;width: 50%;}#sk-container-id-32 div.sk-parallel-item:only-child::after {width: 0;}#sk-container-id-32 div.sk-dashed-wrapped {border: 1px dashed gray;margin: 0 0.4em 0.5em 0.4em;box-sizing: border-box;padding-bottom: 0.4em;background-color: white;}#sk-container-id-32 div.sk-label label {font-family: monospace;font-weight: bold;display: inline-block;line-height: 1.2em;}#sk-container-id-32 div.sk-label-container {text-align: center;}#sk-container-id-32 div.sk-container {/* jupyter's `normalize.less` sets `[hidden] { display: none; }` but bootstrap.min.css set `[hidden] { display: none !important; }` so we also need the `!important` here to be able to override the default hidden behavior on the sphinx rendered scikit-learn.org. See: https://github.com/scikit-learn/scikit-learn/issues/21755 */display: inline-block !important;position: relative;}#sk-container-id-32 div.sk-text-repr-fallback {display: none;}</style><div id=\"sk-container-id-32\" class=\"sk-top-container\"><div class=\"sk-text-repr-fallback\"><pre>Pipeline(steps=[(&#x27;preprocessor&#x27;,\n                 ColumnTransformer(transformers=[(&#x27;num&#x27;,\n                                                  Pipeline(steps=[(&#x27;impute&#x27;,\n                                                                   SimpleImputer(strategy=&#x27;most_frequent&#x27;)),\n                                                                  (&#x27;scaler&#x27;,\n                                                                   StandardScaler())]),\n                                                  Index([&#x27;easting&#x27;, &#x27;northing&#x27;, &#x27;elevation&#x27;], dtype=&#x27;object&#x27;)),\n                                                 (&#x27;cat&#x27;,\n                                                  Pipeline(steps=[(&#x27;imputer&#x27;,\n                                                                   SimpleImputer(strategy=&#x27;most_frequent&#x27;)),\n                                                                  (&#x27;ohe&#x27;,\n                                                                   OneHotEncoder(handle_unknown=&#x27;ignore&#x27;,\n                                                                                 spar...\n                              feature_types=None, gamma=None, grow_policy=None,\n                              importance_type=None,\n                              interaction_constraints=None, learning_rate=None,\n                              max_bin=None, max_cat_threshold=None,\n                              max_cat_to_onehot=None, max_delta_step=None,\n                              max_depth=None, max_leaves=None,\n                              min_child_weight=None, missing=nan,\n                              monotone_constraints=None, multi_strategy=None,\n                              n_estimators=None, n_jobs=None,\n                              num_parallel_tree=None, random_state=42, ...))])</pre><b>In a Jupyter environment, please rerun this cell to show the HTML representation or trust the notebook. <br />On GitHub, the HTML representation is unable to render, please try loading this page with nbviewer.org.</b></div><div class=\"sk-container\" hidden><div class=\"sk-item sk-dashed-wrapped\"><div class=\"sk-label-container\"><div class=\"sk-label sk-toggleable\"><input class=\"sk-toggleable__control sk-hidden--visually\" id=\"sk-estimator-id-274\" type=\"checkbox\" ><label for=\"sk-estimator-id-274\" class=\"sk-toggleable__label sk-toggleable__label-arrow\">Pipeline</label><div class=\"sk-toggleable__content\"><pre>Pipeline(steps=[(&#x27;preprocessor&#x27;,\n                 ColumnTransformer(transformers=[(&#x27;num&#x27;,\n                                                  Pipeline(steps=[(&#x27;impute&#x27;,\n                                                                   SimpleImputer(strategy=&#x27;most_frequent&#x27;)),\n                                                                  (&#x27;scaler&#x27;,\n                                                                   StandardScaler())]),\n                                                  Index([&#x27;easting&#x27;, &#x27;northing&#x27;, &#x27;elevation&#x27;], dtype=&#x27;object&#x27;)),\n                                                 (&#x27;cat&#x27;,\n                                                  Pipeline(steps=[(&#x27;imputer&#x27;,\n                                                                   SimpleImputer(strategy=&#x27;most_frequent&#x27;)),\n                                                                  (&#x27;ohe&#x27;,\n                                                                   OneHotEncoder(handle_unknown=&#x27;ignore&#x27;,\n                                                                                 spar...\n                              feature_types=None, gamma=None, grow_policy=None,\n                              importance_type=None,\n                              interaction_constraints=None, learning_rate=None,\n                              max_bin=None, max_cat_threshold=None,\n                              max_cat_to_onehot=None, max_delta_step=None,\n                              max_depth=None, max_leaves=None,\n                              min_child_weight=None, missing=nan,\n                              monotone_constraints=None, multi_strategy=None,\n                              n_estimators=None, n_jobs=None,\n                              num_parallel_tree=None, random_state=42, ...))])</pre></div></div></div><div class=\"sk-serial\"><div class=\"sk-item sk-dashed-wrapped\"><div class=\"sk-label-container\"><div class=\"sk-label sk-toggleable\"><input class=\"sk-toggleable__control sk-hidden--visually\" id=\"sk-estimator-id-275\" type=\"checkbox\" ><label for=\"sk-estimator-id-275\" class=\"sk-toggleable__label sk-toggleable__label-arrow\">preprocessor: ColumnTransformer</label><div class=\"sk-toggleable__content\"><pre>ColumnTransformer(transformers=[(&#x27;num&#x27;,\n                                 Pipeline(steps=[(&#x27;impute&#x27;,\n                                                  SimpleImputer(strategy=&#x27;most_frequent&#x27;)),\n                                                 (&#x27;scaler&#x27;, StandardScaler())]),\n                                 Index([&#x27;easting&#x27;, &#x27;northing&#x27;, &#x27;elevation&#x27;], dtype=&#x27;object&#x27;)),\n                                (&#x27;cat&#x27;,\n                                 Pipeline(steps=[(&#x27;imputer&#x27;,\n                                                  SimpleImputer(strategy=&#x27;most_frequent&#x27;)),\n                                                 (&#x27;ohe&#x27;,\n                                                  OneHotEncoder(handle_unknown=&#x27;ignore&#x27;,\n                                                                sparse_output=False))]),\n                                 [&#x27;soilType&#x27;])])</pre></div></div></div><div class=\"sk-parallel\"><div class=\"sk-parallel-item\"><div class=\"sk-item\"><div class=\"sk-label-container\"><div class=\"sk-label sk-toggleable\"><input class=\"sk-toggleable__control sk-hidden--visually\" id=\"sk-estimator-id-276\" type=\"checkbox\" ><label for=\"sk-estimator-id-276\" class=\"sk-toggleable__label sk-toggleable__label-arrow\">num</label><div class=\"sk-toggleable__content\"><pre>Index([&#x27;easting&#x27;, &#x27;northing&#x27;, &#x27;elevation&#x27;], dtype=&#x27;object&#x27;)</pre></div></div></div><div class=\"sk-serial\"><div class=\"sk-item\"><div class=\"sk-serial\"><div class=\"sk-item\"><div class=\"sk-estimator sk-toggleable\"><input class=\"sk-toggleable__control sk-hidden--visually\" id=\"sk-estimator-id-277\" type=\"checkbox\" ><label for=\"sk-estimator-id-277\" class=\"sk-toggleable__label sk-toggleable__label-arrow\">SimpleImputer</label><div class=\"sk-toggleable__content\"><pre>SimpleImputer(strategy=&#x27;most_frequent&#x27;)</pre></div></div></div><div class=\"sk-item\"><div class=\"sk-estimator sk-toggleable\"><input class=\"sk-toggleable__control sk-hidden--visually\" id=\"sk-estimator-id-278\" type=\"checkbox\" ><label for=\"sk-estimator-id-278\" class=\"sk-toggleable__label sk-toggleable__label-arrow\">StandardScaler</label><div class=\"sk-toggleable__content\"><pre>StandardScaler()</pre></div></div></div></div></div></div></div></div><div class=\"sk-parallel-item\"><div class=\"sk-item\"><div class=\"sk-label-container\"><div class=\"sk-label sk-toggleable\"><input class=\"sk-toggleable__control sk-hidden--visually\" id=\"sk-estimator-id-279\" type=\"checkbox\" ><label for=\"sk-estimator-id-279\" class=\"sk-toggleable__label sk-toggleable__label-arrow\">cat</label><div class=\"sk-toggleable__content\"><pre>[&#x27;soilType&#x27;]</pre></div></div></div><div class=\"sk-serial\"><div class=\"sk-item\"><div class=\"sk-serial\"><div class=\"sk-item\"><div class=\"sk-estimator sk-toggleable\"><input class=\"sk-toggleable__control sk-hidden--visually\" id=\"sk-estimator-id-280\" type=\"checkbox\" ><label for=\"sk-estimator-id-280\" class=\"sk-toggleable__label sk-toggleable__label-arrow\">SimpleImputer</label><div class=\"sk-toggleable__content\"><pre>SimpleImputer(strategy=&#x27;most_frequent&#x27;)</pre></div></div></div><div class=\"sk-item\"><div class=\"sk-estimator sk-toggleable\"><input class=\"sk-toggleable__control sk-hidden--visually\" id=\"sk-estimator-id-281\" type=\"checkbox\" ><label for=\"sk-estimator-id-281\" class=\"sk-toggleable__label sk-toggleable__label-arrow\">OneHotEncoder</label><div class=\"sk-toggleable__content\"><pre>OneHotEncoder(handle_unknown=&#x27;ignore&#x27;, sparse_output=False)</pre></div></div></div></div></div></div></div></div></div></div><div class=\"sk-item\"><div class=\"sk-estimator sk-toggleable\"><input class=\"sk-toggleable__control sk-hidden--visually\" id=\"sk-estimator-id-282\" type=\"checkbox\" ><label for=\"sk-estimator-id-282\" class=\"sk-toggleable__label sk-toggleable__label-arrow\">XGBRegressor</label><div class=\"sk-toggleable__content\"><pre>XGBRegressor(base_score=None, booster=None, callbacks=None,\n             colsample_bylevel=None, colsample_bynode=None,\n             colsample_bytree=None, device=None, early_stopping_rounds=None,\n             enable_categorical=False, eval_metric=None, feature_types=None,\n             gamma=None, grow_policy=None, importance_type=None,\n             interaction_constraints=None, learning_rate=None, max_bin=None,\n             max_cat_threshold=None, max_cat_to_onehot=None,\n             max_delta_step=None, max_depth=None, max_leaves=None,\n             min_child_weight=None, missing=nan, monotone_constraints=None,\n             multi_strategy=None, n_estimators=None, n_jobs=None,\n             num_parallel_tree=None, random_state=42, ...)</pre></div></div></div></div></div></div></div>"
     },
     "execution_count": 897,
     "metadata": {},
     "output_type": "execute_result"
    }
   ],
   "source": [
    "model_pipe"
   ],
   "metadata": {
    "collapsed": false,
    "ExecuteTime": {
     "end_time": "2023-11-22T14:55:04.061218Z",
     "start_time": "2023-11-22T14:55:03.967744Z"
    }
   },
   "id": "5698f09ac54f611e"
  },
  {
   "cell_type": "code",
   "execution_count": 898,
   "outputs": [
    {
     "data": {
      "text/plain": "      postcode          soilType  elevation   latitude  longitude\n0      M34 7QL  Unsurveyed/Urban        110  53.446063  -2.099783\n1      OL4 3NQ  Unsurveyed/Urban        210  53.547635  -2.070593\n2      B36 8TE  Unsurveyed/Urban         90  52.502371  -1.826124\n3     NE16 3AT  Unsurveyed/Urban         10  54.954930  -1.682991\n4     WS10 8DE  Unsurveyed/Urban        140  52.567724  -2.034982\n...        ...               ...        ...        ...        ...\n9995   NN9 7TY         Cambisols         80  52.273387  -0.708775\n9996   HU6 7YG  Unsurveyed/Urban          0  53.791500  -0.361201\n9997  LS12 1DY  Unsurveyed/Urban         40  53.791345  -1.569915\n9998   DN4 6TZ         Arenosols         10  53.503859  -1.059207\n9999   S31 9BD  Unsurveyed/Urban        120  53.304375  -1.375357\n\n[10000 rows x 5 columns]",
      "text/html": "<div>\n<style scoped>\n    .dataframe tbody tr th:only-of-type {\n        vertical-align: middle;\n    }\n\n    .dataframe tbody tr th {\n        vertical-align: top;\n    }\n\n    .dataframe thead th {\n        text-align: right;\n    }\n</style>\n<table border=\"1\" class=\"dataframe\">\n  <thead>\n    <tr style=\"text-align: right;\">\n      <th></th>\n      <th>postcode</th>\n      <th>soilType</th>\n      <th>elevation</th>\n      <th>latitude</th>\n      <th>longitude</th>\n    </tr>\n  </thead>\n  <tbody>\n    <tr>\n      <th>0</th>\n      <td>M34 7QL</td>\n      <td>Unsurveyed/Urban</td>\n      <td>110</td>\n      <td>53.446063</td>\n      <td>-2.099783</td>\n    </tr>\n    <tr>\n      <th>1</th>\n      <td>OL4 3NQ</td>\n      <td>Unsurveyed/Urban</td>\n      <td>210</td>\n      <td>53.547635</td>\n      <td>-2.070593</td>\n    </tr>\n    <tr>\n      <th>2</th>\n      <td>B36 8TE</td>\n      <td>Unsurveyed/Urban</td>\n      <td>90</td>\n      <td>52.502371</td>\n      <td>-1.826124</td>\n    </tr>\n    <tr>\n      <th>3</th>\n      <td>NE16 3AT</td>\n      <td>Unsurveyed/Urban</td>\n      <td>10</td>\n      <td>54.954930</td>\n      <td>-1.682991</td>\n    </tr>\n    <tr>\n      <th>4</th>\n      <td>WS10 8DE</td>\n      <td>Unsurveyed/Urban</td>\n      <td>140</td>\n      <td>52.567724</td>\n      <td>-2.034982</td>\n    </tr>\n    <tr>\n      <th>...</th>\n      <td>...</td>\n      <td>...</td>\n      <td>...</td>\n      <td>...</td>\n      <td>...</td>\n    </tr>\n    <tr>\n      <th>9995</th>\n      <td>NN9 7TY</td>\n      <td>Cambisols</td>\n      <td>80</td>\n      <td>52.273387</td>\n      <td>-0.708775</td>\n    </tr>\n    <tr>\n      <th>9996</th>\n      <td>HU6 7YG</td>\n      <td>Unsurveyed/Urban</td>\n      <td>0</td>\n      <td>53.791500</td>\n      <td>-0.361201</td>\n    </tr>\n    <tr>\n      <th>9997</th>\n      <td>LS12 1DY</td>\n      <td>Unsurveyed/Urban</td>\n      <td>40</td>\n      <td>53.791345</td>\n      <td>-1.569915</td>\n    </tr>\n    <tr>\n      <th>9998</th>\n      <td>DN4 6TZ</td>\n      <td>Arenosols</td>\n      <td>10</td>\n      <td>53.503859</td>\n      <td>-1.059207</td>\n    </tr>\n    <tr>\n      <th>9999</th>\n      <td>S31 9BD</td>\n      <td>Unsurveyed/Urban</td>\n      <td>120</td>\n      <td>53.304375</td>\n      <td>-1.375357</td>\n    </tr>\n  </tbody>\n</table>\n<p>10000 rows × 5 columns</p>\n</div>"
     },
     "execution_count": 898,
     "metadata": {},
     "output_type": "execute_result"
    }
   ],
   "source": [
    "X"
   ],
   "metadata": {
    "collapsed": false,
    "ExecuteTime": {
     "end_time": "2023-11-22T14:55:11.465700Z",
     "start_time": "2023-11-22T14:55:11.407607Z"
    }
   },
   "id": "cfb31edeeda759af"
  },
  {
   "cell_type": "code",
   "execution_count": 910,
   "outputs": [
    {
     "data": {
      "text/plain": "Pipeline(steps=[('preprocessor',\n                 ColumnTransformer(transformers=[('num',\n                                                  Pipeline(steps=[('impute',\n                                                                   SimpleImputer(strategy='most_frequent')),\n                                                                  ('scaler',\n                                                                   StandardScaler())]),\n                                                  Index(['easting', 'northing', 'elevation'], dtype='object')),\n                                                 ('cat',\n                                                  Pipeline(steps=[('imputer',\n                                                                   SimpleImputer(strategy='most_frequent')),\n                                                                  ('ohe',\n                                                                   OneHotEncoder(handle_unknown='ignore',\n                                                                                 spar...\n                              feature_types=None, gamma=None, grow_policy=None,\n                              importance_type=None,\n                              interaction_constraints=None, learning_rate=None,\n                              max_bin=None, max_cat_threshold=None,\n                              max_cat_to_onehot=None, max_delta_step=None,\n                              max_depth=None, max_leaves=None,\n                              min_child_weight=None, missing=nan,\n                              monotone_constraints=None, multi_strategy=None,\n                              n_estimators=None, n_jobs=None,\n                              num_parallel_tree=None, random_state=42, ...))])",
      "text/html": "<style>#sk-container-id-33 {color: black;}#sk-container-id-33 pre{padding: 0;}#sk-container-id-33 div.sk-toggleable {background-color: white;}#sk-container-id-33 label.sk-toggleable__label {cursor: pointer;display: block;width: 100%;margin-bottom: 0;padding: 0.3em;box-sizing: border-box;text-align: center;}#sk-container-id-33 label.sk-toggleable__label-arrow:before {content: \"▸\";float: left;margin-right: 0.25em;color: #696969;}#sk-container-id-33 label.sk-toggleable__label-arrow:hover:before {color: black;}#sk-container-id-33 div.sk-estimator:hover label.sk-toggleable__label-arrow:before {color: black;}#sk-container-id-33 div.sk-toggleable__content {max-height: 0;max-width: 0;overflow: hidden;text-align: left;background-color: #f0f8ff;}#sk-container-id-33 div.sk-toggleable__content pre {margin: 0.2em;color: black;border-radius: 0.25em;background-color: #f0f8ff;}#sk-container-id-33 input.sk-toggleable__control:checked~div.sk-toggleable__content {max-height: 200px;max-width: 100%;overflow: auto;}#sk-container-id-33 input.sk-toggleable__control:checked~label.sk-toggleable__label-arrow:before {content: \"▾\";}#sk-container-id-33 div.sk-estimator input.sk-toggleable__control:checked~label.sk-toggleable__label {background-color: #d4ebff;}#sk-container-id-33 div.sk-label input.sk-toggleable__control:checked~label.sk-toggleable__label {background-color: #d4ebff;}#sk-container-id-33 input.sk-hidden--visually {border: 0;clip: rect(1px 1px 1px 1px);clip: rect(1px, 1px, 1px, 1px);height: 1px;margin: -1px;overflow: hidden;padding: 0;position: absolute;width: 1px;}#sk-container-id-33 div.sk-estimator {font-family: monospace;background-color: #f0f8ff;border: 1px dotted black;border-radius: 0.25em;box-sizing: border-box;margin-bottom: 0.5em;}#sk-container-id-33 div.sk-estimator:hover {background-color: #d4ebff;}#sk-container-id-33 div.sk-parallel-item::after {content: \"\";width: 100%;border-bottom: 1px solid gray;flex-grow: 1;}#sk-container-id-33 div.sk-label:hover label.sk-toggleable__label {background-color: #d4ebff;}#sk-container-id-33 div.sk-serial::before {content: \"\";position: absolute;border-left: 1px solid gray;box-sizing: border-box;top: 0;bottom: 0;left: 50%;z-index: 0;}#sk-container-id-33 div.sk-serial {display: flex;flex-direction: column;align-items: center;background-color: white;padding-right: 0.2em;padding-left: 0.2em;position: relative;}#sk-container-id-33 div.sk-item {position: relative;z-index: 1;}#sk-container-id-33 div.sk-parallel {display: flex;align-items: stretch;justify-content: center;background-color: white;position: relative;}#sk-container-id-33 div.sk-item::before, #sk-container-id-33 div.sk-parallel-item::before {content: \"\";position: absolute;border-left: 1px solid gray;box-sizing: border-box;top: 0;bottom: 0;left: 50%;z-index: -1;}#sk-container-id-33 div.sk-parallel-item {display: flex;flex-direction: column;z-index: 1;position: relative;background-color: white;}#sk-container-id-33 div.sk-parallel-item:first-child::after {align-self: flex-end;width: 50%;}#sk-container-id-33 div.sk-parallel-item:last-child::after {align-self: flex-start;width: 50%;}#sk-container-id-33 div.sk-parallel-item:only-child::after {width: 0;}#sk-container-id-33 div.sk-dashed-wrapped {border: 1px dashed gray;margin: 0 0.4em 0.5em 0.4em;box-sizing: border-box;padding-bottom: 0.4em;background-color: white;}#sk-container-id-33 div.sk-label label {font-family: monospace;font-weight: bold;display: inline-block;line-height: 1.2em;}#sk-container-id-33 div.sk-label-container {text-align: center;}#sk-container-id-33 div.sk-container {/* jupyter's `normalize.less` sets `[hidden] { display: none; }` but bootstrap.min.css set `[hidden] { display: none !important; }` so we also need the `!important` here to be able to override the default hidden behavior on the sphinx rendered scikit-learn.org. See: https://github.com/scikit-learn/scikit-learn/issues/21755 */display: inline-block !important;position: relative;}#sk-container-id-33 div.sk-text-repr-fallback {display: none;}</style><div id=\"sk-container-id-33\" class=\"sk-top-container\"><div class=\"sk-text-repr-fallback\"><pre>Pipeline(steps=[(&#x27;preprocessor&#x27;,\n                 ColumnTransformer(transformers=[(&#x27;num&#x27;,\n                                                  Pipeline(steps=[(&#x27;impute&#x27;,\n                                                                   SimpleImputer(strategy=&#x27;most_frequent&#x27;)),\n                                                                  (&#x27;scaler&#x27;,\n                                                                   StandardScaler())]),\n                                                  Index([&#x27;easting&#x27;, &#x27;northing&#x27;, &#x27;elevation&#x27;], dtype=&#x27;object&#x27;)),\n                                                 (&#x27;cat&#x27;,\n                                                  Pipeline(steps=[(&#x27;imputer&#x27;,\n                                                                   SimpleImputer(strategy=&#x27;most_frequent&#x27;)),\n                                                                  (&#x27;ohe&#x27;,\n                                                                   OneHotEncoder(handle_unknown=&#x27;ignore&#x27;,\n                                                                                 spar...\n                              feature_types=None, gamma=None, grow_policy=None,\n                              importance_type=None,\n                              interaction_constraints=None, learning_rate=None,\n                              max_bin=None, max_cat_threshold=None,\n                              max_cat_to_onehot=None, max_delta_step=None,\n                              max_depth=None, max_leaves=None,\n                              min_child_weight=None, missing=nan,\n                              monotone_constraints=None, multi_strategy=None,\n                              n_estimators=None, n_jobs=None,\n                              num_parallel_tree=None, random_state=42, ...))])</pre><b>In a Jupyter environment, please rerun this cell to show the HTML representation or trust the notebook. <br />On GitHub, the HTML representation is unable to render, please try loading this page with nbviewer.org.</b></div><div class=\"sk-container\" hidden><div class=\"sk-item sk-dashed-wrapped\"><div class=\"sk-label-container\"><div class=\"sk-label sk-toggleable\"><input class=\"sk-toggleable__control sk-hidden--visually\" id=\"sk-estimator-id-283\" type=\"checkbox\" ><label for=\"sk-estimator-id-283\" class=\"sk-toggleable__label sk-toggleable__label-arrow\">Pipeline</label><div class=\"sk-toggleable__content\"><pre>Pipeline(steps=[(&#x27;preprocessor&#x27;,\n                 ColumnTransformer(transformers=[(&#x27;num&#x27;,\n                                                  Pipeline(steps=[(&#x27;impute&#x27;,\n                                                                   SimpleImputer(strategy=&#x27;most_frequent&#x27;)),\n                                                                  (&#x27;scaler&#x27;,\n                                                                   StandardScaler())]),\n                                                  Index([&#x27;easting&#x27;, &#x27;northing&#x27;, &#x27;elevation&#x27;], dtype=&#x27;object&#x27;)),\n                                                 (&#x27;cat&#x27;,\n                                                  Pipeline(steps=[(&#x27;imputer&#x27;,\n                                                                   SimpleImputer(strategy=&#x27;most_frequent&#x27;)),\n                                                                  (&#x27;ohe&#x27;,\n                                                                   OneHotEncoder(handle_unknown=&#x27;ignore&#x27;,\n                                                                                 spar...\n                              feature_types=None, gamma=None, grow_policy=None,\n                              importance_type=None,\n                              interaction_constraints=None, learning_rate=None,\n                              max_bin=None, max_cat_threshold=None,\n                              max_cat_to_onehot=None, max_delta_step=None,\n                              max_depth=None, max_leaves=None,\n                              min_child_weight=None, missing=nan,\n                              monotone_constraints=None, multi_strategy=None,\n                              n_estimators=None, n_jobs=None,\n                              num_parallel_tree=None, random_state=42, ...))])</pre></div></div></div><div class=\"sk-serial\"><div class=\"sk-item sk-dashed-wrapped\"><div class=\"sk-label-container\"><div class=\"sk-label sk-toggleable\"><input class=\"sk-toggleable__control sk-hidden--visually\" id=\"sk-estimator-id-284\" type=\"checkbox\" ><label for=\"sk-estimator-id-284\" class=\"sk-toggleable__label sk-toggleable__label-arrow\">preprocessor: ColumnTransformer</label><div class=\"sk-toggleable__content\"><pre>ColumnTransformer(transformers=[(&#x27;num&#x27;,\n                                 Pipeline(steps=[(&#x27;impute&#x27;,\n                                                  SimpleImputer(strategy=&#x27;most_frequent&#x27;)),\n                                                 (&#x27;scaler&#x27;, StandardScaler())]),\n                                 Index([&#x27;easting&#x27;, &#x27;northing&#x27;, &#x27;elevation&#x27;], dtype=&#x27;object&#x27;)),\n                                (&#x27;cat&#x27;,\n                                 Pipeline(steps=[(&#x27;imputer&#x27;,\n                                                  SimpleImputer(strategy=&#x27;most_frequent&#x27;)),\n                                                 (&#x27;ohe&#x27;,\n                                                  OneHotEncoder(handle_unknown=&#x27;ignore&#x27;,\n                                                                sparse_output=False))]),\n                                 [&#x27;soilType&#x27;])])</pre></div></div></div><div class=\"sk-parallel\"><div class=\"sk-parallel-item\"><div class=\"sk-item\"><div class=\"sk-label-container\"><div class=\"sk-label sk-toggleable\"><input class=\"sk-toggleable__control sk-hidden--visually\" id=\"sk-estimator-id-285\" type=\"checkbox\" ><label for=\"sk-estimator-id-285\" class=\"sk-toggleable__label sk-toggleable__label-arrow\">num</label><div class=\"sk-toggleable__content\"><pre>Index([&#x27;easting&#x27;, &#x27;northing&#x27;, &#x27;elevation&#x27;], dtype=&#x27;object&#x27;)</pre></div></div></div><div class=\"sk-serial\"><div class=\"sk-item\"><div class=\"sk-serial\"><div class=\"sk-item\"><div class=\"sk-estimator sk-toggleable\"><input class=\"sk-toggleable__control sk-hidden--visually\" id=\"sk-estimator-id-286\" type=\"checkbox\" ><label for=\"sk-estimator-id-286\" class=\"sk-toggleable__label sk-toggleable__label-arrow\">SimpleImputer</label><div class=\"sk-toggleable__content\"><pre>SimpleImputer(strategy=&#x27;most_frequent&#x27;)</pre></div></div></div><div class=\"sk-item\"><div class=\"sk-estimator sk-toggleable\"><input class=\"sk-toggleable__control sk-hidden--visually\" id=\"sk-estimator-id-287\" type=\"checkbox\" ><label for=\"sk-estimator-id-287\" class=\"sk-toggleable__label sk-toggleable__label-arrow\">StandardScaler</label><div class=\"sk-toggleable__content\"><pre>StandardScaler()</pre></div></div></div></div></div></div></div></div><div class=\"sk-parallel-item\"><div class=\"sk-item\"><div class=\"sk-label-container\"><div class=\"sk-label sk-toggleable\"><input class=\"sk-toggleable__control sk-hidden--visually\" id=\"sk-estimator-id-288\" type=\"checkbox\" ><label for=\"sk-estimator-id-288\" class=\"sk-toggleable__label sk-toggleable__label-arrow\">cat</label><div class=\"sk-toggleable__content\"><pre>[&#x27;soilType&#x27;]</pre></div></div></div><div class=\"sk-serial\"><div class=\"sk-item\"><div class=\"sk-serial\"><div class=\"sk-item\"><div class=\"sk-estimator sk-toggleable\"><input class=\"sk-toggleable__control sk-hidden--visually\" id=\"sk-estimator-id-289\" type=\"checkbox\" ><label for=\"sk-estimator-id-289\" class=\"sk-toggleable__label sk-toggleable__label-arrow\">SimpleImputer</label><div class=\"sk-toggleable__content\"><pre>SimpleImputer(strategy=&#x27;most_frequent&#x27;)</pre></div></div></div><div class=\"sk-item\"><div class=\"sk-estimator sk-toggleable\"><input class=\"sk-toggleable__control sk-hidden--visually\" id=\"sk-estimator-id-290\" type=\"checkbox\" ><label for=\"sk-estimator-id-290\" class=\"sk-toggleable__label sk-toggleable__label-arrow\">OneHotEncoder</label><div class=\"sk-toggleable__content\"><pre>OneHotEncoder(handle_unknown=&#x27;ignore&#x27;, sparse_output=False)</pre></div></div></div></div></div></div></div></div></div></div><div class=\"sk-item\"><div class=\"sk-estimator sk-toggleable\"><input class=\"sk-toggleable__control sk-hidden--visually\" id=\"sk-estimator-id-291\" type=\"checkbox\" ><label for=\"sk-estimator-id-291\" class=\"sk-toggleable__label sk-toggleable__label-arrow\">XGBRegressor</label><div class=\"sk-toggleable__content\"><pre>XGBRegressor(base_score=None, booster=None, callbacks=None,\n             colsample_bylevel=None, colsample_bynode=None,\n             colsample_bytree=None, device=None, early_stopping_rounds=None,\n             enable_categorical=False, eval_metric=None, feature_types=None,\n             gamma=None, grow_policy=None, importance_type=None,\n             interaction_constraints=None, learning_rate=None, max_bin=None,\n             max_cat_threshold=None, max_cat_to_onehot=None,\n             max_delta_step=None, max_depth=None, max_leaves=None,\n             min_child_weight=None, missing=nan, monotone_constraints=None,\n             multi_strategy=None, n_estimators=None, n_jobs=None,\n             num_parallel_tree=None, random_state=42, ...)</pre></div></div></div></div></div></div></div>"
     },
     "execution_count": 910,
     "metadata": {},
     "output_type": "execute_result"
    }
   ],
   "source": [
    "model_pipe.fit(X, y)"
   ],
   "metadata": {
    "collapsed": false,
    "ExecuteTime": {
     "end_time": "2023-11-22T14:55:50.969185Z",
     "start_time": "2023-11-22T14:55:50.771451Z"
    }
   },
   "id": "1efdc8982ac74808"
  },
  {
   "cell_type": "code",
   "execution_count": 913,
   "outputs": [],
   "source": [
    "fulltest = model_pipe.predict(X)"
   ],
   "metadata": {
    "collapsed": false,
    "ExecuteTime": {
     "end_time": "2023-11-22T14:56:32.321182Z",
     "start_time": "2023-11-22T14:56:32.266975Z"
    }
   },
   "id": "b172e8e52bfdd784"
  },
  {
   "cell_type": "code",
   "execution_count": 951,
   "outputs": [],
   "source": [
    "our_res = score_fn(y, fulltest)"
   ],
   "metadata": {
    "collapsed": false,
    "ExecuteTime": {
     "end_time": "2023-11-22T16:06:50.209391Z",
     "start_time": "2023-11-22T16:06:50.153481Z"
    }
   },
   "id": "49d2d91cd6c19b77"
  },
  {
   "cell_type": "code",
   "execution_count": 952,
   "outputs": [
    {
     "data": {
      "text/plain": "3051530"
     },
     "execution_count": 952,
     "metadata": {},
     "output_type": "execute_result"
    }
   ],
   "source": [
    "our_res"
   ],
   "metadata": {
    "collapsed": false,
    "ExecuteTime": {
     "end_time": "2023-11-22T16:06:52.011907Z",
     "start_time": "2023-11-22T16:06:51.949077Z"
    }
   },
   "id": "dc72bc2fb982d94b"
  },
  {
   "cell_type": "code",
   "execution_count": 920,
   "outputs": [],
   "source": [
    "james = np.ones_like(y)"
   ],
   "metadata": {
    "collapsed": false,
    "ExecuteTime": {
     "end_time": "2023-11-22T14:57:27.413815Z",
     "start_time": "2023-11-22T14:57:27.372627Z"
    }
   },
   "id": "2ed792dbd7deb51c"
  },
  {
   "cell_type": "code",
   "execution_count": 921,
   "outputs": [],
   "source": [
    "james_res = score_fn(y, james-1)"
   ],
   "metadata": {
    "collapsed": false,
    "ExecuteTime": {
     "end_time": "2023-11-22T14:57:27.584966Z",
     "start_time": "2023-11-22T14:57:27.558352Z"
    }
   },
   "id": "e5b35eb2d68bb92f"
  },
  {
   "cell_type": "code",
   "execution_count": 922,
   "outputs": [
    {
     "data": {
      "text/plain": "769740"
     },
     "execution_count": 922,
     "metadata": {},
     "output_type": "execute_result"
    }
   ],
   "source": [
    "our_res - james_res"
   ],
   "metadata": {
    "collapsed": false,
    "ExecuteTime": {
     "end_time": "2023-11-22T14:57:33.959109Z",
     "start_time": "2023-11-22T14:57:33.891354Z"
    }
   },
   "id": "9a929ac6d4c1b1e9"
  },
  {
   "cell_type": "code",
   "execution_count": 924,
   "outputs": [
    {
     "data": {
      "text/plain": "       postcode  easting  northing          soilType  elevation\n0       OL9 7NS   390978    403269  Unsurveyed/Urban        130\n1      WV13 2LR   396607    298083  Unsurveyed/Urban        130\n2      LS12 1LZ   427859    432937  Unsurveyed/Urban         60\n3      SK15 1TS   395560    397900  Unsurveyed/Urban        120\n4      TS17 9NN   445771    515362  Unsurveyed/Urban         20\n...         ...      ...       ...               ...        ...\n29995  LS16 0BP   425977    438923  Unsurveyed/Urban        160\n29996   SK8 4PG   384808    387982  Unsurveyed/Urban         40\n29997   HD7 4PA   409215    416819         Cambisols        310\n29998  NE16 5YT   419672    560517  Unsurveyed/Urban        130\n29999    B8 2RQ   411674    288499  Unsurveyed/Urban        110\n\n[30000 rows x 5 columns]",
      "text/html": "<div>\n<style scoped>\n    .dataframe tbody tr th:only-of-type {\n        vertical-align: middle;\n    }\n\n    .dataframe tbody tr th {\n        vertical-align: top;\n    }\n\n    .dataframe thead th {\n        text-align: right;\n    }\n</style>\n<table border=\"1\" class=\"dataframe\">\n  <thead>\n    <tr style=\"text-align: right;\">\n      <th></th>\n      <th>postcode</th>\n      <th>easting</th>\n      <th>northing</th>\n      <th>soilType</th>\n      <th>elevation</th>\n    </tr>\n  </thead>\n  <tbody>\n    <tr>\n      <th>0</th>\n      <td>OL9 7NS</td>\n      <td>390978</td>\n      <td>403269</td>\n      <td>Unsurveyed/Urban</td>\n      <td>130</td>\n    </tr>\n    <tr>\n      <th>1</th>\n      <td>WV13 2LR</td>\n      <td>396607</td>\n      <td>298083</td>\n      <td>Unsurveyed/Urban</td>\n      <td>130</td>\n    </tr>\n    <tr>\n      <th>2</th>\n      <td>LS12 1LZ</td>\n      <td>427859</td>\n      <td>432937</td>\n      <td>Unsurveyed/Urban</td>\n      <td>60</td>\n    </tr>\n    <tr>\n      <th>3</th>\n      <td>SK15 1TS</td>\n      <td>395560</td>\n      <td>397900</td>\n      <td>Unsurveyed/Urban</td>\n      <td>120</td>\n    </tr>\n    <tr>\n      <th>4</th>\n      <td>TS17 9NN</td>\n      <td>445771</td>\n      <td>515362</td>\n      <td>Unsurveyed/Urban</td>\n      <td>20</td>\n    </tr>\n    <tr>\n      <th>...</th>\n      <td>...</td>\n      <td>...</td>\n      <td>...</td>\n      <td>...</td>\n      <td>...</td>\n    </tr>\n    <tr>\n      <th>29995</th>\n      <td>LS16 0BP</td>\n      <td>425977</td>\n      <td>438923</td>\n      <td>Unsurveyed/Urban</td>\n      <td>160</td>\n    </tr>\n    <tr>\n      <th>29996</th>\n      <td>SK8 4PG</td>\n      <td>384808</td>\n      <td>387982</td>\n      <td>Unsurveyed/Urban</td>\n      <td>40</td>\n    </tr>\n    <tr>\n      <th>29997</th>\n      <td>HD7 4PA</td>\n      <td>409215</td>\n      <td>416819</td>\n      <td>Cambisols</td>\n      <td>310</td>\n    </tr>\n    <tr>\n      <th>29998</th>\n      <td>NE16 5YT</td>\n      <td>419672</td>\n      <td>560517</td>\n      <td>Unsurveyed/Urban</td>\n      <td>130</td>\n    </tr>\n    <tr>\n      <th>29999</th>\n      <td>B8 2RQ</td>\n      <td>411674</td>\n      <td>288499</td>\n      <td>Unsurveyed/Urban</td>\n      <td>110</td>\n    </tr>\n  </tbody>\n</table>\n<p>30000 rows × 5 columns</p>\n</div>"
     },
     "execution_count": 924,
     "metadata": {},
     "output_type": "execute_result"
    }
   ],
   "source": [
    "X"
   ],
   "metadata": {
    "collapsed": false,
    "ExecuteTime": {
     "end_time": "2023-11-22T15:00:12.844866Z",
     "start_time": "2023-11-22T15:00:12.771957Z"
    }
   },
   "id": "2c06568f8408b96e"
  },
  {
   "cell_type": "code",
   "execution_count": 928,
   "outputs": [
    {
     "data": {
      "text/plain": "0         OL9 7NS\n1        WV13 2LR\n2        LS12 1LZ\n3        SK15 1TS\n4        TS17 9NN\n           ...   \n29995    LS16 0BP\n29996     SK8 4PG\n29997     HD7 4PA\n29998    NE16 5YT\n29999      B8 2RQ\nName: postcode, Length: 30000, dtype: object"
     },
     "execution_count": 928,
     "metadata": {},
     "output_type": "execute_result"
    }
   ],
   "source": [
    "X.postcode"
   ],
   "metadata": {
    "collapsed": false,
    "ExecuteTime": {
     "end_time": "2023-11-22T15:00:50.723321Z",
     "start_time": "2023-11-22T15:00:50.675207Z"
    }
   },
   "id": "9275a26d97c99846"
  },
  {
   "cell_type": "code",
   "execution_count": 1117,
   "outputs": [
    {
     "name": "stderr",
     "output_type": "stream",
     "text": [
      "/Users/bpg23/Documents/GitHub/ads-deluge-wye/flood_tool/tool.py:259: SettingWithCopyWarning: \n",
      "A value is trying to be set on a copy of a slice from a DataFrame\n",
      "\n",
      "See the caveats in the documentation: https://pandas.pydata.org/pandas-docs/stable/user_guide/indexing.html#returning-a-view-versus-a-copy\n",
      "  print(X.shape)\n"
     ]
    },
    {
     "name": "stdout",
     "output_type": "stream",
     "text": [
      "(30000, 5)\n"
     ]
    },
    {
     "name": "stderr",
     "output_type": "stream",
     "text": [
      "2023-11-22 16:48:21,145 [flood_tool.models.predictor] INFO: Model successfully fit.\n",
      "2023-11-22 16:48:21,770 [flood_tool.models.flood_predictor] INFO: 3672990\n"
     ]
    }
   ],
   "source": [
    "prediction = tool.predict_flood_class_from_postcode(X.postcode, 'xgb_regressor')\n"
   ],
   "metadata": {
    "collapsed": false,
    "ExecuteTime": {
     "end_time": "2023-11-22T16:48:21.777939Z",
     "start_time": "2023-11-22T16:48:20.438486Z"
    }
   },
   "id": "3349daa980106c6f"
  },
  {
   "cell_type": "code",
   "execution_count": 955,
   "outputs": [
    {
     "data": {
      "text/plain": "predictions\n1     27144\n2       688\n3       534\n6       433\n4       368\n8       313\n5       299\n7       154\n9        39\n10       28\nName: count, dtype: int64"
     },
     "execution_count": 955,
     "metadata": {},
     "output_type": "execute_result"
    }
   ],
   "source": [
    "prediction.value_counts()"
   ],
   "metadata": {
    "collapsed": false,
    "ExecuteTime": {
     "end_time": "2023-11-22T16:09:16.649124Z",
     "start_time": "2023-11-22T16:09:16.592284Z"
    }
   },
   "id": "f39f9ffce53ee845"
  },
  {
   "cell_type": "code",
   "execution_count": 956,
   "outputs": [
    {
     "name": "stdout",
     "output_type": "stream",
     "text": [
      "postcode\n",
      "LS22 4DS    1\n",
      "B5 7NA      1\n",
      "LE11 2AP    1\n",
      "WS8 6HY     1\n",
      "YO61 2QG    1\n",
      "           ..\n",
      "LS16 0BP    1\n",
      "SK8 4PG     1\n",
      "HD7 4PA     1\n",
      "NE16 5YT    1\n",
      "B8 2RQ      1\n",
      "Name: predictions, Length: 30000, dtype: int64\n"
     ]
    }
   ],
   "source": [
    "print(prediction)"
   ],
   "metadata": {
    "collapsed": false,
    "ExecuteTime": {
     "end_time": "2023-11-22T16:09:17.740148Z",
     "start_time": "2023-11-22T16:09:17.673611Z"
    }
   },
   "id": "7aa6ed36d7a88bfb"
  },
  {
   "cell_type": "code",
   "execution_count": 957,
   "outputs": [],
   "source": [
    "our_res2 = score_fn(y, prediction.values - 1)\n"
   ],
   "metadata": {
    "collapsed": false,
    "ExecuteTime": {
     "end_time": "2023-11-22T16:09:19.097915Z",
     "start_time": "2023-11-22T16:09:19.038645Z"
    }
   },
   "id": "6de727d554beb8a2"
  },
  {
   "cell_type": "code",
   "execution_count": 958,
   "outputs": [
    {
     "data": {
      "text/plain": "2170610"
     },
     "execution_count": 958,
     "metadata": {},
     "output_type": "execute_result"
    }
   ],
   "source": [
    "our_res2"
   ],
   "metadata": {
    "collapsed": false,
    "ExecuteTime": {
     "end_time": "2023-11-22T16:09:19.792820Z",
     "start_time": "2023-11-22T16:09:19.757942Z"
    }
   },
   "id": "e73bd0fc710f7b57"
  },
  {
   "cell_type": "code",
   "execution_count": 960,
   "outputs": [],
   "source": [
    "df_stacked = tool.df_stacked"
   ],
   "metadata": {
    "collapsed": false,
    "ExecuteTime": {
     "end_time": "2023-11-22T16:11:10.445712Z",
     "start_time": "2023-11-22T16:11:10.400455Z"
    }
   },
   "id": "86f4e95859f851f9"
  },
  {
   "cell_type": "code",
   "execution_count": 963,
   "outputs": [
    {
     "data": {
      "text/plain": "486"
     },
     "execution_count": 963,
     "metadata": {},
     "output_type": "execute_result"
    }
   ],
   "source": [
    "np.sum(df_stacked.duplicated())"
   ],
   "metadata": {
    "collapsed": false,
    "ExecuteTime": {
     "end_time": "2023-11-22T16:11:21.864697Z",
     "start_time": "2023-11-22T16:11:21.805038Z"
    }
   },
   "id": "e97d524442b7782b"
  },
  {
   "cell_type": "code",
   "execution_count": 1037,
   "outputs": [],
   "source": [
    "X_stack = df_stacked[df_stacked['postcode'].isin(X.postcode)].drop_duplicates()"
   ],
   "metadata": {
    "collapsed": false,
    "ExecuteTime": {
     "end_time": "2023-11-22T16:26:02.993239Z",
     "start_time": "2023-11-22T16:26:02.912802Z"
    }
   },
   "id": "2f3adefed472eb69"
  },
  {
   "cell_type": "code",
   "execution_count": 1038,
   "outputs": [
    {
     "data": {
      "text/plain": "       postcode  easting  northing          soilType  elevation\n13     LS22 4DS   440070    450063          Luvisols         30\n27       B5 7NA   406907    285397  Unsurveyed/Urban        110\n48     LE11 2AP   454279    318367  Unsurveyed/Urban         40\n54      WS8 6HY   404770    305814  Unsurveyed/Urban        150\n92     YO61 2QG   446635    473592        Stagnosols         30\n...         ...      ...       ...               ...        ...\n39995  LS16 0BP   425977    438923  Unsurveyed/Urban        160\n39996   SK8 4PG   384808    387982  Unsurveyed/Urban         40\n39997   HD7 4PA   409215    416819         Cambisols        310\n39998  NE16 5YT   419672    560517  Unsurveyed/Urban        130\n39999    B8 2RQ   411674    288499  Unsurveyed/Urban        110\n\n[30000 rows x 5 columns]",
      "text/html": "<div>\n<style scoped>\n    .dataframe tbody tr th:only-of-type {\n        vertical-align: middle;\n    }\n\n    .dataframe tbody tr th {\n        vertical-align: top;\n    }\n\n    .dataframe thead th {\n        text-align: right;\n    }\n</style>\n<table border=\"1\" class=\"dataframe\">\n  <thead>\n    <tr style=\"text-align: right;\">\n      <th></th>\n      <th>postcode</th>\n      <th>easting</th>\n      <th>northing</th>\n      <th>soilType</th>\n      <th>elevation</th>\n    </tr>\n  </thead>\n  <tbody>\n    <tr>\n      <th>13</th>\n      <td>LS22 4DS</td>\n      <td>440070</td>\n      <td>450063</td>\n      <td>Luvisols</td>\n      <td>30</td>\n    </tr>\n    <tr>\n      <th>27</th>\n      <td>B5 7NA</td>\n      <td>406907</td>\n      <td>285397</td>\n      <td>Unsurveyed/Urban</td>\n      <td>110</td>\n    </tr>\n    <tr>\n      <th>48</th>\n      <td>LE11 2AP</td>\n      <td>454279</td>\n      <td>318367</td>\n      <td>Unsurveyed/Urban</td>\n      <td>40</td>\n    </tr>\n    <tr>\n      <th>54</th>\n      <td>WS8 6HY</td>\n      <td>404770</td>\n      <td>305814</td>\n      <td>Unsurveyed/Urban</td>\n      <td>150</td>\n    </tr>\n    <tr>\n      <th>92</th>\n      <td>YO61 2QG</td>\n      <td>446635</td>\n      <td>473592</td>\n      <td>Stagnosols</td>\n      <td>30</td>\n    </tr>\n    <tr>\n      <th>...</th>\n      <td>...</td>\n      <td>...</td>\n      <td>...</td>\n      <td>...</td>\n      <td>...</td>\n    </tr>\n    <tr>\n      <th>39995</th>\n      <td>LS16 0BP</td>\n      <td>425977</td>\n      <td>438923</td>\n      <td>Unsurveyed/Urban</td>\n      <td>160</td>\n    </tr>\n    <tr>\n      <th>39996</th>\n      <td>SK8 4PG</td>\n      <td>384808</td>\n      <td>387982</td>\n      <td>Unsurveyed/Urban</td>\n      <td>40</td>\n    </tr>\n    <tr>\n      <th>39997</th>\n      <td>HD7 4PA</td>\n      <td>409215</td>\n      <td>416819</td>\n      <td>Cambisols</td>\n      <td>310</td>\n    </tr>\n    <tr>\n      <th>39998</th>\n      <td>NE16 5YT</td>\n      <td>419672</td>\n      <td>560517</td>\n      <td>Unsurveyed/Urban</td>\n      <td>130</td>\n    </tr>\n    <tr>\n      <th>39999</th>\n      <td>B8 2RQ</td>\n      <td>411674</td>\n      <td>288499</td>\n      <td>Unsurveyed/Urban</td>\n      <td>110</td>\n    </tr>\n  </tbody>\n</table>\n<p>30000 rows × 5 columns</p>\n</div>"
     },
     "execution_count": 1038,
     "metadata": {},
     "output_type": "execute_result"
    }
   ],
   "source": [
    "X_stack"
   ],
   "metadata": {
    "collapsed": false,
    "ExecuteTime": {
     "end_time": "2023-11-22T16:26:03.497587Z",
     "start_time": "2023-11-22T16:26:03.468287Z"
    }
   },
   "id": "e2233c05dcf2c955"
  },
  {
   "cell_type": "code",
   "execution_count": 1039,
   "outputs": [
    {
     "data": {
      "text/plain": "Pipeline(steps=[('preprocessor',\n                 ColumnTransformer(transformers=[('num',\n                                                  Pipeline(steps=[('impute',\n                                                                   SimpleImputer(strategy='most_frequent')),\n                                                                  ('scaler',\n                                                                   StandardScaler())]),\n                                                  Index(['easting', 'northing', 'elevation'], dtype='object')),\n                                                 ('cat',\n                                                  Pipeline(steps=[('imputer',\n                                                                   SimpleImputer(strategy='most_frequent')),\n                                                                  ('ohe',\n                                                                   OneHotEncoder(handle_unknown='ignore',\n                                                                                 spar...\n                              feature_types=None, gamma=None, grow_policy=None,\n                              importance_type=None,\n                              interaction_constraints=None,\n                              learning_rate=0.7750347200108194, max_bin=None,\n                              max_cat_threshold=None, max_cat_to_onehot=None,\n                              max_delta_step=None, max_depth=41,\n                              max_leaves=None, min_child_weight=None,\n                              missing=nan, monotone_constraints=None,\n                              multi_strategy=None, n_estimators=917,\n                              n_jobs=None, num_parallel_tree=None,\n                              random_state=42, ...))])",
      "text/html": "<style>#sk-container-id-38 {color: black;}#sk-container-id-38 pre{padding: 0;}#sk-container-id-38 div.sk-toggleable {background-color: white;}#sk-container-id-38 label.sk-toggleable__label {cursor: pointer;display: block;width: 100%;margin-bottom: 0;padding: 0.3em;box-sizing: border-box;text-align: center;}#sk-container-id-38 label.sk-toggleable__label-arrow:before {content: \"▸\";float: left;margin-right: 0.25em;color: #696969;}#sk-container-id-38 label.sk-toggleable__label-arrow:hover:before {color: black;}#sk-container-id-38 div.sk-estimator:hover label.sk-toggleable__label-arrow:before {color: black;}#sk-container-id-38 div.sk-toggleable__content {max-height: 0;max-width: 0;overflow: hidden;text-align: left;background-color: #f0f8ff;}#sk-container-id-38 div.sk-toggleable__content pre {margin: 0.2em;color: black;border-radius: 0.25em;background-color: #f0f8ff;}#sk-container-id-38 input.sk-toggleable__control:checked~div.sk-toggleable__content {max-height: 200px;max-width: 100%;overflow: auto;}#sk-container-id-38 input.sk-toggleable__control:checked~label.sk-toggleable__label-arrow:before {content: \"▾\";}#sk-container-id-38 div.sk-estimator input.sk-toggleable__control:checked~label.sk-toggleable__label {background-color: #d4ebff;}#sk-container-id-38 div.sk-label input.sk-toggleable__control:checked~label.sk-toggleable__label {background-color: #d4ebff;}#sk-container-id-38 input.sk-hidden--visually {border: 0;clip: rect(1px 1px 1px 1px);clip: rect(1px, 1px, 1px, 1px);height: 1px;margin: -1px;overflow: hidden;padding: 0;position: absolute;width: 1px;}#sk-container-id-38 div.sk-estimator {font-family: monospace;background-color: #f0f8ff;border: 1px dotted black;border-radius: 0.25em;box-sizing: border-box;margin-bottom: 0.5em;}#sk-container-id-38 div.sk-estimator:hover {background-color: #d4ebff;}#sk-container-id-38 div.sk-parallel-item::after {content: \"\";width: 100%;border-bottom: 1px solid gray;flex-grow: 1;}#sk-container-id-38 div.sk-label:hover label.sk-toggleable__label {background-color: #d4ebff;}#sk-container-id-38 div.sk-serial::before {content: \"\";position: absolute;border-left: 1px solid gray;box-sizing: border-box;top: 0;bottom: 0;left: 50%;z-index: 0;}#sk-container-id-38 div.sk-serial {display: flex;flex-direction: column;align-items: center;background-color: white;padding-right: 0.2em;padding-left: 0.2em;position: relative;}#sk-container-id-38 div.sk-item {position: relative;z-index: 1;}#sk-container-id-38 div.sk-parallel {display: flex;align-items: stretch;justify-content: center;background-color: white;position: relative;}#sk-container-id-38 div.sk-item::before, #sk-container-id-38 div.sk-parallel-item::before {content: \"\";position: absolute;border-left: 1px solid gray;box-sizing: border-box;top: 0;bottom: 0;left: 50%;z-index: -1;}#sk-container-id-38 div.sk-parallel-item {display: flex;flex-direction: column;z-index: 1;position: relative;background-color: white;}#sk-container-id-38 div.sk-parallel-item:first-child::after {align-self: flex-end;width: 50%;}#sk-container-id-38 div.sk-parallel-item:last-child::after {align-self: flex-start;width: 50%;}#sk-container-id-38 div.sk-parallel-item:only-child::after {width: 0;}#sk-container-id-38 div.sk-dashed-wrapped {border: 1px dashed gray;margin: 0 0.4em 0.5em 0.4em;box-sizing: border-box;padding-bottom: 0.4em;background-color: white;}#sk-container-id-38 div.sk-label label {font-family: monospace;font-weight: bold;display: inline-block;line-height: 1.2em;}#sk-container-id-38 div.sk-label-container {text-align: center;}#sk-container-id-38 div.sk-container {/* jupyter's `normalize.less` sets `[hidden] { display: none; }` but bootstrap.min.css set `[hidden] { display: none !important; }` so we also need the `!important` here to be able to override the default hidden behavior on the sphinx rendered scikit-learn.org. See: https://github.com/scikit-learn/scikit-learn/issues/21755 */display: inline-block !important;position: relative;}#sk-container-id-38 div.sk-text-repr-fallback {display: none;}</style><div id=\"sk-container-id-38\" class=\"sk-top-container\"><div class=\"sk-text-repr-fallback\"><pre>Pipeline(steps=[(&#x27;preprocessor&#x27;,\n                 ColumnTransformer(transformers=[(&#x27;num&#x27;,\n                                                  Pipeline(steps=[(&#x27;impute&#x27;,\n                                                                   SimpleImputer(strategy=&#x27;most_frequent&#x27;)),\n                                                                  (&#x27;scaler&#x27;,\n                                                                   StandardScaler())]),\n                                                  Index([&#x27;easting&#x27;, &#x27;northing&#x27;, &#x27;elevation&#x27;], dtype=&#x27;object&#x27;)),\n                                                 (&#x27;cat&#x27;,\n                                                  Pipeline(steps=[(&#x27;imputer&#x27;,\n                                                                   SimpleImputer(strategy=&#x27;most_frequent&#x27;)),\n                                                                  (&#x27;ohe&#x27;,\n                                                                   OneHotEncoder(handle_unknown=&#x27;ignore&#x27;,\n                                                                                 spar...\n                              feature_types=None, gamma=None, grow_policy=None,\n                              importance_type=None,\n                              interaction_constraints=None,\n                              learning_rate=0.7750347200108194, max_bin=None,\n                              max_cat_threshold=None, max_cat_to_onehot=None,\n                              max_delta_step=None, max_depth=41,\n                              max_leaves=None, min_child_weight=None,\n                              missing=nan, monotone_constraints=None,\n                              multi_strategy=None, n_estimators=917,\n                              n_jobs=None, num_parallel_tree=None,\n                              random_state=42, ...))])</pre><b>In a Jupyter environment, please rerun this cell to show the HTML representation or trust the notebook. <br />On GitHub, the HTML representation is unable to render, please try loading this page with nbviewer.org.</b></div><div class=\"sk-container\" hidden><div class=\"sk-item sk-dashed-wrapped\"><div class=\"sk-label-container\"><div class=\"sk-label sk-toggleable\"><input class=\"sk-toggleable__control sk-hidden--visually\" id=\"sk-estimator-id-328\" type=\"checkbox\" ><label for=\"sk-estimator-id-328\" class=\"sk-toggleable__label sk-toggleable__label-arrow\">Pipeline</label><div class=\"sk-toggleable__content\"><pre>Pipeline(steps=[(&#x27;preprocessor&#x27;,\n                 ColumnTransformer(transformers=[(&#x27;num&#x27;,\n                                                  Pipeline(steps=[(&#x27;impute&#x27;,\n                                                                   SimpleImputer(strategy=&#x27;most_frequent&#x27;)),\n                                                                  (&#x27;scaler&#x27;,\n                                                                   StandardScaler())]),\n                                                  Index([&#x27;easting&#x27;, &#x27;northing&#x27;, &#x27;elevation&#x27;], dtype=&#x27;object&#x27;)),\n                                                 (&#x27;cat&#x27;,\n                                                  Pipeline(steps=[(&#x27;imputer&#x27;,\n                                                                   SimpleImputer(strategy=&#x27;most_frequent&#x27;)),\n                                                                  (&#x27;ohe&#x27;,\n                                                                   OneHotEncoder(handle_unknown=&#x27;ignore&#x27;,\n                                                                                 spar...\n                              feature_types=None, gamma=None, grow_policy=None,\n                              importance_type=None,\n                              interaction_constraints=None,\n                              learning_rate=0.7750347200108194, max_bin=None,\n                              max_cat_threshold=None, max_cat_to_onehot=None,\n                              max_delta_step=None, max_depth=41,\n                              max_leaves=None, min_child_weight=None,\n                              missing=nan, monotone_constraints=None,\n                              multi_strategy=None, n_estimators=917,\n                              n_jobs=None, num_parallel_tree=None,\n                              random_state=42, ...))])</pre></div></div></div><div class=\"sk-serial\"><div class=\"sk-item sk-dashed-wrapped\"><div class=\"sk-label-container\"><div class=\"sk-label sk-toggleable\"><input class=\"sk-toggleable__control sk-hidden--visually\" id=\"sk-estimator-id-329\" type=\"checkbox\" ><label for=\"sk-estimator-id-329\" class=\"sk-toggleable__label sk-toggleable__label-arrow\">preprocessor: ColumnTransformer</label><div class=\"sk-toggleable__content\"><pre>ColumnTransformer(transformers=[(&#x27;num&#x27;,\n                                 Pipeline(steps=[(&#x27;impute&#x27;,\n                                                  SimpleImputer(strategy=&#x27;most_frequent&#x27;)),\n                                                 (&#x27;scaler&#x27;, StandardScaler())]),\n                                 Index([&#x27;easting&#x27;, &#x27;northing&#x27;, &#x27;elevation&#x27;], dtype=&#x27;object&#x27;)),\n                                (&#x27;cat&#x27;,\n                                 Pipeline(steps=[(&#x27;imputer&#x27;,\n                                                  SimpleImputer(strategy=&#x27;most_frequent&#x27;)),\n                                                 (&#x27;ohe&#x27;,\n                                                  OneHotEncoder(handle_unknown=&#x27;ignore&#x27;,\n                                                                sparse_output=False))]),\n                                 [&#x27;soilType&#x27;])])</pre></div></div></div><div class=\"sk-parallel\"><div class=\"sk-parallel-item\"><div class=\"sk-item\"><div class=\"sk-label-container\"><div class=\"sk-label sk-toggleable\"><input class=\"sk-toggleable__control sk-hidden--visually\" id=\"sk-estimator-id-330\" type=\"checkbox\" ><label for=\"sk-estimator-id-330\" class=\"sk-toggleable__label sk-toggleable__label-arrow\">num</label><div class=\"sk-toggleable__content\"><pre>Index([&#x27;easting&#x27;, &#x27;northing&#x27;, &#x27;elevation&#x27;], dtype=&#x27;object&#x27;)</pre></div></div></div><div class=\"sk-serial\"><div class=\"sk-item\"><div class=\"sk-serial\"><div class=\"sk-item\"><div class=\"sk-estimator sk-toggleable\"><input class=\"sk-toggleable__control sk-hidden--visually\" id=\"sk-estimator-id-331\" type=\"checkbox\" ><label for=\"sk-estimator-id-331\" class=\"sk-toggleable__label sk-toggleable__label-arrow\">SimpleImputer</label><div class=\"sk-toggleable__content\"><pre>SimpleImputer(strategy=&#x27;most_frequent&#x27;)</pre></div></div></div><div class=\"sk-item\"><div class=\"sk-estimator sk-toggleable\"><input class=\"sk-toggleable__control sk-hidden--visually\" id=\"sk-estimator-id-332\" type=\"checkbox\" ><label for=\"sk-estimator-id-332\" class=\"sk-toggleable__label sk-toggleable__label-arrow\">StandardScaler</label><div class=\"sk-toggleable__content\"><pre>StandardScaler()</pre></div></div></div></div></div></div></div></div><div class=\"sk-parallel-item\"><div class=\"sk-item\"><div class=\"sk-label-container\"><div class=\"sk-label sk-toggleable\"><input class=\"sk-toggleable__control sk-hidden--visually\" id=\"sk-estimator-id-333\" type=\"checkbox\" ><label for=\"sk-estimator-id-333\" class=\"sk-toggleable__label sk-toggleable__label-arrow\">cat</label><div class=\"sk-toggleable__content\"><pre>[&#x27;soilType&#x27;]</pre></div></div></div><div class=\"sk-serial\"><div class=\"sk-item\"><div class=\"sk-serial\"><div class=\"sk-item\"><div class=\"sk-estimator sk-toggleable\"><input class=\"sk-toggleable__control sk-hidden--visually\" id=\"sk-estimator-id-334\" type=\"checkbox\" ><label for=\"sk-estimator-id-334\" class=\"sk-toggleable__label sk-toggleable__label-arrow\">SimpleImputer</label><div class=\"sk-toggleable__content\"><pre>SimpleImputer(strategy=&#x27;most_frequent&#x27;)</pre></div></div></div><div class=\"sk-item\"><div class=\"sk-estimator sk-toggleable\"><input class=\"sk-toggleable__control sk-hidden--visually\" id=\"sk-estimator-id-335\" type=\"checkbox\" ><label for=\"sk-estimator-id-335\" class=\"sk-toggleable__label sk-toggleable__label-arrow\">OneHotEncoder</label><div class=\"sk-toggleable__content\"><pre>OneHotEncoder(handle_unknown=&#x27;ignore&#x27;, sparse_output=False)</pre></div></div></div></div></div></div></div></div></div></div><div class=\"sk-item\"><div class=\"sk-estimator sk-toggleable\"><input class=\"sk-toggleable__control sk-hidden--visually\" id=\"sk-estimator-id-336\" type=\"checkbox\" ><label for=\"sk-estimator-id-336\" class=\"sk-toggleable__label sk-toggleable__label-arrow\">XGBRegressor</label><div class=\"sk-toggleable__content\"><pre>XGBRegressor(base_score=None, booster=None, callbacks=None,\n             colsample_bylevel=None, colsample_bynode=None,\n             colsample_bytree=None, device=None, early_stopping_rounds=None,\n             enable_categorical=False, eval_metric=None, feature_types=None,\n             gamma=None, grow_policy=None, importance_type=None,\n             interaction_constraints=None, learning_rate=0.7750347200108194,\n             max_bin=None, max_cat_threshold=None, max_cat_to_onehot=None,\n             max_delta_step=None, max_depth=41, max_leaves=None,\n             min_child_weight=None, missing=nan, monotone_constraints=None,\n             multi_strategy=None, n_estimators=917, n_jobs=None,\n             num_parallel_tree=None, random_state=42, ...)</pre></div></div></div></div></div></div></div>"
     },
     "execution_count": 1039,
     "metadata": {},
     "output_type": "execute_result"
    }
   ],
   "source": [
    "best_model.fit(X_stack, y)"
   ],
   "metadata": {
    "collapsed": false,
    "ExecuteTime": {
     "end_time": "2023-11-22T16:26:06.072945Z",
     "start_time": "2023-11-22T16:26:05.398652Z"
    }
   },
   "id": "a7541d4e4b42bbec"
  },
  {
   "cell_type": "code",
   "execution_count": 1040,
   "outputs": [
    {
     "data": {
      "text/plain": "{'model__learning_rate': 0.7750347200108194,\n 'model__max_depth': 41,\n 'model__n_estimators': 917,\n 'preprocessor__num__scaler': StandardScaler()}"
     },
     "execution_count": 1040,
     "metadata": {},
     "output_type": "execute_result"
    }
   ],
   "source": [
    "rand_cv.best_params_"
   ],
   "metadata": {
    "collapsed": false,
    "ExecuteTime": {
     "end_time": "2023-11-22T16:26:07.401778Z",
     "start_time": "2023-11-22T16:26:07.342024Z"
    }
   },
   "id": "dbb77c52d476b8f9"
  },
  {
   "cell_type": "code",
   "execution_count": 1056,
   "outputs": [],
   "source": [
    "preds_new = best_model.predict(X_stack)"
   ],
   "metadata": {
    "collapsed": false,
    "ExecuteTime": {
     "end_time": "2023-11-22T16:28:03.725692Z",
     "start_time": "2023-11-22T16:28:03.656765Z"
    }
   },
   "id": "dc61614a05496b08"
  },
  {
   "cell_type": "code",
   "execution_count": 1057,
   "outputs": [
    {
     "data": {
      "text/plain": "array([ 2.0629154e-04,  1.4415113e-05,  1.0988297e-03, ...,\n        5.2569223e-05, -3.7870335e-04,  2.4874957e-04], dtype=float32)"
     },
     "execution_count": 1057,
     "metadata": {},
     "output_type": "execute_result"
    }
   ],
   "source": [
    "preds_new"
   ],
   "metadata": {
    "collapsed": false,
    "ExecuteTime": {
     "end_time": "2023-11-22T16:28:04.160176Z",
     "start_time": "2023-11-22T16:28:04.126220Z"
    }
   },
   "id": "be9a152f6b92d56b"
  },
  {
   "cell_type": "code",
   "execution_count": 1058,
   "outputs": [
    {
     "data": {
      "text/plain": "3260860"
     },
     "execution_count": 1058,
     "metadata": {},
     "output_type": "execute_result"
    }
   ],
   "source": [
    "score = score_fn(y, preds_new)\n",
    "score"
   ],
   "metadata": {
    "collapsed": false,
    "ExecuteTime": {
     "end_time": "2023-11-22T16:28:05.187195Z",
     "start_time": "2023-11-22T16:28:05.126821Z"
    }
   },
   "id": "9e03d4202c080ed5"
  },
  {
   "cell_type": "code",
   "execution_count": 1065,
   "outputs": [
    {
     "name": "stderr",
     "output_type": "stream",
     "text": [
      "2023-11-22 16:30:28,297 [flood_tool.models.predictor] INFO: Model successfully fit.\n"
     ]
    }
   ],
   "source": [
    "from flood_tool.models.flood_predictor import FloodPredictor\n",
    "\n",
    "fp = FloodPredictor(\n",
    "    training_path='../flood_tool/resources/postcodes_labelled.csv',\n",
    "    model_alias='xgb_regressor',\n",
    "    scoring=score_fn,\n",
    "    tune_hyperparameters=False,\n",
    "    n_iter=15,\n",
    ")"
   ],
   "metadata": {
    "collapsed": false,
    "ExecuteTime": {
     "end_time": "2023-11-22T16:30:28.303773Z",
     "start_time": "2023-11-22T16:30:26.197952Z"
    }
   },
   "id": "a6f3bb5fed9866f"
  },
  {
   "cell_type": "code",
   "execution_count": 1065,
   "outputs": [],
   "source": [],
   "metadata": {
    "collapsed": false,
    "ExecuteTime": {
     "end_time": "2023-11-22T16:30:29.087522Z",
     "start_time": "2023-11-22T16:30:29.038901Z"
    }
   },
   "id": "c461a1bf5d5e2c25"
  },
  {
   "cell_type": "code",
   "execution_count": 1066,
   "outputs": [
    {
     "name": "stderr",
     "output_type": "stream",
     "text": [
      "2023-11-22 16:30:30,015 [flood_tool.models.flood_predictor] INFO: 2170610\n"
     ]
    }
   ],
   "source": [
    "preds = fp.predict_flood_risk(X_stack, index='postcode')"
   ],
   "metadata": {
    "collapsed": false,
    "ExecuteTime": {
     "end_time": "2023-11-22T16:30:30.022116Z",
     "start_time": "2023-11-22T16:30:29.253103Z"
    }
   },
   "id": "c16f1ce1197e3c9c"
  },
  {
   "cell_type": "code",
   "execution_count": 1067,
   "outputs": [
    {
     "data": {
      "text/plain": "Pipeline(steps=[('preprocessor',\n                 ColumnTransformer(transformers=[('num',\n                                                  Pipeline(steps=[('impute',\n                                                                   SimpleImputer(strategy='most_frequent')),\n                                                                  ('scaler',\n                                                                   StandardScaler())]),\n                                                  Index(['easting', 'northing', 'elevation'], dtype='object')),\n                                                 ('cat',\n                                                  Pipeline(steps=[('imputer',\n                                                                   SimpleImputer(strategy='most_frequent')),\n                                                                  ('ohe',\n                                                                   OneHotEncoder(handle_unknown='ignore',\n                                                                                 spar...\n                              feature_types=None, gamma=None, grow_policy=None,\n                              importance_type=None,\n                              interaction_constraints=None,\n                              learning_rate=0.7750347200108194, max_bin=None,\n                              max_cat_threshold=None, max_cat_to_onehot=None,\n                              max_delta_step=None, max_depth=41,\n                              max_leaves=None, min_child_weight=None,\n                              missing=nan, monotone_constraints=None,\n                              multi_strategy=None, n_estimators=917,\n                              n_jobs=None, num_parallel_tree=None,\n                              random_state=42, ...))])",
      "text/html": "<style>#sk-container-id-41 {color: black;}#sk-container-id-41 pre{padding: 0;}#sk-container-id-41 div.sk-toggleable {background-color: white;}#sk-container-id-41 label.sk-toggleable__label {cursor: pointer;display: block;width: 100%;margin-bottom: 0;padding: 0.3em;box-sizing: border-box;text-align: center;}#sk-container-id-41 label.sk-toggleable__label-arrow:before {content: \"▸\";float: left;margin-right: 0.25em;color: #696969;}#sk-container-id-41 label.sk-toggleable__label-arrow:hover:before {color: black;}#sk-container-id-41 div.sk-estimator:hover label.sk-toggleable__label-arrow:before {color: black;}#sk-container-id-41 div.sk-toggleable__content {max-height: 0;max-width: 0;overflow: hidden;text-align: left;background-color: #f0f8ff;}#sk-container-id-41 div.sk-toggleable__content pre {margin: 0.2em;color: black;border-radius: 0.25em;background-color: #f0f8ff;}#sk-container-id-41 input.sk-toggleable__control:checked~div.sk-toggleable__content {max-height: 200px;max-width: 100%;overflow: auto;}#sk-container-id-41 input.sk-toggleable__control:checked~label.sk-toggleable__label-arrow:before {content: \"▾\";}#sk-container-id-41 div.sk-estimator input.sk-toggleable__control:checked~label.sk-toggleable__label {background-color: #d4ebff;}#sk-container-id-41 div.sk-label input.sk-toggleable__control:checked~label.sk-toggleable__label {background-color: #d4ebff;}#sk-container-id-41 input.sk-hidden--visually {border: 0;clip: rect(1px 1px 1px 1px);clip: rect(1px, 1px, 1px, 1px);height: 1px;margin: -1px;overflow: hidden;padding: 0;position: absolute;width: 1px;}#sk-container-id-41 div.sk-estimator {font-family: monospace;background-color: #f0f8ff;border: 1px dotted black;border-radius: 0.25em;box-sizing: border-box;margin-bottom: 0.5em;}#sk-container-id-41 div.sk-estimator:hover {background-color: #d4ebff;}#sk-container-id-41 div.sk-parallel-item::after {content: \"\";width: 100%;border-bottom: 1px solid gray;flex-grow: 1;}#sk-container-id-41 div.sk-label:hover label.sk-toggleable__label {background-color: #d4ebff;}#sk-container-id-41 div.sk-serial::before {content: \"\";position: absolute;border-left: 1px solid gray;box-sizing: border-box;top: 0;bottom: 0;left: 50%;z-index: 0;}#sk-container-id-41 div.sk-serial {display: flex;flex-direction: column;align-items: center;background-color: white;padding-right: 0.2em;padding-left: 0.2em;position: relative;}#sk-container-id-41 div.sk-item {position: relative;z-index: 1;}#sk-container-id-41 div.sk-parallel {display: flex;align-items: stretch;justify-content: center;background-color: white;position: relative;}#sk-container-id-41 div.sk-item::before, #sk-container-id-41 div.sk-parallel-item::before {content: \"\";position: absolute;border-left: 1px solid gray;box-sizing: border-box;top: 0;bottom: 0;left: 50%;z-index: -1;}#sk-container-id-41 div.sk-parallel-item {display: flex;flex-direction: column;z-index: 1;position: relative;background-color: white;}#sk-container-id-41 div.sk-parallel-item:first-child::after {align-self: flex-end;width: 50%;}#sk-container-id-41 div.sk-parallel-item:last-child::after {align-self: flex-start;width: 50%;}#sk-container-id-41 div.sk-parallel-item:only-child::after {width: 0;}#sk-container-id-41 div.sk-dashed-wrapped {border: 1px dashed gray;margin: 0 0.4em 0.5em 0.4em;box-sizing: border-box;padding-bottom: 0.4em;background-color: white;}#sk-container-id-41 div.sk-label label {font-family: monospace;font-weight: bold;display: inline-block;line-height: 1.2em;}#sk-container-id-41 div.sk-label-container {text-align: center;}#sk-container-id-41 div.sk-container {/* jupyter's `normalize.less` sets `[hidden] { display: none; }` but bootstrap.min.css set `[hidden] { display: none !important; }` so we also need the `!important` here to be able to override the default hidden behavior on the sphinx rendered scikit-learn.org. See: https://github.com/scikit-learn/scikit-learn/issues/21755 */display: inline-block !important;position: relative;}#sk-container-id-41 div.sk-text-repr-fallback {display: none;}</style><div id=\"sk-container-id-41\" class=\"sk-top-container\"><div class=\"sk-text-repr-fallback\"><pre>Pipeline(steps=[(&#x27;preprocessor&#x27;,\n                 ColumnTransformer(transformers=[(&#x27;num&#x27;,\n                                                  Pipeline(steps=[(&#x27;impute&#x27;,\n                                                                   SimpleImputer(strategy=&#x27;most_frequent&#x27;)),\n                                                                  (&#x27;scaler&#x27;,\n                                                                   StandardScaler())]),\n                                                  Index([&#x27;easting&#x27;, &#x27;northing&#x27;, &#x27;elevation&#x27;], dtype=&#x27;object&#x27;)),\n                                                 (&#x27;cat&#x27;,\n                                                  Pipeline(steps=[(&#x27;imputer&#x27;,\n                                                                   SimpleImputer(strategy=&#x27;most_frequent&#x27;)),\n                                                                  (&#x27;ohe&#x27;,\n                                                                   OneHotEncoder(handle_unknown=&#x27;ignore&#x27;,\n                                                                                 spar...\n                              feature_types=None, gamma=None, grow_policy=None,\n                              importance_type=None,\n                              interaction_constraints=None,\n                              learning_rate=0.7750347200108194, max_bin=None,\n                              max_cat_threshold=None, max_cat_to_onehot=None,\n                              max_delta_step=None, max_depth=41,\n                              max_leaves=None, min_child_weight=None,\n                              missing=nan, monotone_constraints=None,\n                              multi_strategy=None, n_estimators=917,\n                              n_jobs=None, num_parallel_tree=None,\n                              random_state=42, ...))])</pre><b>In a Jupyter environment, please rerun this cell to show the HTML representation or trust the notebook. <br />On GitHub, the HTML representation is unable to render, please try loading this page with nbviewer.org.</b></div><div class=\"sk-container\" hidden><div class=\"sk-item sk-dashed-wrapped\"><div class=\"sk-label-container\"><div class=\"sk-label sk-toggleable\"><input class=\"sk-toggleable__control sk-hidden--visually\" id=\"sk-estimator-id-355\" type=\"checkbox\" ><label for=\"sk-estimator-id-355\" class=\"sk-toggleable__label sk-toggleable__label-arrow\">Pipeline</label><div class=\"sk-toggleable__content\"><pre>Pipeline(steps=[(&#x27;preprocessor&#x27;,\n                 ColumnTransformer(transformers=[(&#x27;num&#x27;,\n                                                  Pipeline(steps=[(&#x27;impute&#x27;,\n                                                                   SimpleImputer(strategy=&#x27;most_frequent&#x27;)),\n                                                                  (&#x27;scaler&#x27;,\n                                                                   StandardScaler())]),\n                                                  Index([&#x27;easting&#x27;, &#x27;northing&#x27;, &#x27;elevation&#x27;], dtype=&#x27;object&#x27;)),\n                                                 (&#x27;cat&#x27;,\n                                                  Pipeline(steps=[(&#x27;imputer&#x27;,\n                                                                   SimpleImputer(strategy=&#x27;most_frequent&#x27;)),\n                                                                  (&#x27;ohe&#x27;,\n                                                                   OneHotEncoder(handle_unknown=&#x27;ignore&#x27;,\n                                                                                 spar...\n                              feature_types=None, gamma=None, grow_policy=None,\n                              importance_type=None,\n                              interaction_constraints=None,\n                              learning_rate=0.7750347200108194, max_bin=None,\n                              max_cat_threshold=None, max_cat_to_onehot=None,\n                              max_delta_step=None, max_depth=41,\n                              max_leaves=None, min_child_weight=None,\n                              missing=nan, monotone_constraints=None,\n                              multi_strategy=None, n_estimators=917,\n                              n_jobs=None, num_parallel_tree=None,\n                              random_state=42, ...))])</pre></div></div></div><div class=\"sk-serial\"><div class=\"sk-item sk-dashed-wrapped\"><div class=\"sk-label-container\"><div class=\"sk-label sk-toggleable\"><input class=\"sk-toggleable__control sk-hidden--visually\" id=\"sk-estimator-id-356\" type=\"checkbox\" ><label for=\"sk-estimator-id-356\" class=\"sk-toggleable__label sk-toggleable__label-arrow\">preprocessor: ColumnTransformer</label><div class=\"sk-toggleable__content\"><pre>ColumnTransformer(transformers=[(&#x27;num&#x27;,\n                                 Pipeline(steps=[(&#x27;impute&#x27;,\n                                                  SimpleImputer(strategy=&#x27;most_frequent&#x27;)),\n                                                 (&#x27;scaler&#x27;, StandardScaler())]),\n                                 Index([&#x27;easting&#x27;, &#x27;northing&#x27;, &#x27;elevation&#x27;], dtype=&#x27;object&#x27;)),\n                                (&#x27;cat&#x27;,\n                                 Pipeline(steps=[(&#x27;imputer&#x27;,\n                                                  SimpleImputer(strategy=&#x27;most_frequent&#x27;)),\n                                                 (&#x27;ohe&#x27;,\n                                                  OneHotEncoder(handle_unknown=&#x27;ignore&#x27;,\n                                                                sparse_output=False))]),\n                                 [&#x27;soilType&#x27;])])</pre></div></div></div><div class=\"sk-parallel\"><div class=\"sk-parallel-item\"><div class=\"sk-item\"><div class=\"sk-label-container\"><div class=\"sk-label sk-toggleable\"><input class=\"sk-toggleable__control sk-hidden--visually\" id=\"sk-estimator-id-357\" type=\"checkbox\" ><label for=\"sk-estimator-id-357\" class=\"sk-toggleable__label sk-toggleable__label-arrow\">num</label><div class=\"sk-toggleable__content\"><pre>Index([&#x27;easting&#x27;, &#x27;northing&#x27;, &#x27;elevation&#x27;], dtype=&#x27;object&#x27;)</pre></div></div></div><div class=\"sk-serial\"><div class=\"sk-item\"><div class=\"sk-serial\"><div class=\"sk-item\"><div class=\"sk-estimator sk-toggleable\"><input class=\"sk-toggleable__control sk-hidden--visually\" id=\"sk-estimator-id-358\" type=\"checkbox\" ><label for=\"sk-estimator-id-358\" class=\"sk-toggleable__label sk-toggleable__label-arrow\">SimpleImputer</label><div class=\"sk-toggleable__content\"><pre>SimpleImputer(strategy=&#x27;most_frequent&#x27;)</pre></div></div></div><div class=\"sk-item\"><div class=\"sk-estimator sk-toggleable\"><input class=\"sk-toggleable__control sk-hidden--visually\" id=\"sk-estimator-id-359\" type=\"checkbox\" ><label for=\"sk-estimator-id-359\" class=\"sk-toggleable__label sk-toggleable__label-arrow\">StandardScaler</label><div class=\"sk-toggleable__content\"><pre>StandardScaler()</pre></div></div></div></div></div></div></div></div><div class=\"sk-parallel-item\"><div class=\"sk-item\"><div class=\"sk-label-container\"><div class=\"sk-label sk-toggleable\"><input class=\"sk-toggleable__control sk-hidden--visually\" id=\"sk-estimator-id-360\" type=\"checkbox\" ><label for=\"sk-estimator-id-360\" class=\"sk-toggleable__label sk-toggleable__label-arrow\">cat</label><div class=\"sk-toggleable__content\"><pre>[&#x27;soilType&#x27;]</pre></div></div></div><div class=\"sk-serial\"><div class=\"sk-item\"><div class=\"sk-serial\"><div class=\"sk-item\"><div class=\"sk-estimator sk-toggleable\"><input class=\"sk-toggleable__control sk-hidden--visually\" id=\"sk-estimator-id-361\" type=\"checkbox\" ><label for=\"sk-estimator-id-361\" class=\"sk-toggleable__label sk-toggleable__label-arrow\">SimpleImputer</label><div class=\"sk-toggleable__content\"><pre>SimpleImputer(strategy=&#x27;most_frequent&#x27;)</pre></div></div></div><div class=\"sk-item\"><div class=\"sk-estimator sk-toggleable\"><input class=\"sk-toggleable__control sk-hidden--visually\" id=\"sk-estimator-id-362\" type=\"checkbox\" ><label for=\"sk-estimator-id-362\" class=\"sk-toggleable__label sk-toggleable__label-arrow\">OneHotEncoder</label><div class=\"sk-toggleable__content\"><pre>OneHotEncoder(handle_unknown=&#x27;ignore&#x27;, sparse_output=False)</pre></div></div></div></div></div></div></div></div></div></div><div class=\"sk-item\"><div class=\"sk-estimator sk-toggleable\"><input class=\"sk-toggleable__control sk-hidden--visually\" id=\"sk-estimator-id-363\" type=\"checkbox\" ><label for=\"sk-estimator-id-363\" class=\"sk-toggleable__label sk-toggleable__label-arrow\">XGBRegressor</label><div class=\"sk-toggleable__content\"><pre>XGBRegressor(base_score=None, booster=None, callbacks=None,\n             colsample_bylevel=None, colsample_bynode=None,\n             colsample_bytree=None, device=None, early_stopping_rounds=None,\n             enable_categorical=False, eval_metric=None, feature_types=None,\n             gamma=None, grow_policy=None, importance_type=None,\n             interaction_constraints=None, learning_rate=0.7750347200108194,\n             max_bin=None, max_cat_threshold=None, max_cat_to_onehot=None,\n             max_delta_step=None, max_depth=41, max_leaves=None,\n             min_child_weight=None, missing=nan, monotone_constraints=None,\n             multi_strategy=None, n_estimators=917, n_jobs=None,\n             num_parallel_tree=None, random_state=42, ...)</pre></div></div></div></div></div></div></div>"
     },
     "execution_count": 1067,
     "metadata": {},
     "output_type": "execute_result"
    }
   ],
   "source": [
    "best_model"
   ],
   "metadata": {
    "collapsed": false,
    "ExecuteTime": {
     "end_time": "2023-11-22T16:30:31.248390Z",
     "start_time": "2023-11-22T16:30:31.194358Z"
    }
   },
   "id": "25fd3af4c3224707"
  },
  {
   "cell_type": "code",
   "execution_count": 1088,
   "outputs": [
    {
     "data": {
      "text/plain": "Pipeline(steps=[('preprocessor',\n                 ColumnTransformer(transformers=[('num',\n                                                  Pipeline(steps=[('impute',\n                                                                   SimpleImputer(strategy='most_frequent')),\n                                                                  ('scaler',\n                                                                   StandardScaler())]),\n                                                  Index(['easting', 'northing', 'elevation'], dtype='object')),\n                                                 ('cat',\n                                                  Pipeline(steps=[('imputer',\n                                                                   SimpleImputer(strategy='most_frequent')),\n                                                                  ('ohe',\n                                                                   OneHotEncoder(handle_unknown='ignore',\n                                                                                 spar...\n                              feature_types=None, gamma=None, grow_policy=None,\n                              importance_type=None,\n                              interaction_constraints=None,\n                              learning_rate=0.7750347200108194, max_bin=None,\n                              max_cat_threshold=None, max_cat_to_onehot=None,\n                              max_delta_step=None, max_depth=41,\n                              max_leaves=None, min_child_weight=None,\n                              missing=nan, monotone_constraints=None,\n                              multi_strategy=None, n_estimators=917,\n                              n_jobs=None, num_parallel_tree=None,\n                              random_state=42, ...))])",
      "text/html": "<style>#sk-container-id-44 {color: black;}#sk-container-id-44 pre{padding: 0;}#sk-container-id-44 div.sk-toggleable {background-color: white;}#sk-container-id-44 label.sk-toggleable__label {cursor: pointer;display: block;width: 100%;margin-bottom: 0;padding: 0.3em;box-sizing: border-box;text-align: center;}#sk-container-id-44 label.sk-toggleable__label-arrow:before {content: \"▸\";float: left;margin-right: 0.25em;color: #696969;}#sk-container-id-44 label.sk-toggleable__label-arrow:hover:before {color: black;}#sk-container-id-44 div.sk-estimator:hover label.sk-toggleable__label-arrow:before {color: black;}#sk-container-id-44 div.sk-toggleable__content {max-height: 0;max-width: 0;overflow: hidden;text-align: left;background-color: #f0f8ff;}#sk-container-id-44 div.sk-toggleable__content pre {margin: 0.2em;color: black;border-radius: 0.25em;background-color: #f0f8ff;}#sk-container-id-44 input.sk-toggleable__control:checked~div.sk-toggleable__content {max-height: 200px;max-width: 100%;overflow: auto;}#sk-container-id-44 input.sk-toggleable__control:checked~label.sk-toggleable__label-arrow:before {content: \"▾\";}#sk-container-id-44 div.sk-estimator input.sk-toggleable__control:checked~label.sk-toggleable__label {background-color: #d4ebff;}#sk-container-id-44 div.sk-label input.sk-toggleable__control:checked~label.sk-toggleable__label {background-color: #d4ebff;}#sk-container-id-44 input.sk-hidden--visually {border: 0;clip: rect(1px 1px 1px 1px);clip: rect(1px, 1px, 1px, 1px);height: 1px;margin: -1px;overflow: hidden;padding: 0;position: absolute;width: 1px;}#sk-container-id-44 div.sk-estimator {font-family: monospace;background-color: #f0f8ff;border: 1px dotted black;border-radius: 0.25em;box-sizing: border-box;margin-bottom: 0.5em;}#sk-container-id-44 div.sk-estimator:hover {background-color: #d4ebff;}#sk-container-id-44 div.sk-parallel-item::after {content: \"\";width: 100%;border-bottom: 1px solid gray;flex-grow: 1;}#sk-container-id-44 div.sk-label:hover label.sk-toggleable__label {background-color: #d4ebff;}#sk-container-id-44 div.sk-serial::before {content: \"\";position: absolute;border-left: 1px solid gray;box-sizing: border-box;top: 0;bottom: 0;left: 50%;z-index: 0;}#sk-container-id-44 div.sk-serial {display: flex;flex-direction: column;align-items: center;background-color: white;padding-right: 0.2em;padding-left: 0.2em;position: relative;}#sk-container-id-44 div.sk-item {position: relative;z-index: 1;}#sk-container-id-44 div.sk-parallel {display: flex;align-items: stretch;justify-content: center;background-color: white;position: relative;}#sk-container-id-44 div.sk-item::before, #sk-container-id-44 div.sk-parallel-item::before {content: \"\";position: absolute;border-left: 1px solid gray;box-sizing: border-box;top: 0;bottom: 0;left: 50%;z-index: -1;}#sk-container-id-44 div.sk-parallel-item {display: flex;flex-direction: column;z-index: 1;position: relative;background-color: white;}#sk-container-id-44 div.sk-parallel-item:first-child::after {align-self: flex-end;width: 50%;}#sk-container-id-44 div.sk-parallel-item:last-child::after {align-self: flex-start;width: 50%;}#sk-container-id-44 div.sk-parallel-item:only-child::after {width: 0;}#sk-container-id-44 div.sk-dashed-wrapped {border: 1px dashed gray;margin: 0 0.4em 0.5em 0.4em;box-sizing: border-box;padding-bottom: 0.4em;background-color: white;}#sk-container-id-44 div.sk-label label {font-family: monospace;font-weight: bold;display: inline-block;line-height: 1.2em;}#sk-container-id-44 div.sk-label-container {text-align: center;}#sk-container-id-44 div.sk-container {/* jupyter's `normalize.less` sets `[hidden] { display: none; }` but bootstrap.min.css set `[hidden] { display: none !important; }` so we also need the `!important` here to be able to override the default hidden behavior on the sphinx rendered scikit-learn.org. See: https://github.com/scikit-learn/scikit-learn/issues/21755 */display: inline-block !important;position: relative;}#sk-container-id-44 div.sk-text-repr-fallback {display: none;}</style><div id=\"sk-container-id-44\" class=\"sk-top-container\"><div class=\"sk-text-repr-fallback\"><pre>Pipeline(steps=[(&#x27;preprocessor&#x27;,\n                 ColumnTransformer(transformers=[(&#x27;num&#x27;,\n                                                  Pipeline(steps=[(&#x27;impute&#x27;,\n                                                                   SimpleImputer(strategy=&#x27;most_frequent&#x27;)),\n                                                                  (&#x27;scaler&#x27;,\n                                                                   StandardScaler())]),\n                                                  Index([&#x27;easting&#x27;, &#x27;northing&#x27;, &#x27;elevation&#x27;], dtype=&#x27;object&#x27;)),\n                                                 (&#x27;cat&#x27;,\n                                                  Pipeline(steps=[(&#x27;imputer&#x27;,\n                                                                   SimpleImputer(strategy=&#x27;most_frequent&#x27;)),\n                                                                  (&#x27;ohe&#x27;,\n                                                                   OneHotEncoder(handle_unknown=&#x27;ignore&#x27;,\n                                                                                 spar...\n                              feature_types=None, gamma=None, grow_policy=None,\n                              importance_type=None,\n                              interaction_constraints=None,\n                              learning_rate=0.7750347200108194, max_bin=None,\n                              max_cat_threshold=None, max_cat_to_onehot=None,\n                              max_delta_step=None, max_depth=41,\n                              max_leaves=None, min_child_weight=None,\n                              missing=nan, monotone_constraints=None,\n                              multi_strategy=None, n_estimators=917,\n                              n_jobs=None, num_parallel_tree=None,\n                              random_state=42, ...))])</pre><b>In a Jupyter environment, please rerun this cell to show the HTML representation or trust the notebook. <br />On GitHub, the HTML representation is unable to render, please try loading this page with nbviewer.org.</b></div><div class=\"sk-container\" hidden><div class=\"sk-item sk-dashed-wrapped\"><div class=\"sk-label-container\"><div class=\"sk-label sk-toggleable\"><input class=\"sk-toggleable__control sk-hidden--visually\" id=\"sk-estimator-id-382\" type=\"checkbox\" ><label for=\"sk-estimator-id-382\" class=\"sk-toggleable__label sk-toggleable__label-arrow\">Pipeline</label><div class=\"sk-toggleable__content\"><pre>Pipeline(steps=[(&#x27;preprocessor&#x27;,\n                 ColumnTransformer(transformers=[(&#x27;num&#x27;,\n                                                  Pipeline(steps=[(&#x27;impute&#x27;,\n                                                                   SimpleImputer(strategy=&#x27;most_frequent&#x27;)),\n                                                                  (&#x27;scaler&#x27;,\n                                                                   StandardScaler())]),\n                                                  Index([&#x27;easting&#x27;, &#x27;northing&#x27;, &#x27;elevation&#x27;], dtype=&#x27;object&#x27;)),\n                                                 (&#x27;cat&#x27;,\n                                                  Pipeline(steps=[(&#x27;imputer&#x27;,\n                                                                   SimpleImputer(strategy=&#x27;most_frequent&#x27;)),\n                                                                  (&#x27;ohe&#x27;,\n                                                                   OneHotEncoder(handle_unknown=&#x27;ignore&#x27;,\n                                                                                 spar...\n                              feature_types=None, gamma=None, grow_policy=None,\n                              importance_type=None,\n                              interaction_constraints=None,\n                              learning_rate=0.7750347200108194, max_bin=None,\n                              max_cat_threshold=None, max_cat_to_onehot=None,\n                              max_delta_step=None, max_depth=41,\n                              max_leaves=None, min_child_weight=None,\n                              missing=nan, monotone_constraints=None,\n                              multi_strategy=None, n_estimators=917,\n                              n_jobs=None, num_parallel_tree=None,\n                              random_state=42, ...))])</pre></div></div></div><div class=\"sk-serial\"><div class=\"sk-item sk-dashed-wrapped\"><div class=\"sk-label-container\"><div class=\"sk-label sk-toggleable\"><input class=\"sk-toggleable__control sk-hidden--visually\" id=\"sk-estimator-id-383\" type=\"checkbox\" ><label for=\"sk-estimator-id-383\" class=\"sk-toggleable__label sk-toggleable__label-arrow\">preprocessor: ColumnTransformer</label><div class=\"sk-toggleable__content\"><pre>ColumnTransformer(transformers=[(&#x27;num&#x27;,\n                                 Pipeline(steps=[(&#x27;impute&#x27;,\n                                                  SimpleImputer(strategy=&#x27;most_frequent&#x27;)),\n                                                 (&#x27;scaler&#x27;, StandardScaler())]),\n                                 Index([&#x27;easting&#x27;, &#x27;northing&#x27;, &#x27;elevation&#x27;], dtype=&#x27;object&#x27;)),\n                                (&#x27;cat&#x27;,\n                                 Pipeline(steps=[(&#x27;imputer&#x27;,\n                                                  SimpleImputer(strategy=&#x27;most_frequent&#x27;)),\n                                                 (&#x27;ohe&#x27;,\n                                                  OneHotEncoder(handle_unknown=&#x27;ignore&#x27;,\n                                                                sparse_output=False))]),\n                                 [&#x27;soilType&#x27;])])</pre></div></div></div><div class=\"sk-parallel\"><div class=\"sk-parallel-item\"><div class=\"sk-item\"><div class=\"sk-label-container\"><div class=\"sk-label sk-toggleable\"><input class=\"sk-toggleable__control sk-hidden--visually\" id=\"sk-estimator-id-384\" type=\"checkbox\" ><label for=\"sk-estimator-id-384\" class=\"sk-toggleable__label sk-toggleable__label-arrow\">num</label><div class=\"sk-toggleable__content\"><pre>Index([&#x27;easting&#x27;, &#x27;northing&#x27;, &#x27;elevation&#x27;], dtype=&#x27;object&#x27;)</pre></div></div></div><div class=\"sk-serial\"><div class=\"sk-item\"><div class=\"sk-serial\"><div class=\"sk-item\"><div class=\"sk-estimator sk-toggleable\"><input class=\"sk-toggleable__control sk-hidden--visually\" id=\"sk-estimator-id-385\" type=\"checkbox\" ><label for=\"sk-estimator-id-385\" class=\"sk-toggleable__label sk-toggleable__label-arrow\">SimpleImputer</label><div class=\"sk-toggleable__content\"><pre>SimpleImputer(strategy=&#x27;most_frequent&#x27;)</pre></div></div></div><div class=\"sk-item\"><div class=\"sk-estimator sk-toggleable\"><input class=\"sk-toggleable__control sk-hidden--visually\" id=\"sk-estimator-id-386\" type=\"checkbox\" ><label for=\"sk-estimator-id-386\" class=\"sk-toggleable__label sk-toggleable__label-arrow\">StandardScaler</label><div class=\"sk-toggleable__content\"><pre>StandardScaler()</pre></div></div></div></div></div></div></div></div><div class=\"sk-parallel-item\"><div class=\"sk-item\"><div class=\"sk-label-container\"><div class=\"sk-label sk-toggleable\"><input class=\"sk-toggleable__control sk-hidden--visually\" id=\"sk-estimator-id-387\" type=\"checkbox\" ><label for=\"sk-estimator-id-387\" class=\"sk-toggleable__label sk-toggleable__label-arrow\">cat</label><div class=\"sk-toggleable__content\"><pre>[&#x27;soilType&#x27;]</pre></div></div></div><div class=\"sk-serial\"><div class=\"sk-item\"><div class=\"sk-serial\"><div class=\"sk-item\"><div class=\"sk-estimator sk-toggleable\"><input class=\"sk-toggleable__control sk-hidden--visually\" id=\"sk-estimator-id-388\" type=\"checkbox\" ><label for=\"sk-estimator-id-388\" class=\"sk-toggleable__label sk-toggleable__label-arrow\">SimpleImputer</label><div class=\"sk-toggleable__content\"><pre>SimpleImputer(strategy=&#x27;most_frequent&#x27;)</pre></div></div></div><div class=\"sk-item\"><div class=\"sk-estimator sk-toggleable\"><input class=\"sk-toggleable__control sk-hidden--visually\" id=\"sk-estimator-id-389\" type=\"checkbox\" ><label for=\"sk-estimator-id-389\" class=\"sk-toggleable__label sk-toggleable__label-arrow\">OneHotEncoder</label><div class=\"sk-toggleable__content\"><pre>OneHotEncoder(handle_unknown=&#x27;ignore&#x27;, sparse_output=False)</pre></div></div></div></div></div></div></div></div></div></div><div class=\"sk-item\"><div class=\"sk-estimator sk-toggleable\"><input class=\"sk-toggleable__control sk-hidden--visually\" id=\"sk-estimator-id-390\" type=\"checkbox\" ><label for=\"sk-estimator-id-390\" class=\"sk-toggleable__label sk-toggleable__label-arrow\">XGBRegressor</label><div class=\"sk-toggleable__content\"><pre>XGBRegressor(base_score=None, booster=None, callbacks=None,\n             colsample_bylevel=None, colsample_bynode=None,\n             colsample_bytree=None, device=None, early_stopping_rounds=None,\n             enable_categorical=False, eval_metric=None, feature_types=None,\n             gamma=None, grow_policy=None, importance_type=None,\n             interaction_constraints=None, learning_rate=0.7750347200108194,\n             max_bin=None, max_cat_threshold=None, max_cat_to_onehot=None,\n             max_delta_step=None, max_depth=41, max_leaves=None,\n             min_child_weight=None, missing=nan, monotone_constraints=None,\n             multi_strategy=None, n_estimators=917, n_jobs=None,\n             num_parallel_tree=None, random_state=42, ...)</pre></div></div></div></div></div></div></div>"
     },
     "execution_count": 1088,
     "metadata": {},
     "output_type": "execute_result"
    }
   ],
   "source": [
    "best_model.fit(X, y)"
   ],
   "metadata": {
    "collapsed": false,
    "ExecuteTime": {
     "end_time": "2023-11-22T16:33:54.134653Z",
     "start_time": "2023-11-22T16:33:53.207920Z"
    }
   },
   "id": "da55a29f06839e4f"
  },
  {
   "cell_type": "code",
   "execution_count": 1068,
   "outputs": [
    {
     "data": {
      "text/plain": "Pipeline(steps=[('preprocessor',\n                 ColumnTransformer(transformers=[('num',\n                                                  Pipeline(steps=[('imputer',\n                                                                   SimpleImputer(strategy='median')),\n                                                                  ('scaler',\n                                                                   StandardScaler())]),\n                                                  ['easting', 'northing',\n                                                   'elevation']),\n                                                 ('cat',\n                                                  Pipeline(steps=[('imputer',\n                                                                   SimpleImputer(strategy='most_frequent')),\n                                                                  ('ohe',\n                                                                   OneHotEncoder(handle_unknown='ignore',\n                                                                                 sparse_output=False))]),\n                                                  ['soilTy...\n                              feature_types=None, gamma=None, grow_policy=None,\n                              importance_type=None,\n                              interaction_constraints=None, learning_rate=0.775,\n                              max_bin=None, max_cat_threshold=None,\n                              max_cat_to_onehot=None, max_delta_step=None,\n                              max_depth=41, max_leaves=None,\n                              min_child_weight=None, missing=nan,\n                              monotone_constraints=None, multi_strategy=None,\n                              n_estimators=917, n_jobs=None,\n                              num_parallel_tree=None, random_state=42, ...))])",
      "text/html": "<style>#sk-container-id-42 {color: black;}#sk-container-id-42 pre{padding: 0;}#sk-container-id-42 div.sk-toggleable {background-color: white;}#sk-container-id-42 label.sk-toggleable__label {cursor: pointer;display: block;width: 100%;margin-bottom: 0;padding: 0.3em;box-sizing: border-box;text-align: center;}#sk-container-id-42 label.sk-toggleable__label-arrow:before {content: \"▸\";float: left;margin-right: 0.25em;color: #696969;}#sk-container-id-42 label.sk-toggleable__label-arrow:hover:before {color: black;}#sk-container-id-42 div.sk-estimator:hover label.sk-toggleable__label-arrow:before {color: black;}#sk-container-id-42 div.sk-toggleable__content {max-height: 0;max-width: 0;overflow: hidden;text-align: left;background-color: #f0f8ff;}#sk-container-id-42 div.sk-toggleable__content pre {margin: 0.2em;color: black;border-radius: 0.25em;background-color: #f0f8ff;}#sk-container-id-42 input.sk-toggleable__control:checked~div.sk-toggleable__content {max-height: 200px;max-width: 100%;overflow: auto;}#sk-container-id-42 input.sk-toggleable__control:checked~label.sk-toggleable__label-arrow:before {content: \"▾\";}#sk-container-id-42 div.sk-estimator input.sk-toggleable__control:checked~label.sk-toggleable__label {background-color: #d4ebff;}#sk-container-id-42 div.sk-label input.sk-toggleable__control:checked~label.sk-toggleable__label {background-color: #d4ebff;}#sk-container-id-42 input.sk-hidden--visually {border: 0;clip: rect(1px 1px 1px 1px);clip: rect(1px, 1px, 1px, 1px);height: 1px;margin: -1px;overflow: hidden;padding: 0;position: absolute;width: 1px;}#sk-container-id-42 div.sk-estimator {font-family: monospace;background-color: #f0f8ff;border: 1px dotted black;border-radius: 0.25em;box-sizing: border-box;margin-bottom: 0.5em;}#sk-container-id-42 div.sk-estimator:hover {background-color: #d4ebff;}#sk-container-id-42 div.sk-parallel-item::after {content: \"\";width: 100%;border-bottom: 1px solid gray;flex-grow: 1;}#sk-container-id-42 div.sk-label:hover label.sk-toggleable__label {background-color: #d4ebff;}#sk-container-id-42 div.sk-serial::before {content: \"\";position: absolute;border-left: 1px solid gray;box-sizing: border-box;top: 0;bottom: 0;left: 50%;z-index: 0;}#sk-container-id-42 div.sk-serial {display: flex;flex-direction: column;align-items: center;background-color: white;padding-right: 0.2em;padding-left: 0.2em;position: relative;}#sk-container-id-42 div.sk-item {position: relative;z-index: 1;}#sk-container-id-42 div.sk-parallel {display: flex;align-items: stretch;justify-content: center;background-color: white;position: relative;}#sk-container-id-42 div.sk-item::before, #sk-container-id-42 div.sk-parallel-item::before {content: \"\";position: absolute;border-left: 1px solid gray;box-sizing: border-box;top: 0;bottom: 0;left: 50%;z-index: -1;}#sk-container-id-42 div.sk-parallel-item {display: flex;flex-direction: column;z-index: 1;position: relative;background-color: white;}#sk-container-id-42 div.sk-parallel-item:first-child::after {align-self: flex-end;width: 50%;}#sk-container-id-42 div.sk-parallel-item:last-child::after {align-self: flex-start;width: 50%;}#sk-container-id-42 div.sk-parallel-item:only-child::after {width: 0;}#sk-container-id-42 div.sk-dashed-wrapped {border: 1px dashed gray;margin: 0 0.4em 0.5em 0.4em;box-sizing: border-box;padding-bottom: 0.4em;background-color: white;}#sk-container-id-42 div.sk-label label {font-family: monospace;font-weight: bold;display: inline-block;line-height: 1.2em;}#sk-container-id-42 div.sk-label-container {text-align: center;}#sk-container-id-42 div.sk-container {/* jupyter's `normalize.less` sets `[hidden] { display: none; }` but bootstrap.min.css set `[hidden] { display: none !important; }` so we also need the `!important` here to be able to override the default hidden behavior on the sphinx rendered scikit-learn.org. See: https://github.com/scikit-learn/scikit-learn/issues/21755 */display: inline-block !important;position: relative;}#sk-container-id-42 div.sk-text-repr-fallback {display: none;}</style><div id=\"sk-container-id-42\" class=\"sk-top-container\"><div class=\"sk-text-repr-fallback\"><pre>Pipeline(steps=[(&#x27;preprocessor&#x27;,\n                 ColumnTransformer(transformers=[(&#x27;num&#x27;,\n                                                  Pipeline(steps=[(&#x27;imputer&#x27;,\n                                                                   SimpleImputer(strategy=&#x27;median&#x27;)),\n                                                                  (&#x27;scaler&#x27;,\n                                                                   StandardScaler())]),\n                                                  [&#x27;easting&#x27;, &#x27;northing&#x27;,\n                                                   &#x27;elevation&#x27;]),\n                                                 (&#x27;cat&#x27;,\n                                                  Pipeline(steps=[(&#x27;imputer&#x27;,\n                                                                   SimpleImputer(strategy=&#x27;most_frequent&#x27;)),\n                                                                  (&#x27;ohe&#x27;,\n                                                                   OneHotEncoder(handle_unknown=&#x27;ignore&#x27;,\n                                                                                 sparse_output=False))]),\n                                                  [&#x27;soilTy...\n                              feature_types=None, gamma=None, grow_policy=None,\n                              importance_type=None,\n                              interaction_constraints=None, learning_rate=0.775,\n                              max_bin=None, max_cat_threshold=None,\n                              max_cat_to_onehot=None, max_delta_step=None,\n                              max_depth=41, max_leaves=None,\n                              min_child_weight=None, missing=nan,\n                              monotone_constraints=None, multi_strategy=None,\n                              n_estimators=917, n_jobs=None,\n                              num_parallel_tree=None, random_state=42, ...))])</pre><b>In a Jupyter environment, please rerun this cell to show the HTML representation or trust the notebook. <br />On GitHub, the HTML representation is unable to render, please try loading this page with nbviewer.org.</b></div><div class=\"sk-container\" hidden><div class=\"sk-item sk-dashed-wrapped\"><div class=\"sk-label-container\"><div class=\"sk-label sk-toggleable\"><input class=\"sk-toggleable__control sk-hidden--visually\" id=\"sk-estimator-id-364\" type=\"checkbox\" ><label for=\"sk-estimator-id-364\" class=\"sk-toggleable__label sk-toggleable__label-arrow\">Pipeline</label><div class=\"sk-toggleable__content\"><pre>Pipeline(steps=[(&#x27;preprocessor&#x27;,\n                 ColumnTransformer(transformers=[(&#x27;num&#x27;,\n                                                  Pipeline(steps=[(&#x27;imputer&#x27;,\n                                                                   SimpleImputer(strategy=&#x27;median&#x27;)),\n                                                                  (&#x27;scaler&#x27;,\n                                                                   StandardScaler())]),\n                                                  [&#x27;easting&#x27;, &#x27;northing&#x27;,\n                                                   &#x27;elevation&#x27;]),\n                                                 (&#x27;cat&#x27;,\n                                                  Pipeline(steps=[(&#x27;imputer&#x27;,\n                                                                   SimpleImputer(strategy=&#x27;most_frequent&#x27;)),\n                                                                  (&#x27;ohe&#x27;,\n                                                                   OneHotEncoder(handle_unknown=&#x27;ignore&#x27;,\n                                                                                 sparse_output=False))]),\n                                                  [&#x27;soilTy...\n                              feature_types=None, gamma=None, grow_policy=None,\n                              importance_type=None,\n                              interaction_constraints=None, learning_rate=0.775,\n                              max_bin=None, max_cat_threshold=None,\n                              max_cat_to_onehot=None, max_delta_step=None,\n                              max_depth=41, max_leaves=None,\n                              min_child_weight=None, missing=nan,\n                              monotone_constraints=None, multi_strategy=None,\n                              n_estimators=917, n_jobs=None,\n                              num_parallel_tree=None, random_state=42, ...))])</pre></div></div></div><div class=\"sk-serial\"><div class=\"sk-item sk-dashed-wrapped\"><div class=\"sk-label-container\"><div class=\"sk-label sk-toggleable\"><input class=\"sk-toggleable__control sk-hidden--visually\" id=\"sk-estimator-id-365\" type=\"checkbox\" ><label for=\"sk-estimator-id-365\" class=\"sk-toggleable__label sk-toggleable__label-arrow\">preprocessor: ColumnTransformer</label><div class=\"sk-toggleable__content\"><pre>ColumnTransformer(transformers=[(&#x27;num&#x27;,\n                                 Pipeline(steps=[(&#x27;imputer&#x27;,\n                                                  SimpleImputer(strategy=&#x27;median&#x27;)),\n                                                 (&#x27;scaler&#x27;, StandardScaler())]),\n                                 [&#x27;easting&#x27;, &#x27;northing&#x27;, &#x27;elevation&#x27;]),\n                                (&#x27;cat&#x27;,\n                                 Pipeline(steps=[(&#x27;imputer&#x27;,\n                                                  SimpleImputer(strategy=&#x27;most_frequent&#x27;)),\n                                                 (&#x27;ohe&#x27;,\n                                                  OneHotEncoder(handle_unknown=&#x27;ignore&#x27;,\n                                                                sparse_output=False))]),\n                                 [&#x27;soilType&#x27;])])</pre></div></div></div><div class=\"sk-parallel\"><div class=\"sk-parallel-item\"><div class=\"sk-item\"><div class=\"sk-label-container\"><div class=\"sk-label sk-toggleable\"><input class=\"sk-toggleable__control sk-hidden--visually\" id=\"sk-estimator-id-366\" type=\"checkbox\" ><label for=\"sk-estimator-id-366\" class=\"sk-toggleable__label sk-toggleable__label-arrow\">num</label><div class=\"sk-toggleable__content\"><pre>[&#x27;easting&#x27;, &#x27;northing&#x27;, &#x27;elevation&#x27;]</pre></div></div></div><div class=\"sk-serial\"><div class=\"sk-item\"><div class=\"sk-serial\"><div class=\"sk-item\"><div class=\"sk-estimator sk-toggleable\"><input class=\"sk-toggleable__control sk-hidden--visually\" id=\"sk-estimator-id-367\" type=\"checkbox\" ><label for=\"sk-estimator-id-367\" class=\"sk-toggleable__label sk-toggleable__label-arrow\">SimpleImputer</label><div class=\"sk-toggleable__content\"><pre>SimpleImputer(strategy=&#x27;median&#x27;)</pre></div></div></div><div class=\"sk-item\"><div class=\"sk-estimator sk-toggleable\"><input class=\"sk-toggleable__control sk-hidden--visually\" id=\"sk-estimator-id-368\" type=\"checkbox\" ><label for=\"sk-estimator-id-368\" class=\"sk-toggleable__label sk-toggleable__label-arrow\">StandardScaler</label><div class=\"sk-toggleable__content\"><pre>StandardScaler()</pre></div></div></div></div></div></div></div></div><div class=\"sk-parallel-item\"><div class=\"sk-item\"><div class=\"sk-label-container\"><div class=\"sk-label sk-toggleable\"><input class=\"sk-toggleable__control sk-hidden--visually\" id=\"sk-estimator-id-369\" type=\"checkbox\" ><label for=\"sk-estimator-id-369\" class=\"sk-toggleable__label sk-toggleable__label-arrow\">cat</label><div class=\"sk-toggleable__content\"><pre>[&#x27;soilType&#x27;]</pre></div></div></div><div class=\"sk-serial\"><div class=\"sk-item\"><div class=\"sk-serial\"><div class=\"sk-item\"><div class=\"sk-estimator sk-toggleable\"><input class=\"sk-toggleable__control sk-hidden--visually\" id=\"sk-estimator-id-370\" type=\"checkbox\" ><label for=\"sk-estimator-id-370\" class=\"sk-toggleable__label sk-toggleable__label-arrow\">SimpleImputer</label><div class=\"sk-toggleable__content\"><pre>SimpleImputer(strategy=&#x27;most_frequent&#x27;)</pre></div></div></div><div class=\"sk-item\"><div class=\"sk-estimator sk-toggleable\"><input class=\"sk-toggleable__control sk-hidden--visually\" id=\"sk-estimator-id-371\" type=\"checkbox\" ><label for=\"sk-estimator-id-371\" class=\"sk-toggleable__label sk-toggleable__label-arrow\">OneHotEncoder</label><div class=\"sk-toggleable__content\"><pre>OneHotEncoder(handle_unknown=&#x27;ignore&#x27;, sparse_output=False)</pre></div></div></div></div></div></div></div></div></div></div><div class=\"sk-item\"><div class=\"sk-estimator sk-toggleable\"><input class=\"sk-toggleable__control sk-hidden--visually\" id=\"sk-estimator-id-372\" type=\"checkbox\" ><label for=\"sk-estimator-id-372\" class=\"sk-toggleable__label sk-toggleable__label-arrow\">XGBRegressor</label><div class=\"sk-toggleable__content\"><pre>XGBRegressor(base_score=None, booster=None, callbacks=None,\n             colsample_bylevel=None, colsample_bynode=None,\n             colsample_bytree=None, device=None, early_stopping_rounds=None,\n             enable_categorical=False, eval_metric=None, feature_types=None,\n             gamma=None, grow_policy=None, importance_type=None,\n             interaction_constraints=None, learning_rate=0.775, max_bin=None,\n             max_cat_threshold=None, max_cat_to_onehot=None,\n             max_delta_step=None, max_depth=41, max_leaves=None,\n             min_child_weight=None, missing=nan, monotone_constraints=None,\n             multi_strategy=None, n_estimators=917, n_jobs=None,\n             num_parallel_tree=None, random_state=42, ...)</pre></div></div></div></div></div></div></div>"
     },
     "execution_count": 1068,
     "metadata": {},
     "output_type": "execute_result"
    }
   ],
   "source": [
    "fp.model"
   ],
   "metadata": {
    "collapsed": false,
    "ExecuteTime": {
     "end_time": "2023-11-22T16:30:31.861742Z",
     "start_time": "2023-11-22T16:30:31.803847Z"
    }
   },
   "id": "750f662b34993a0c"
  },
  {
   "cell_type": "code",
   "execution_count": 1090,
   "outputs": [],
   "source": [
    "local = best_model.predict(X)"
   ],
   "metadata": {
    "collapsed": false,
    "ExecuteTime": {
     "end_time": "2023-11-22T16:34:01.247148Z",
     "start_time": "2023-11-22T16:34:01.175205Z"
    }
   },
   "id": "4c62bd3a63b7e4ed"
  },
  {
   "cell_type": "code",
   "execution_count": 1069,
   "outputs": [
    {
     "data": {
      "text/plain": "2170610"
     },
     "execution_count": 1069,
     "metadata": {},
     "output_type": "execute_result"
    }
   ],
   "source": [
    "score = sum(\n",
    "    [SCORES[_p - 1, _t - 1] for _p, _t in zip(preds, y + 1)]\n",
    ")\n",
    "score"
   ],
   "metadata": {
    "collapsed": false,
    "ExecuteTime": {
     "end_time": "2023-11-22T16:30:32.530682Z",
     "start_time": "2023-11-22T16:30:32.482668Z"
    }
   },
   "id": "cc627524ecbd46f0"
  },
  {
   "cell_type": "code",
   "execution_count": 1091,
   "outputs": [
    {
     "data": {
      "text/plain": "3672750"
     },
     "execution_count": 1091,
     "metadata": {},
     "output_type": "execute_result"
    }
   ],
   "source": [
    "score_fn(y, local)"
   ],
   "metadata": {
    "collapsed": false,
    "ExecuteTime": {
     "end_time": "2023-11-22T16:34:03.461456Z",
     "start_time": "2023-11-22T16:34:03.386308Z"
    }
   },
   "id": "993faf38ffdd1e94"
  },
  {
   "cell_type": "code",
   "execution_count": 1102,
   "outputs": [
    {
     "data": {
      "text/plain": "       postcode  easting  northing          soilType  elevation\n0       OL9 7NS   390978    403269  Unsurveyed/Urban        130\n1      WV13 2LR   396607    298083  Unsurveyed/Urban        130\n2      LS12 1LZ   427859    432937  Unsurveyed/Urban         60\n3      SK15 1TS   395560    397900  Unsurveyed/Urban        120\n4      TS17 9NN   445771    515362  Unsurveyed/Urban         20\n...         ...      ...       ...               ...        ...\n29995  LS16 0BP   425977    438923  Unsurveyed/Urban        160\n29996   SK8 4PG   384808    387982  Unsurveyed/Urban         40\n29997   HD7 4PA   409215    416819         Cambisols        310\n29998  NE16 5YT   419672    560517  Unsurveyed/Urban        130\n29999    B8 2RQ   411674    288499  Unsurveyed/Urban        110\n\n[30000 rows x 5 columns]",
      "text/html": "<div>\n<style scoped>\n    .dataframe tbody tr th:only-of-type {\n        vertical-align: middle;\n    }\n\n    .dataframe tbody tr th {\n        vertical-align: top;\n    }\n\n    .dataframe thead th {\n        text-align: right;\n    }\n</style>\n<table border=\"1\" class=\"dataframe\">\n  <thead>\n    <tr style=\"text-align: right;\">\n      <th></th>\n      <th>postcode</th>\n      <th>easting</th>\n      <th>northing</th>\n      <th>soilType</th>\n      <th>elevation</th>\n    </tr>\n  </thead>\n  <tbody>\n    <tr>\n      <th>0</th>\n      <td>OL9 7NS</td>\n      <td>390978</td>\n      <td>403269</td>\n      <td>Unsurveyed/Urban</td>\n      <td>130</td>\n    </tr>\n    <tr>\n      <th>1</th>\n      <td>WV13 2LR</td>\n      <td>396607</td>\n      <td>298083</td>\n      <td>Unsurveyed/Urban</td>\n      <td>130</td>\n    </tr>\n    <tr>\n      <th>2</th>\n      <td>LS12 1LZ</td>\n      <td>427859</td>\n      <td>432937</td>\n      <td>Unsurveyed/Urban</td>\n      <td>60</td>\n    </tr>\n    <tr>\n      <th>3</th>\n      <td>SK15 1TS</td>\n      <td>395560</td>\n      <td>397900</td>\n      <td>Unsurveyed/Urban</td>\n      <td>120</td>\n    </tr>\n    <tr>\n      <th>4</th>\n      <td>TS17 9NN</td>\n      <td>445771</td>\n      <td>515362</td>\n      <td>Unsurveyed/Urban</td>\n      <td>20</td>\n    </tr>\n    <tr>\n      <th>...</th>\n      <td>...</td>\n      <td>...</td>\n      <td>...</td>\n      <td>...</td>\n      <td>...</td>\n    </tr>\n    <tr>\n      <th>29995</th>\n      <td>LS16 0BP</td>\n      <td>425977</td>\n      <td>438923</td>\n      <td>Unsurveyed/Urban</td>\n      <td>160</td>\n    </tr>\n    <tr>\n      <th>29996</th>\n      <td>SK8 4PG</td>\n      <td>384808</td>\n      <td>387982</td>\n      <td>Unsurveyed/Urban</td>\n      <td>40</td>\n    </tr>\n    <tr>\n      <th>29997</th>\n      <td>HD7 4PA</td>\n      <td>409215</td>\n      <td>416819</td>\n      <td>Cambisols</td>\n      <td>310</td>\n    </tr>\n    <tr>\n      <th>29998</th>\n      <td>NE16 5YT</td>\n      <td>419672</td>\n      <td>560517</td>\n      <td>Unsurveyed/Urban</td>\n      <td>130</td>\n    </tr>\n    <tr>\n      <th>29999</th>\n      <td>B8 2RQ</td>\n      <td>411674</td>\n      <td>288499</td>\n      <td>Unsurveyed/Urban</td>\n      <td>110</td>\n    </tr>\n  </tbody>\n</table>\n<p>30000 rows × 5 columns</p>\n</div>"
     },
     "execution_count": 1102,
     "metadata": {},
     "output_type": "execute_result"
    }
   ],
   "source": [
    "X"
   ],
   "metadata": {
    "collapsed": false,
    "ExecuteTime": {
     "end_time": "2023-11-22T16:43:35.609613Z",
     "start_time": "2023-11-22T16:43:35.538132Z"
    }
   },
   "id": "ffb8113ab2ecd65f"
  },
  {
   "cell_type": "code",
   "execution_count": 1103,
   "outputs": [],
   "source": [
    "X_stack.sort_index(inplace=True)"
   ],
   "metadata": {
    "collapsed": false,
    "ExecuteTime": {
     "end_time": "2023-11-22T16:43:35.913062Z",
     "start_time": "2023-11-22T16:43:35.883152Z"
    }
   },
   "id": "2b01a71d684e7723"
  },
  {
   "cell_type": "code",
   "execution_count": 1104,
   "outputs": [
    {
     "data": {
      "text/plain": "       postcode  easting  northing          soilType  elevation\n13     LS22 4DS   440070    450063          Luvisols         30\n27       B5 7NA   406907    285397  Unsurveyed/Urban        110\n48     LE11 2AP   454279    318367  Unsurveyed/Urban         40\n54      WS8 6HY   404770    305814  Unsurveyed/Urban        150\n92     YO61 2QG   446635    473592        Stagnosols         30\n...         ...      ...       ...               ...        ...\n39995  LS16 0BP   425977    438923  Unsurveyed/Urban        160\n39996   SK8 4PG   384808    387982  Unsurveyed/Urban         40\n39997   HD7 4PA   409215    416819         Cambisols        310\n39998  NE16 5YT   419672    560517  Unsurveyed/Urban        130\n39999    B8 2RQ   411674    288499  Unsurveyed/Urban        110\n\n[30000 rows x 5 columns]",
      "text/html": "<div>\n<style scoped>\n    .dataframe tbody tr th:only-of-type {\n        vertical-align: middle;\n    }\n\n    .dataframe tbody tr th {\n        vertical-align: top;\n    }\n\n    .dataframe thead th {\n        text-align: right;\n    }\n</style>\n<table border=\"1\" class=\"dataframe\">\n  <thead>\n    <tr style=\"text-align: right;\">\n      <th></th>\n      <th>postcode</th>\n      <th>easting</th>\n      <th>northing</th>\n      <th>soilType</th>\n      <th>elevation</th>\n    </tr>\n  </thead>\n  <tbody>\n    <tr>\n      <th>13</th>\n      <td>LS22 4DS</td>\n      <td>440070</td>\n      <td>450063</td>\n      <td>Luvisols</td>\n      <td>30</td>\n    </tr>\n    <tr>\n      <th>27</th>\n      <td>B5 7NA</td>\n      <td>406907</td>\n      <td>285397</td>\n      <td>Unsurveyed/Urban</td>\n      <td>110</td>\n    </tr>\n    <tr>\n      <th>48</th>\n      <td>LE11 2AP</td>\n      <td>454279</td>\n      <td>318367</td>\n      <td>Unsurveyed/Urban</td>\n      <td>40</td>\n    </tr>\n    <tr>\n      <th>54</th>\n      <td>WS8 6HY</td>\n      <td>404770</td>\n      <td>305814</td>\n      <td>Unsurveyed/Urban</td>\n      <td>150</td>\n    </tr>\n    <tr>\n      <th>92</th>\n      <td>YO61 2QG</td>\n      <td>446635</td>\n      <td>473592</td>\n      <td>Stagnosols</td>\n      <td>30</td>\n    </tr>\n    <tr>\n      <th>...</th>\n      <td>...</td>\n      <td>...</td>\n      <td>...</td>\n      <td>...</td>\n      <td>...</td>\n    </tr>\n    <tr>\n      <th>39995</th>\n      <td>LS16 0BP</td>\n      <td>425977</td>\n      <td>438923</td>\n      <td>Unsurveyed/Urban</td>\n      <td>160</td>\n    </tr>\n    <tr>\n      <th>39996</th>\n      <td>SK8 4PG</td>\n      <td>384808</td>\n      <td>387982</td>\n      <td>Unsurveyed/Urban</td>\n      <td>40</td>\n    </tr>\n    <tr>\n      <th>39997</th>\n      <td>HD7 4PA</td>\n      <td>409215</td>\n      <td>416819</td>\n      <td>Cambisols</td>\n      <td>310</td>\n    </tr>\n    <tr>\n      <th>39998</th>\n      <td>NE16 5YT</td>\n      <td>419672</td>\n      <td>560517</td>\n      <td>Unsurveyed/Urban</td>\n      <td>130</td>\n    </tr>\n    <tr>\n      <th>39999</th>\n      <td>B8 2RQ</td>\n      <td>411674</td>\n      <td>288499</td>\n      <td>Unsurveyed/Urban</td>\n      <td>110</td>\n    </tr>\n  </tbody>\n</table>\n<p>30000 rows × 5 columns</p>\n</div>"
     },
     "execution_count": 1104,
     "metadata": {},
     "output_type": "execute_result"
    }
   ],
   "source": [
    "X_stack"
   ],
   "metadata": {
    "collapsed": false,
    "ExecuteTime": {
     "end_time": "2023-11-22T16:43:36.413116Z",
     "start_time": "2023-11-22T16:43:36.373657Z"
    }
   },
   "id": "2346b6248d5568d7"
  },
  {
   "cell_type": "code",
   "execution_count": 1105,
   "outputs": [
    {
     "data": {
      "text/plain": "30000"
     },
     "execution_count": 1105,
     "metadata": {},
     "output_type": "execute_result"
    }
   ],
   "source": [
    "len(set(X_stack.postcode).intersection(set(X.postcode)))"
   ],
   "metadata": {
    "collapsed": false,
    "ExecuteTime": {
     "end_time": "2023-11-22T16:43:40.462782Z",
     "start_time": "2023-11-22T16:43:40.408502Z"
    }
   },
   "id": "982983fe323eaf3b"
  },
  {
   "cell_type": "code",
   "execution_count": 1108,
   "outputs": [
    {
     "data": {
      "text/plain": "       postcode  easting  northing          soilType  elevation\n0       M34 7QL   393470    394371  Unsurveyed/Urban        110\n1       OL4 3NQ   395420    405669  Unsurveyed/Urban        210\n2       B36 8TE   411900    289400  Unsurveyed/Urban         90\n3      NE16 3AT   420400    562300  Unsurveyed/Urban         10\n4      WS10 8DE   397726    296656  Unsurveyed/Urban        140\n...         ...      ...       ...               ...        ...\n39995  LS16 0BP   425977    438923  Unsurveyed/Urban        160\n39996   SK8 4PG   384808    387982  Unsurveyed/Urban         40\n39997   HD7 4PA   409215    416819         Cambisols        310\n39998  NE16 5YT   419672    560517  Unsurveyed/Urban        130\n39999    B8 2RQ   411674    288499  Unsurveyed/Urban        110\n\n[40000 rows x 5 columns]",
      "text/html": "<div>\n<style scoped>\n    .dataframe tbody tr th:only-of-type {\n        vertical-align: middle;\n    }\n\n    .dataframe tbody tr th {\n        vertical-align: top;\n    }\n\n    .dataframe thead th {\n        text-align: right;\n    }\n</style>\n<table border=\"1\" class=\"dataframe\">\n  <thead>\n    <tr style=\"text-align: right;\">\n      <th></th>\n      <th>postcode</th>\n      <th>easting</th>\n      <th>northing</th>\n      <th>soilType</th>\n      <th>elevation</th>\n    </tr>\n  </thead>\n  <tbody>\n    <tr>\n      <th>0</th>\n      <td>M34 7QL</td>\n      <td>393470</td>\n      <td>394371</td>\n      <td>Unsurveyed/Urban</td>\n      <td>110</td>\n    </tr>\n    <tr>\n      <th>1</th>\n      <td>OL4 3NQ</td>\n      <td>395420</td>\n      <td>405669</td>\n      <td>Unsurveyed/Urban</td>\n      <td>210</td>\n    </tr>\n    <tr>\n      <th>2</th>\n      <td>B36 8TE</td>\n      <td>411900</td>\n      <td>289400</td>\n      <td>Unsurveyed/Urban</td>\n      <td>90</td>\n    </tr>\n    <tr>\n      <th>3</th>\n      <td>NE16 3AT</td>\n      <td>420400</td>\n      <td>562300</td>\n      <td>Unsurveyed/Urban</td>\n      <td>10</td>\n    </tr>\n    <tr>\n      <th>4</th>\n      <td>WS10 8DE</td>\n      <td>397726</td>\n      <td>296656</td>\n      <td>Unsurveyed/Urban</td>\n      <td>140</td>\n    </tr>\n    <tr>\n      <th>...</th>\n      <td>...</td>\n      <td>...</td>\n      <td>...</td>\n      <td>...</td>\n      <td>...</td>\n    </tr>\n    <tr>\n      <th>39995</th>\n      <td>LS16 0BP</td>\n      <td>425977</td>\n      <td>438923</td>\n      <td>Unsurveyed/Urban</td>\n      <td>160</td>\n    </tr>\n    <tr>\n      <th>39996</th>\n      <td>SK8 4PG</td>\n      <td>384808</td>\n      <td>387982</td>\n      <td>Unsurveyed/Urban</td>\n      <td>40</td>\n    </tr>\n    <tr>\n      <th>39997</th>\n      <td>HD7 4PA</td>\n      <td>409215</td>\n      <td>416819</td>\n      <td>Cambisols</td>\n      <td>310</td>\n    </tr>\n    <tr>\n      <th>39998</th>\n      <td>NE16 5YT</td>\n      <td>419672</td>\n      <td>560517</td>\n      <td>Unsurveyed/Urban</td>\n      <td>130</td>\n    </tr>\n    <tr>\n      <th>39999</th>\n      <td>B8 2RQ</td>\n      <td>411674</td>\n      <td>288499</td>\n      <td>Unsurveyed/Urban</td>\n      <td>110</td>\n    </tr>\n  </tbody>\n</table>\n<p>40000 rows × 5 columns</p>\n</div>"
     },
     "execution_count": 1108,
     "metadata": {},
     "output_type": "execute_result"
    }
   ],
   "source": [
    "tool.df_stacked"
   ],
   "metadata": {
    "collapsed": false,
    "ExecuteTime": {
     "end_time": "2023-11-22T16:46:37.610778Z",
     "start_time": "2023-11-22T16:46:35.878635Z"
    }
   },
   "id": "b50f49ada033f709"
  },
  {
   "cell_type": "code",
   "execution_count": 1097,
   "outputs": [
    {
     "data": {
      "text/plain": "      postcode  easting  northing          soilType  elevation\n0      M34 7QL   393470    394371  Unsurveyed/Urban        110\n1      OL4 3NQ   395420    405669  Unsurveyed/Urban        210\n2      B36 8TE   411900    289400  Unsurveyed/Urban         90\n3     NE16 3AT   420400    562300  Unsurveyed/Urban         10\n4     WS10 8DE   397726    296656  Unsurveyed/Urban        140\n...        ...      ...       ...               ...        ...\n9995   NN9 7TY   488200    264700         Cambisols         80\n9996   HU6 7YG   508055    434044  Unsurveyed/Urban          0\n9997  LS12 1DY   428431    432867  Unsurveyed/Urban         40\n9998   DN4 6TZ   462498    401208         Arenosols         10\n9999   S31 9BD   441723    378785  Unsurveyed/Urban        120\n\n[10000 rows x 5 columns]",
      "text/html": "<div>\n<style scoped>\n    .dataframe tbody tr th:only-of-type {\n        vertical-align: middle;\n    }\n\n    .dataframe tbody tr th {\n        vertical-align: top;\n    }\n\n    .dataframe thead th {\n        text-align: right;\n    }\n</style>\n<table border=\"1\" class=\"dataframe\">\n  <thead>\n    <tr style=\"text-align: right;\">\n      <th></th>\n      <th>postcode</th>\n      <th>easting</th>\n      <th>northing</th>\n      <th>soilType</th>\n      <th>elevation</th>\n    </tr>\n  </thead>\n  <tbody>\n    <tr>\n      <th>0</th>\n      <td>M34 7QL</td>\n      <td>393470</td>\n      <td>394371</td>\n      <td>Unsurveyed/Urban</td>\n      <td>110</td>\n    </tr>\n    <tr>\n      <th>1</th>\n      <td>OL4 3NQ</td>\n      <td>395420</td>\n      <td>405669</td>\n      <td>Unsurveyed/Urban</td>\n      <td>210</td>\n    </tr>\n    <tr>\n      <th>2</th>\n      <td>B36 8TE</td>\n      <td>411900</td>\n      <td>289400</td>\n      <td>Unsurveyed/Urban</td>\n      <td>90</td>\n    </tr>\n    <tr>\n      <th>3</th>\n      <td>NE16 3AT</td>\n      <td>420400</td>\n      <td>562300</td>\n      <td>Unsurveyed/Urban</td>\n      <td>10</td>\n    </tr>\n    <tr>\n      <th>4</th>\n      <td>WS10 8DE</td>\n      <td>397726</td>\n      <td>296656</td>\n      <td>Unsurveyed/Urban</td>\n      <td>140</td>\n    </tr>\n    <tr>\n      <th>...</th>\n      <td>...</td>\n      <td>...</td>\n      <td>...</td>\n      <td>...</td>\n      <td>...</td>\n    </tr>\n    <tr>\n      <th>9995</th>\n      <td>NN9 7TY</td>\n      <td>488200</td>\n      <td>264700</td>\n      <td>Cambisols</td>\n      <td>80</td>\n    </tr>\n    <tr>\n      <th>9996</th>\n      <td>HU6 7YG</td>\n      <td>508055</td>\n      <td>434044</td>\n      <td>Unsurveyed/Urban</td>\n      <td>0</td>\n    </tr>\n    <tr>\n      <th>9997</th>\n      <td>LS12 1DY</td>\n      <td>428431</td>\n      <td>432867</td>\n      <td>Unsurveyed/Urban</td>\n      <td>40</td>\n    </tr>\n    <tr>\n      <th>9998</th>\n      <td>DN4 6TZ</td>\n      <td>462498</td>\n      <td>401208</td>\n      <td>Arenosols</td>\n      <td>10</td>\n    </tr>\n    <tr>\n      <th>9999</th>\n      <td>S31 9BD</td>\n      <td>441723</td>\n      <td>378785</td>\n      <td>Unsurveyed/Urban</td>\n      <td>120</td>\n    </tr>\n  </tbody>\n</table>\n<p>10000 rows × 5 columns</p>\n</div>"
     },
     "execution_count": 1097,
     "metadata": {},
     "output_type": "execute_result"
    }
   ],
   "source": [
    "df_unlabelled"
   ],
   "metadata": {
    "collapsed": false,
    "ExecuteTime": {
     "end_time": "2023-11-22T16:36:46.277092Z",
     "start_time": "2023-11-22T16:36:46.226335Z"
    }
   },
   "id": "977e683d6ced5f7e"
  },
  {
   "cell_type": "code",
   "execution_count": 1098,
   "outputs": [
    {
     "data": {
      "text/plain": "       postcode  easting  northing          soilType  elevation  \\\n0       OL9 7NS   390978    403269  Unsurveyed/Urban        130   \n1      WV13 2LR   396607    298083  Unsurveyed/Urban        130   \n2      LS12 1LZ   427859    432937  Unsurveyed/Urban         60   \n3      SK15 1TS   395560    397900  Unsurveyed/Urban        120   \n4      TS17 9NN   445771    515362  Unsurveyed/Urban         20   \n...         ...      ...       ...               ...        ...   \n29995  LS16 0BP   425977    438923  Unsurveyed/Urban        160   \n29996   SK8 4PG   384808    387982  Unsurveyed/Urban         40   \n29997   HD7 4PA   409215    416819         Cambisols        310   \n29998  NE16 5YT   419672    560517  Unsurveyed/Urban        130   \n29999    B8 2RQ   411674    288499  Unsurveyed/Urban        110   \n\n         localAuthority  riskLabel  medianPrice  historicallyFlooded  \n0                Oldham          0     119100.0                False  \n1               Walsall          0      84200.0                False  \n2                 Leeds          0     134900.0                False  \n3              Tameside          0     170200.0                False  \n4      Stockton-on-Tees          0     190600.0                False  \n...                 ...        ...          ...                  ...  \n29995             Leeds          0          NaN                False  \n29996         Stockport          0     328700.0                False  \n29997          Kirklees          0     214500.0                False  \n29998         Gateshead          0     273100.0                False  \n29999        Birmingham          0     176300.0                False  \n\n[30000 rows x 9 columns]",
      "text/html": "<div>\n<style scoped>\n    .dataframe tbody tr th:only-of-type {\n        vertical-align: middle;\n    }\n\n    .dataframe tbody tr th {\n        vertical-align: top;\n    }\n\n    .dataframe thead th {\n        text-align: right;\n    }\n</style>\n<table border=\"1\" class=\"dataframe\">\n  <thead>\n    <tr style=\"text-align: right;\">\n      <th></th>\n      <th>postcode</th>\n      <th>easting</th>\n      <th>northing</th>\n      <th>soilType</th>\n      <th>elevation</th>\n      <th>localAuthority</th>\n      <th>riskLabel</th>\n      <th>medianPrice</th>\n      <th>historicallyFlooded</th>\n    </tr>\n  </thead>\n  <tbody>\n    <tr>\n      <th>0</th>\n      <td>OL9 7NS</td>\n      <td>390978</td>\n      <td>403269</td>\n      <td>Unsurveyed/Urban</td>\n      <td>130</td>\n      <td>Oldham</td>\n      <td>0</td>\n      <td>119100.0</td>\n      <td>False</td>\n    </tr>\n    <tr>\n      <th>1</th>\n      <td>WV13 2LR</td>\n      <td>396607</td>\n      <td>298083</td>\n      <td>Unsurveyed/Urban</td>\n      <td>130</td>\n      <td>Walsall</td>\n      <td>0</td>\n      <td>84200.0</td>\n      <td>False</td>\n    </tr>\n    <tr>\n      <th>2</th>\n      <td>LS12 1LZ</td>\n      <td>427859</td>\n      <td>432937</td>\n      <td>Unsurveyed/Urban</td>\n      <td>60</td>\n      <td>Leeds</td>\n      <td>0</td>\n      <td>134900.0</td>\n      <td>False</td>\n    </tr>\n    <tr>\n      <th>3</th>\n      <td>SK15 1TS</td>\n      <td>395560</td>\n      <td>397900</td>\n      <td>Unsurveyed/Urban</td>\n      <td>120</td>\n      <td>Tameside</td>\n      <td>0</td>\n      <td>170200.0</td>\n      <td>False</td>\n    </tr>\n    <tr>\n      <th>4</th>\n      <td>TS17 9NN</td>\n      <td>445771</td>\n      <td>515362</td>\n      <td>Unsurveyed/Urban</td>\n      <td>20</td>\n      <td>Stockton-on-Tees</td>\n      <td>0</td>\n      <td>190600.0</td>\n      <td>False</td>\n    </tr>\n    <tr>\n      <th>...</th>\n      <td>...</td>\n      <td>...</td>\n      <td>...</td>\n      <td>...</td>\n      <td>...</td>\n      <td>...</td>\n      <td>...</td>\n      <td>...</td>\n      <td>...</td>\n    </tr>\n    <tr>\n      <th>29995</th>\n      <td>LS16 0BP</td>\n      <td>425977</td>\n      <td>438923</td>\n      <td>Unsurveyed/Urban</td>\n      <td>160</td>\n      <td>Leeds</td>\n      <td>0</td>\n      <td>NaN</td>\n      <td>False</td>\n    </tr>\n    <tr>\n      <th>29996</th>\n      <td>SK8 4PG</td>\n      <td>384808</td>\n      <td>387982</td>\n      <td>Unsurveyed/Urban</td>\n      <td>40</td>\n      <td>Stockport</td>\n      <td>0</td>\n      <td>328700.0</td>\n      <td>False</td>\n    </tr>\n    <tr>\n      <th>29997</th>\n      <td>HD7 4PA</td>\n      <td>409215</td>\n      <td>416819</td>\n      <td>Cambisols</td>\n      <td>310</td>\n      <td>Kirklees</td>\n      <td>0</td>\n      <td>214500.0</td>\n      <td>False</td>\n    </tr>\n    <tr>\n      <th>29998</th>\n      <td>NE16 5YT</td>\n      <td>419672</td>\n      <td>560517</td>\n      <td>Unsurveyed/Urban</td>\n      <td>130</td>\n      <td>Gateshead</td>\n      <td>0</td>\n      <td>273100.0</td>\n      <td>False</td>\n    </tr>\n    <tr>\n      <th>29999</th>\n      <td>B8 2RQ</td>\n      <td>411674</td>\n      <td>288499</td>\n      <td>Unsurveyed/Urban</td>\n      <td>110</td>\n      <td>Birmingham</td>\n      <td>0</td>\n      <td>176300.0</td>\n      <td>False</td>\n    </tr>\n  </tbody>\n</table>\n<p>30000 rows × 9 columns</p>\n</div>"
     },
     "execution_count": 1098,
     "metadata": {},
     "output_type": "execute_result"
    }
   ],
   "source": [
    "df"
   ],
   "metadata": {
    "collapsed": false,
    "ExecuteTime": {
     "end_time": "2023-11-22T16:36:52.316563Z",
     "start_time": "2023-11-22T16:36:52.207769Z"
    }
   },
   "id": "8ea3f23ca37c865f"
  },
  {
   "cell_type": "code",
   "execution_count": 1100,
   "outputs": [
    {
     "data": {
      "text/plain": "486"
     },
     "execution_count": 1100,
     "metadata": {},
     "output_type": "execute_result"
    }
   ],
   "source": [
    "len(set(df.postcode).intersection(set(df_unlabelled.postcode)))"
   ],
   "metadata": {
    "collapsed": false,
    "ExecuteTime": {
     "end_time": "2023-11-22T16:40:44.028112Z",
     "start_time": "2023-11-22T16:40:43.951075Z"
    }
   },
   "id": "98f2eff3a7732794"
  },
  {
   "cell_type": "code",
   "execution_count": 1144,
   "outputs": [
    {
     "name": "stderr",
     "output_type": "stream",
     "text": [
      "/opt/homebrew/anaconda3/envs/deluge-wye/lib/python3.11/site-packages/imblearn/over_sampling/_smote/base.py:345: FutureWarning: The parameter `n_jobs` has been deprecated in 0.10 and will be removed in 0.12. You can pass an nearest neighbors estimator where `n_jobs` is already set instead.\n",
      "  warnings.warn(\n",
      "/opt/homebrew/anaconda3/envs/deluge-wye/lib/python3.11/site-packages/imblearn/over_sampling/_smote/base.py:345: FutureWarning: The parameter `n_jobs` has been deprecated in 0.10 and will be removed in 0.12. You can pass an nearest neighbors estimator where `n_jobs` is already set instead.\n",
      "  warnings.warn(\n",
      "2023-11-22 17:50:46,256 [flood_tool.models.predictor] INFO: Model successfully fit.\n"
     ]
    }
   ],
   "source": [
    "from flood_tool.models.flood_predictor import FloodPredictor\n",
    "\n",
    "fp = FloodPredictor(\n",
    "    training_path='../flood_tool/resources/postcodes_labelled.csv',\n",
    "    model_alias='rf_smote',\n",
    "    scoring=score_fn,\n",
    "    tune_hyperparameters=False,\n",
    "    n_iter=15,\n",
    ")"
   ],
   "metadata": {
    "collapsed": false,
    "ExecuteTime": {
     "end_time": "2023-11-22T17:50:46.286364Z",
     "start_time": "2023-11-22T17:50:31.356934Z"
    }
   },
   "id": "1a0ce07019549420"
  },
  {
   "cell_type": "code",
   "execution_count": 1145,
   "outputs": [
    {
     "data": {
      "text/plain": "{'flood_score': 622320}"
     },
     "execution_count": 1145,
     "metadata": {},
     "output_type": "execute_result"
    }
   ],
   "source": [
    "fp.test_score"
   ],
   "metadata": {
    "collapsed": false,
    "ExecuteTime": {
     "end_time": "2023-11-22T17:51:13.890437Z",
     "start_time": "2023-11-22T17:51:11.483388Z"
    }
   },
   "id": "aee04661ce093273"
  },
  {
   "cell_type": "code",
   "execution_count": 1146,
   "outputs": [
    {
     "data": {
      "text/plain": "postcode\nOL9 7NS     0\nWV13 2LR    0\nLS12 1LZ    0\nSK15 1TS    0\nTS17 9NN    0\n           ..\nLS16 0BP    0\nSK8 4PG     0\nHD7 4PA     0\nNE16 5YT    0\nB8 2RQ      0\nName: predictions, Length: 30000, dtype: int64"
     },
     "execution_count": 1146,
     "metadata": {},
     "output_type": "execute_result"
    }
   ],
   "source": [
    "fp.predict_flood_risk(X, index='postcode')"
   ],
   "metadata": {
    "collapsed": false,
    "ExecuteTime": {
     "end_time": "2023-11-22T17:51:19.918991Z",
     "start_time": "2023-11-22T17:51:19.739535Z"
    }
   },
   "id": "1814f2f7cb03af4b"
  },
  {
   "cell_type": "code",
   "execution_count": 1147,
   "outputs": [
    {
     "data": {
      "text/plain": "4089490"
     },
     "execution_count": 1147,
     "metadata": {},
     "output_type": "execute_result"
    }
   ],
   "source": [
    "fp.score"
   ],
   "metadata": {
    "collapsed": false,
    "ExecuteTime": {
     "end_time": "2023-11-22T17:51:21.409243Z",
     "start_time": "2023-11-22T17:51:21.335613Z"
    }
   },
   "id": "3c01c1d2a18898fb"
  },
  {
   "cell_type": "code",
   "execution_count": 1140,
   "outputs": [
    {
     "name": "stderr",
     "output_type": "stream",
     "text": [
      "2023-11-22 17:50:02,641 [flood_tool.models.predictor] INFO: Model successfully fit.\n"
     ]
    }
   ],
   "source": [
    "from flood_tool.models.flood_predictor import FloodPredictor\n",
    "\n",
    "fp = FloodPredictor(\n",
    "    training_path='../flood_tool/resources/postcodes_labelled.csv',\n",
    "    model_alias='rf_class_downsampling',\n",
    "    scoring=score_fn,\n",
    "    tune_hyperparameters=False,\n",
    "    n_iter=15,\n",
    ")"
   ],
   "metadata": {
    "collapsed": false,
    "ExecuteTime": {
     "end_time": "2023-11-22T17:50:02.674852Z",
     "start_time": "2023-11-22T17:49:21.693339Z"
    }
   },
   "id": "9e9efeb0b47eebc8"
  },
  {
   "cell_type": "code",
   "execution_count": 1141,
   "outputs": [
    {
     "data": {
      "text/plain": "{'flood_score': 599130}"
     },
     "execution_count": 1141,
     "metadata": {},
     "output_type": "execute_result"
    }
   ],
   "source": [
    "fp.test_score"
   ],
   "metadata": {
    "collapsed": false,
    "ExecuteTime": {
     "end_time": "2023-11-22T17:50:20.486862Z",
     "start_time": "2023-11-22T17:50:17.875990Z"
    }
   },
   "id": "a80ece239c056626"
  },
  {
   "cell_type": "code",
   "execution_count": 1142,
   "outputs": [],
   "source": [
    "preds_downsmapled = fp.predict_flood_risk(X, index='postcode')"
   ],
   "metadata": {
    "collapsed": false,
    "ExecuteTime": {
     "end_time": "2023-11-22T17:50:24.092385Z",
     "start_time": "2023-11-22T17:50:23.257799Z"
    }
   },
   "id": "62640ea1c093ec65"
  },
  {
   "cell_type": "code",
   "execution_count": 1143,
   "outputs": [
    {
     "data": {
      "text/plain": "4047430"
     },
     "execution_count": 1143,
     "metadata": {},
     "output_type": "execute_result"
    }
   ],
   "source": [
    "score = sum(\n",
    "    [SCORES[_p - 1, _t - 1] for _p, _t in zip(preds_downsmapled, y + 1)]\n",
    ")\n",
    "score"
   ],
   "metadata": {
    "collapsed": false,
    "ExecuteTime": {
     "end_time": "2023-11-22T17:50:25.323814Z",
     "start_time": "2023-11-22T17:50:25.261988Z"
    }
   },
   "id": "41659bec68975513"
  },
  {
   "cell_type": "code",
   "execution_count": null,
   "outputs": [],
   "source": [],
   "metadata": {
    "collapsed": false
   },
   "id": "6d9548d6560642eb"
  }
 ],
 "metadata": {
  "kernelspec": {
   "display_name": "Python 3",
   "language": "python",
   "name": "python3"
  },
  "language_info": {
   "codemirror_mode": {
    "name": "ipython",
    "version": 2
   },
   "file_extension": ".py",
   "mimetype": "text/x-python",
   "name": "python",
   "nbconvert_exporter": "python",
   "pygments_lexer": "ipython2",
   "version": "2.7.6"
  }
 },
 "nbformat": 4,
 "nbformat_minor": 5
}
