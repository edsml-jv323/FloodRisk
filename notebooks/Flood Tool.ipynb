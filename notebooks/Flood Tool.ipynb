{
 "cells": [
  {
   "cell_type": "markdown",
   "metadata": {},
   "source": [
    "# Flood Tool Examples\n",
    "\n",
    "## Placeholder notebook\n",
    "\n",
    "This notebook is initially set up to allow you to quickly start demonstrating your tool. You should expect it to change a lot over the course of the week as you add features and explore the data.\n",
    "\n",
    "The majority of your code is likely to be in your package (i.e. the `flood_tool` directory). You should import this package into this notebook and use it to show off the features of your tool."
   ]
  },
  {
   "cell_type": "code",
   "execution_count": 1,
   "metadata": {},
   "outputs": [],
   "source": [
    "import sys\n",
    "\n",
    "# add the path to the flood_tool module so it's always found\n",
    "# when we import it. Note that '..' means \"go up one directory\"\n",
    "# from the current directory. This isn't best practice.\n",
    "sys.path.append('..')\n",
    "import flood_tool as ft"
   ]
  },
  {
   "cell_type": "code",
   "execution_count": 2,
   "metadata": {},
   "outputs": [],
   "source": [
    "tool = ft.Tool()\n",
    "tool.train()"
   ]
  },
  {
   "cell_type": "code",
   "execution_count": 3,
   "metadata": {},
   "outputs": [
    {
     "data": {
      "text/html": [
       "<div>\n",
       "<style scoped>\n",
       "    .dataframe tbody tr th:only-of-type {\n",
       "        vertical-align: middle;\n",
       "    }\n",
       "\n",
       "    .dataframe tbody tr th {\n",
       "        vertical-align: top;\n",
       "    }\n",
       "\n",
       "    .dataframe thead th {\n",
       "        text-align: right;\n",
       "    }\n",
       "</style>\n",
       "<table border=\"1\" class=\"dataframe\">\n",
       "  <thead>\n",
       "    <tr style=\"text-align: right;\">\n",
       "      <th></th>\n",
       "      <th>easting</th>\n",
       "      <th>northing</th>\n",
       "    </tr>\n",
       "    <tr>\n",
       "      <th>postcode</th>\n",
       "      <th></th>\n",
       "      <th></th>\n",
       "    </tr>\n",
       "  </thead>\n",
       "  <tbody>\n",
       "    <tr>\n",
       "      <th>M34 7QL</th>\n",
       "      <td>393470</td>\n",
       "      <td>394371</td>\n",
       "    </tr>\n",
       "  </tbody>\n",
       "</table>\n",
       "</div>"
      ],
      "text/plain": [
       "          easting  northing\n",
       "postcode                   \n",
       "M34 7QL    393470    394371"
      ]
     },
     "execution_count": 3,
     "metadata": {},
     "output_type": "execute_result"
    }
   ],
   "source": [
    "tool.lookup_easting_northing(['M34 7QL'])"
   ]
  },
  {
   "cell_type": "code",
   "execution_count": 4,
   "metadata": {},
   "outputs": [
    {
     "data": {
      "text/plain": [
       "M34 7QL    1\n",
       "Name: riskLabel, dtype: int32"
      ]
     },
     "execution_count": 4,
     "metadata": {},
     "output_type": "execute_result"
    }
   ],
   "source": [
    "# Prediction using postcode and default model\n",
    "tool.predict_flood_class_from_postcode(['M34 7QL'])"
   ]
  },
  {
   "cell_type": "code",
   "execution_count": 5,
   "metadata": {},
   "outputs": [
    {
     "data": {
      "text/html": [
       "<div>\n",
       "<style scoped>\n",
       "    .dataframe tbody tr th:only-of-type {\n",
       "        vertical-align: middle;\n",
       "    }\n",
       "\n",
       "    .dataframe tbody tr th {\n",
       "        vertical-align: top;\n",
       "    }\n",
       "\n",
       "    .dataframe thead th {\n",
       "        text-align: right;\n",
       "    }\n",
       "</style>\n",
       "<table border=\"1\" class=\"dataframe\">\n",
       "  <thead>\n",
       "    <tr style=\"text-align: right;\">\n",
       "      <th></th>\n",
       "      <th></th>\n",
       "      <th>value</th>\n",
       "      <th>qualifier</th>\n",
       "      <th>unitName</th>\n",
       "      <th>parameter</th>\n",
       "    </tr>\n",
       "    <tr>\n",
       "      <th>stationReference</th>\n",
       "      <th>dateTime</th>\n",
       "      <th></th>\n",
       "      <th></th>\n",
       "      <th></th>\n",
       "      <th></th>\n",
       "    </tr>\n",
       "  </thead>\n",
       "  <tbody>\n",
       "    <tr>\n",
       "      <th rowspan=\"5\" valign=\"top\"></th>\n",
       "      <th>2023-11-19 16:48:42+00:00</th>\n",
       "      <td>0.2</td>\n",
       "      <td></td>\n",
       "      <td></td>\n",
       "      <td>rainfail</td>\n",
       "    </tr>\n",
       "    <tr>\n",
       "      <th>2023-11-20 00:57:18+00:00</th>\n",
       "      <td>0.1</td>\n",
       "      <td></td>\n",
       "      <td></td>\n",
       "      <td>rainfail</td>\n",
       "    </tr>\n",
       "    <tr>\n",
       "      <th>2023-11-20 05:00:00+00:00</th>\n",
       "      <td>0.0</td>\n",
       "      <td></td>\n",
       "      <td></td>\n",
       "      <td>rainfail</td>\n",
       "    </tr>\n",
       "    <tr>\n",
       "      <th>2023-11-20 05:00:00+00:00</th>\n",
       "      <td>0.0</td>\n",
       "      <td></td>\n",
       "      <td></td>\n",
       "      <td>rainfail</td>\n",
       "    </tr>\n",
       "    <tr>\n",
       "      <th>2023-11-20 05:00:00+00:00</th>\n",
       "      <td>1.6</td>\n",
       "      <td></td>\n",
       "      <td></td>\n",
       "      <td>rainfail</td>\n",
       "    </tr>\n",
       "  </tbody>\n",
       "</table>\n",
       "</div>"
      ],
      "text/plain": [
       "                                            value qualifier unitName parameter\n",
       "stationReference dateTime                                                     \n",
       "                 2023-11-19 16:48:42+00:00    0.2                     rainfail\n",
       "                 2023-11-20 00:57:18+00:00    0.1                     rainfail\n",
       "                 2023-11-20 05:00:00+00:00    0.0                     rainfail\n",
       "                 2023-11-20 05:00:00+00:00    0.0                     rainfail\n",
       "                 2023-11-20 05:00:00+00:00    1.6                     rainfail"
      ]
     },
     "execution_count": 5,
     "metadata": {},
     "output_type": "execute_result"
    }
   ],
   "source": [
    "import sys\n",
    "\n",
    "# add the path to the flood_tool module so it's always found\n",
    "# when we import it. Note that '..' means \"go up one directory\"\n",
    "# from the current directory. This isn't best practice.\n",
    "sys.path.append('..')\n",
    "import flood_tool as ft\n",
    "\n",
    "data = ft.get_latest_rainfall_readings()\n",
    "data.head()"
   ]
  },
  {
   "cell_type": "code",
   "execution_count": 6,
   "metadata": {},
   "outputs": [
    {
     "data": {
      "text/html": [
       "<div>\n",
       "<style scoped>\n",
       "    .dataframe tbody tr th:only-of-type {\n",
       "        vertical-align: middle;\n",
       "    }\n",
       "\n",
       "    .dataframe tbody tr th {\n",
       "        vertical-align: top;\n",
       "    }\n",
       "\n",
       "    .dataframe thead th {\n",
       "        text-align: right;\n",
       "    }\n",
       "</style>\n",
       "<table border=\"1\" class=\"dataframe\">\n",
       "  <thead>\n",
       "    <tr style=\"text-align: right;\">\n",
       "      <th></th>\n",
       "      <th>@id</th>\n",
       "      <th>dateTime</th>\n",
       "      <th>measure</th>\n",
       "      <th>value</th>\n",
       "    </tr>\n",
       "  </thead>\n",
       "  <tbody>\n",
       "    <tr>\n",
       "      <th>0</th>\n",
       "      <td>http://environment.data.gov.uk/flood-monitorin...</td>\n",
       "      <td>2023-11-20T06:00:00Z</td>\n",
       "      <td>http://environment.data.gov.uk/flood-monitorin...</td>\n",
       "      <td>0.0</td>\n",
       "    </tr>\n",
       "    <tr>\n",
       "      <th>1</th>\n",
       "      <td>http://environment.data.gov.uk/flood-monitorin...</td>\n",
       "      <td>2023-11-20T05:45:00Z</td>\n",
       "      <td>http://environment.data.gov.uk/flood-monitorin...</td>\n",
       "      <td>0.0</td>\n",
       "    </tr>\n",
       "    <tr>\n",
       "      <th>2</th>\n",
       "      <td>http://environment.data.gov.uk/flood-monitorin...</td>\n",
       "      <td>2023-11-20T05:30:00Z</td>\n",
       "      <td>http://environment.data.gov.uk/flood-monitorin...</td>\n",
       "      <td>0.0</td>\n",
       "    </tr>\n",
       "    <tr>\n",
       "      <th>3</th>\n",
       "      <td>http://environment.data.gov.uk/flood-monitorin...</td>\n",
       "      <td>2023-11-20T05:15:00Z</td>\n",
       "      <td>http://environment.data.gov.uk/flood-monitorin...</td>\n",
       "      <td>0.0</td>\n",
       "    </tr>\n",
       "    <tr>\n",
       "      <th>4</th>\n",
       "      <td>http://environment.data.gov.uk/flood-monitorin...</td>\n",
       "      <td>2023-11-20T05:00:00Z</td>\n",
       "      <td>http://environment.data.gov.uk/flood-monitorin...</td>\n",
       "      <td>0.0</td>\n",
       "    </tr>\n",
       "  </tbody>\n",
       "</table>\n",
       "</div>"
      ],
      "text/plain": [
       "                                                 @id              dateTime  \\\n",
       "0  http://environment.data.gov.uk/flood-monitorin...  2023-11-20T06:00:00Z   \n",
       "1  http://environment.data.gov.uk/flood-monitorin...  2023-11-20T05:45:00Z   \n",
       "2  http://environment.data.gov.uk/flood-monitorin...  2023-11-20T05:30:00Z   \n",
       "3  http://environment.data.gov.uk/flood-monitorin...  2023-11-20T05:15:00Z   \n",
       "4  http://environment.data.gov.uk/flood-monitorin...  2023-11-20T05:00:00Z   \n",
       "\n",
       "                                             measure  value  \n",
       "0  http://environment.data.gov.uk/flood-monitorin...    0.0  \n",
       "1  http://environment.data.gov.uk/flood-monitorin...    0.0  \n",
       "2  http://environment.data.gov.uk/flood-monitorin...    0.0  \n",
       "3  http://environment.data.gov.uk/flood-monitorin...    0.0  \n",
       "4  http://environment.data.gov.uk/flood-monitorin...    0.0  "
      ]
     },
     "execution_count": 6,
     "metadata": {},
     "output_type": "execute_result"
    }
   ],
   "source": [
    "\n",
    "data = ft.get_live_station_data('079621')\n",
    "data.head()"
   ]
  },
  {
   "cell_type": "code",
   "execution_count": null,
   "metadata": {},
   "outputs": [],
   "source": []
  }
 ],
 "metadata": {
  "kernelspec": {
   "display_name": "Python 3",
   "language": "python",
   "name": "python3"
  },
  "language_info": {
   "codemirror_mode": {
    "name": "ipython",
    "version": 3
   },
   "file_extension": ".py",
   "mimetype": "text/x-python",
   "name": "python",
   "nbconvert_exporter": "python",
   "pygments_lexer": "ipython3",
   "version": "3.8.17"
  }
 },
 "nbformat": 4,
 "nbformat_minor": 2
}
